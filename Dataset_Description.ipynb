{
 "cells": [
  {
   "cell_type": "code",
   "execution_count": 1,
   "id": "a58dad06",
   "metadata": {},
   "outputs": [],
   "source": [
    "import re\n",
    "import os, os.path\n",
    "import fnmatch\n",
    "import json\n",
    "import collections\n",
    "import glob\n",
    "import json\n",
    "\n",
    "import matplotlib.pyplot as plt\n",
    "import numpy as np\n",
    "# import modules for web scrapping\n",
    "import requests\n",
    "from bs4 import BeautifulSoup"
   ]
  },
  {
   "cell_type": "code",
   "execution_count": 76,
   "id": "b3e3e838",
   "metadata": {},
   "outputs": [],
   "source": [
    "book1 =\"sachin_story_of_my_life\""
   ]
  },
  {
   "cell_type": "code",
   "execution_count": 71,
   "id": "037b56e0",
   "metadata": {},
   "outputs": [
    {
     "name": "stdout",
     "output_type": "stream",
     "text": [
      "Total no of chapters 20\n",
      "Total no of Sentences 1924\n",
      "Total no of Words 37317\n"
     ]
    }
   ],
   "source": [
    "dir_path = './historical_books/%s/part'% book1\n",
    "rootdir = r\"C:\\Users\\hp\\OneDrive\\Documents\\topic_coherence\\historical_books\\%s\"% book1\n",
    "part = 1\n",
    "no_of_sentences = 0\n",
    "no_chapters = 0\n",
    "no_of_words = 0\n",
    "for path in glob.glob(f'{rootdir}/*/**/', recursive=True):\n",
    "    x = 1\n",
    "    no_of_chapters = len(fnmatch.filter(os.listdir(dir_path + str(part) + '/'), '*.txt'))\n",
    "#     print(f\"No of chapters {no_of_chapters}\")\n",
    "    no_chapters += no_of_chapters\n",
    "    while x <= no_of_chapters:\n",
    "        target_x = no_of_chapters+1\n",
    "        for i in range(x,target_x):\n",
    "            with open(dir_path + str(part) + '/chapter_'+ str(i) + '.txt', 'r', encoding='utf-8') as content_file:\n",
    "                key = str(part) + '/chapter_'+ str(i)                \n",
    "                content = content_file.read()\n",
    "                res = re.findall(r\"[^.!?]+\", content)\n",
    "                no_of_sentences += len(res)\n",
    "                no_of_words += len(re. findall(r'\\w+', content)) \n",
    "#                 print(key)\n",
    "        x = target_x\n",
    "        part += 1\n",
    "print(f\"Total no of chapters {no_chapters}\")\n",
    "print(f\"Total no of Sentences {no_of_sentences}\")\n",
    "print(f\"Total no of Words {no_of_words}\")"
   ]
  },
  {
   "cell_type": "code",
   "execution_count": null,
   "id": "6b114bbe",
   "metadata": {},
   "outputs": [],
   "source": []
  },
  {
   "cell_type": "code",
   "execution_count": null,
   "id": "09931ded",
   "metadata": {},
   "outputs": [],
   "source": []
  },
  {
   "cell_type": "code",
   "execution_count": null,
   "id": "6dbab29e",
   "metadata": {},
   "outputs": [],
   "source": []
  },
  {
   "cell_type": "code",
   "execution_count": null,
   "id": "f957178c",
   "metadata": {},
   "outputs": [],
   "source": []
  },
  {
   "cell_type": "code",
   "execution_count": 77,
   "id": "124eb594",
   "metadata": {},
   "outputs": [
    {
     "name": "stdout",
     "output_type": "stream",
     "text": [
      "Total no of chapters 44\n",
      "Total no of Sentences 7717\n",
      "Total no of Words 141349\n"
     ]
    }
   ],
   "source": [
    "dir_path = './historical_books/%s/part'% book1\n",
    "rootdir = r\"C:\\Users\\hp\\OneDrive\\Documents\\topic_coherence\\historical_books\\%s\"% book1\n",
    "part = 1\n",
    "no_of_sentences = 0\n",
    "no_chapters = 0\n",
    "no_of_words = 0\n",
    "for path in glob.glob(f'{rootdir}/*/**/', recursive=True):\n",
    "    x = 1\n",
    "    no_of_chapters = len(fnmatch.filter(os.listdir(dir_path + str(part) + '/'), '*.txt'))\n",
    "#     print(f\"No of chapters {no_of_chapters}\")\n",
    "    no_chapters += no_of_chapters\n",
    "    while x <= no_of_chapters:\n",
    "        target_x = no_of_chapters+1\n",
    "        for i in range(x,target_x):\n",
    "            with open(dir_path + str(part) + '/chapter'+ str(i) + '.txt', 'r', encoding='utf-8') as content_file:\n",
    "                key = str(part) + '/chapter'+ str(i)                \n",
    "                content = content_file.read()\n",
    "                res = re.findall(r\"[^.!?]+\", content)\n",
    "                no_of_sentences += len(res)\n",
    "                no_of_words += len(re. findall(r'\\w+', content)) \n",
    "#                 print(key)\n",
    "        x = target_x\n",
    "        part += 1\n",
    "print(f\"Total no of chapters {no_chapters}\")\n",
    "print(f\"Total no of Sentences {no_of_sentences}\")\n",
    "print(f\"Total no of Words {no_of_words}\")"
   ]
  },
  {
   "cell_type": "code",
   "execution_count": 72,
   "id": "9bab3f26",
   "metadata": {},
   "outputs": [
    {
     "name": "stdout",
     "output_type": "stream",
     "text": [
      "['Early_years', 'Early_career', 'Yorkshire', 'International_career', 'Early_tours', 'Rise_through_the_ranks', '1994–1996:_ODI_matches', '1998:_Australian_competition', '1999:_Asian_Test_Championship,_Test_matches,_and_the_World_Cup', 'Captaincy_of_national_team', 'South_Africa_match_fixing', 'Role_in_2007_captaincy_change', 'Continued_rise', \"2001–2002:_Mike_Denness_incident,_Kolkata_Test,_and_breaking_Bradman's_record\", '2003:_Cricket_World_Cup', '2003–2004:_tour_of_Australia', 'Performance_dip', '2005–2006:_dry_spell', '2007_Cricket_World_Cup', 'Return_to_old_form_and_consistency', '2007', '2007–08_tour_of_Australia', 'Home_series_against_South_Africa', 'Sri_Lanka_series', \"Return_to_form_and_breaking_Brian_Lara's_record\", 'ODI_and_Test_series_against_England', '2009–2010', '2011_Cricket_World_Cup_and_after', '100th_international_century', 'Return_to_Ranji_Trophy', 'Retirement', 'Post-retirement', 'Exhibition_and_charity_matches', 'Indian_Premier_League', 'Playing_style', 'Reception', 'Post-playing_career', 'Cricket_Advisory_Committee', 'Indian_Premier_League_2', 'Legacy', 'National_honours', 'India', 'Australia', 'Sporting_honours', 'Career_statistics', 'Runs', 'Centuries', 'Wins', 'Man_of_the_Match', 'Statistics', 'Personal_life', 'Business_interests', 'Political_career', 'Attendance', 'Use_of_funds', 'Role_in_public_awareness_and_philanthropy', 'Health', 'Sanitation', 'COVID-19_pandemic', 'Education', 'In_media', 'Notes', 'References', 'Further_reading', 'External_links']\n",
      "No of section 64\n"
     ]
    }
   ],
   "source": [
    "url = 'https://en.wikipedia.org/wiki/Sachin_Tendulkar'\n",
    "headers = {'User-Agent': 'Mozilla/5.0 (Macintosh; Intel Mac OS X 10_11_5) AppleWebKit/537.36 (KHTML, like Gecko) Chrome/50.0.2661.102 Safari/537.36'}\n",
    "response = requests.get(url, headers=headers)\n",
    "#print(response.status_code)\n",
    "soup = BeautifulSoup(response.content, 'html.parser')\n",
    "\n",
    "desired_ids = []\n",
    "for link in soup.find_all('span', attrs={'class':'mw-headline'}):\n",
    "    if link.get('id') is not None: \n",
    "        desired_ids.append(link.get('id'))\n",
    "print(desired_ids)\n",
    "\n",
    "def FetchParagraphBetweenIds(id1,id2):\n",
    "    hElem = soup.find(\"span\", {'id': id1})\n",
    "    endElem = soup.find('span', {'id': id2})\n",
    "    cntns = list(soup.find_all())\n",
    "\n",
    "    my_lst = []\n",
    "    inBetween = False\n",
    "    for tag in cntns:\n",
    "        if tag == hElem:\n",
    "            inBetween = True\n",
    "        if inBetween == True and tag.name == 'p':\n",
    "            my_lst.append(tag.get_text())\n",
    "        if tag == endElem:\n",
    "            inBetween = False\n",
    "            break\n",
    "    return \"\".join(my_lst)\n",
    "\n",
    "id_to_paragraph = {}\n",
    "for i in range(len(desired_ids)-1):\n",
    "    id_to_paragraph[desired_ids[i]] = FetchParagraphBetweenIds(desired_ids[i],desired_ids[i+1])\n",
    "print(f\"No of section {len(list(id_to_paragraph.keys()))}\")"
   ]
  },
  {
   "cell_type": "code",
   "execution_count": null,
   "id": "0900fb19",
   "metadata": {},
   "outputs": [],
   "source": []
  }
 ],
 "metadata": {
  "kernelspec": {
   "display_name": "Python 3 (ipykernel)",
   "language": "python",
   "name": "python3"
  },
  "language_info": {
   "codemirror_mode": {
    "name": "ipython",
    "version": 3
   },
   "file_extension": ".py",
   "mimetype": "text/x-python",
   "name": "python",
   "nbconvert_exporter": "python",
   "pygments_lexer": "ipython3",
   "version": "3.9.12"
  }
 },
 "nbformat": 4,
 "nbformat_minor": 5
}
