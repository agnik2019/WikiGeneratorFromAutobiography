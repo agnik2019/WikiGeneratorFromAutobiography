{
 "cells": [
  {
   "cell_type": "code",
   "execution_count": 1,
   "id": "24c6c7ce",
   "metadata": {},
   "outputs": [],
   "source": [
    "import torch\n",
    "from transformers import BartForConditionalGeneration\n",
    "from transformers.modeling_outputs import BaseModelOutput\n",
    "\n",
    "\n",
    "class BartForMultiConditionalGeneration(BartForConditionalGeneration):\n",
    "\n",
    "    def multi_encode(\n",
    "        self,\n",
    "        input_ids=None,\n",
    "        attention_mask=None,\n",
    "        return_dict=None\n",
    "    ):\n",
    "        # (B, N, L) -> (B*N, L) -> (B*N, L, D) -> (B, N*L, D)\n",
    "        # (B, N, L) -> (B*N, L) -> (B, N*L)\n",
    "        B = input_ids.size(0)  # batch-size\n",
    "        N = input_ids.size(1)  # num-docs\n",
    "        L = input_ids.size(2)  # max_len\n",
    "        if input_ids.size() != attention_mask.size():\n",
    "            raise ValueError(\n",
    "                f\"Input ids different shape ({input_ids.size()}) than attention mask ({attention_mask.size()})\"\n",
    "            )\n",
    "        input_ids = input_ids.contiguous().view(B * N, L)\n",
    "        attention_mask = attention_mask.contiguous().view(B * N, L)\n",
    "        encoder_outputs = self.model.encoder(\n",
    "            input_ids=input_ids,\n",
    "            attention_mask=attention_mask,\n",
    "            return_dict=return_dict\n",
    "        )\n",
    "        if return_dict:\n",
    "            hidden_states = encoder_outputs.last_hidden_state\n",
    "        else:\n",
    "            hidden_states = encoder_outputs[0]\n",
    "        # hidden_states: (B * N, L, D)\n",
    "        D = hidden_states.size(2)\n",
    "        stacked_source_reps = hidden_states.contiguous().view(B, N * L, D)\n",
    "        if return_dict:\n",
    "            encoder_outputs = BaseModelOutput(last_hidden_state=stacked_source_reps)\n",
    "        else:\n",
    "            encoder_outputs = (stacked_source_reps,)\n",
    "        stacked_source_mask = attention_mask.contiguous().view(B, N * L)\n",
    "        return encoder_outputs, stacked_source_mask\n",
    "\n",
    "    @torch.no_grad()\n",
    "    def generate(\n",
    "        self,\n",
    "        input_ids=None,\n",
    "        attention_mask=None,\n",
    "        **kwargs,\n",
    "    ):\n",
    "        encoder_outputs, attention_mask = self.multi_encode(\n",
    "            input_ids=input_ids,\n",
    "            attention_mask=attention_mask,\n",
    "            return_dict=True\n",
    "        )\n",
    "        return super().generate(\n",
    "            input_ids=None,\n",
    "            attention_mask=attention_mask,\n",
    "            encoder_outputs=encoder_outputs,\n",
    "            **kwargs\n",
    "        )\n",
    "\n",
    "    def forward(\n",
    "        self,\n",
    "        input_ids=None,\n",
    "        attention_mask=None,\n",
    "        decoder_input_ids=None,\n",
    "        decoder_attention_mask=None,\n",
    "        head_mask=None,\n",
    "        decoder_head_mask=None,\n",
    "        cross_attn_head_mask=None,\n",
    "        encoder_outputs=None,\n",
    "        past_key_values=None,\n",
    "        inputs_embeds=None,\n",
    "        decoder_inputs_embeds=None,\n",
    "        labels=None,\n",
    "        use_cache=None,\n",
    "        output_attentions=None,\n",
    "        output_hidden_states=None,\n",
    "        return_dict=None\n",
    "    ):\n",
    "\n",
    "        if input_ids is None:\n",
    "            if encoder_outputs is None:\n",
    "                raise ValueError(\"Encoder outputs is required when no input ids passed\")\n",
    "        else:\n",
    "            encoder_outputs, attention_mask = self.multi_encode(\n",
    "                input_ids=input_ids,\n",
    "                attention_mask=attention_mask,\n",
    "                return_dict = return_dict\n",
    "                # encoder_outputs=encoder_outputs\n",
    "            )\n",
    "\n",
    "        output = super().forward(\n",
    "            input_ids=None,\n",
    "            attention_mask=attention_mask,\n",
    "            decoder_input_ids=decoder_input_ids,\n",
    "            decoder_attention_mask=decoder_attention_mask,\n",
    "            head_mask=head_mask,\n",
    "            decoder_head_mask=decoder_head_mask,\n",
    "            cross_attn_head_mask=cross_attn_head_mask,\n",
    "            encoder_outputs=encoder_outputs,\n",
    "            past_key_values=past_key_values,\n",
    "            inputs_embeds=inputs_embeds,\n",
    "            decoder_inputs_embeds=decoder_inputs_embeds,\n",
    "            labels=labels,\n",
    "            use_cache=use_cache,\n",
    "            output_attentions=output_attentions,\n",
    "            output_hidden_states=output_hidden_states,\n",
    "            return_dict=return_dict\n",
    "        )\n",
    "\n",
    "        return output"
   ]
  },
  {
   "cell_type": "code",
   "execution_count": 2,
   "id": "7c347522",
   "metadata": {},
   "outputs": [],
   "source": [
    "import re"
   ]
  },
  {
   "cell_type": "code",
   "execution_count": 3,
   "id": "3fb0c40a",
   "metadata": {},
   "outputs": [],
   "source": [
    "from transformers import (\n",
    "    AutoConfig,\n",
    "    AutoModelForSeq2SeqLM,\n",
    "    AutoTokenizer,\n",
    "    DataCollatorForSeq2Seq,\n",
    "    HfArgumentParser,\n",
    "    Seq2SeqTrainer,\n",
    "    Seq2SeqTrainingArguments,\n",
    "    set_seed,\n",
    ")"
   ]
  },
  {
   "cell_type": "code",
   "execution_count": 4,
   "id": "8459479d",
   "metadata": {},
   "outputs": [],
   "source": [
    "config = AutoConfig.from_pretrained(\"segenc-qmsum-16384-512-wikisum-1\")"
   ]
  },
  {
   "cell_type": "code",
   "execution_count": 5,
   "id": "8d568cde",
   "metadata": {},
   "outputs": [],
   "source": [
    "model_class = AutoModelForSeq2SeqLM\n",
    "model = model_class.from_pretrained(\"segenc-qmsum-16384-512-wikisum-1\",config = config)"
   ]
  },
  {
   "cell_type": "code",
   "execution_count": 6,
   "id": "92ac3ab5",
   "metadata": {},
   "outputs": [],
   "source": [
    "tokenizer = AutoTokenizer.from_pretrained(\"segenc-qmsum-16384-512-wikisum-1\",use_auth_token=True)"
   ]
  },
  {
   "cell_type": "code",
   "execution_count": 7,
   "id": "f781fe28",
   "metadata": {},
   "outputs": [
    {
     "data": {
      "text/plain": [
       "Embedding(50265, 1024, padding_idx=1)"
      ]
     },
     "execution_count": 7,
     "metadata": {},
     "output_type": "execute_result"
    }
   ],
   "source": [
    "model.resize_token_embeddings(len(tokenizer))"
   ]
  },
  {
   "cell_type": "code",
   "execution_count": 8,
   "id": "c3cb5db0",
   "metadata": {},
   "outputs": [
    {
     "data": {
      "text/plain": [
       "2"
      ]
     },
     "execution_count": 8,
     "metadata": {},
     "output_type": "execute_result"
    }
   ],
   "source": [
    "model.config.decoder_start_token_id"
   ]
  },
  {
   "cell_type": "code",
   "execution_count": 9,
   "id": "061aa87c",
   "metadata": {},
   "outputs": [],
   "source": [
    "key_yr_chap_mp = {'Karamchand_Gandhi_1869': ['1\\\\chapter1'],\n",
    "             'Alias_Kaba_Gandhi_1869': ['1\\\\chapter1'],\n",
    "             'Uttamchand_Gandhi_1869': ['1\\\\chapter1'],\n",
    "             'Faithfulness_1869': ['1\\\\chapter4'],\n",
    "             'Smoking_Stumps_1887': ['1\\\\chapter7'],\n",
    "             'Cigarettes_1887': ['1\\\\chapter7'],\n",
    "             'Cigarette_1887': ['1\\\\chapter7'],\n",
    "             'Vaishnava_Faith_1887': ['1\\\\chapter9'],\n",
    "             'Ahmedabad_1887': ['1\\\\chapter10'],\n",
    "             'Ahmedabad_1915': ['5\\\\chapter9', '5\\\\chapter20'],\n",
    "             'Matriculation_Examination_1887': ['1\\\\chapter10'],\n",
    "             'Kathiawad_Students_1887': ['1\\\\chapter10'],\n",
    "             'Ringworm_1887': ['1\\\\chapter13'],\n",
    "             'Vegetarianism_1887': ['1\\\\chapter14'],\n",
    "             'Vegetarianism_1890': ['1\\\\chapter16'],\n",
    "             'Vegetarianism_1903': ['4\\\\chapter6'],\n",
    "             'Dietary_1887': ['1\\\\chapter14'],\n",
    "             'Diet_1887': ['1\\\\chapter14'],\n",
    "             'Vegetarian_1890': ['1\\\\chapter16'],\n",
    "             'Narayan_Hemchandra_1890': ['1\\\\chapter21'],\n",
    "             'Time_Narayan_Hemchandra_1890': ['1\\\\chapter21'],\n",
    "             'Narayan_1890': ['1\\\\chapter21'],\n",
    "             'Eiffel_Tower_1890': ['1\\\\chapter22'],\n",
    "             'Legal_Maxims_1857': ['1\\\\chapter24'],\n",
    "             'Briefless_Barristers_1893': ['2\\\\chapter3'],\n",
    "             'Barrister_1893': ['2\\\\chapter3', '2\\\\chapter4'],\n",
    "             'Barrister_1885': ['2\\\\chapter14'],\n",
    "             'Barrister_1890': ['4\\\\chapter46'],\n",
    "             'Barristers_1893': ['2\\\\chapter3'],\n",
    "             'Bombay_Commissions_1893': ['2\\\\chapter4'],\n",
    "             'Port_Natal_1893': ['2\\\\chapter7'],\n",
    "             'Christian_Indians_1924': ['2\\\\chapter8'],\n",
    "             'Prayers_1893': ['2\\\\chapter11'],\n",
    "             'Prayer_1893': ['2\\\\chapter11'],\n",
    "             'Prayer_1885': ['2\\\\chapter15'],\n",
    "             'Transvaal_1885': ['2\\\\chapter13'],\n",
    "             'Transvaal_1920': ['3\\\\chapter4'],\n",
    "             'Transvaal_1903': ['4\\\\chapter2'],\n",
    "             'Transvaal_1890': ['4\\\\chapter46'],\n",
    "             'Litigation_1885': ['2\\\\chapter14'],\n",
    "             'Natal_Legislative_Assembly_1893': ['2\\\\chapter16'],\n",
    "             'Durban_1893': ['2\\\\chapter16'],\n",
    "             'Sheth_Haji_Muhammad_1893': ['2\\\\chapter17'],\n",
    "             'Sheth_Haji_Muhammad_Haji_Dada_1893': ['2\\\\chapter17'],\n",
    "             'Financially_Sheth_Abdulla_Haji_1893': ['2\\\\chapter17'],\n",
    "             'Bombay_High_Court_1893': ['2\\\\chapter18'],\n",
    "             'Court_1893': ['2\\\\chapter18'],\n",
    "             'Natal_Indian_Congress_1894': ['2\\\\chapter19', '2\\\\chapter20'],\n",
    "             'Natal_Indians_1860': ['2\\\\chapter21'],\n",
    "             'Natal_Zulus_1860': ['2\\\\chapter21'],\n",
    "             'Taxation_1860': ['2\\\\chapter21'],\n",
    "             'Servant_1896': ['2\\\\chapter23'],\n",
    "             'Household_1896': ['2\\\\chapter23'],\n",
    "             'Loyalty_1896': ['2\\\\chapter26'],\n",
    "             'Sir_Pherozeshah_1896': ['2\\\\chapter28'],\n",
    "             'Calcutta_1896': ['2\\\\chapter29'],\n",
    "             'Raja_Sir_Pyarimohan_Mukarji_1896': ['2\\\\chapter29'],\n",
    "             'Bengal_Club_1896': ['2\\\\chapter29'],\n",
    "             'Hindu_Wife_1920': ['3\\\\chapter1'],\n",
    "             'Hindu_Husband_1920': ['3\\\\chapter1'],\n",
    "             'Quarantine_1920': ['3\\\\chapter2'],\n",
    "             'Quarantine_Officer_1920': ['3\\\\chapter2'],\n",
    "             'Plague_1920': ['3\\\\chapter2'],\n",
    "             'Brahmacharya_Vow_1906': ['3\\\\chapter7', '3\\\\chapter8'],\n",
    "             'Brahmacharya_1906': ['3\\\\chapter7'],\n",
    "             'Brahmacharya_1912': ['4\\\\chapter30'],\n",
    "             'Vow_1906': ['3\\\\chapter8'],\n",
    "             'Washing_Outfit_1906': ['3\\\\chapter9'],\n",
    "             'Laundry_1906': ['3\\\\chapter9'],\n",
    "             'Washing_1906': ['3\\\\chapter9'],\n",
    "             'Boer_War_1899': ['3\\\\chapter10'],\n",
    "             'Boer_War_1914': ['4\\\\chapter39'],\n",
    "             'Sir_Pherozeshah_Mehta_1901': ['3\\\\chapter13'],\n",
    "             'Babu_Bhupendranath_Basu_1901': ['3\\\\chapter14'],\n",
    "             'India_Club_1901': ['3\\\\chapter16'],\n",
    "             'Professor_Ray_1896': ['3\\\\chapter17'],\n",
    "             'Gokhlae_1896': ['3\\\\chapter18'],\n",
    "             'Christian_Indian_1896': ['3\\\\chapter18'],\n",
    "             'Babu_Kalicharan_Banerji_1896': ['3\\\\chapter18'],\n",
    "             'Brahmo_Samaj_1896': ['3\\\\chapter19'],\n",
    "             'Adi_Brahmo_Samaj_1896': ['3\\\\chapter19'],\n",
    "             'Maharshi_Devendranath_1896': ['3\\\\chapter19'],\n",
    "             'Indian_Evidence_Act_1919': ['3\\\\chapter21'],\n",
    "             'Insult_1903': ['4\\\\chapter3'],\n",
    "             'Hindu_Influence_1903': ['4\\\\chapter5'],\n",
    "             'Hinduism_1903': ['4\\\\chapter5'],\n",
    "             'Hindu_1903': ['4\\\\chapter5'],\n",
    "             'Laxative_Medicines_1903': ['4\\\\chapter7'],\n",
    "             'Laxatives_1903': ['4\\\\chapter7'],\n",
    "             'Indian_Opinion_1900': ['4\\\\chapter8'],\n",
    "             'Indian_Opinion_1904': ['4\\\\chapter19'],\n",
    "             'Hindus_1904': ['4\\\\chapter14'],\n",
    "             'Zulus_1900': ['4\\\\chapter25'],\n",
    "             'Zulu_1900': ['4\\\\chapter25'],\n",
    "             'Satyagraha_1900': ['4\\\\chapter26'],\n",
    "             'Satyagraha_1919': ['5\\\\chapter24'],\n",
    "             'Word_Sadagraha_1900': ['4\\\\chapter26'],\n",
    "             'Result_Maganlal_Gandhi_1900': ['4\\\\chapter26'],\n",
    "             'Curry_Powder_1914': ['4\\\\chapter29'],\n",
    "             'Fasting_1912': ['4\\\\chapter31'],\n",
    "             'Tolstoy_Farm_1911': ['4\\\\chapter35'],\n",
    "             'Commanding_Officer_1890': ['4\\\\chapter40'],\n",
    "             'Commanding_1890': ['4\\\\chapter40'],\n",
    "             'Parsi_Rustomji_1890': ['4\\\\chapter47'],\n",
    "             'Bombay_Gokhale_1915': ['5\\\\chapter2'],\n",
    "             'Kakasaheb_1915': ['5\\\\chapter4'],\n",
    "             'Kalelkar_1915': ['5\\\\chapter4'],\n",
    "             'Teachers_Family_Names_1915': ['5\\\\chapter4'],\n",
    "             'Acharya_Ramadevji_1915': ['5\\\\chapter8'],\n",
    "             'Gurukul_1915': ['5\\\\chapter8'],\n",
    "             'Gujarat_1915': ['5\\\\chapter9'],\n",
    "             'Satyagraha_Ashram_1915': ['5\\\\chapter9'],\n",
    "             'Amritlal_Thakkar_1915': ['5\\\\chapter10'],\n",
    "             'Ashram_1915': ['5\\\\chapter10', '5\\\\chapter21'],\n",
    "             'Abolition_1894': ['5\\\\chapter11'],\n",
    "             'Indigo_1917': ['5\\\\chapter12'],\n",
    "             'Professor_Kripalani_1915': ['5\\\\chapter13'],\n",
    "             'Maulana_Mazharul_Haq_1915': ['5\\\\chapter13'],\n",
    "             'Champaran_Inquiry_1915': ['5\\\\chapter16'],\n",
    "             'Champaran_Satyagraha_1915': ['5\\\\chapter16'],\n",
    "             'Rajendrababu_1915': ['5\\\\chapter17'],\n",
    "             'Janakdharibabu_1915': ['5\\\\chapter17'],\n",
    "             'Gangadharrao_Deshpande_1915': ['5\\\\chapter17'],\n",
    "             'Sanitation_Work_1915': ['5\\\\chapter18'],\n",
    "             'Sanitation_1915': ['5\\\\chapter18'],\n",
    "             'Treatment_1915': ['5\\\\chapter18'],\n",
    "             'Bihar_Government_1915': ['5\\\\chapter19'],\n",
    "             'Ashram_Walls_1915': ['5\\\\chapter21'],\n",
    "             'Ashram_Children_1915': ['5\\\\chapter21'],\n",
    "             'Kheda_Satyagraha_1919': ['5\\\\chapter23'],\n",
    "             'Mohanlal_Pandya_1919': ['5\\\\chapter23'],\n",
    "             'Shankarlal_Parikh_1919': ['5\\\\chapter23'],\n",
    "             'Satyagrahi_Volunteers_1919': ['5\\\\chapter24'],\n",
    "             'Satyagrahi_1919': ['5\\\\chapter24'],\n",
    "             'Mamlatdar_1919': ['5\\\\chapter25'],\n",
    "             'Hartal_1919': ['5\\\\chapter31'],\n",
    "             'Swami_Shraddhanandji_1919': ['5\\\\chapter31'],\n",
    "             'Meanwhile_Delhi_1919': ['5\\\\chapter31'],\n",
    "             'Kheda_Satyagraha_Struggle_1919': ['5\\\\chapter33'],\n",
    "             'Jalianwala_Bagh_Tragedy_1919': ['5\\\\chapter34'],\n",
    "             'Punjab_Situation_1919': ['5\\\\chapter34'],\n",
    "             'Punjab_Government_1917': ['5\\\\chapter35', '5\\\\chapter37'],\n",
    "             'Jalianwala_Bagh_Massacre_1917': ['5\\\\chapter35', '5\\\\chapter38'],\n",
    "             'Punjab_Leaders_1917': ['5\\\\chapter35'],\n",
    "             'Pandit_Motilal_Nehru_1917': ['5\\\\chapter37'],\n",
    "             'Pandit_1917': ['5\\\\chapter37'],\n",
    "             'Slivers_1917': ['5\\\\chapter40'],\n",
    "             'Swadeshi_Agitation_1920': ['5\\\\chapter41'],\n",
    "             'Swadeshi_Movement_1920': ['5\\\\chapter41'],\n",
    "             'Khilafat_Agitation_1920': ['5\\\\chapter42']}"
   ]
  },
  {
   "cell_type": "code",
   "execution_count": 14,
   "id": "47bc1367",
   "metadata": {},
   "outputs": [
    {
     "name": "stdout",
     "output_type": "stream",
     "text": [
      "{'Vegetarianism_1890': ['1\\\\chapter16']}\n"
     ]
    }
   ],
   "source": [
    "filtered_keywords = ['Vegetarianism_1890']\n",
    "mp = {}\n",
    "for f in filtered_keywords:\n",
    "    mp[f] = key_yr_chap_mp[f]\n",
    "print(mp)"
   ]
  },
  {
   "cell_type": "code",
   "execution_count": 15,
   "id": "abe4ad1f",
   "metadata": {},
   "outputs": [],
   "source": [
    "def chapter_inputs(key):\n",
    "    file_loc = r\"C:\\Users\\hp\\OneDrive\\Documents\\topic_coherence\\SOMEWT\\part%s.txt\"%key\n",
    "    text = \"\"\n",
    "    with open(file_loc) as f:\n",
    "        text = f.read()\n",
    "        text = re.sub(r\"I \", \"Mahatma Gandhi \",text)\n",
    "        text = re.sub(r\" me \", \" Mahatma Gandhi \",text)\n",
    "        text = re.sub(r\" my \", \" Mahatma Gandhi's \",text)\n",
    "        text = re.sub(r\" My \", \" Mahatma Gandhi's \",text)\n",
    "        text = re.sub(r\" myself \", \" Mahatma Gandhi \",text)\n",
    "        text = re.sub(r\" me,\", \"  Mahatma Gandhi,\",text)\n",
    "        text = re.sub(r\" me.\", \"  Mahatma Gandhi.\",text)\n",
    "        text = re.sub(r\"we \",\"they \" ,text)\n",
    "        text = re.sub(r\"We \",\"They \" ,text)\n",
    "            \n",
    "    return text"
   ]
  },
  {
   "cell_type": "code",
   "execution_count": 24,
   "id": "db3d62e0",
   "metadata": {},
   "outputs": [],
   "source": [
    "inputs = ['Vegetarianism.'+chapter_inputs(mp['Vegetarianism_1890'][0])]"
   ]
  },
  {
   "cell_type": "code",
   "execution_count": 25,
   "id": "c5383eb7",
   "metadata": {},
   "outputs": [],
   "source": [
    "model_inputs = tokenizer(inputs, max_length=512, truncation=True,return_tensors='pt')"
   ]
  },
  {
   "cell_type": "code",
   "execution_count": 26,
   "id": "08fe117f",
   "metadata": {},
   "outputs": [],
   "source": [
    "# model(model_inputs['input_ids'])\n",
    "output = model.generate(input_ids=model_inputs[\"input_ids\"])"
   ]
  },
  {
   "cell_type": "code",
   "execution_count": 27,
   "id": "e4b8884b",
   "metadata": {},
   "outputs": [],
   "source": [
    "question = tokenizer.convert_tokens_to_string(tokenizer.convert_ids_to_tokens(output.detach().squeeze()))"
   ]
  },
  {
   "cell_type": "code",
   "execution_count": 28,
   "id": "10836f1e",
   "metadata": {},
   "outputs": [
    {
     "data": {
      "text/plain": [
       "'</s><s><s><s>Vegetarianism. The writers on vegetarianism had examined the question very minutely, attacking it in its religious, scientific, practical, practical and Mahatma Gandhi.ical aspects. They had also brought out the truth that man eats not for enjoyment but to live. A vegetarian diet was the least expensive. The practical and economic argument they had demonstrated demonstrated that a vegetarian diet</s>'"
      ]
     },
     "execution_count": 28,
     "metadata": {},
     "output_type": "execute_result"
    }
   ],
   "source": [
    "question"
   ]
  },
  {
   "cell_type": "code",
   "execution_count": 53,
   "id": "826c16e2",
   "metadata": {},
   "outputs": [
    {
     "name": "stdout",
     "output_type": "stream",
     "text": [
      "</s><s>The principle called Satyagraha came into being before that name was invented. The principle Sadagraha -Sat: truth, Agraha: firmness - won the prize. The word Satyagraha has since become current in Gujarati as a designation for the struggle. The history of this struggle is for all practical purposes a history of the remainder of Mahatma Gandhi's life in South Africa and especially of the experiments with truth in that sub-continent. The text is a major portion of this history in Yeravda jail and finished it after Mahatm Gandhi was released. It was published in Navajivan and subsequently issued in book form. Mahat</s>\n"
     ]
    }
   ],
   "source": [
    "inputs = chapter_inputs(mp['Satyagraha_1900'][0])+'Satyagraha.'\n",
    "model_inputs = tokenizer(inputs, max_length=512, truncation=True,return_tensors='pt')\n",
    "output = model.generate(input_ids=model_inputs[\"input_ids\"])\n",
    "qfs = tokenizer.convert_tokens_to_string(tokenizer.convert_ids_to_tokens(output.detach().squeeze()))\n",
    "print(qfs)"
   ]
  },
  {
   "cell_type": "code",
   "execution_count": 54,
   "id": "4d356229",
   "metadata": {},
   "outputs": [],
   "source": [
    "filtered_keywords = ['Alias_Kaba_Gandhi_1869',\n",
    " 'Barrister_1893',\n",
    " 'Boer_War_1899',\n",
    " 'Boer_War_1914',\n",
    " 'Calcutta_1896',\n",
    " 'Christian_Indians_1924',\n",
    " 'Dietary_1887',\n",
    " 'Indian_Opinion_1900',\n",
    " 'Jalianwala_Bagh_Massacre_1917',\n",
    " 'Karamchand_Gandhi_1869',\n",
    " 'Kheda_Satyagraha_1919',\n",
    " 'Kheda_Satyagraha_Struggle_1919',\n",
    " 'Maharshi_Devendranath_1896',\n",
    " 'Mohanlal_Pandya_1919',\n",
    " 'Pandit_Motilal_Nehru_1917',\n",
    " 'Punjab_Government_1917',\n",
    " 'Punjab_Leaders_1917',\n",
    " 'Punjab_Situation_1919',\n",
    " 'Satyagraha_1900',\n",
    " 'Satyagraha_1919',\n",
    " 'Satyagraha_Ashram_1915',\n",
    " 'Satyagrahi_Volunteers_1919',\n",
    " 'Sir_Pherozeshah_Mehta_1901',\n",
    " 'Uttamchand_Gandhi_1869',\n",
    " 'Vegetarianism_1887',\n",
    " 'Vegetarianism_1890']"
   ]
  },
  {
   "cell_type": "code",
   "execution_count": 67,
   "id": "f5584ccd",
   "metadata": {},
   "outputs": [],
   "source": [
    "def qfs(kw):\n",
    "    inputs = \"\"\n",
    "    for ch in mp[kw]:\n",
    "        inputs += chapter_inputs(ch)+kw[:kw.rindex('_')]\n",
    "    model_inputs = tokenizer(inputs, truncation=True,return_tensors='pt')\n",
    "    output = model.generate(input_ids=model_inputs[\"input_ids\"])\n",
    "    summary = tokenizer.convert_tokens_to_string(tokenizer.convert_ids_to_tokens(output.detach().squeeze()))\n",
    "    return summary"
   ]
  },
  {
   "cell_type": "code",
   "execution_count": 56,
   "id": "dbabd8f2",
   "metadata": {},
   "outputs": [],
   "source": [
    "mp = {}\n",
    "for f in filtered_keywords:\n",
    "    mp[f] = key_yr_chap_mp[f]"
   ]
  },
  {
   "cell_type": "code",
   "execution_count": 57,
   "id": "4fb89356",
   "metadata": {},
   "outputs": [
    {
     "data": {
      "text/plain": [
       "{'Alias_Kaba_Gandhi_1869': ['1\\\\chapter1'],\n",
       " 'Barrister_1893': ['2\\\\chapter3', '2\\\\chapter4'],\n",
       " 'Boer_War_1899': ['3\\\\chapter10'],\n",
       " 'Boer_War_1914': ['4\\\\chapter39'],\n",
       " 'Calcutta_1896': ['2\\\\chapter29'],\n",
       " 'Christian_Indians_1924': ['2\\\\chapter8'],\n",
       " 'Dietary_1887': ['1\\\\chapter14'],\n",
       " 'Indian_Opinion_1900': ['4\\\\chapter8'],\n",
       " 'Jalianwala_Bagh_Massacre_1917': ['5\\\\chapter35', '5\\\\chapter38'],\n",
       " 'Karamchand_Gandhi_1869': ['1\\\\chapter1'],\n",
       " 'Kheda_Satyagraha_1919': ['5\\\\chapter23'],\n",
       " 'Kheda_Satyagraha_Struggle_1919': ['5\\\\chapter33'],\n",
       " 'Maharshi_Devendranath_1896': ['3\\\\chapter19'],\n",
       " 'Mohanlal_Pandya_1919': ['5\\\\chapter23'],\n",
       " 'Pandit_Motilal_Nehru_1917': ['5\\\\chapter37'],\n",
       " 'Punjab_Government_1917': ['5\\\\chapter35', '5\\\\chapter37'],\n",
       " 'Punjab_Leaders_1917': ['5\\\\chapter35'],\n",
       " 'Punjab_Situation_1919': ['5\\\\chapter34'],\n",
       " 'Satyagraha_1900': ['4\\\\chapter26'],\n",
       " 'Satyagraha_1919': ['5\\\\chapter24'],\n",
       " 'Satyagraha_Ashram_1915': ['5\\\\chapter9'],\n",
       " 'Satyagrahi_Volunteers_1919': ['5\\\\chapter24'],\n",
       " 'Sir_Pherozeshah_Mehta_1901': ['3\\\\chapter13'],\n",
       " 'Uttamchand_Gandhi_1869': ['1\\\\chapter1'],\n",
       " 'Vegetarianism_1887': ['1\\\\chapter14'],\n",
       " 'Vegetarianism_1890': ['1\\\\chapter16']}"
      ]
     },
     "execution_count": 57,
     "metadata": {},
     "output_type": "execute_result"
    }
   ],
   "source": [
    "mp"
   ]
  },
  {
   "cell_type": "code",
   "execution_count": 68,
   "id": "90e7ffab",
   "metadata": {},
   "outputs": [
    {
     "name": "stdout",
     "output_type": "stream",
     "text": [
      "Alias_Kaba_Gandhi_1869  ->   </s><s>The Gandhis belong to the Bania caste and seem to have been originally grocers. But for three generations, from Mahatma Gandhi's grandfather, they have been Prime Ministers in several Kathiawad States. Uttamchand Gandhi, alias Ota Gandhi, the grandfather, must have been a man of principle. State intrigues compelled him to leave Porbandar, where he was Diwan, and to seek refuge in Junagadh. There he saluted the Nawab with the left hand. Someone, noticing the apparent discourtesy, asked for an explanation, which was thus given: 'The right hand is already pledged to Porbandsar. The left hand is pledged</s>\n",
      "Barrister_1893  ->   </s><s><s><s>While in Bombay, Mahatma Gandhi began, on the one hand, MahATma Gandhi's study of Indian law and, on another, experiments in dietetics in which Virchand Gandhi, a friend, joined me. The Civil Procedure Code and Evidence Act could in no way get on with. Not so however with the Evidence Act and Mayne's Hindu Law with deep interest. The Evidence Act by heart and Badruddin Tyabji's wonderful power of argument inspires the judges with awe inspired the judge to laugh, and the vakils no doubt enjoyed the spectacle. The judge must have laughed and the whole court was doing likewise. MahATMA Gandhi appeared for the</s>\n",
      "Boer_War_1899  ->   </s><s><s><s>Mahatma Gandhi's loyalty to the British rule drove Mahatma Gandi to participation with the British in that war. When the war was declared, Mahatmas personal sympathies were all with the Boers, but the average Englishman believed that the Indian was a coward, incapable of taking risks or looking beyond his immediate self-interest and therefore threw cold water on the plan, but Dr Booth supported it whole-heartedly, and Mr Laughton and the late Mr Escombe enthusiastically supported the plan and they applied at last for service at the front. Mr. Laughton, Mr. Escombe and Mr. L Laughton enthusiastically supported it, and they all applied for service</s>\n",
      "Boer_War_1914  ->   </s><s><s><s>As the news reached South Africa that Mahatma Gandhi along with other Indians had offered Mahatmata Gandhi's services in the war, Mr. Polak questioned the consistency of MahAtma Gandhi's action with Mahatmma Gandhi's profession of ahimsa. The very same line of argument that persuaded Mah atma Gandhi to take part in the Boer War had weighed with MahATma Gandhi on this occasion. The participation in war could never be consistent with Ahimsa, for participation in hostilities could never consistent with ahimSA. Participation in war was not always clear about one's duty, but it was always given to one to be equally clear about the duty.</s>\n",
      "Calcutta_1896  ->   </s><s><s><s>From Madras Mahatma Gandhi proceeded to Calcutta and was initially met by difficulties in Madras and Madras representative Mr. Ellerthorpe, a representative of The Daily Telegraph, invited Mah atma Gandhi to the Bengal Club, where he was staying. He did not then realize that an Indian could not be taken to the drawing-room of the club. He expressed his sorrow regarding this prejudice of the local Englishmen and apologized to Mahatmasma Gandhi for not having been able to take Mahatmata Gandhi to his drawing room. He invited MahATMA Gandhi to Bengal Club. He was surrounded by a number of friends.</s>\n",
      "Christian_Indians_1924  ->   </s><s><s><s>Mahatma Gandhi soon came in contact with the Christian Indians living in Durban. The Court Interpreter, Mr. Paul, was a Roman Catholic and the court interpreter, Mr Paul's son, was Roman Catholic. As a result of the court interpreter's influence, the court made his acquaintance, as also that of the late Mr. Subhan Godfrey, then a teacher under the Protestant Mission, and father of James Godfery, who, as a member of the South African Deputation, visited India in 1924. All these friends, who up to then had never met one another except on business, came ultimately into close contact, as they shall see later</s>\n",
      "Dietary_1887  ->   </s><s><s><s>As a result of reading all this literature, dietetic experiments came to take an important place in Mahatma Gandhi's life. Health was the principal consideration of these experiments to begin with, but later on religion became the supreme motive. Food was the first consideration in these experiments. Health and hygiene were the principal considerations at first and health was the foremost motive, then religion took precedence. Allinson advocated a curative system based on the regulation of the dietary of patients. Himself a vegetarian, he prescribed for his patients also a strictly vegetarian diet. His writings on health and hygiene on health were likewise very helpful. The Ethics of Diet was Howard Williams' biographical history of the literature of</s>\n",
      "Indian_Opinion_1900  ->   </s><s><s><s>As a man eats, so shall he become. Restraint of the sexual and other passions becomes easy for a man who lives on such food. His diet should consist of nothing but sunbaked fruits and nuts. He can secure enough nourishment both for the tissues and the nerves from fruits like grapes and nuts like almonds.</s>\n",
      "Jalianwala_Bagh_Massacre_1917  ->   </s><s><s><s>Some irate young Punjabis held Mahatma Gandhi responsible for the martial law. They asserted that, if only MahAtma Gandhi had not suspended civil disobedience, there would have been no Jalianwala Bagh massacre. Sir Michael O'Dwyer held MahATMA Gandhi partly responsible for all that had happened in the Punjab, and some irate Young Punjabi held MahAtmason Gandhi accountable for the Martial Law. They held Mah atma Gandhi solely responsible for martial law, and held him responsible for suspending civil disobedience. Some of them even went to the length of threatening MahATma Gandhi with assassination if Mahat</s>\n",
      "Karamchand_Gandhi_1869  ->   </s><s>The Gandhis belong to the Bania caste and seem to have been originally grocers. But for three generations, from Mahatma Gandhi's grandfather, they have been Prime Ministers in several Kathiawad States. Uttamchand Gandhi, alias Ota Gandhi, the grandfather, must have been a man of principle. State intrigues compelled him to leave Porbandar, where he was Diwan, and to seek refuge in Junagadh. There he saluted the Nawab with the left hand. Someone, noticing the apparent discourtesy, asked for an explanation, which was thus given: 'The right hand is already pledged to Porbandsar. The left hand is pledged</s>\n",
      "Kheda_Satyagraha_1919  ->   </s><s>Sjts. Mohanlal Pandya and Shankarlal Parikh had also thrown themselves into the fight, and had set up an agitation in the Bombay Legislative Council through Sjt. Vithalbhai Patel and the late Sir Gokuldas Kahandas Parekh. SJts. Vallabhbhai had to suspend a splendid and growing practice at the bar, which for all practical purposes he was never able to resume. Besides the volunteers of Kheda, Mahatma Gandhi's principal comrades in this struggle were Sjts</s>\n",
      "Kheda_Satyagraha_Struggle_1919  ->   </s><s><s><s>Mahatma Gandhi realized that before a people could be fit for offering civil disobedience, they should thoroughly understand its deeper implications. Before restarting civil disobedience on a mass scale, it would be necessary to create a band of well-tried, pure-hearted volunteers who thoroughly understood the strict conditions of Satyagraha. They could explain these to the people, and by sleepless vigilance keep them on the right path. This mistake seemed Himalayan of Himalayan magnitude. This was the 'Himalayan miscalculation' which obtained such a wide currency afterwards. This error seemed grave in calling upon the people in the Kheda district and elsewhere to launch upon civil disobedience prematurely</s>\n",
      "Maharshi_Devendranath_1896  ->   </s><s><s><s>Mahatma Gandhi had read and heard a good deal about the Brahmo Samaj, and had read Keshav Chandra Sen, read it with great interest, and understood the distinction between Sadharan Brahmo  Samaj , and Adi Brahmos Samaj. Mahatmata Gandhi had attended some of the meetings addressed by Pratap Chandra Mazumdar, and knew something about the life of Pratapsi Devendranath Tagore, Shivanath Shastri and Maharshi Devendrath De Tagore; they had the privilege of listening to fine Bengali music at Belur Math, mostly on foot on foot, and Mahat</s>\n"
     ]
    },
    {
     "name": "stdout",
     "output_type": "stream",
     "text": [
      "Mohanlal_Pandya_1919  ->   </s><s>Sjts. Mohanlal Pandya and Shankarlal Parikh had also thrown themselves into the fight, and had set up an agitation in the Bombay Legislative Council through Sjt. Vithalbhai Patel and the late Sir Gokuldas Kahandas Parekh. SJts. Vallabhbhai, Shankarl Lal Banker, Shrimati Anasuyabehn, Indulal Yajnik, Mahadev Desai and others had joined the struggle.</s>\n",
      "Pandit_Motilal_Nehru_1917  ->   </s><s>Pandit Motilal Nehru, who, at the sacrifice of his splendid practice, had made the Punjab his headquarters and had done great service, was the President of the Congress; the late Swami Shraddhanandji was the Chairman of the Reception Committee. The release of the Ali Brothers and other prisoners too seemed to Mahatma Gandhi to be an auspicious sign. There had to be dealings with Government in that matter. Then similarly there was the Khilafat question. The King's announcement on the new reforms had just been issued and was unsatisfactory to everyone else, but the reforms, though defective, could still be accepted. The reforms were in the King</s>\n",
      "Punjab_Government_1917  ->   </s><s><s><s>Some irate young Punjabis held Mahatma Gandhi responsible for the martial law. They asserted that, if only MahAtma Gandhi had not suspended civil disobedience, there would have been no Jalianwala Bagh massacre. Sir Michael O'Dwyer held MahATMA Gandhi partly responsible for all that had happened in the Punjab, and some irate Young Punjabi held MahAtmason Gandhi accountable for the Martial Law. They held Mah atma Gandhi solely responsible for martial law, and held him responsible for suspending civil disobedience. Some of them even went to the length of threatening MahATma Gandhi with assassination if Mahat</s>\n",
      "Punjab_Leaders_1917  ->   </s><s><s><s>Some irate young Punjabis held Mahatma Gandhi responsible for the martial law. They asserted that, if only MahAtma Gandhi had not suspended civil disobedience, there would have been no Jalianwala Bagh massacre. Sir Michael O'Dwyer held MahATMA Gandhi partly responsible for all that had happened in the Punjab, and some irate Young Punjabi held MahAtmason Gandhi accountable for the Martial Law. They held Mah atma Gandhi solely responsible for martial law, and held him responsible for suspending civil disobedience. Some of them even went to the length of threatening MahATma Gandhi with assassination if Mahat</s>\n",
      "Punjab_Situation_1919  ->   </s><s>The friends who were directing the management of The Chronicle, viz. Messrs. Umar Sobani and Shankarlal Banker, were at this also controlling Young India and Young India. They suggested that, in view of the suppression of suppression, The Chronicle should take up the editorship of Young and India and fill the former weekly organ which was converted from a bi-weekly into a weekly. Mahatma Gandhi was pressed to proceed to the Punjab immediately in disregard of consequences. However, the unbridled repression in the Punjab had further served to aggravate and deepen the feelings of resentment. Leaders were put under arrest, martial law, which in other words meant no law, was proclaimed</s>\n",
      "Satyagraha_1900  ->   </s><s>The principle called Satyagraha came into being before that name was invented. The history of this struggle is for all practical purposes a history of the remainder of Mahatma Gandhi's life in South Africa and especially of the experiments with truth in that sub-continent. The major portion of this history was written in Yeravda jail and finished it after the release. It was published in Navajivan and subsequently issued in book form. The translation into English by Valji Govindji Desai has been translating it into English for Current Thought. The English translation will be published in early date.</s>\n",
      "Satyagraha_1919  ->   </s><s>The main thing was to rid the agriculturists of their fear by making the officials realize that the officials were not the masters but the servants of the people, inasmuch as they received their salaries from the taxpayer. The attachment officers sold people's cattle and seized whatever movables they could lay hands on. Penalty notices were served, and in some cases standing crops were attached. This unnerved the peasants, some of whom paid up their dues, while others desired to place safe movables in the way of the officials so that they might attach them to realize the dues. This attachment of standing crops, though it might be in accordance with law, was morally wrong, and was nothing short</s>\n",
      "Satyagraha_Ashram_1915  ->   </s><s><s><s>The pilgrimage to the Kumbha fair was Mahatma Gandhi's second visit to Hardvar. The Satyagraha Ashram was founded on 25th of May, 1915. The first thing they had to settle was the name of the Ashram. Amongst the names suggested were 'Sevashram' (the abode of service), 'Tapovan' 'tapovan' - the abodeof austerities' etc. 'Satyagrah Ashram' was selected as conveying both our goal and our method of service. Their creed was devotion to truth, and their business was the search for and insistence on truth. For the conduct of theAsh</s>\n",
      "Satyagrahi_Volunteers_1919  ->   </s><s>The main thing was to rid the agriculturists of their fear by making the officials realize that the officials were not the masters but the servants of the people, inasmuch as they received their salaries from the taxpayer. The attachment officers sold people's cattle and seized whatever movables they could lay hands on. Penalty notices were served, and in some cases standing crops were attached. This unnerved the peasants, some of whom paid up their dues, while others desired to place safe movables in the way of the officials so that they might attach them to realize the dues. This attachment of standing crops, though it might be in accordance with law, was morally wrong, and was nothing short</s>\n",
      "Sir_Pherozeshah_Mehta_1901  ->   </s><s><s><s>From Bombay Mahatma Gandhi traveled in the same train as Sir Pherozeshah Mehta, as Mah atma Gandhi had to speak to him about conditions in South Africa. Sir P herozesh Shah saw Mah at the first port of call and said, 'Gandhi, it seems nothing can be done for you. Of course they will pass the resolution you want. But what rights have they in our own country?</s>\n",
      "Uttamchand_Gandhi_1869  ->   </s><s>The Gandhis belong to the Bania caste and seem to have been originally grocers. But for three generations, from Mahatma Gandhi's grandfather, they have been Prime Ministers in several Kathiawad States. Uttamchand Gandhi, alias Ota Gandhi, the grandfather, must have been a man of principle. State intrigues compelled him to leave Porbandar, where he was Diwan, and to seek refuge in Junagadh. There he saluted the Nawab with the left hand. Someone, noticing the apparent discourtesy, asked for an explanation, which was thus given: 'The right hand is already pledged to Porbandsar. The left hand is pledged</s>\n",
      "Vegetarianism_1887  ->   </s><s><s><s>As a result of reading all this literature, dietetic experiments came to take an important place in Mahatma Gandhi's life. Health was the principal consideration of these experiments to begin with, but later on religion became the supreme motive. Food was the first consideration in these experiments. Health and hygiene were the principal considerations at first and health was the foremost motive, then religion took precedence. Allinson advocated a curative system based on the regulation of the dietary of patients. Himself a vegetarian, he prescribed for his patients also a strictly vegetarian diet. His writings on health and hygiene on health were likewise very helpful. The Ethics of Diet was Howard Williams' biographical history of the literature of</s>\n",
      "Vegetarianism_1890  ->   </s><s><s><s>As Mahatma Gandhi searched Mahatama Gandhi deeper, the necessity for changes both internal and external began to grow on me. As soon as the writer on vegetarianism had examined the question very minutely, attacking it in its religious, scientific, scientific , scientific, practical and medical aspects. They had also brought out the truth that man eats not for enjoyment but to live. And some of them accordingly suggested and effected abstention not only from flesh-meat but from eggs and milk and milk. It was apparent that there was no injury done to living creatures in taking eggs. The reformer who advocated starchless food had spoken highly of eggs and held that eggs were not meat.</s>\n"
     ]
    }
   ],
   "source": [
    "mp_doc = {}\n",
    "for f in filtered_keywords:\n",
    "    mp_doc[f] = qfs(f)\n",
    "    print(f\"{f}  ->   {mp_doc[f] }\")"
   ]
  },
  {
   "cell_type": "code",
   "execution_count": 64,
   "id": "136b6380",
   "metadata": {},
   "outputs": [],
   "source": [
    "import json\n",
    "with open(\"mp_doc.json\", \"w\") as outfile:\n",
    "    json.dump(mp_doc, outfile)"
   ]
  },
  {
   "cell_type": "code",
   "execution_count": 69,
   "id": "933c9fc9",
   "metadata": {},
   "outputs": [],
   "source": [
    "import json\n",
    "with open(\"mp_doc2.json\", \"w\") as outfile:\n",
    "    json.dump(mp_doc, outfile)"
   ]
  },
  {
   "cell_type": "code",
   "execution_count": 65,
   "id": "df076b99",
   "metadata": {},
   "outputs": [
    {
     "data": {
      "text/plain": [
       "{'Alias_Kaba_Gandhi_1869': \"</s><s>The Gandhis belong to the Bania caste and seem to have been originally grocers. But for three generations, from Mahatma Gandhi's grandfather, they have been Prime Ministers in several Kathiawad States. Uttamchand Gandhi, alias Ota Gandhi, the grandfather, must have been a man of principle. His loyalty to the state was well known. State intrigues compelled him to leave Porbandar, where he was Diwan, and to seek refuge in Junagadh. There he saluted the Nawab with the left hand. Someone, noticing the apparent discourtesy, asked for an explanation, which was thus given: 'The right hand is already pledged to</s>\",\n",
       " 'Barrister_1893': \"</s><s><s><s>While in Bombay, Mahatma Gandhi began, on the one hand, studying of Indian law and experiments in dietetics in which Virchand Gandhi, a friend, joined me. On the other hand, there were two activities simultaneously taking place in Bombay. On one hand there was the one-hand study of Indian Law and, on another, MahATma Gandhi's experiments in foodetics in the company of VirchAND Gandhi. The Civil Procedure Code could in no way get on with the Evidence Act and Mayne's Hindu Law with deep interest, but Mah atma Gandhi had not the courage to conduct a case in Mamibai's small cause. The Hindu Law May</s>\",\n",
       " 'Boer_War_1899': \"</s><s>Mahatma Gandhi must skip many other experiences of the period between 1897 and 1899 and come straight to the Boer War. When the war was declared, personal sympathies were all with the Boers, but Mahatm Gandhi believed then that Mah atma Gandhi had yet no right, in such cases, to enforce MahAtma Gandhi's individual convictions. Mahatmma Gandhi held then that India could achieve her complete emancipation only within and through the British Empire. Therefore, if Mahatma Gandhian demanded rights as a British citizen, it was also Mahatmas Gandhi's duty, as such, to participate in the defence of the British</s>\",\n",
       " 'Boer_War_1914': \"</s><s><s><s>As the news reached South Africa that Mahatma Gandhi along with other Indians had offered services in the Boer War, two cables were received from Mr. Polak who questioned the consistency of Mahatmasa Gandhi's action with Mahatmma Gandhi's profession of ahimsa. It was quite clear that participation in war could never be consistent with ahimSA. Participation in war was never consistent with the Ahimsa and participation in the cause of the combatants. The very same line of argument that persuaded Mah atma Gandhi to take part in theBoer War had weighed with Mahtma Gandhi on this occasion. The participation in wars could not be consistent</s>\",\n",
       " 'Calcutta_1896': \"</s><s><s><s>From Madras Mahatma Gandhi proceeded to Calcutta and was met by difficulties in Madras and Madras representative Mr. Ellerthorpe, a representative of The Daily Telegraph, invited Mah atma Gandhi to the Bengal Club, where he was staying. He invited Mah to Bengal Club to the drawing-room of the club. He did not then realize that an Indian could not be taken to the club 'drawing-room'. Having discovered the restriction, he took MahAtma Gandhi back to his room. Raja Sir Pyarimohan Mukarji and Maharaja Tagore and Maharani Tagore were liberal-minded and took a fair share in public</s>\",\n",
       " 'Christian_Indians_1924': '</s><s><s><s>Mahatma Gandhi soon came in contact with the Christian Indians living in Durban. The case for which Mah atma Gandhi had come to South Africa was mainly about accounts. The Parsi lawyer was examining a witness and asking him questions regarding credit and debit entries in account books. Book-keeping had not been learnt neither at school nor during the stay in England. Only one who knew accounts could understand and explain it. And the only one who understood accounts could explain and explain the case.</s>',\n",
       " 'Dietary_1887': \"</s><s><s>Howard Williams' The Ethics of Diet, whetted Mahatma Gandhi's appetite for dietetic studies. Howard Williams' biographical history of the literature of humane dietetics from the earliest period to the present day tried to make out, that all philosophers and prophets from Pythagoras and Jesus down to those of the present age were vegetarians. The Perfect Way in Diet was also an attractive book. Dr. Salt's book whetted the appetite for dietary studies, and Dr. Allinson's writings on health and hygiene were likewise very helpful. He advocated a curative system based on regulation of the dietary of patients. Himself a vegetarian, he prescribed for his patients also a strictly vegetarian diet</s>\",\n",
       " 'Indian_Opinion_1900': \"</s><s><s><s>It is Mahatma Gandhi's firm conviction that man need take no milk at all, beyond the mother's milk that he takes as a baby. His diet should consist of nothing but sunbaked fruits and nuts. He can secure enough nourishment both for the tissues and the nerves from fruits like grapes and nuts like almonds. Restraint of the sexual and other passions becomes easy for a man who lives on such food. Rest restraint of the</s>\",\n",
       " 'Jalianwala_Bagh_Massacre_1917': \"</s><s><s><s>Some irate young Punjabis held Mahatma Gandhi responsible for the martial law. They asserted that, if only Mah atma Gandhi had not suspended civil disobedience, there would have been no Jalianwala Bagh massacre. They held Mah at fault for suspending civil disobedience. They even went to the length of threatening Mahatmasa Gandhi with assassination with assassination if Mahatmma Gandhi went to Punjab. But MahAtma Gandhi felt that his position was so correct and above question that no intelligent person could misunderstand it, and no intelligent intelligent person would misunderstand it. Mahatmma Gandhi's self-confidence of that time was infectious.</s>\",\n",
       " 'Karamchand_Gandhi_1869': \"</s><s>The Gandhis belong to the Bania caste and seem to have been originally grocers. But for three generations, from Mahatma Gandhi's grandfather, they have been Prime Ministers in several Kathiawad States. Uttamchand Gandhi, alias Ota Gandhi, the grandfather, must have been a man of principle. His loyalty to the state was well known. State intrigues compelled him to leave Porbandar, where he was Diwan, and to seek refuge in Junagadh. There he saluted the Nawab with the left hand. Someone, noticing the apparent discourtesy, asked for an explanation, which was thus given: 'The right hand is already pledged to</s>\",\n",
       " 'Kheda_Satyagraha_1919': \"</s><s><s><s>When Mahatma Gandhi had to plunge into the Kheda Satyagraha struggle in the Ahmedabad mill-hands' strike over, he was plunged into the Gujarat mill-hand's strike over the mill-h hands' strike and then plunged into Khedda Satyagra struggle. A condition approaching famine had arisen in the Khinga district owing to a widespread failure of crops, and the Patidars of KhedA were considering the question of getting the revenue assessment for the year suspended. A Sjt. Amritlal Thakkar had already inquired into and reported on the situation and personally discussed the question with the Commissioner, before Mahat</s>\",\n",
       " 'Kheda_Satyagraha_Struggle_1919': \"</s><s><s><s>Mahatma Gandhi first used the expression 'Himalayan miscalculation' which obtained such a wide currency afterwards. It was here that Mahatma used the first expression 'himalayanmiscalculation'. It was only when one sees one's own mistakes with a convex lens, and does just the reverse in the case of others, that one is able to arrive at a just relative estimate of the two relative estimates of two relative estimations of two. It is only when it sees one 's own mistakes only when looking at one's own mistake with a concave lens and doing the reverse reverse in others that one can arrive at an accurate relative estimate.</s>\",\n",
       " 'Maharshi_Devendranath_1896': \"</s><s><s><s>The terrible sacrifice offered to Kali in the name of religion enhanced Mahatma Gandhi's desire to know Bengali life. The terrible sacrifice was made by Kali for the sake of religion, and the terrible life offered by Kali was compared to the life of Bengali people. This act of sacrifice on behalf of Kali greatly enhanced the desire to get acquainted with the Bengali culture. Ever since Mahatmasi Gandhi have been a lover of Bengal music.</s>\",\n",
       " 'Mohanlal_Pandya_1919': \"</s><s><s><s>When Mahatma Gandhi had to plunge into the Kheda Satyagraha struggle in the Ahmedabad mill-hands' strike over, he was plunged into the Gujarat mill-hand's strike over the mill-h hands' strike and then plunged into Khedda Satyagra struggle. A condition approaching famine had arisen in the Khinga district owing to a widespread failure of crops, and the Patidars of KhedA were considering the question of getting the revenue assessment for the year suspended. A Sjt. Amritlal Thakkar had already inquired into and reported on the situation and personally discussed the question with the Commissioner, before Mahat</s>\",\n",
       " 'Pandit_Motilal_Nehru_1917': \"</s><s><s><s>The Punjab Government could not keep in confinement the hundreds of Punjabis who, under the martial law regime, had been clapped into jail on the strength of the most meagre evidence by tribunals that were courts only in name. There was such an outcry all round against this flagrant piece of injustice that their further incarceration became imposible. Most of the prisoners were released before the Congress opened. Lala Harkishanlal and the other leaders were all released, while the session of the Congress was still in progress. The Ali Brothers too arrived there straight from jail. The people's joy knew no bounds.</s>\",\n",
       " 'Punjab_Government_1917': \"</s><s><s><s>Some irate young Punjabis held Mahatma Gandhi responsible for the martial law. They asserted that, if only Mah atma Gandhi had not suspended civil disobedience, there would have been no Jalianwala Bagh massacre. They held Mah at fault for suspending civil disobedience. They even went to the length of threatening Mahatmasa Gandhi with assassination with assassination if Mahatmma Gandhi went to Punjab. But MahAtma Gandhi felt that his position was so correct and above question that no intelligent person could misunderstand it, and no intelligent intelligent person would misunderstand it. Mahatmma Gandhi's self-confidence of that time was infectious.</s>\",\n",
       " 'Punjab_Leaders_1917': \"</s><s><s><s>Some irate young Punjabis held Mahatma Gandhi responsible for the martial law. They asserted that, if only Mah atma Gandhi had not suspended civil disobedience, there would have been no Jalianwala Bagh massacre. They held Mah at fault for suspending civil disobedience. They even went to the length of threatening Mahatmasa Gandhi with assassination with assassination if Mahatmma Gandhi went to Punjab. But MahAtma Gandhi felt that his position was so correct and above question that no intelligent person could misunderstand it, and no intelligent intelligent person would misunderstand it. Mahatmma Gandhi's self-confidence of that time was infectious.</s>\",\n",
       " 'Punjab_Situation_1919': \"</s><s>While this movement for the preservation of non-violence was making steady though slow progress on the one hand, Government's policy of lawless repression was in full career on the other, and was manifesting itself in the Punjab in all its nakedness. Leaders were put under arrest, martial law, which in other words meant no law, was proclaimed, special tribunals were set up. Sentences were passed unwarranted by evidence and in flagrant violation of justice. These tribunal were not courts of justice but instruments for carrying out the arbitrary will of an autocrat. For Mahatma Gandhi, offering civil disobedience at such a time would have been like fanning the flame. For</s>\",\n",
       " 'Satyagraha_1900': \"</s><s>The principle called Satyagraha came into being before that name was invented. The principle Sadagraha -Sat: truth, Agraha: firmness - won the prize. The word Satyagraha has since become current in Gujarati as a designation for the struggle. The history of this struggle is for all practical purposes a history of the remainder of Mahatma Gandhi's life in South Africa and especially of the experiments with truth in that sub-continent. The text is a major portion of this history in Yeravda jail and finished it after Mahatm Gandhi was released. It was published in Navajivan and subsequently issued in book form. Mahat</s>\",\n",
       " 'Satyagraha_1919': \"</s><s>Champaran being in a far away corner of India, and the press having been kept out of the campaign, it did not attract visitors from outside. Not so with the Kheda campaign, of which the happenings were reported in the press from day to day. The Gujaratis were deeply interested in the fight, which was to them a novel experiment. They were ready to pour forth their riches for the success of the cause. For the Patidar farmers, too, the fight was quite a new thing. In spite of Mahatma Gandhi's remonstrance, the Bombay merchants sent us more money than necessary, so that they had some balance left at the end of the</s>\",\n",
       " 'Satyagraha_Ashram_1915': \"</s><s><s><s>The pilgrimage to the Kumbha fair was Mahatma Gandhi's second visit to Hardvar. The Satyagraha Ashram was founded on the 25th of May, 1915 at Ahmedabad. It was the most favourable field for the revival of the cottage industry of hand-spinning. There was also the hope that, the city being the capital of Gujarat, monetary help from its wealthy citizens would be more available here than elsewhere. And then, as Ahmedabad was an ancient centre of handloom weaving, it was likely to</s>\",\n",
       " 'Satyagrahi_Volunteers_1919': \"</s><s>Champaran being in a far away corner of India, and the press having been kept out of the campaign, it did not attract visitors from outside. Not so with the Kheda campaign, of which the happenings were reported in the press from day to day. The Gujaratis were deeply interested in the fight, which was to them a novel experiment. They were ready to pour forth their riches for the success of the cause. For the Patidar farmers, too, the fight was quite a new thing. In spite of Mahatma Gandhi's remonstrance, the Bombay merchants sent us more money than necessary, so that they had some balance left at the end of the</s>\",\n",
       " 'Sir_Pherozeshah_Mehta_1901': '</s><s><s><s>From Bombay to Bombay Mahatma Gandhi traveled in the same train as Sir Pherozeshah Mehta, as Mah atma Gandhi had to speak to him about conditions in South Africa. Mahatmaha Gandhi knew the kingly style in which he lived, and knew the royal style of his saloon for one stage. He had engaged a special saloon in himself for himself, a saloon reserved for himself in the style of a kingly-style style. He was the uncrowned king of Bombay. From Bombay to Mumbai, Mah at first came to know the k royalty style in the saloon and reported Mah at the appointed station. Then from Bombay</s>',\n",
       " 'Uttamchand_Gandhi_1869': \"</s><s>The Gandhis belong to the Bania caste and seem to have been originally grocers. But for three generations, from Mahatma Gandhi's grandfather, they have been Prime Ministers in several Kathiawad States. Uttamchand Gandhi, alias Ota Gandhi, the grandfather, must have been a man of principle. His loyalty to the state was well known. State intrigues compelled him to leave Porbandar, where he was Diwan, and to seek refuge in Junagadh. There he saluted the Nawab with the left hand. Someone, noticing the apparent discourtesy, asked for an explanation, which was thus given: 'The right hand is already pledged to</s>\",\n",
       " 'Vegetarianism_1887': \"</s><s><s>Howard Williams' The Ethics of Diet, whetted Mahatma Gandhi's appetite for dietetic studies. Howard Williams' biographical history of the literature of humane dietetics from the earliest period to the present day tried to make out, that all philosophers and prophets from Pythagoras and Jesus down to those of the present age were vegetarians. The Perfect Way in Diet was also an attractive book. Dr. Salt's book whetted the appetite for dietary studies, and Dr. Allinson's writings on health and hygiene were likewise very helpful. He advocated a curative system based on regulation of the dietary of patients. Himself a vegetarian, he prescribed for his patients also a strictly vegetarian diet</s>\",\n",
       " 'Vegetarianism_1890': '</s><s>Mahatma Gandhi came in contact with vegetarians of all types in vegetarian restaurants. There was a Vegetarian Society in England with a weekly journal of its own. Vegetarian society in England subscribed to the weekly, joined the society and very shortly found Mah atma Gandhi on the Executive Committee. In England, Vegetarians were regarded as pillars of vegetarianism. They had brought out the truth that man eats not for enjoyment but to live. A vegetarian diet was the least expensive. The mind having taken a different turn, the fondness for sweets and condiments wore away, and Mahatma</s>'}"
      ]
     },
     "execution_count": 65,
     "metadata": {},
     "output_type": "execute_result"
    }
   ],
   "source": [
    "mp_doc"
   ]
  },
  {
   "cell_type": "code",
   "execution_count": null,
   "id": "d923315e",
   "metadata": {},
   "outputs": [],
   "source": []
  }
 ],
 "metadata": {
  "kernelspec": {
   "display_name": "Python 3 (ipykernel)",
   "language": "python",
   "name": "python3"
  },
  "language_info": {
   "codemirror_mode": {
    "name": "ipython",
    "version": 3
   },
   "file_extension": ".py",
   "mimetype": "text/x-python",
   "name": "python",
   "nbconvert_exporter": "python",
   "pygments_lexer": "ipython3",
   "version": "3.9.12"
  }
 },
 "nbformat": 4,
 "nbformat_minor": 5
}
