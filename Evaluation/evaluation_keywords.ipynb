{
 "cells": [
  {
   "cell_type": "code",
   "execution_count": 1,
   "id": "13a276bd",
   "metadata": {},
   "outputs": [],
   "source": [
    "import re\n",
    "import json"
   ]
  },
  {
   "cell_type": "code",
   "execution_count": 2,
   "id": "6b729518",
   "metadata": {},
   "outputs": [],
   "source": [
    "def eval_keywords(mg_index,final_keywords_mg):\n",
    "    mg_index = set(mg_index)\n",
    "    final_keywords_mg = set(final_keywords_mg)\n",
    "    common_words = mg_index & final_keywords_mg\n",
    "    print(common_words)\n",
    "    recall = len(common_words) / len(mg_index)\n",
    "    precision = len(common_words) / len(final_keywords_mg)\n",
    "    print(f\"precision {precision}   and recall {recall}\")\n",
    "    return recall,precision\n",
    "\n",
    "def fetch_kws(mp):\n",
    "    kws = []\n",
    "    for v in mp.values():\n",
    "        for ele in v:\n",
    "            kws.append(ele[0].title())\n",
    "    return kws"
   ]
  },
  {
   "cell_type": "markdown",
   "id": "be0d7a1f",
   "metadata": {},
   "source": [
    "## Mahatma Gandhi"
   ]
  },
  {
   "cell_type": "code",
   "execution_count": 65,
   "id": "1a440c36",
   "metadata": {},
   "outputs": [],
   "source": [
    "mg_index = [\"Advaita\",\n",
    "\"Agiari\",\n",
    "\"Ahimsa\",\n",
    "\"Allah\",\n",
    "\"Aparigraha\",\n",
    "\"Amanitvam\",\n",
    "\"Ardhangini\",\n",
    "\"Ashram\",\n",
    "\"Asoka\",\n",
    "\"Atishudra\",\n",
    "\"Atman\",\n",
    "\"Avatar\",\n",
    "\"Bansi\",\n",
    "\"Bardoli\",\n",
    "\"Bhagwadgita\",\n",
    "\"Bhakti\",\n",
    "\"Bhangi \",\n",
    "\"Bharat Mata\",\n",
    "\"Bibhishan \",\n",
    "\"Bhogabhumi\",\n",
    "\"Brahm\",\n",
    "\"Brahmachar\",\n",
    "\"Brahmacharya\",\n",
    "\"Brahman\",\n",
    "\"Chaitanya\",\n",
    "\"Chakki\",\n",
    "\"Chapati\",\n",
    "\"Charkh\",\n",
    "\"Dandi March\",\n",
    "\"Damayanti\",\n",
    "\"Daridranarayana\",\n",
    "\"Dasharatha\",\n",
    "\"Dharma\",\n",
    "\"Dharmaja\",\n",
    "\"Dharmayuddha\",\n",
    "\"Dheds\",\n",
    "\"Dhurna\",\n",
    "\"Dnyandev\",\n",
    "\"Draupadi\",\n",
    "\"Dublas\",\n",
    "\"Duryodhana\",\n",
    "\"Dyer\",\n",
    "\"Ganga\",\n",
    "\"Ganja\",\n",
    "\"Ghani\",\n",
    "\"Git\",\n",
    "\"Gokhal\",\n",
    "\"Goonda\",\n",
    "\"Goondaism\",\n",
    "\"Gopal\",\n",
    "\"Gur\",\n",
    "\"Guru\",\n",
    "\"Goseva\",\n",
    "\"Gram\",\n",
    "\"Gramsev\",\n",
    "\"Gram\",\n",
    "\"Hakim\",\n",
    "\"Hanuma\",\n",
    "\"Hartal\",\n",
    "\"Hooghl\",\n",
    "\"Ishopanishad\",\n",
    "\"Jainism\",\n",
    "\"Jain\",\n",
    "\"Jana\",\n",
    "\"Kabi\",\n",
    "\"Kamaja\",\n",
    "\"Karmabhum\",\n",
    "\"Karmayogi\",\n",
    "\"Khadda\",\n",
    "\"Kisan \",\n",
    "\"Kora\",\n",
    "\"Krishna\",\n",
    "\"Kshatriy\",\n",
    "\"Lil\",\n",
    "\"Lok Sevak Sang\",\n",
    "\"Mahabhara\",\n",
    "\"Mhatma\",\n",
    "\"Mahavi\",\n",
    "\"mantr\",\n",
    "\"Mantra\",\n",
    "\"Manushy\",\n",
    "\"May\",\n",
    "\"Moksha\",\n",
    "\"Muni\",\n",
    "\"Nai Talim\",\n",
    "\"Namaz\",\n",
    "\"Nana\",\n",
    "\"Nirvana\",\n",
    "\"Panch\",\n",
    "\"Panchaya\",\n",
    "\"Pandavas\",\n",
    "\"Pinjrapoles\",\n",
    "\"Prahlad\",\n",
    "\"Pritam\",\n",
    "\"Rajachandr\",\n",
    "\"Raychandbh\",\n",
    "\"Ram,\",\n",
    "\"Ramakrishna\",\n",
    "\"Ramanuja\",\n",
    "\"Ramji Mandir\",\n",
    "\"Ravana\",\n",
    "\"Sadavrat\",\n",
    "\"Sahadharmin\",\n",
    "\"Samagr\",\n",
    "\"Samskaras\",\n",
    "\"Sanatanist\",\n",
    "\"Sannyas\",\n",
    "\"Sannyasi\",\n",
    "\"Sarvodaya\",\n",
    "\"Satvika\",\n",
    "\"Satya\",\n",
    "\"Satyagraha\",\n",
    "\"Satygrahi\",\n",
    "\"Savitri\",\n",
    "\"Shankara\",\n",
    "\"Shastras\",\n",
    "\"Shloka\",\n",
    "\"Shudr\",\n",
    "\"Sita\",\n",
    "\"Smritis\",\n",
    "\"Sthitaprajn\",\n",
    "\"Sudam\",\n",
    "\"Surda\",\n",
    "\"Swadesh\",\n",
    "\"Swargarohan Par\",\n",
    "\"Tadgud\",\n",
    "\"Tapaschary\",\n",
    "\"Tilaks\",\n",
    "\"Tukaram\",\n",
    "\"Tulsidas\",\n",
    "\"Upanishad\",\n",
    "\"Vaidas\",\n",
    "\"Vaishyas\",\n",
    "\"Valmiki\",\n",
    "\"RAMAYA\",\n",
    "\"Varna\",\n",
    "\"Varnashrama\",\n",
    "\"Vedanta\",\n",
    "\"Vedas\",\n",
    "\"Vidur\",\n",
    "\"Yoga\",\n",
    "\"Yogi\",\n",
    "\"Yudhishthira\",\n",
    "\"Zamindar\",\n",
    "\"Zend\",\n",
    "\"Zoroaste\"]"
   ]
  },
  {
   "cell_type": "code",
   "execution_count": 66,
   "id": "9c9006f0",
   "metadata": {},
   "outputs": [
    {
     "data": {
      "text/plain": [
       "146"
      ]
     },
     "execution_count": 66,
     "metadata": {},
     "output_type": "execute_result"
    }
   ],
   "source": [
    "len(mg_index)"
   ]
  },
  {
   "cell_type": "code",
   "execution_count": 4,
   "id": "4acba905",
   "metadata": {},
   "outputs": [],
   "source": [
    "final_keywords_mg = ['Champaran_Tenant', 'Pandit_Motilal_Nehru', 'Religions', 'Satyagraha', 'Ota_Gandhi', 'Voyage', 'Tolstoy', 'Unwariness', 'Returned_To_Rajkot', 'Opinion', 'Special_Session', 'Vegetarianism', 'Kheda_Satyagraha_Struggle', 'Plantations', 'Kheda_Campaign_Satyagraha', 'Maulana_Abdul_Bari', 'Disobedience', 'Punjab', 'Rajkot', 'Indian', 'Peace_Celebrations', 'Manganlal_Gandhi', 'Gokhale', 'Strike', 'Study_Of_Indian', 'Viceroy', 'Jalianwala_Bagh_Massacre', 'Barristers', 'Jalianwala_Bagh_Tragedy', 'India_Agitation', 'Vegetarianism_Strengthened', 'Training_On_Tolstoy', 'Muslim_Demand', 'Jalianwala_Bagh_Memorial', 'Hindus', 'South_African_Experiences', 'Kheda_Satyagraha', 'Pandit', 'Swami_Vivekananda', 'Advocate', 'Indian_Opinion', 'Maharajas_For_Donations', 'Indians', 'Diet', 'Satyagrahi_Volunteers', 'Vegetarian_Restaurants', 'Christian_Indians', 'Alias_Ota_Gandhi', 'Vegetarian_Diet', 'Punjab_Situation', 'Satyagrahi', 'Chhaganlal_Gandhi', 'Englishmen_And_Boers', 'Punjab_Government', 'Hindu_Wife', 'Duty', 'Karamchand_Gandhi', 'Hindu_Husband', 'Congress', 'Uttamchand_Gandhi', 'Bania_Caste', 'Gandhi_Settlement', 'Understood', 'Indian_Ocean', 'Grandfather', 'Moslem_Audiences', 'Shankarlal_Parikh', 'Shraddhanandji', 'Mahatma_Munshiramji', 'Hindu', 'Passive_Resistance', 'Mohanlal_Pandya', 'African_Experiences', 'Sheth', 'Indentured_Labourer', 'Johannesburg', 'Natal_Zulus', 'Farm', 'Maganlal_Gandhi', 'Hinduism', 'Brahmacharya', 'Soldiers', 'Vegetarian_Society', 'Khilafat_Agitation', 'Satyagraha_Sabha', 'Swami_Shraddhanandji', 'Rajkumar_Shukla', 'Gujarati_Hindu_Children', 'Abdulla_Sheth', 'Kaba_Gandhi', 'Christian_Indian', 'Tamil', 'Ahmedabad_Young_India', 'Indigo_Plantations', 'Rajkot_To_Resume', 'Kheda', 'Average_Christian_Indian', 'South_African', 'Gandhi', 'Mahatma', 'Tolstoy_Farm', 'Indigo', 'Vegetarian', 'Gujarat_Sabha', 'Sister_Religions', 'Meet_Mahatma_Munshiramji', 'Indian_Home_Rule', 'Christian_Indians_Living', 'English_Youths', 'Hindu_Brethren', 'Virchand_Gandhi', 'Indian_Law', 'Muslim', 'Ahimsa']\n"
   ]
  },
  {
   "cell_type": "code",
   "execution_count": 11,
   "id": "f2db01e4",
   "metadata": {},
   "outputs": [],
   "source": [
    "import json\n",
    "mp_bert,mp_yake,mp_rakun = {},{},{}\n",
    "with open(\"mp_SOMEWT_bert.json\", \"r\") as outfile:\n",
    "    mp_bert = json.load(outfile)\n",
    "\n",
    "with open(\"mp_SOMEWT_yake.json\", \"r\") as outfile:\n",
    "    mp_yake = json.load(outfile)\n",
    "\n",
    "with open(\"mp_SOMEWT_rakun.json\", \"r\") as outfile:\n",
    "    mp_rakun = json.load(outfile)"
   ]
  },
  {
   "cell_type": "code",
   "execution_count": 5,
   "id": "d11d00ef",
   "metadata": {},
   "outputs": [],
   "source": []
  },
  {
   "cell_type": "code",
   "execution_count": 22,
   "id": "dbe20802",
   "metadata": {},
   "outputs": [
    {
     "name": "stdout",
     "output_type": "stream",
     "text": [
      "{'Satyagraha', 'Hartal', 'Brahmacharya', 'Ashram'}\n",
      "precision 0.006482982171799027   and recall 0.027586206896551724\n",
      "{'Satyagraha', 'Brahmacharya', 'Ashram', 'Ahimsa'}\n",
      "precision 0.006006006006006006   and recall 0.027586206896551724\n",
      "set()\n",
      "precision 0.0   and recall 0.0\n"
     ]
    },
    {
     "data": {
      "text/plain": [
       "(0.0, 0.0)"
      ]
     },
     "execution_count": 22,
     "metadata": {},
     "output_type": "execute_result"
    }
   ],
   "source": [
    "bert_kws = fetch_kws(mp_bert)\n",
    "eval_keywords(mg_index,bert_kws)\n",
    "\n",
    "yake_kws = fetch_kws(mp_yake)\n",
    "eval_keywords(mg_index,yake_kws)\n",
    "\n",
    "rakun_kws = fetch_kws(mp_rakun)\n",
    "eval_keywords(mg_index,rakun_kws)"
   ]
  },
  {
   "cell_type": "code",
   "execution_count": 25,
   "id": "1c7221fa",
   "metadata": {},
   "outputs": [
    {
     "name": "stdout",
     "output_type": "stream",
     "text": [
      "{'Satyagraha', 'Brahmacharya', 'Ahimsa'}\n",
      "precision 0.02631578947368421   and recall 0.020689655172413793\n"
     ]
    },
    {
     "data": {
      "text/plain": [
       "(0.020689655172413793, 0.02631578947368421)"
      ]
     },
     "execution_count": 25,
     "metadata": {},
     "output_type": "execute_result"
    }
   ],
   "source": [
    "eval_keywords(mg_index,final_keywords_mg)"
   ]
  },
  {
   "cell_type": "markdown",
   "id": "b9c7402e",
   "metadata": {},
   "source": [
    "## Nelson Mandela"
   ]
  },
  {
   "cell_type": "code",
   "execution_count": 62,
   "id": "518e2b16",
   "metadata": {},
   "outputs": [],
   "source": [
    "nelson_index =[\"Abdurahman\",\"  Abdullah\",\" abeSotho\",\" abeThembu. See Thembuland/ThembupeopleAdams\",\"  Farid\",\" Addis Ababa\",\" African Mine Workers Union (AMWU)\",\" African National Congress (ANC)\",\" Action\",\" Committee\",\" annual conferences\",\" armed protest\",\"  violence policy\",\" arrest and imprisonmentof members\",\" bail issue\",\" ban against\",\"  branches\",\" civil disobedience activities\",\" Congress of the People\",\" External Mission\",\"  government ofSouth Africa and\",\" international activities\",\"  leadership\",\" membership\",\" mobilization/mass action National\",\" Executive Committee\",\" negotiations with government of South Africa\",\" NM as deputy president\",\" NM as president\",\" NM’s early activities\",\" nonviolence policy\",\" release of imprisoned members\",\" release of NM and\",\" removal schemes andRobben Island activities\",\" terrorismagainst\",\" voting campaign\",\"  white influenceon\",\"  See also ANC and;communism/Communist Party; FreedomCharter; MK; Women’s League; YouthLeagueAfrican People’s Party (APO)\",\" Afrikaner Rebellion\",\" Afrikaner Volksfront\",\" Afrikaner Weerstandsbeweging (AWB)\",\" Alexander\",\"  Neville\",\" Alexandra Township\",\" Algeria\",\" All-African Convention\",\" All-in Conference\",\" amaBaca\",\" amaBomyana\",\" amaGcaleka\",\" amaMfengu\",\" amaMpemvu\",\" amaMpodomis\",\" amaMpondo\",\" amaNgutyana\",\" Amnesty International\",\" Angola\",\" anti-ANC alliance\",\" apartheid\",\" education and\",\"  grand\",\" legislation\",\" regulations\",\"  struggle against\",\" treason trial and\",\"  treatment ofprisoners\",\" April\",\"  Jimmy\",\" Aronsohn\",\"  William\",\" Asiatic Land Tenure Act\",\" assassinations\",\" Astor\",\"  David\",\" Atlantic Charter\",\" Aucamp\",\"  Brigadier\",\" Aucamp\",\"  Colonel\",\" Autshumao\",\" Ayob\",\"  Ismail\",\" Azanian People’s Organization\",\" Baard\",\"  FrancesBadenhorst\",\"  Piet\",\" Bam\",\"  Fikile\",\" bans/banning orders\",\"  againstANC\",\"  against NM\",\" against Winnie Mandela\",\" Bantu areas\",\" Bantu Authorities/Bantu Authorities Act\",\" Bantu Education Act\",\" Bantu Self Government Act\",\" bantustan system\",\" Barnard\",\"  Niel\",\" Barnard (secretary to prime minister)\",\" Basner\",\"  H. M.\",\"  law firm\",\" Basner\",\"  Hymie M.\",\" Basothos people\",\" Bechuanaland People’s Party\",\" Befikadu\",\"  Wondoni\",\" Behndy\",\"  Isaac\",\" Bekker\",\"  Justice\",\" Ben Bella\",\"  Ahmed\",\" Benson\",\"  Mary\",\" Bernstein\",\"  Lionel (Rusty)\",\" Berrangé\",\"  Vernon\",\" Bethell\",\"  Nicholas\",\" Beyleveld\",\"  Piet\",\" Bhoola\",\"  Ahmed\",\" Bhoolia\",\"  Ramlal\",\" Bisho massacre\",\" Bizos\",\"  George\",\" Black Consciousness Movement (BCM)\",\" Black Parents Association\",\" Black People’s Convention\",\" Black Sash group\",\" Blayi\",\"  Banabakhe\",\" Bloemfontein conference\",\" Boesak\",\"  Allan\",\" Boipatong massacre\",\" Boksburg\",\" Bokwe\",\"  Roseberry\",\" Bopape\",\"  David\",\" Bophuthatswana\",\" Bosch\",\"  Prosecutor\",\" Boshielo\",\"  Flag\",\" Botha\",\"  Pik\",\" Botha\",\"  P. W.\",\" attack on ANC\",\" negotiations with ANC\",\" Botswana\",\" Bourguiba\",\"  Habib\",\" Brand\",\"  Warrant Officer\",\" Bregman\",\"  Nat\",\" Brezhnev\",\"  Leonid\",\" Britain\",\" Broederbond organization\",\" Brutus\",\"  Dennis\",\" Bunga (legislature)\",\" Bureau of State Security (BOSS)\",\" Bush\",\"  George\",\" Buthelezi\",\"  Mangosuthu\",\" Cachalia\",\"  Maulvi\",\" Cachalia\",\"  Yusuf\",\" arrest and trialCalata\",\"  James\",\" Campaign for the Defiance of Unjust\",\" Laws\",\" Cape Town\",\" Carlson\",\"  Joel\",\" Carneson\",\"  Fred\",\" Carolus\",\"  Cheryl\",\" Carrington\",\"  Lord\",\" Cetywayo\",\"  King\",\" Chamber of Mines\",\" Chaskalson\",\"  Arthur\",\" Chiba\",\"  Laloo\",\" Chissano\",\"  Joaquim\",\" Christianity\",\" Churchill\",\"  Winston\",\" CIA\",\" circumcision ceremony\",\" citizenship issue\",\" civil disobedience campaign\",\" Clarkebury Boarding Institute\",\" Clinton\",\"  Bill\",\" CODESA (Convention for a Democratic\",\" South Africa)\",\"  Seealso CODESACODESACoetsee\",\"  Kobie\",\" negotiations with ANC\",\" Color Bar Act\",\" Coloured People’s Congress\",\" ColouredsSee alsoSouth African Coloured People’sOrganizationcommunism/Communist Party (SACP)\",\" ANC and\",\" ban against\",\" mineworkers strike and\",\"  MKand\",\"  NM and Youth Leagueopposition to\",\" religion and\",\"  South Africanopposition to\",\" underground activities\",\"  whites in\",\" See also Suppression of Communism ActConco\",\"  Wilson\",\" Congress Alliance\",\" Congress of Democrats (COD)\",\" Congress of South African Trade Unions\",\" (COSATU)\",\" Congress of the People\",\" Conservative Party\",\" constitution. See Freedom CharterConvention for a Democratic South Africa.See CODESACook\",\"  A. J.\",\" Cooper\",\"  Saths\",\" Corbett\",\"  Michael\",\" Criminal Laws Amendment Act\",\" Crown Mines\",\" Dadoo\",\"  Yusuf\",\"  arrestand trial\",\" Daligqili\",\" Dalindyebo\",\"  Jongilizwe\",\" Dalindyebo\",\"  Jongintaba\",\" Dalindyebo\",\"  Justice\",\" Dalindyebo\",\"  Nomafu\",\" Dalindyebo\",\"  Nxeko\",\" Dalindyebo\",\"  Sabata\",\" Daliwonga. See Matanzima\",\"  K. D.Daniels\",\"  Eddie\",\" Dash\",\"  Samuel\",\" Davidoff\",\"  Hymie\",\" Davis\",\"  Don\",\" Day of Protest\",\" Day of the Volunteers\",\" Defiance Campaign\",\" arrest of members\",\" de Klerk\",\"  F. W.\",\" ANC negotiations\",\" apartheid and\",\" calls for all-whitereferendum\",\"  1994 electionand\",\"  NobelPeace Prize\",\"  violence in South Africaand\",\" democracy\",\" Department of Development Aid\",\" Derby-Lewis\",\"  Clive\",\" de Villiers\",\"  Dawie\",\" De Wet\",\"  Christiaan\",\" de Wet\",\"  Quartus\",\" Diallo\",\"  Abdoulaye\",\" Dinath\",\"  Moosa\",\" Dingake\",\"  Mike\",\" Dingane’s Day\",\" Dlamini\",\"  Father\",\" Doctors’ Pact\",\" Donaldson Orlando Community Center\",\" Dos Santos\",\"  José Eduardo\",\" Douglas-Home\",\"  Alex\",\" Dube\",\"  John\",\" Du Bois\",\"  W. E. B.\",\" Duncan\",\"  Patrick\",\" Dutch Reform Church\",\" education\",\"  African\",\" eGoli. See JohannesburgEgypt\",\" elections\",\" emergency\",\"  state of. See State ofEmergency/Emergency RegulationsEmigrant Thembuland\",\" Ethiopia\",\" Ethiopian Riot Battalion\",\" European Community\",\" Extension of University Education Act\",\" fascism\",\" Fazzie\",\"  Henry\",\" Ferris\",\"  Hennie\",\" Festile (boss at Crown Mines)\",\" First\",\"  Ruth\",\" First Transvaal and Orange Free StatePeoples Assembly for Votes for All\",\" Fischer\",\"  Bram\",\" Fischer\",\"  Molly\",\" FLN (Algerian resistance)\",\" Fort Beaufort\",\" Fort Hare (University College)\",\" Fourie\",\"  Warder\",\" Franks\",\"  Maurice\",\" Fraser\",\"  Malcolm\",\" Freedom Charter\",\" treason trialand\",\" Freedom Day strike\",\" Freedom Front\",\" Free Mandela campaign\",\" Gaetsewe\",\"  John\",\" Gaitskell\",\"  Hugh\",\" Gandhi\",\"  Mahatma\",\" Gandhi\",\"  Manilal\",\" gangs\",\"  criminal\",\" Garvey\",\"  Marcus\",\" General Law Amendment Act\",\" Gericke\",\"  Captain\",\" Germany\",\" Ghana\",\" Ghetto Act\",\" Goldberg\",\"  Dennis\",\" Goldreich\",\"  Arthur\",\" Goldreich\",\"  Hazel\",\" Goldreich\",\"  Nicholas\",\" Goniwe\",\"  Matthew\",\" Gordhan\",\"  Ketso\",\" Gqabi\",\"  Joe\",\" Gqozo\",\"  Oupo\",\" Gregory\",\"  James\",\" Grimond\",\"  Jo\",\" Group Areas Act\",\" group rights issue\",\" guerilla warfare\",\" Guinea\",\" Gumede\",\"  Archie\",\" Gumede\",\"  Josiah\",\" Gwala\",\"  Harry\",\" Gwentshe\",\"  Alcott\",\" Hahlo\",\"  Professor\",\" Haile Selassie\",\" Hani\",\"  Chris\",\" Hanson\",\"  Harold\",\" Harare Declaration\",\" Harmel\",\"  Michael\",\" Harmel\",\"  Ray\",\" Harris\",\"  C.\",\" Healdtown\",\" Healey\",\"  Dennis\",\" Helberg\",\"  Sergeant\",\" Helman and Michel law firm\",\" Hepple\",\"  Alex\",\" Hepple\",\"  Bob\",\" Hertzog\",\"  J. B.\",\" High Organ. See African National Congress;Robben Island activities history\",\"  African\",\" Hodgson\",\"  Jack\",\" Holomisa\",\"  Bantu\",\" homeland issues\",\" Huddleston\",\"  Trevor\",\" Hughes\",\"  Father\",\" Hynning\",\"  Mr. (American attorney)\",\" iMfecane\",\" Immorality Act\",\" Indian community\",\" partnership with Africans\",\" vote. See also South African IndianCongress; Traansvaal IndianCongress; Traansvaal Indian Youth CongressIndustrial and Commercial Workers Union (ICU)\",\" Inkatha Freedom Party\",\" Internal Security Act\",\" International Red Cross\",\" Jabavu\",\"  D. D. T.\",\" Jacobs\",\"  ColonelJassat\",\"  Abdulhay\",\" Jawaharlal Nehru Human Rights Award\",\" Jehovah’s Witnesses\",\" Jelliman\",\"  Mr.\",\" Jews\",\" Joffe\",\"  Joel\",\" Johannesburg: NM’s escape to andemployment in\",\"  NM’sunderground activities in\",\" protests in\",\" Johannesburg Fort prison\",\" Jones\",\"  Reverend\",\" Jongintaba\",\"  Chief\",\" Joseph\",\"  Helen\",\" Joyi\",\"  Zwelibhangile\",\" Kadalie\",\"  Clements\",\" Kantor\",\"  Jimmy\",\" Kapwepwe\",\"  Simon\",\" Kathrada\",\"  Ahmed (Kathy)\",\" MK and\",\"  in RobbenIsland prison\",\" inPollsmoor prison\",\"  negotiationswith government\",\" release from prison\",\" Kaunda\",\"  Kenneth\",\" Keitsing\",\"  Fish\",\" Kellerman\",\"  Major\",\" Kemp\",\"  General\",\" Kennedy\",\"  Justice\",\" Kentridge\",\"  Sydney\",\" Kerr\",\"  Alexander\",\" Kgoloko\",\"  Kolane\",\" Kgosana\",\"  Philip\",\" Khongisa\",\"  Nyathi\",\" King\",\"  Coretta Scott\",\" King\",\"  Martin Luther\",\"  Jr.\",\" Kissinger\",\"  Henry\",\" Kleynhans brothers\",\" Koch\",\"  Miss\",\" Kodesh\",\"  Wolfie\",\" Kotane\",\"  Moses\",\" Kruger\",\"  Jimmy\",\" Kruger\",\"  Sergeant\",\" Kunene\",\"  Andrew\",\" KwaZulu\",\" Lagos Conference of Independent States\",\" Land Act\",\" League of Nations\",\" Leballo\",\"  Potlako\",\" Lebentlele\",\"  Frank\",\" legal system\",\"  South African\",\" legislation\",\"  discriminatory\",\" protest against\",\" Leibbrandt\",\"  Robey\",\" Lekota\",\"  Patrick “Terror\",\" ”Lembede\",\"  Anton\",\" Letele\",\"  Arthur\",\" Letlaka\",\"  Tsepo\",\" Levson\",\"  Freda\",\" Levy\",\"  Leon\",\" Liberal Party\",\" Liberia\",\" Liliesleaf Farm\",\"  Rivonia\",\" little Rivonia Trial\",\" Lollan\",\"  Stanley\",\" Louw\",\"  Mike\",\" Ludorf\",\"  Justice\",\" Lutheran mission\",\" Luthuli\",\"  Albert\",\" antiremoval campaign\",\" and\",\"  as president of theANC\",\" Congress of the Peopleand\",\"  arrest and trial\",\" in NM’s treason trial\",\" armed violence policy and\",\" Nobel Peace Prize\",\" NM underground and\",\" Mabhida\",\"  Moses\",\" Mabutho\",\"  J.\",\" Mabutho\",\"  Mrs. Gogo\",\" Macmillan\",\"  Harold\",\" Madi\",\"  Levi\",\" Madikizela\",\"  Columbus\",\" Mahabane\",\"  Paul\",\" Mahabane\",\"  Zaccheus\",\" Maharaj\",\"  Mac\",\" Mahlasela\",\"  Ben\",\" Maisels\",\"  Israel\",\" Majombozi\",\"  Lionel\",\" majority rule issue\",\" Makanna\",\" Make\",\"  Vusumuzi\",\" Makgatho\",\"  Sefako Mapogo\",\" Makhanda\",\" Makue\",\"  Joshua\",\" Makwetu\",\"  Clarence\",\" Malan\",\"  Daniel\",\" Malan\",\"  Magnus\",\" Mandela\",\"  Baliwe\",\" Mandela\",\"  Daligqili\",\" Mandela\",\"Evelyn\",\" birth of children\",\" break-up of marriage to NM\",\" Mandela\",\"  Leabie\",\" Mandela\",\"  Mabel\",\" Mandela\",\"  Madiba Thembekile\",\" Mandela\",\"  Makaziwe (NM’s first daughter)\",\" Mandela\",\"  Makaziwe (NM’s seconddaughter)\",\" Mandela\",\"  Makgatho Lewanika\",\" Mandela\",\"  Makhutswana\",\" Mandela\",\"  Mlahlwa\",\" Mandela\",\"  Nelson Rolihlahla: family history\",\" childhood\",\"  and education\",\" early life in Johannesburg\",\" ; laweducation and practice\",\" ANCconnection and politics\",\" marriage to Evelyn\",\" Mase family life andbirth of children\",\" arrest and trial (1952)\",\" bans against\",\" visits home\",\" ; TreasonTrial (1956)\",\" meets andmarries Winnie Madikizela\",\" arrest and imprisonmentunder State of Emergency\",\" goes underground\",\" founds and heads MK\",\" international campaigns\",\" military training; arrestand imprisonment (1962)\",\" Rivonia Trial (1962)\",\" begins prison sentence at RobbenIsland\",\" ; writes memoirstransfer to Pollsmoor Prison\",\" armed resistance/violence policy\",\"  refusesconditional release\",\" ; negotiationswith government\",\" health\",\" ; transfer to VictorVerster prison\",\" meetings with Botha\",\" ; meetingswith de Klerk\",\" ;releasefrom prison\",\"  post-prisonactivities\",\" ; European and American tour\",\" ; separation fromWinnie\",\" ; Nobel Peace PrizeMandela\",\"  Notancu\",\" Mandela\",\"  Winnie (née Nomzamo\",\" Winifred Madikizela)\",\" ; meets andmarries NM\",\" ; politicsbirth of children\",\" visits to NM in prisons\",\" at NM’s trial\",\" ; banagainst\",\" arrest and imprisonment\",\" ;erosion of marriage to NM\",\" internal exile\",\" NM’srelease from prison and\",\" Mandela\",\"  Zenani\",\" Mandela\",\"  Zindziswa\",\" Mandela and Tambo law firm\",\" Mandela-Plan (M-Plan)\",\" Mangope\",\"  Lucas\",\" Manuel\",\"  Trevor\",\" Maoto\",\"  Kangaroo\",\" Mao Tse-tung\",\" Maqubela\",\"  Patrick\",\" Marais\",\"  Major\",\" Marcus\",\"  Nathan\",\" Maree\",\"  Willie\",\" Margai\",\"  Milto\",\" Marks\",\"  J. B.\",\" arrest and trial\",\" \",\" Marupeng\",\"  Seperepere\",\" Marx\",\"  Gawie\",\" Marxism\",\" Mase\",\"  Sam\",\" Maseko\",\"  MacDonald\",\" Maseko\",\"  Phyllis\",\" Masemola\",\"  Jeff\",\" Mashaba\",\"  Bertha\",\" Mashifane\",\"  Thomas\",\" Masire\",\"  Quett\",\" MaSisulu (mother of Walter Sisulu)\",\" Masondo\",\"  Andrew\",\" mass action/protests\",\" Mass Democratic Movement (MDM)\",\" Matanzima\",\"  George\",\" Matanzima\",\"  K. (Kalzer) D. (Daliwonga)\",\" Matlou\",\"  Jonas\",\" Matomela\",\"  Florence\",\" Matthews\",\"  Joe\",\" Matthews\",\"  Z. K.\",\" Matyolo family\",\" Mbekela\",\"  Ben\",\" Mbekela\",\"  George\",\" Mbekeni\",\"  Constance\",\" \",\" Mbekeni\",\"  Garlick\",\" \",\" Mbeki\",\"  Govan\",\" Mbeki\",\"  Thabo\",\" Mbobo\",\"  Victor\",\" Mda\",\"  A. P. (Peter)\",\" Mda\",\"  Rose\",\" Mdingi\",\"  Chief\",\" Meadowlands\",\" Meer\",\"  Fatima\",\" Meer\",\"  Ismail\",\" Meligqili\",\"  Chief\",\" Menye\",\"  Nqabeni\",\" Methodist Church of South Africa\",\" Methodist faith/Church\",\" Mfengu people\",\" Mgudlwa\",\"  Msunguli\",\" Mgxaji\",\"  Nkosana\",\" Mhlaba\",\"  Raymond\",\" negotiations with government and\",\" release from prison\",\" Michel\",\"  Rodney\",\" Mini\",\"  Vuyisile\",\" Minnaar\",\"  Colonel\",\" Mitterrand\",\"  François\",\" Mji\",\"  Diliza\",\" Mkentane\",\"  Lincoln\",\" MK (Umkhonto we Sizwe–the Spear of the Nation)\",\" ; ANCand\",\" armed resistance/violence policy\",\"  arrestand imprisonment of members\",\" founding\",\" ;international support for\",\" legislation against\",\" Mkwayi\",\"  Wilton\",\" Mlangeni\",\"  Andrew\",\" Mlonyeni\",\"  Max\",\" Modise\",\"  Joe\",\" Mofokeng\",\"  Mackeed\",\" Mofutsanyana\",\"  Edwin\",\" Moilwa\",\"  Abram\",\" Mokitimi\",\"  S. S.\",\" Mokone\",\"  Elijah\",\" Molaoa\",\"  Patrick\",\" Molefe\",\"  Popo\",\" Molefi\",\"  Joe\",\" Molete\",\"  Aaron\",\" Molete\",\"  Z. B.\",\" Molete\",\"  Zachariah\",\" Molife\",\"  Petrus\",\" Mollson\",\"  Jeremiah\",\" Moloi\",\"  Jerry\",\" Molotsi\",\"  Johannes (Skipper\",\"  Adonis)\",\" Molotsi\",\"  Peter\",\" Mompati\",\"  Ruth\",\" Moodley\",\"  Strini\",\" Moola\",\"  Mosie\",\" Moosa\",\"  Valli\",\" Morocco\",\" Moroka\",\"  J. S.\",\" Moshweshwe\",\"  Mantsebo\",\" Motala\",\"  Dr. Chota\",\" Mothopeng\",\"  Zephania\",\" Motlana\",\"  Nthato\",\" Motsete\",\"  K. T.\",\" Motsoaledi\",\"  Caroline\",\" Motsoaledi\",\"  Elias\",\" Mozambique\",\" Mpetha\",\"  Oscar\",\" Mphakanyiswa\",\"  Gadla\",\" Mpondombini\",\"  Chief\",\" Mpondo people\",\" Mqhayi\",\"  Krune\",\" Mqhayi\",\"  Samuel\",\" Mqhekezweni\",\"  Thembuland\",\" Mthimkhulu\",\"  Ida\",\" Mtolo\",\"  Bruno\",\" Mubarak\",\"  Hosni\",\" Mugabe\",\"  Robert\",\" Muller\",\"  Hans\",\" Mulroney\",\"  Brian\",\" Munro\",\"  Brigadier\",\" Murray\",\"  Andrew\",\" Museveni\",\"  Yoweri\",\" Mustafa\",\"  Dr.\",\" Mvezo\",\" Mxenge\",\"  Griffiths\",\" Naicker\",\"  G. M. (Monty)\",\" Naidoo\",\"  G. R.\",\" Naidoo\",\"  M. D.\",\" Nair\",\"  Billy\",\" Namibia\",\" Nasser\",\"  Gamal Abdel\",\" Natal\",\" Natal Indian Congress (NIC)\",\" National Action Committee\",\" National Action Council\",\" nationalism: African\",\" Afrikaner\",\" National Minded Bloc\",\" National Party\",\" apartheid policy education\",\" policy\",\"  in electionsnegotiations with ANC\",\" PAC and\",\"  Treason Trial and\",\" National Peace Accord\",\" National Security Management System\",\" National Volunteer Board\",\" Native Administration Act\",\" Native Affairs Department\",\" Native Representative Council\",\" Naude\",\"  Beyers\",\" Ndzamela\",\"  Locke\",\" Nel\",\"  De Wet\",\" New Age\",\" news media\",\" Ngangelizwe\",\"  King\",\" Ngendane\",\"  Selby\",\" Ngidi\",\"  Freddie\",\" Ngotyana\",\"  Greenwood\",\" Ngoyi\",\"  Lilian\",\" Ngubane\",\"  Jordan\",\" Ngubase\",\"  Solomon\",\" Ngubengcuka\",\"  King\",\" Nguni people\",\" Ngwevela\",\"  Johnson\",\" Nhlapo\",\"  Enoch\",\" Nicholas\",\"  G.\",\" Nigeria\",\" Ninety-Day Detention Law\",\" Njongwe\",\"  James\",\" Nkabinde\",\"  Ellen\",\" Nkampeni\",\"  J.\",\" Nkobi\",\"  Thomas Titus\",\" Nkomo\",\"  Joshua\",\" Nkomo\",\"  William\",\" Nkrumah\",\"  Kwame\",\" No-England (NM’s foster mother)\",\" Nokwe\",\"  Duma\",\" Treason Trial and\",\" Non-European Unity Movement\",\" nonviolence. See African National Congress:nonviolence policy;pacifism; passive resistanceNosekeni\",\"  Fanny\",\" Nthite\",\"  Peter\",\" Ntlabathi\",\"  Gertrude\",\" Ntsele\",\"  Eric\",\" Nxu\",\"  Sidney\",\" Nyerere\",\"  Julius\",\" Nzo\",\"  Alfred\",\" Obasanjo\",\"  Olusegun\",\" O’Dowd\",\"  Tony\",\" Omar\",\"  Dullah\",\" Operation Mayibuye\",\" Operation Vula\",\" Orange Free State\",\" Organization of African Unity\",\" Orlando section of Soweto\",\" pacifism\",\" Pahad\",\"  Amina\",\" Pan African Freedom Movement for East\",\" Central\",\"  and Southern Africa(PAFMECSA)\",\" Pan Africanist Congress (PAC)\",\" ANC and\",\" ;anti-Communist policy\",\" ;bans against\",\" ; foundingand influence\",\" ;imprisonment of members\",\" ;Robben Island activities\",\" Panza\",\"  Justice\",\" passive resistance\",\" pass system\",\" Patel\",\"  Cassim\",\" Patel\",\"  Zubeida\",\" Pather\",\"  Masla\",\" Paton\",\"  Alan\",\" Patriotic Front\",\" Peake\",\"  George\",\" People’s Forums\",\" People’s Republic of China\",\" Peteni\",\"  Randall\",\" Pieterson\",\"  Hector\",\" Piliso (manager at Crown Mines)\",\" Pillay\",\"  Mrs. Thayanagee\",\" Pirow\",\"  Oswald\",\" Pitje\",\"  Godfrey\",\" Pogrund\",\"  Benjamin\",\" Pokela\",\"  John\",\" police brutality\",\" Pollak\",\"  Walter\",\" Pollsmoor Prison\",\" Pondoland/Pondo people\",\" Population Registration Act\",\" Port Elizabeth\",\" Pretoria\",\" economic sanctions against\",\" NM’s imprisonment in\",\" Rivona Trial\",\" Pretoria Minute\",\" Pretorius\",\"  Lieutenant\",\" Prins\",\"  Lieutenant\",\" Prinsloo\",\"  Colonel\",\" Program of Action\",\" Progresive Federal Party\",\" Prohibition of Mixed Marriages Act\",\" Promotion of Bantu Self GovernmentAct\",\" property rights\",\" Public Safety Act\",\" quasi-independent homelands\",\" Qunu (village)\",\" Raboroko\",\"  Peter\",\" racist policies\",\" Radebe\",\"  Gaur\",\" radio broadcasts. See news media;South African Broadcasting CorporationRamaila (spy)\",\" Ramaphosa\",\"  Cyril\",\" Ramohanoe\",\"  C. S.\",\" Ratepayers Association\",\" Reconstruction and Development Program\",\" Record of Understanding\",\" Reeves\",\"  Ambrose\",\" religion\",\" removal schemes\",\" . Seealso Sophiatown removalRepresentation of Natives Act\",\" Reservation of Separate Amenities Act\",\" Resha\",\"  Robert\",\" Rhodes\",\"  Cecil\",\" Rhodesia\",\" riots\",\" Rivonia Trial\",\" Robben Island prison\",\" ANC activity in\",\" classification of prisoners\",\" communication among prisoners\",\" criminal gangs\",\" daily routine\",\" hunger strikes\",\" isolation of prisoners\",\" mail and visitor regulations\",\" manual labor ends\",\" news broadcasts\",\" NM’s first term\",\" NM’s second term begins\",\" study privileges\",\" Rolihlahla (NM’s tribal name)\",\" Roman Catholicism\",\" Roosevelt\",\"  Franklin Delano\",\" Rosenberg\",\"  Norman\",\" Rumpff\",\"  F. L.\",\" Sabata. See Dalindyebo\",\"  Sabatasabotage\",\"  charge of\",\" Sabotage Act\",\" Sakwe\",\"  C. K.\",\" sanctions\",\"  international\",\" Sandile\",\"  King\",\" Scheffler\",\"  Andre\",\" school boycott\",\" Scott\",\"  Michael\",\" Sekgapane\",\"  Norman\",\" Sekhukhune\",\"  Godfrey\",\" Sekhukhune\",\"  Moroamotsho\",\" Sekhukhuneland\",\" Seme\",\"  Pixley ka\",\" Senegal\",\" Senghor\",\"  Leopold\",\" Senn\",\"  Mr. (representative of the Red \",\" Cross)separate development policy\",\" Separate Representation of Voters Bill/Act\",\" September\",\"  Reggie\",\" Seventh-Day Adventism\",\" Sexwale\",\"  Tokyo\",\" Shaka\",\" Sharpeville massacre\",\" Shultz\",\"  George\",\" Sibande\",\"  Gert\",\" Sidelsky\",\"  Lazar\",\" Singh\",\"  Debi\",\" Singh\",\"  J. N.\",\" Sisulu\",\"  Albertina\",\" Sisulu\",\"  Max\",\" Sisulu\",\"  Walter\",\" NM and\",\" politics\",\" ANC and\",\" arrest and trial\",\" ban against\",\" Congress of the People and\",\" MK and\",\" imprisonment\",\" trial\",\" negotiations with government\",\" release from prison\",\" Sita\",\"  Nana\",\" Siwundla\",\"  Smallie\",\" Slovo\",\"  Joe\",\" MK and\",\" NM and\",\" Smith\",\"  Ian\",\" Smith\",\"  William\",\" Smuts\",\"  Jan\",\" Sobhuza\",\"  King\",\" Sobukwe\",\"  Robert\",\" imprisonment\",\" Sophiatown removal\",\" Sotho people\",\" South African Broadcasting Corporation \",\" (SABC)South African Coloured People’s Organization (SACPO)\",\" South African Congress of Trade Unions (SACTU)\",\" South African Defense Force\",\" South African Indian Congress (SAIC)\",\" ANC andvoting rights\",\" South African Students’ Organization\",\" South African Women’s Federation\",\" South-West African People’s Organization (SWAPO)\",\" Soviet Union\",\" Soweto (South-Western Townships)\",\" student uprising\",\" Sparks\",\"  Allister\",\" Spengler\",\"  Colonel\",\" spying\",\"  espionage\",\" State Department\",\"  U.S.\",\" State of Emergency/Emergency regulation\",\" effect on Treason Trial\",\" lifted\",\" Stevenson\",\"  Adlai\",\" Steyn\",\"  Colonel/General\",\" Strauss\",\"  J. G. N.\",\" strikes\",\" election (1958)\",\" Freedom Day\",\" go-slow\",\"  on Robben Island\",\" hunger\",\"  on Robben Island\",\" mineworkers\",\" post-Treason Trial\",\" stay-away\",\" Students Christian Association\",\" Suppression of Communism Act\",\" NM and\",\" Suzman\",\"  Helen\",\" Swanepoel\",\"  Lieutenant\",\" Swart\",\"  Warrant Officer\",\" Swaziland\",\" Tadesse\",\"  Colonel\",\" Tambo\",\"  Adelaide\",\" Tambo\",\"  Oliver\",\" ANC activities\",\" friendship/partnership with NM\",\" antiremoval campaign and\",\" Congress of the People and\",\" arrest and trial\",\" in 1958 election strike\",\" international activities for the ANC\",\" MK and\",\" negotiations with government\",\" return to South Africa\",\" death\",\" Tanganyika\",\" Tantsi\",\"  N. B.\",\" Tanzania\",\" Tatane\",\"  Rex\",\" Tefu\",\"  Stephen\",\" Teka\",\"  Walter\",\" Terblanche\",\"  Lieutenant\",\" Terblanche & Briggish law firm\",\" terrorism\",\" Terrorism Act\",\" Thatcher\",\"  Margaret\",\" Thema\",\"  Selope\",\" Thembuland/Thembu people\",\" Theron\",\"  Captain\",\" Theron\",\"  M. E.\",\" Thumbumuzi\",\"  Prince\",\" Thumbumuzi\",\"  Zaziwe (NM’s grand\",\" daughter)Tighy\",\"  Sarel\",\" Tloome\",\"  Dan\",\" Toivo ja Toivo\",\"  Andimba\",\" Tomlinson Commission for the SocioEconomic Development of the BantuAreas\",\" Transkei\",\" Transvaal Executive Committee\",\" Transvaal Indian Congress (TIC)\",\" Transvaal Indian Youth Congress\",\" Transvaal Law Society\",\" travel documents\",\" . See also pass systemTreason Trial\",\" Treason Trial Defense Fund\",\" Trengove\",\"  Advocate\",\" tribal solidarity\",\" Truter\",\"  Warrant Officer\",\" Tshabalala\",\"  Simon\",\" Tshwete\",\"  Steve\",\" Tubman\",\"  William\",\" Tuli\",\"  Jake\",\" Tutu\",\"  Desmond\",\" Tyamzashe\",\"  Victor\",\" Tyesi\",\"  Barrett\",\" Tyhalarha\",\" Umkhonto we Sizwe. See MKunions\",\" . See also Congress of SouthAfrican Trade Unions; strikesUnited Democratic Front (UDF)\",\" United Jewish Reformed Congregation\",\" United National Independence Party(UNIP)\",\" United Nations\",\" . See also sanctions\",\" internationalUnited Party\",\" United States\",\" Unity Movement\",\" University of South Africa (UNISA)\",\" University of the Witwatersrand\",\" Urban Areas Act\",\" Vabaza\",\"  Gamaliel\",\" Van Aarde\",\"  Colonel\",\" van der Merwe\",\"  Fanie\",\" Van Heerden\",\"  Magistrate\",\" Van Niekerk\",\"  Prosecutor\",\" Van Rensburg\",\"  Warder\",\" Van Riebeeck\",\"  Jan\",\" Van Sittert\",\"  Fritz\",\" Versailles peace conference (1918)\",\" Verwoerd\",\"  Hendrik F.\",\" ; 1961strike and\",\" ; assassination\",\" Victor Verster prison\",\" Viljoen\",\"  Constand\",\" Viljoen\",\"  Gerrit\",\" Vlok\",\"  Adriaan\",\" Vorster\",\"  B. J.\",\" Vorster\",\"  John\",\" Vorster\",\"  Sargeant\",\" Votes for All\",\" voting rights\",\" Washington\",\"  Booker T.\",\" Wellbeloved\",\"  Mr.\",\" Wellington\",\"  Arthur\",\" Welsh\",\"  Rex\",\" Wesleyan Church\",\" Wessel\",\"  F. C.\",\" Wessels\",\"  Colonel\",\" Western Areas townships\",\" Western Native Township\",\" whites\",\" Willemse\",\"  W. H.\",\" Williams\",\"  Cecil\",\" Witkin\",\"  Sidelsky and Eidelman law firm\",\" Witwatersrand Native Labor Assocation (WNLA)\",\" Wolpe\",\"  Harold\",\" Women’s League\",\" World Festival of Youth and Students forPeace and Friendship\",\" Xhoma\",\"  Didid\",\" Xhoma family\",\" Xhosa people\",\" Xuma\",\"  A. B.\",\" Yefu\",\"  Mr. (foreign minister of Ethiopia)\",\" Yengwa\",\"  Masabalala\",\" Youth League\",\" Programof Action\",\" Yutar\",\"  Percy\",\" Zambia\",\" Zeerust\",\" Zilindlovu\",\"  Chief\",\" Zimbabwe\",\" Zimbabwe African People’s Union(ZAPU)\",\" Zululand/Zulu people\",\" Zwelithini\",\"  Goodwill\"]"
   ]
  },
  {
   "cell_type": "code",
   "execution_count": 63,
   "id": "d1bd85a7",
   "metadata": {},
   "outputs": [],
   "source": [
    "nelson_index = [ele.strip().title() for ele in nelson_index]"
   ]
  },
  {
   "cell_type": "code",
   "execution_count": 64,
   "id": "5110ddc0",
   "metadata": {},
   "outputs": [
    {
     "data": {
      "text/plain": [
       "1453"
      ]
     },
     "execution_count": 64,
     "metadata": {},
     "output_type": "execute_result"
    }
   ],
   "source": [
    "len(nelson_index)"
   ]
  },
  {
   "cell_type": "code",
   "execution_count": 11,
   "id": "e33b82a1",
   "metadata": {},
   "outputs": [
    {
     "name": "stdout",
     "output_type": "stream",
     "text": [
      "{'Transkei', 'Makgatho', 'Law Firm', 'Evelyn', 'Fort Beaufort', 'Afrikaner', 'Zimbabwe', 'Port Elizabeth', 'Antiremoval Campaign', 'Addis Ababa', 'Warder', 'International Red Cross', 'Willemse', 'Zambia', 'Liliesleaf Farm', 'Afrikaner Volksfront', 'Ghana', 'Ethiopia', 'Orange Free State', 'Aucamp', 'Cape Town', 'Elections', 'Mandela', 'Circumcision Ceremony', 'Kruger', 'African', 'Clarkebury Boarding Institute', 'Trial', 'Pretoria', 'Apartheid', 'Oliver', 'Wolfie', 'Operation Vula', 'Rivonia Trial', 'General', 'Prosecutor', 'Sanctions', 'Riots', 'Mqhekezweni', 'Committee', 'Justice', 'South African Defense Force', 'Alexandra Township', 'Crown Mines', 'National Party', 'Bantu Self Government Act', 'South African', 'Namibia', 'Freedom Charter', 'Imprisonment', 'De Klerk', 'Father', 'Hunger Strikes', 'Mineworkers'}\n",
      "precision 0.12356979405034325   and recall 0.04292527821939587\n",
      "{'Transkei', 'Botha', 'Ludorf', 'Don', 'Sobukwe', 'Van Der Merwe', 'Ninety-Day Detention Law', 'Luthuli', 'Evelyn', 'Fort Beaufort', 'Helen', 'Port Elizabeth', 'Wellington', 'Harris', 'Group Areas Act', 'Healdtown', 'Hynning', 'Jimmy', 'Warder', 'International Red Cross', 'Youth League', 'Willemse', 'Chris', 'Orange Free State', 'Cape Town', 'Rumpff', 'Mandela', 'Education', 'Murray', 'Kruger', 'African', 'Mac', 'Matanzima', 'Bantu', 'Pretoria', 'Swart', 'Oliver', 'Death', 'Berrangé', 'Rivonia Trial', 'Rivonia', 'General', 'Sanctions', 'Van Riebeeck', 'Yutar', 'Emergency', 'Justice', 'Defiance Campaign', 'Walter', 'Sabata', 'Crown Mines', 'National Party', 'South African', 'Reverend', 'Tefu', 'Black Parents Association', 'Van Rensburg', 'Freedom Charter', 'Father', 'Inkatha Freedom Party', 'Bram'}\n",
      "precision 0.13406593406593406   and recall 0.04848966613672496\n",
      "{'Study Privileges', 'Childhood', 'Warrant Officer', 'Hunger', 'Executive Committee', 'Education', 'School Boycott', 'Passive Resistance', 'Membership', 'Trial', 'Father', 'Democracy'}\n",
      "precision 0.025806451612903226   and recall 0.009538950715421303\n"
     ]
    },
    {
     "data": {
      "text/plain": [
       "(0.009538950715421303, 0.025806451612903226)"
      ]
     },
     "execution_count": 11,
     "metadata": {},
     "output_type": "execute_result"
    }
   ],
   "source": [
    "import json\n",
    "mp_nelson_bert,mp_nelson_yake,mp_nelson_rakun = {},{},{}\n",
    "with open(\"mp_nelson_bert.json\", \"r\") as outfile:\n",
    "    mp_nelson_bert = json.load(outfile)\n",
    "\n",
    "with open(\"mp_nelson_yake.json\", \"r\") as outfile:\n",
    "    mp_nelson_yake = json.load(outfile)\n",
    "\n",
    "with open(\"mp_nelson_rakun.json\", \"r\") as outfile:\n",
    "    mp_nelson_rakun = json.load(outfile)\n",
    "    \n",
    "bert_kws = fetch_kws(mp_nelson_bert)\n",
    "eval_keywords(nelson_index,bert_kws)\n",
    "\n",
    "yake_kws = fetch_kws(mp_nelson_yake)\n",
    "eval_keywords(nelson_index,yake_kws)\n",
    "\n",
    "rakun_kws = fetch_kws(mp_nelson_rakun)\n",
    "eval_keywords(nelson_index,rakun_kws)"
   ]
  },
  {
   "cell_type": "code",
   "execution_count": 14,
   "id": "35c10041",
   "metadata": {},
   "outputs": [],
   "source": [
    "final_nelson_keywords = ['secret working group', 'junior officers', 'negotiations', 'vote', 'Hare', 'expressly forbidden', 'conference', 'BIRTHDAY CELEBRATIONS', 'grave', 'state', 'areas', 'proclamation', 'africanism', 'bucolic northern suburb', 'prosecution concluded', 'corridor', 'day', 'afrikaner', 'African boxers', 'clarkebury', 'difficult', 'great', 'prevent rupture', 'aftermath', 'night warder', 'Edward VII Hospital', 'governmentsponsored institutions', 'planning to send', 'interrupted by interjections', 'argumentative overbearing', 'Willemse', 'meeting with Bram', 'Free State', 'clothing characteristic', 'chief mangosuthu buthelezi', 'childhood', 'matter', 'zithulele', 'curtain wire', 'longing', 'station commander', 'WINNIE VISITED', 'anticommunism', 'bit of evidence', 'chief magistrate', 'Inkatha Freedom Party', 'south african congress', 'authorities considered', 'crimes', 'desserts and pillows', 'separation', 'south africa', 'located in Braamfontein', 'arrived', 'metal buckets', 'mining houses', 'journalist', 'announcement', 'udf activists', 'family matters', 'Piliso', 'politicians routinely', 'Fort Beaufort', 'testimony', 'ghana', 'zimbabwe', 'mills of God', 'rolihlahla', 'violence continued', 'anc', 'afrikaners', 'longtime antiapartheid', 'struggle', 'supported the guidelines', 'annual conference', 'hospital', 'Treason Trial', 'Colonel Willemse', 'pressure undoubtedly', 'concrete walls', 'stick fighter', 'ignorant and lazy', 'authoritative manner', 'wives and children', 'organization', 'white South Africa', 'father', 'winnie', 'GRAPH of improvement', 'end of August', 'lusaka', 'passive resistance', 'eventually disintegrated', 'Crown Mines', 'village wore', 'hare', 'constructed bookcase', 'colonel willemse', 'oliver tambo', 'entire organization', 'revolution', 'wing protests', 'newspapers', 'cultural organization', 'karl von clausewitz', 'opponent hit', 'natal province', 'separation of powers', 'champion stick', 'form of thousands', 'black man', 'twentieth century', 'Matanzima', 'press conference', 'grounds of suspicion', 'mandela family affairs', 'criminals masquerading', 'organization informed', 'anc defendants', 'Transitional Executive Council', 'labor requirement', 'overwhelming victory', 'constitutional framework', 'strain to hear', 'secretly in September', 'genealogy', 'conference in Bloemfontein', 'rocky outcrop overlooking', 'village', 'port elizabeth', 'Coetsee', 'bantu holomisa', 'anc leaders', 'washing', 'untrained and undisciplined', 'mothers and fathers', 'zulu monarchy', 'PRISON', 'law exams', 'Winnie', 'unacceptable insubordination', 'hospital recuperating', 'Thembu', 'prime minister', 'security police', 'Lieutenant Colonel Gawie', 'coral', 'Walter and Oliver', 'JUNE', 'successful liberation', 'Red Cross', 'Badenhorst', 'Emergency', 'father response', 'Nassau in October', 'Jimmy Kruger', 'national party', 'reconciliation implying', 'boy', 'revolutionary governments', 'qualification exam', 'transvaal indian congress', 'trial', 'Durban', 'monday hearing', 'justice', 'alexandra', 'Jan Van', 'attend Fort Hare', 'noncooperation', 'fugitive', 'reconciliation enunciated', 'free state', 'guerrilla force', 'provisionally register', 'liliesleaf farm', 'study', 'Sobukwe', 'Healdtown', 'Colonel Piet Badenhorst', 'behavior unacceptable', 'window ledge', 'visit', 'international mediation', 'squatter camp', 'chief luthuli', 'hunger strike', 'subject', 'international red cross', 'prisons policy', 'Coloureds received', 'National High Command', 'punch and gifts', 'smallholding', 'island administrative', 'prosecutor', 'South Africans', 'South-West African', 'danced and called', 'Court', 'world war ii', 'Helen', 'agricultural demonstrator', 'extremely talented', 'responsibility', 'dozens of representatives', 'ballies', 'study privileges', 'philosophy africanism', 'memorandum', 'Tefu', 'strained to reach', 'State of Emergency', 'government introduced', 'cottage', 'sang and danced', 'increasing repressiveness', 'armed struggle', 'man', 'death', 'prisons department', 'boxers', 'white supremacy', 'aucamp', 'armed guards', 'white prisoners', 'africanists', 'questions', 'South African Coloured', 'time show', 'impossible to alert', 'unfailingly courteous', 'suit', 'overthrow', 'politically motivated', 'Mrs. Thatcher', 'frontier wars', 'farmhouse', 'government staged', 'looked', 'stoop to walk', 'Table Mountain looming', 'addis ababa', 'family on Market', 'requested meeting', 'opportunity to reply', 'wanted to speak', 'PLANNING the direction', 'waiting', 'cross examined', 'politically cognizant', 'Committee met secretly', 'fought injustice', 'serving sentence', 'patient determination', 'justice rumpff', 'national liberation', 'needles and thread', 'indispensable pillar', 'klerk', 'international community', 'Hell ’s Angels', 'considerable jockeying', 'Group prisoner', 'extraordinary circumstances', 'contemptible activities', 'Island', 'chiefs collaborating', 'lieutenant colonel gawie marx', 'release unconditionally', 'philosophy', 'Wolfie Kodesh', 'straitened circumstances', 'increasingly politicized', 'hiding', 'prisoners received', 'conditions', 'crowd of hundreds', 'anc people', 'issy maisels', 'snorting and eating', 'privileges', 'Walter', 'reporters', 'election date', 'photo album', 'Defiance Campaign', 'poqo', 'continue to lead', 'townships', 'Freedom Party', 'operation vula', 'wooden floor', 'hunger strikes', 'orange free state', 'aggressive and discourteous', 'organization secretary', 'fascistic and racist', 'gold mine', 'bantu self government act', 'free mandela committee', 'early January', 'living historian', 'johannesburg prison', 'death penalty', 'anc labor activists', 'majority rule', 'transvaal conference', 'sixtieth birthday', 'God grind', 'regional legislatures', 'primitive and insecure', 'refused to listen', 'Chief Mangosuthu Buthelezi', 'accompanying impediment', 'white', 'Left Hand House', 'white South Africans', 'broadcasts', 'johannesburg', 'preached', 'foreign ideologies', 'refuse to return', 'recriminations embrace', 'conditions deteriorate', 'Yutar', 'Issy Maisels called', 'anglophile', 'blacks', 'result of lack', 'newspapers subsequently', 'abyssinia', 'general obasanjo', 'young men', 'imperialism', 'white voters', 'newborn baby', 'treason', 'Berrangé', 'Brother September', 'police holidays', 'regarded', 'suffocating atmosphere', 'proportional representation', 'tailor', 'Parents Association', 'real estate', 'law', 'political awakening', 'feudalism to capitalism', 'Prison', 'parliamentary representation', 'CONTACT with Kobie', 'sentencing', 'committee', 'century frontier fort', 'Executive Council began', 'time', 'watchtower', 'cabinet minister', 'pollsmoor', 'grand apartheid', 'Warrant Officer Swart', 'Reverend Harris', 'circumcision', 'newlands police station', 'white Communist Party', 'departure', 'son', 'ANC was due', 'law firm', 'defense case', 'Chief Joyi', 'sabata dalindyebo', 'south african', 'police station', 'consulting', 'Transkei', 'mineworkers', 'Black Consciousness', 'cape town prison', 'lime', 'long and slimy', 'short distance north', 'death sentence', 'armed Inkatha members', 'Nthato Motlana', 'daughter', 'ANC annual conference', 'illegal organizations', 'authorities respected', 'Inkatha', 'circulated and posted', 'fort hare', 'passed the Promotion', 'state security council', 'colonel badenhorst', 'fanfare', 'Joe Slovo', 'councilors of high', 'Orlando', 'disputes', 'zulu chief', 'Port Elizabeth', 'tourist', 'meeting', 'King Edward VII', 'prison system', 'visitor', 'red cross representative', 'hearings in January', 'understand', 'Kathy', 'Groutville to confer', 'lime quarry', 'inflexible disciplines', 'irreconcilable differences', 'government africanist', 'search warrant', 'fired a gun', 'racial oppression', 'socialism', 'prison conditions', 'Oliver', 'POLLSMOOR', 'labors', 'exuberant grandmother', 'government', 'democratic South Africa', 'September to discuss', 'began in February', 'secretary', 'conference in Johannesburg', 'High Organ', 'birthday honoree', 'CELEBRATIONS were bare-bones', 'tremendously encouraged', 'main house', 'cape times', 'badenhorst', 'oppressed', 'doctrine of separation', 'mandela', 'cells', 'sophisticated microphones', 'administrative court', 'liberation struggle', 'unconditionally released', 'principle', 'counselor', 'prisoner', 'civil disobedience', 'mollusks', 'sophiatown', 'Nomzamo Winnie Mandela', 'nonviolence', 'unconventional guerrilla', 'south african women', 'toilet paper', 'Ludorf', 'FRIDAY', 'durban command', 'durban', 'town', 'professional solidarity', 'National Party', 'bantu authorities structures', 'prison clothes', 'university degree', 'emerge stronger', 'mandela family chieftainship', 'multiparty forum', 'incarceration', 'young', 'interim constitution', 'general willemse', 'Chief Buthelezi', 'fellow students', 'short trousers', 'demanded', 'enlarged prostate gland', 'independence in Namibia', 'independent electoral commission', 'Sabata', 'return to Natal', 'ballroom dancing', 'Harris', 'hunger', 'professors', 'national unity', 'children and mothers', 'guerrilla warfare', 'constituent assembly', 'African judicial system', 'countryside', 'children', 'Trade Centre', 'demolition and mortar-firing', 'quarry', 'KLERK', 'victor verster house', 'slumping in despair', 'constitutional guarantees', 'indefinite boycott', 'african mine workers union', 'victor verster', 'law firms', 'separate development', 'dentist office', 'foreign politicians', 'received communication', 'ethiopians', 'Synagogue opened', 'MAJOR EVENT', 'negotiations process', 'meetings', 'independent homelands', 'conscience', 'normal circumstances', 'Education', 'first formal meeting', 'industrialization democratized', 'coincidence occurred', 'Zindzi', 'Luthuli', 'government humiliating', 'apartheid regime', 'distinguished internationally', 'pretoria', 'months breakfast', 'sisters', 'Braamfontein in northcentral', 'bantu authorities', 'tenants', 'Grand Parade', 'lumbering uncomfortable', 'agree', 'kruger', 'river', 'university chancellor', 'logistical difficulties', 'prosecutors thousands', 'anc history', 'Rivonia Trial', 'birthday celebrations', 'begun to unravel', 'head constable rousseau', 'pieces of ticker', 'weight lifting', 'rock quarry', 'dozens of heavily', 'security', 'negotiations renouncing', 'defense team', 'family', 'President', 'streamlined to adapt', 'dreams', 'Justice', 'International Red', 'national executive committee', 'consultation', 'property', 'vast majority', 'white man', 'political struggle', 'counterrevolutionary activities', 'dream life', 'traditional warriors', 'uncharacteristically silent', 'jehovah', 'persistent enthusiastic', 'mother', 'Swart', 'antiremoval campaign', 'huts', 'General', 'prison staff', 'transkei government', 'treason trial record', 'militancy', 'lung disease', 'judges ludorf', 'Reverend', 'evening post', 'ethiopia', 'warders', 'warfare', 'education', 'windowsill and slept', 'antipass campaign', 'boer war', 'anc demonstrators', 'disorganized overzealousness', 'Comrade Nomzamo Winnie', 'attempt to influence', 'national constitutional', 'opportunity', 'general', 'Xhosa', 'African National Congress', 'slimy and brownishgreen', 'dormitory', 'nostalgic state', 'xhosa tradition', 'year evelyn', 'rivonia trial', 'street steward', 'fruits and edible', 'transvaal', 'Chris Hani', 'precincts of Pollsmoor', 'holding conferences', 'expert witnesses', 'violent revolution', 'painted and fumigated', 'maneuvering imaginable', 'Sunday', 'apartheid targets', 'physician', 'bantu self', 'working group', 'scheduled', 'prison grounds', 'prison board', 'rebelliousness stubborn', 'seaweed', 'freedom charter', 'National Executive Committee', 'permitted', 'security forces', 'royal house', 'Klerk', 'freedom fighter', 'chief albert luthuli', 'Jan Van Riebeeck', 'treason trial', 'colleagues', 'guerrilla war', 'circumcision master', 'Ohlange High School', 'Rivonia', 'attorney', 'territorial divisions', 'warder agreed', 'relationships', 'toilets', 'collect seaweed', 'wolfie', 'campaign', 'rousseau matter', 'foot six inch', 'societies to feudalism', 'Black Parents', 'swapo', 'evening', 'Judge Rumpff', 'govan mbeki', 'fort beaufort', 'resisted reincorporation', 'scholarships and money', 'mass action', 'police', 'minutes', 'Ethiopia to train', 'economic pressure', 'Market Street', 'Murray', 'Professor Murray', 'freedom', 'believed', 'qunu', 'systematically dispossessed', 'succeed Colonel Badenhorst', 'pages of testimony', 'journalists', 'Communist Party', 'government unprecedented', 'student body', 'Crown Mine offices', 'hat to fall', 'spite of criticism', 'underground organization', 'Evelyn', 'unfriendly knocks', 'adjournment', 'independent relationship', 'completed the draft', 'armed invasion', 'yelled and sang', 'constitutional development', 'court', 'attended church', 'tremendous psychological', 'separately', 'Africa', 'general olusegun obasanjo', 'Cape and Natal', 'life imprisonment', 'clarkebury students', 'chief warder', 'prison doctor', 'Black Consciousness Movement', 'cape town', 'bannings', 'social worker', 'international sanctions', 'senior officials', 'Botha', 'island', 'isolated whitewashed', 'student revolt', 'Youth League', 'deputy presidents', 'Sophiatown', 'negotiating table', 'security policemen', 'attempt to rescue', 'men', 'regent', 'preparatory examination', 'José Eduardo Dos', 'unmistakable signature', 'cabinets and closets', 'red cross', 'isolation', 'cross examination', 'officials', 'political prisoners', 'lectures', 'personal feelings', 'improved and equalized', 'resistance campaign', 'million Africans', 'initiated conversations', 'zulu king cetywayo', 'anc women', 'blue overalls', 'humiliating experience', 'minister', 'crown evidence', 'Stockholm to visit', 'grind exceedingly slowly', 'professional boxers', 'received', 'Reverend Mokitimi', 'posh officers’ club', 'leaving', 'authorities allowed', 'apartheid laws', 'remaining disciplined', 'city life', 'learned', 'Free State scenery', 'branch meetings', 'democratic procedures', 'prison service regulations', 'national assembly', 'Bram Fischer', 'government offer', 'landscape gladdens', 'sanctions', 'magistrate decided', 'Cape Town day', 'harassment', 'clausewitz', 'honoring of contracts', 'Fort Hare', 'uncharacteristic silence', 'Colonel Gawie Marx', 'judge rumpff', 'fort hare constitution', 'God grind exceedingly', 'exasperation started', 'anc officials', 'treason trial transcripts', 'south africans', 'responded magnificently', 'chief minister', 'antiremoval', 'parliamentary democracy', 'lawyers', 'tobacco', 'xhosa traditionalists', 'prison uniforms', 'damp and musty', 'memoir', 'brown rice', 'return', 'traditional leaders', 'philosopher classifies', 'manuscript', 'African Communist Party', 'mk officer', 'traditional leadership', 'Robben Island', 'intermittent harassment', 'rousseau', 'refused', 'africa', 'ocean', 'deputy president', 'radio news service', 'chief buthelezi', 'discrepancies', 'Jimmy', 'countrywide raids', 'commanding officer', 'prison', 'member eminent persons group', 'began to engage', 'quarry face', 'oliver', 'severely streamlined', 'evelyn', 'continent', 'Transvaal Indian Congress', 'democratic south africa', 'understanding', 'national elections', 'Orlando women', 'zulu king', 'indictment altogether', 'Kruger', 'farms', 'imprisonment', 'communism act', 'prison issues', 'people including', 'violence', 'Indian', 'riots', 'kobie coetsee', 'solitary confinement', 'birthday', 'mining profitable', 'uprising', 'democracy', 'willemse', 'Pretoria', 'medicine', 'nontraditional thinking', 'South African films', 'Fort', 'appointments', 'institutionalizing apartheid', 'Chris', 'South-West African People', 'constance mbekeni', 'transkei', 'death the stinking', 'black South Africans', 'namibia', 'Victor Verster house', 'military training', 'seclusion lodges', 'equal terms', 'whispered conversations', 'apartheid structures', 'sanctions policy', 'regular conversations', 'membership', 'Head Constable Rousseau', 'anc leadership', 'embarrassment', 'anti apartheid', 'confess I imagined', 'High', 'crown mine offices', 'attorneys', 'antipass demonstrations', 'Free', 'african communist party', 'African areas', 'leaders', 'prison hospital', 'afrikaner volksfront', 'grandpa', 'circumcision ceremony', 'Government', 'bout in Havana', 'Fort Hare smarter', 'nelson mandela outlaw', 'white settlers', 'johannesburg district', 'printed and circulated', 'one-room groundfloor bachelor', 'Group Areas Act', 'ways prisoners', 'nightmare', 'committee meetings', 'Bantu', 'news digest', 'waived the premium', 'banishment in Brandfort', 'surgery', 'voting station', 'occasion', 'authorities', 'prison visit', 'preaching reconciliation', 'Thomas Titus Nkobi', 'rudimentary instructions', 'overwhelming majority', 'absolutely riveting', 'appeal', 'Comrade Nomzamo', 'government counteroffensive', 'robben island comrades', 'SCHEDULED to hold', 'strike', 'nationalists', 'TIME', 'retaliatory violence', 'AWAKENED at 5:30', 'Ninety-Day Detention Law', 'precisely', 'HIGH TREASON', 'rudimentary communications', 'justice kennedy', 'arrest', 'free mandela', 'written statement', 'candy and beer', 'African law firms', 'acres of vineyards', 'occasionally', 'estate agent', 'return to court', 'prison authorities', 'freedom struggle', 'prisoners incarcerated', 'accused', 'free state scenery', 'permitted to write', 'marching in unison', 'traveling documents', 'voting', 'protest', 'Orange Free', 'reception committee', 'soweto student uprising', 'Clarkebury', 'water', 'anc government', 'invite imprisonment', 'comfortably furnished', 'discriminatory legislation', 'Hand House', 'months', 'Mandela', 'amnesty', 'headed to Ethiopia', 'South African Communist', 'imprisonment banning', 'foolish as attempting', 'Rumpff', 'African political stage', 'member national assembly', 'bantu authorities act', 'drawers and cabinets', 'kind of existence', 'Rensburg', 'warrant officer', 'Table Mountain', 'upheaval inside', 'marriage', 'judge ludorf', 'robben island', 'nationalization insisting', 'Law Society', 'garden', 'delicious sensations', 'London to attend', 'darkness', 'Van Rensburg', 'defendants', 'RESUMED CONTACT', 'pockets', 'codesa', 'traditional configuration', 'Don', 'general section', 'preferring to listen', 'weapon africans', 'Reverend Scheffler', 'remained as unkempt', 'oppressed people', 'interim government', 'distance running', 'presidential address', 'warder', 'parties including', 'informed', 'workers', 'prepared', 'pointing out lapses', 'circumstances', 'people', 'vital issues', 'birth', 'country', 'jail sentence', 'cigarettes and candy', 'south', 'fingerprints', 'honey and fruits', 'South Africa', 'fatigue marches', 'africanist organization', 'prison officials', 'assistance and scholarships', 'african unity', 'female prisoners', 'chest', 'South African history', 'wheezing and snorting', 'university', 'pollsmoor maximum security prison', 'blankets', 'Soweto uprising', 'news', 'live ammunition', 'Wet', 'Sisulu or Kathrada', 'african', 'articled clerk', 'prison service warders', 'clarkebury boarding institute', 'prisoners', 'courtroom etiquette', 'prison uniform', 'defend', 'provincial administration', 'transkei matters', 'miners', 'grassy valley crisscrossed', 'international pressure', 'anc youth', 'corruption', 'de klerk', 'Helen Joseph', 'letter', 'mqhekezweni', 'Bloemfontein in December', 'labor', 'prosecution', 'brickworks', 'level prisoners', 'Ahmed Kathrada', 'stone quarry', 'africans', 'zambia', 'freedom fighters', 'dozens of accounts', 'stubborn creatures', 'law prisoners', 'DAWNED bright', 'extraordinary wealth', 'makgatho', 'enthusiastically applaud', 'journeys as unpleasant', 'policeman', 'IMPORTANT PERSON', 'action campaign', 'President Botha', 'Orange Free State', 'laborers', 'Bram and Joel', 'alien subjects', 'crown mines', 'inauguration', 'assassination attempts', 'judge panel', 'apartheid institutions', 'youthful approximation', 'International Red Cross', 'Inkatha members', 'government security officials', 'leader', 'comrade nomzamo winnie mandela', 'president de klerk', 'apartheid', 'teacher training', 'life comrade nomzamo', 'white students', 'pan africanist congress', 'elections', 'cell', 'detention', 'acknowledged custodian', 'located in Rivonia', 'school boycott', 'awakened by sharp', 'speech', 'Berrangé read Murray', 'house', 'Eminent Persons Group', 'prison regulations', 'antigovernment', 'lives as wretched', 'authorities acknowledged', 'fledged attorney', 'South African Indian', 'ANC', 'umkhonto', 'Kobie Coetsee', 'Bantu Authorities', 'car bomb attack', 'witnesses', 'appeared as grand', 'instituted', 'comrade nomzamo', 'World Trade Centre', 'ancestors', 'South African', 'Great Place', 'intelligence officials', 'South African government', 'white magistrates', 'jimmy kruger', 'failing to report', 'lions', 'Van Riebeeck', 'judicial irregularity', 'country house', 'south african defense force', 'colonel marx', 'Free Mandela Committee', 'summer cape town day', 'Dar es Salaam', 'hospital convalescence', 'congress', 'sang and pounded', 'interracial cooperation', 'told', 'stay', 'thousands of pages', 'Xhosas or Ndebeles', 'musty and received', 'verdict', 'continue to function', 'dignitaries', 'trial prisoner', 'bantu administration', 'neighboring villages', 'Paul ’s Cathedral', 'lack of communication', 'western areas antiremoval campaign', 'appeared', 'organizations sentences', 'Cape Town surgeon', 'renounce violence', 'secondary schools', 'manual labor', 'State', 'xhosa tribes', 'african national congress', 'General Steyn', 'psychological inferiority', 'advocating negotiations', 'Judge Ludorf', 'Wellington', 'unparalleled situation', 'transitional executive', 'Joel Joffe', 'situation', 'graves', 'government security forces', 'MAJOR EVENT facing', 'Cape', 'political beliefs', 'contemporary ethiopia', 'rebellion', 'political intervention', 'ballie', 'album', 'revolutionaries overtly', 'irreplaceable photographs', 'jailer', 'press conferences', 'talking', 'psychological claustrophobia', 'organized demonstration', 'courtyard', 'prison service', 'passes', 'illusion', 'Botha was planning', 'proceeded to move', 'moral standards', 'Officer Swart', 'Farm', 'dialectical materialism', 'representative parliament', 'decided', 'concerned controversial', 'cigarettes', 'EARLY DECEMBER', 'serving', 'defense', 'intellectual brilliance', 'Bram', 'morning of March', 'thirteen million Africans', 'chief of staff', 'days Rivonia consisted', 'courtroom manner', 'time underground', 'Black Parents Association', 'Government Act', 'shifting uncomfortably', 'demonstrators', 'dark city', 'conversation', 'legal representation', 'Freedom Charter', 'van der Merwe', 'arrests', 'organize underground', 'judge', 'women', 'Ndebeles or Tswanas', 'commissioner', 'downtown johannesburg', 'executive committee', 'inferiority complex', 'center', 'routine medical examination', 'Hynning', 'groundfloor bachelor', 'constitutional convention', 'explicitly nationalistic', 'nelson mandela', 'anniversary', 'relax sanctions', 'African', 'prominent member', 'leave to attend', 'Cape Town', 'PAC', 'nonviolent struggle', 'terrorist organization', 'wheezing cough', 'premier black hospital', 'response from Kobie', 'courtroom', 'security prisoners', 'enthusiastic indefatigable', 'Chief Albert Luthuli', 'liberation movement', 'involvement penalized', 'election', 'Orlando Communal Hall', 'suburb of Johannesburg', 'Hell', 'dining hall', 'unconditionally rejected', 'eventually surrendered', 'Parliament passed', 'guerrilla armies', 'black', 'South African Defense', 'dream', 'classification', 'Mac', 'alexandra township', 'subordinate structures', 'zulu', 'mundane activities', 'South African head', 'address', 'circumcision school', 'military parade', 'kwazulu government', 'High Command', 'national convention', 'apartheid system', 'financial difficulties', 'tea', 'extraordinary application', 'journey', 'sea', 'explanation', 'photographs', 'anc youth leaguers', 'colonel aucamp']\n",
    "final_nelson_keywords = [ele.strip().title() for ele in final_nelson_keywords]"
   ]
  },
  {
   "cell_type": "code",
   "execution_count": 15,
   "id": "60b634d6",
   "metadata": {},
   "outputs": [
    {
     "name": "stdout",
     "output_type": "stream",
     "text": [
      "{'Transkei', 'Botha', 'Law Firm', 'Afrikaner', 'Healdtown', 'Passive Resistance', 'Warder', 'Youth League', 'Aucamp', 'Education', 'Swart', 'Death', 'Prosecutor', 'Committee', 'Walter', 'South African Defense Force', 'Sabata', 'Bantu Self Government Act', 'Hunger', 'Namibia', 'Black Parents Association', 'De Klerk', 'Makgatho', 'Fort Beaufort', 'Port Elizabeth', 'Antiremoval Campaign', 'International Red Cross', 'Zambia', 'Ghana', 'Orange Free State', 'Kruger', 'Mac', 'Matanzima', 'Study Privileges', 'Berrangé', 'Operation Vula', 'Rivonia', 'Van Riebeeck', 'Alexandra Township', 'Defiance Campaign', 'Tefu', 'Freedom Charter', 'School Boycott', 'Imprisonment', 'Hunger Strikes', 'Childhood', 'Ludorf', 'Don', 'Luthuli', 'Evelyn', 'Helen', 'Harris', 'Group Areas Act', 'Afrikaner Volksfront', 'Executive Committee', 'Ethiopia', 'Murray', 'Bantu', 'Pretoria', 'Warrant Officer', 'Apartheid', 'Wolfie', 'Sanctions', 'Riots', 'Justice', 'Crown Mines', 'South African', 'Elections', 'Inkatha Freedom Party', 'Mineworkers', 'Democracy', 'Sobukwe', 'Van Der Merwe', 'Ninety-Day Detention Law', 'Wellington', 'Hynning', 'Zimbabwe', 'Membership', 'Addis Ababa', 'Jimmy', 'Willemse', 'Liliesleaf Farm', 'Chris', 'Cape Town', 'Rumpff', 'Mandela', 'Circumcision Ceremony', 'African', 'Clarkebury Boarding Institute', 'Trial', 'Oliver', 'Rivonia Trial', 'General', 'Mqhekezweni', 'Yutar', 'Emergency', 'National Party', 'Reverend', 'Van Rensburg', 'Father', 'Bram'}\n",
      "precision 0.08278688524590164   and recall 0.08028616852146264\n"
     ]
    },
    {
     "data": {
      "text/plain": [
       "(0.08028616852146264, 0.08278688524590164)"
      ]
     },
     "execution_count": 15,
     "metadata": {},
     "output_type": "execute_result"
    }
   ],
   "source": [
    "eval_keywords(nelson_index,final_nelson_keywords)"
   ]
  },
  {
   "cell_type": "markdown",
   "id": "d5150237",
   "metadata": {},
   "source": [
    "## Lenin"
   ]
  },
  {
   "cell_type": "code",
   "execution_count": 56,
   "id": "e8237cd6",
   "metadata": {},
   "outputs": [],
   "source": [
    "lenin_index = [\"Adamyuk  Professor Yemelyan V.\",\"Adler  Viktor\",\"agrarian socialism  \",\"Akimov  Vladimir\",\"Alakaevka  Samara province\",\"(journal)  \",\"Alexander II  Tsar: reforms\",\"assassination  \",\"Alexander III  Tsar\",\"Alexandra  Empress of Nicholas II: assassinated\",\"Alexandrovich  V.A.\",\"Alexeev  General Mikhail\",\"Alexeev  Nikolai\",\"Alexeev  Pëtr A.\",\"Alexei Nicolaevich  Tsarevich: Nicholas attempts to abdicate in favour of\",\"killed  \",\"Alexei Romanov  Tsar\",\"All-Russia Central Council of the Trade Unions  \",\"All-Russia Congress of Soviets: Central Executive Committee  \",\"Assembly  \",\"Congresses: First (June 1917)  \",\"Second (October 1917)  \",\"Third (January 1918)  \",\"Fourth (March 1918)  \",\"Fifth (July 1918)  \",\"(1920)  \",\"Tenth (1922)  \",\"All-Russia Congress of Soviets of Workers’ and Soldiers’ Deputies  \",\"All-Russia Executive of the Railwaymen’s Union (Vikzhel)  \",\"All-Union Leninist Communist Union of Youth  \",\"Allilueva  Nadezhda (Stalin’s second wife)\",\"Allilueva  Olga\",\"Alliluev  Sergei\",\"Andreyushkin  Pakhomi I.\",\"Andrikanis  A.M.\",\"Anglo-Soviet Trade Agreement (1921)  \",\"Antonov  A.S.\",\"Antonov-Ovseenko  Vladimir\",\"Arcachon (France)  \",\"Archangel  \",\"Ardashev  Alexander (L’s cousin)\",\"Ardashev  Dmitri (L’s cousin)\",\"Ardasheva  Lyubov (\",\"Blank L’s aunt)  \",\"Ardashev  Vladimir (L’s cousin)\",\"shot by Bolsheviks  \",\"Arefev (Syzran merchant)  \",\"Aristotle  \",\"Armand  Alexander (Inessa’s son)\",\"Armand  Andrei (Inessa’s son)\",\"Armand  Inessa: L’s affection for\",\"appearance  \",\"Krupskaya and \",\"as secretary of Committee of the Foreign Organisation  \",\"in Kraków  \",\"L ends relationship with  \",\"in Arcachon  \",\"arrested by Okhrana  \",\"represents Bolsheviks in Shmidt legacy dispute  \",\"leisure activities with L and Krupskaya  \",\"discusses matters of love with L  \",\"settles in Switzerland in war  \",\"L confides in about factional politics  \",\"Switzerland for Russia after revolution  \",\"visits L after assassination attempt  \",\"in Moscow  \",\"illness  death and funeral\",\"confesses devotion to L  \",\"L’s relationship with suppressed  \",\"Armand  Inna (Inessa’s daughter)\",\"Armand  Vladimir\",\"Armenia  \",\"Astrakhan: L writes to communists in  \",\"Aunovskaya  Natalya\",\"(battleship)  \",\"Austria–Hungary: and outbreak of war (1914)  \",\"negotiates separate peace with Russia  \",\"Averbakh  Mikhail\",\"Axelrod  Pavel\",\"Axënov (Razliv gamekeeper)  \",\"Azerbaijan  \",\"Bagotski  Sergei\",\"Baku  \",\"Bakunin  Mikhail\",\"Balabanova  Angelica\",\"Baltic provinces  \",\"Baranov  Dmitri\",\"Baratynski  Archpriest A.I.\",\"Basic Law (Russia)  \",\"Basic Law on the Socialisation of Land  \",\"Baugy-sur-Clarens  Montreux (Switzerland)\",\"Bedny  Demyan\",\"Belokrysenko  Arseni\",\"Belorussia  \",\"Bentham  Jeremy\",\"Berdyaev  Nikolai\",\"Berlin: L visits  \",\"March 1921 Action in  \",\"Bern (Switzerland)  \",\"Bernstein  Eduard\",\"Berzins  Jan\",\"Biały Dunajek (Poland)  \",\"Black Hundreds (groups)  \",\"Black Redistribution (organisation)  \",\"Blank family: Jewishness  \",\"Blank  Alexander (Srul L’s maternal grandfather)\",\"Blank  Anna (\",\"Grosschopf L’s maternal grandmother)  \",\"Blank  Dmitri (Abel L’s great-uncle)\",\"Blank  Moshko (L’s maternal great-grandfather)\",\"Blanqui  Louise-Auguste\",\"‘Bloody Sunday’ (St Petersburg\",\"Blyumkin  Yakov\",\"Bogaevski  Afrikan\",\"Bogdanov  Alexander: L abuses\",\"helps L with financing  \",\"as expositor and thinker  \",\"requests L to return to Russia  \",\"in Finland as Bolshevik leader  \",\"participation in Duma  \",\"in Switzerland  \",\"disputes and breach with L  \",\"reading  \",\"plans socialist government  \",\"Menni \",\"Bogdanova  Natalya\",\"Bogoraz  Lazar\",\"Bolshevik Central Committee: L attacks  \",\"L attends  \",\"on land socialisation  \",\"organisation  \",\"supports transfer of power to soviets  \",\"authority  \",\"Petrograd armed political demonstration  \",\"rejects L’s revised policies  \",\"caution over L’s October revolution plan  \",\"revolution  \",\"L prepares decrees for  \",\"resists demand for socialist coalition \",\"Kamenev resigns from  \",\"at Smolny Institute  \",\"role and functions  \",\"separate peace in World War I  \",\"administration  \",\"factionalism in  \",\"chairs  \",\"and war with Poland  \",\"dispute over ‘trade union discussion’ \",\"and introduction of NEP  \",\"L proposes reducing to three members  \",\"L to withdraw from public life  \",\"L proposes expanding membership  \",\"kept secret  \",\"Bolshevik Centre: shifts location  \",\"Bogdanov stays with  \",\"dealings with Trotski \",\"rejects Bogdanov  \",\"approach to Martov  \",\"of  \",\"Bolshevik Military Organisation  \",\"Bolsheviks: L founds as party  \",\"organisation  \",\"separate from Mensheviks  \",\"hold 2nd and 3rd Party Congresses  \",\"reconciliation with Mensheviks  \",\"at 4th Party Congress  \",\"elections  \",\"in later Duma elections  \",\"and Party factionalism  \",\"at Prague party conference  \",\"emigrant members  \",\"struggle  \",\"legal status  \",\"in Fourth Duma  \",\"war  \",\"members arrested and tried in war  \",\"and February 1917 revolution  \",\"L addresses in Petrograd (1917)  \",\"programme  \",\"enter soviets  \",\"L argues for flexibility of  \",\"Secretariat \",\"as separate party  \",\"attract new adherents  \",\"propaganda  \",\"assume power  \",\"armed demonstration (1917)  \",\"win popular support  \",\"receive German government subsidy  \",\"Provisional Government  \",\"and L’s demands for insurrection  \",\"soviets  \",\"and L’s plan for October Revolution  \",\"L attempts to popularise  \",\"international socialist revolution  \",\"fail in 1917 Constituent Assembly elections  \",\"hostility to Constituent Assembly  \",\"resist separate peace with Central Powers  \",\"repressions and persecutions  \",\"popular hostility to  \",\"anti-capitalist policies  \",\"renamed Russian Communist Party  \",\"administrative capacities and methods  \",\"supremacy  \",\"resist L’s NEP proposals  \",\"factional activity banned by L  \",\"overwork and health problems  \",\"repress opposition  \",\"Conference  \",\"divisions and factions  \",\"Gorbachëv abolishes political monopoly  \",\"Conferences: 7th (1917)(‘April Conference’)  \",\"9th (1920)  \",\"10th (1921)  \",\"13th (1923–4)  \",\"Congresses: 3rd (1905)  \",\"4th (1906)  \",\"5th (1907)  \",\"(1917)  \",\"7th (1918)  \",\"8th (1919)  \",\"10th (1921)  \",\"12th (1923) \",\"Bombon  Seine-et-Marne (France)\",\"Bonch-Bruevich  Vladimir: carries L’s mother’s coffin\",\"with L  \",\"L stays with in Finland  \",\"publishes L’s proclamation on October Revolution \",\"L stays with in Petrograd  \",\"at 1917 Congress of Soviets  \",\"assistant  \",\"in Moscow with L  \",\"and L’s injuries after assassination attempt  \",\"persuades L to appear in film  \",\"at L’s death  \",\"Borchardt  Julius\",\"Borotbists: incorporated in Communist Party  \",\"bourgeoisie: and formation of socialist state  \",\"L’s hostility to  \",\"Brest-Litovsk Treaty (1918): negotiated and signed  \",\"L abrogates  \",\"Brezhnev  Leonid\",\"Bright  John\",\"Britain: in First World War  \",\"intervenes in Civil War  \",\"ends economic blockade of USSR \",\"Labour Party and socialism in  \",\"Kamenev negotiates trade agreement with  \",\"British Museum: L studies in  \",\"Bronski  Mieczyslav G.\",\"Brusilov  General Alexei\",\"Brussels: Second Party Congress in  \",\"Büchner  Georg: \",\"Buckle  Henry\",\"Bukharin  Nikolai: reading\",\"co-founds Marxist journal  \",\"government \",\"on world economy  \",\"L defeats over separate 1918 peace  \",\"Party Congress  \",\"criticises Lenin’s economic caution  \",\"warns L of personal dangers \",\"at First Comintern Congress  \",\"radicalism  \",\"complains of Cheka conduct  \",\"plays skittles with L  \",\"discussion  \",\"supports German Communist Party  \",\"health problems  \",\"tolerant treatment of Socialist-Revolutionaries and Mensheviks  \",\"and L’s suicide threat \",\"L proposes excluding from Central Committee  \",\"supports private foreign trade \",\"L abuses  \",\"supports L on constitution question  \",\"deterioration  \",\"L’s relations with  \",\"allows L to dictate to secretaries  \",\"as successor  \",\"and L’s political testament  \",\"predicts colonial trouble  \",\"Trotski’s Left Opposition  \",\"visits sick L at Gorki  \",\"present at L’s death and funeral \",\"memorialises L  \",\"loses in opposition to Stalin  \",\"Bulgakov  Sergei\",\"Bund (Jewish): and Second Party Congress  \",\"and suppression of Constituent Assembly \",\"Bureau of Committees of the Majority  \",\"Burënin  Nikolai\",\"capitalism: in Russia  \",\"L’s hostility to  \",\"L believes in collapse of  \",\"and imperialism  \",\"restrictions on  \",\"L advocates bypassing  \",\"and NEP  \",\"Capri  \",\"Carlyle  Thomas\",\"Carr  Edward Hallett\",\"Catherine II (the Great)  Empress of Russia\",\"Caucasus: peasant uprisings in  \",\"decrees  \",\"Chaikovski  Pëtr Ilich\",\"Chaliapin  Fëdor \",\"Shalyapin  Fëdor\",\"Chebanov  I.V.\",\"Cheka (Extraordinary Commission): L creates  \",\"founded  \",\"repressions  \",\"in Mirbach crisis  \",\"in Civil War  \",\"conduct  \",\"redesignated Main Political Administration (GPU)  \",\"on alert following L’s death \",\"Chekhov  Anton\",\"‘Ward No.6’  \",\"Chernomazov  Miron\",\"Chernov  Osip\",\"Chernov  Viktor: founds Party of Socialist-Revolutionaries\",\"in Paris  \",\"questioning  \",\"L criticises  \",\"as Agriculture Minister in Provisional Government  \",\"resigns from government  \",\"barracked by Bolsheviks  \",\"Assembly  \",\"Chernyshevski  Nikolai: influence on L\",\"exile  \",\"L writes to  \",\"Petersburg  \",\"L’s devotion to  \",\"work ethic  \",\"Chetvergova  Maria P.\",\"Chicherin  Georgi\",\"Chigorin  Mikhail I.\",\"China  People’s Republic of\",\"Chkheidze  Nikolai\",\"Churchill  Sir Winston S.\",\"Civil Code  \",\"Civil War: L’s view of  \",\"breaks out  \",\"L’s part in  \",\"conduct of  \",\"Red Army’s victory in  \",\"Clausewitz  Karl von\",\"Cobden  Richard\",\"Cohen  Stephen\",\"collective farms  \",\"Comintern (Third International): formed  \",\"builds communist parties in Europe \",\"L warns of provoking anti-communist crusade  \",\"Russian dominance in  \",\"Congresses: First (1919)  \",\"Second (1920)  \",\"Third (1921)  \",\"Fourth (1922)  \",\"Committee of the Foreign Organisation  \",\"Communism: world appeal  \",\"Marx on  \",\"parties non-existent outside Russia  \",\"Communist Manifesto  The\",\": L begins to translate  \",\"Comte  Auguste\",\"Constituent Assembly: November 1917 elections  \",\"dissolved  \",\"Cossacks: oppose Bolshevik government  \",\"Council of Labour and Defence  \",\"Counter-Espionage Bureau  \",\"Crimean War (1854–6)  \",\"Cuba  \",\"Czech Legion  \",\"Czechoslovakia  \",\"Dal  Vladimir: Russian Dictionary\",\"Dan  Fëdor\",\"Danielson  Nikolai\",\"Danilin (Alakaevka peasant)  \",\"Darkevich  Professor Liveri\",\"Darwin  Charles\",\"Declaration of the Rights of the Peoples of Russia  \",\"Decree on the Eight-Hour Day  \",\"Decree on Land  \",\"Decree on Peace  \",\"Decree on Popular Education  \",\"Decree on the Press  \",\"Decree on Workers’ Control  \",\"Deich  Lev\",\"(newspaper)  \",\"Democratic Centralists  \",\"Democratic Conference (Sept. 1917)  \",\"Denikin  General Anton\",\"Diamand  Herman\",\"dictatorship: and L’s socialism  \",\"dictatorship of the proletariat: L incorporates in Party Programme  \",\"L expounds  \",\"Dietz  J.H.W. (Stuttgart publisher)\",\"Dobrolyubov  Nikolai\",\"Dobrovolski  General V.M.\",\"Dolgov  Nikolai\",\"Donbass coalmines  \",\"Dostoevski  Fëdor\",\"Drabkina  Yelizaveta\",\"Dreyfus  Alfred\",\"Ducos de la Haille  Georges\",\"Duma: convoked  \",\"elections to and composition  \",\"Bolsheviks in  \",\"members visit L in Kraków  \",\"prorogued (1917)  \",\"Dunaev  Yevlampi A.\",\"Dybenko  Pavel\",\"Dzierżyński  Felix: joins Bolshevik Party\",\"heads Extraordinary Commission  \",\"smoking \",\"searches for L’s would-be assassins  \",\"Committee  \",\"hunts L’s robbers  \",\"Bukharin liaises with  \",\"and L’s repressive orders \",\"L proposes removing from Central Committee  \",\"investigates Georgian situation  \",\"and L’s political testament  \",\"at L’s funeral  \",\"Eberlein  Hugo\",\"‘Economists’ (Marxist faction)  \",\"Elwood  Ralph Carter\",\"Emancipation Edict (1861)  \",\"Emancipation of Labour Group  \",\"(Brockhaus-Efron)  \",\"Engelgardt  M.\",\"Engels  Friedrich: L’s interpretation of\",\"L reads  \",\"appeal to Russian revolutionaries  \",\"attitude to peasants  \",\"Plekhanov’s reading of  \",\"death  \",\"Kautsky defends  \",\"L cites  \",\"influenced by Enlightenment  \",\"L promoted as successor to  \",\"Anti-Diihring \",\"The Condition of the Working Class in England \",\"Enlightenment (18th-century)  \",\"Essen  Maria\",\"Essen  Yekaterina von (\",\"Grosschopf)  \",\"Estonia: established as Soviet republic  \",\"Eurocommunists  \",\"Europe: L’s commitment to spread of socialism in  \",\"L launches 1920 ‘revolutionary war’ in  \",\"famines: Volga region: (1891–2)  \",\"(1921)  \",\"fascism  \",\"February revolution (1917)  \",\"Fedoseev  Nikolai\",\"Feuerbach  Ludwig Andreas\",\"Figes  Orlando\",\"Finland: as Russian possession  \",\"L flees to  \",\"L in (1906–7)  \",\"1917 return to Russia  \",\"nationalism in  \",\"L holidays in (December 1917)  \",\"Fitzpatrick  Sheila\",\"Flaxerman  Galina\",\"Fofanova  Margarita Vasilevna\",\"Food Dictatorship  \",\"Foreign Bureau (of Central Committee)  \",\"Foreign League of Russian Revolutionary Social-Democracy  \",\"Foreign Organisational Commission  \",\"foreign trade: state monopoly on  \",\"Förster  Professor O.\",\"Fotieva  Lidia A.\",\"France: in First World War  \",\"revolutionary socialists in  \",\"USSR  \",\"Franz Ferdinand  Archduke of Austria\",\"Franz Josef  Austro-Hungarian Emperor\",\"Freud  Sigmund\",\"Galperin  L.\",\"Gapon  Father Georgi\",\"Generalov  V.D.\",\"Geneva: L lives in  \",\"Genoa: international conference (1922)  \",\"Georgia  \",\"German Communist Party  \",\"German Social-Democratic Party  \",\"Germany: L admires  \",\"declares war on Russia (1914)  \",\"imperialist aggressor  \",\"war economy  \",\"allows L to return to Russia after revolution \",\"subsidises Bolshevik Party  \",\"with Russia (Brest-Litovsk)  \",\"military advance on Eastern Front  \",\"L urges commercial deals with  \",\"and assassination of Ambassador von Mirbach \",\"L appeals to in Civil War  \",\"L promotes socialism in  \",\"socialist union  \",\"L seeks concession agreements with  \",\"commercial and diplomatic treaty with (1922)  \",\"Gete  Professor Fëdor\",\"Geyer  Dietrich\",\"Gil  Stepan\",\"Glyasser  Maria\",\"Goethe  Johann Wolfgang von\",\"Gogol  Nikolai\",\"Goldenberg  I.P.\",\"Golubeva  Maria\",\"Goncharov  Ivan\",\"Gorbachëv  Mikhail\",\"Gorbunov  Nikolai\",\"Gorki  Maxim: and L’s admiration for Jews\",\"L writes to  \",\"and L to Capri  \",\"criticises L’s vainglory  \",\"on L in Civil War  \",\"popular culture  \",\"Gorki (village)  near Moscow\",\"Gots  Abram\",\"Govorukhin  Orest\",\"Main Political Administration grain trade: state requisitioning of  \",\"tax-in-kind on  \",\"private trade under NEP  \",\"Great Terror  \",\"Greulich  Herman\",\"Grimm  Robert\",\"Grosschopf  Anna (\",\"Estedt)  \",\"Grosschopf  Johann\",\"Guchkov  Alexander\",\"Gusev  Sergei\",\"Haase  Hugo\",\"Haimson  Leopold\",\"Halila sanatorium  Uusikirkko (Finland)\",\"Hanecki  Jakub\",\"Harding  Neil\",\"Hegel  Georg Wilhelm Friedrich\",\"Helphand-Parvus  Alexander\",\"Helsinki (Helsingfors)  \",\"Heraclitus  \",\"Herzen  Alexander\",\"Hilferding  Rudolf\",\"Hitler  Adolf\",\"Hobson  John Atkinson\",\"Hungary: and L’s launch of ‘revolutionary war’  \",\"Kun  Béla\",\"Imperial Kazan University  \",\"imperialism: L writes on  \",\"and First World War  \",\"and colonial troubles  \",\"Institute of the Brain  \",\"intelligentsia: guiding role for workers  \",\"repression of  \",\"International  Second (Socialist): \",\"support  \",\"1907 Congress (Stuttgart)  \",\"internationalist principles  \",\"International Socialist Bureau  \",\"International Socialist Commission  \",\"International  Third \",\"(newspaper): L founds and produces  \",\"prints draft Party Programme  \",\"moves to London  \",\"moves to Geneva  \",\"proposed for editorial board  \",\"and Second Party Congress  \",\"editorial board  \",\"approves of terrorism  \",\"L attacks reformed editorial board  \",\"Italy  \",\"Ivan IV (the Terrible)  Tsar\",\"Ivanovo-Vosnesensk  \",\"(newspaper)  \",\"Jalava  Hugo\",\"Janson  Wilhelm\",\"Japan: war with Russia (1904–5)  \",\"L demands support for  \",\"supports  \",\"Jews: in Russian Empire  \",\"L’s attitude to  \",\"participation in socialism \",\"Russian pogroms against  \",\"and independent Soviet republics  \",\"in Ukraine  \",\"Jogiches  Leo\",\"Kadyan  Dr Alexander\",\"Kaganovich  Lazar\",\"Kahn  Alfred\",\"Kalashnikov  Vasili\",\"Kalmykova  Alexandra\",\"Kalske  Emil\",\"Kamenev  Lev: passion for cinema\",\"arrested in war  \",\"meets L on 1917 return to Russia \",\"supports Provisional Government  \",\"incredulity at L’s extreme proposals  \",\"works in Petrograd Soviet  \",\"arrested and imprisoned by Provisional Government  \",\"released  \",\"L’s plan for October Revolution  \",\"rejoins Central Committee  \",\"socialist coalition  \",\"resigns from Central Committee  \",\"warns of political catastrophe \",\"disbelieves European socialist revolution  \",\"and Brest-Litovsk agreement  \",\"Moscow  \",\"in administration of Moscow  \",\"complains of Cheka conduct  \",\"establishment of Ukrainian Soviet Republic  \",\"negotiates trade agreement in London \",\"approves introduction of NEP  \",\"heart trouble  \",\"pleads for formal justice  \",\"L proposes demoting in Central Committee  \",\"supports L on constitution question  \",\"concern over L’s deteriorating condition  \",\"functions  \",\"L’s relations with  \",\"allows L to dictate to secretaries  \",\"Stalin’s abuse of Krupskaya  \",\"L considers as successor  \",\"12th Party Congress  \",\"rebuffs Trotski’s Left Opposition  \",\"visits sick L at Gorki  \",\"at L’s funeral  \",\"memorialises L  \",\"loses in opposition to Stalin  \",\"Kammerer  Luisa & Titus\",\"Kamo (pseud.  i.e. Semyon A. Ter-Petrosian)\",\"Karamzin  Nikolai\",\"Karpinski  Vladimir\",\"Kashkadamova  Vera\",\"Kautsky  Karl: influence on L\",\"L cites  \",\"financial responsibilities \",\"and Party factional disputes  \",\"credits  \",\"disbelieves workers’ revolution  \",\"and plans for socialist government  \",\"L refutes  \",\"invited to Swiss internationalist socialist conferences \",\"L insults  \",\"Marx  \",\"L denounces for not challenging German capitalism  \",\"Kazan  \",\"Kedrov  Mikhail\",\"Keep  John\",\"Kerenski  Alexander: on political techniques\",\"father teaches L  \",\"alliance with Milyukov  \",\"and February 1917 revolution  \",\"self-confidence  \",\"reputation and publicity  \",\"maintains commitment to conduct of war  \",\"Russian military offensive  \",\"appointed prime minister  \",\"L accuses of despotism \",\"differences with Kornilov  \",\"forms Directory  \",\"insurrection  \",\"mounts army patrols  \",\"Trotski announces overthrow of  \",\"abandonment by Mensheviks  \",\"escapes  \",\"armed opposition to Bolsheviks  \",\"appearances  \",\"Kerenski  Fëdor\",\"Keskuela  Alexander\",\"Keynes  John Maynard\",\"Khalturin  Stepan\",\"Khardin  Andrei\",\"Khrushchëv  Nikita S.\",\"Kiental: internationalist socialist conference (1916)  \",\"Kierkegaard  Søren\",\"Klasson  Robert\",\"Klemperer  Georg\",\"Kobachidze (Georgian official)  \",\"Kocher  Theodor\",\"Kokushkino (estate)  \",\"Kolchak  Admiral Alexander\",\"Kollontai  Alexandra: in Oslo in First World War\",\"and February 1917 revolution  \",\"L’s 1917 arrival in Petrograd  \",\"supports nervous L in speechmaking  \",\"imprisoned  \",\"and Dybenko’s arrest  \",\"leads Workers’ Opposition  \",\"demands  \",\"takes trip down Volga  \",\"on L and Inessa Armand  \",\"Inessa  \",\"(committees of village poor)  \",\"Komuch (Committee of Members of the Constituent Assembly)  \",\"Komykova  Alexandra (bookseller)\",\"Kornilov  General Lavr\",\"Korobko (St Petersburg Marxist)  \",\"Koshelnikov  Yakov\",\"Kozhevnikov  Dr A.M.\",\"Kraków (Poland)  \",\"Kramer  Professor Vasili\",\"Krasin  Leonid\",\"Krasnov  General Pëtr N.\",\"Krasnoyarsk  \",\"Kremer  Alexander\",\"Kremlëv  Rector N.A.\",\"Kremlin  Moscow: L moves into\",\"L revisits during final illness  \",\"Krestinskaya  Vera\",\"Krestinski  Nikolai\",\"Kronstadt: sailors’ hostility to Provisional Government  \",\"naval mutiny in  \",\"Krumbyugel  L. (St Petersburg publishers)\",\"Krupskaya  Nadezhda Konstantinova (Nadya): marriage to and relations with L\",\"with L’s family  \",\"in discussion group with L  \",\"from prison  \",\"joins L in Shushenskoe (Siberia)  \",\"career  \",\"revolutionary activities and interests  \",\"appearance and health  \",\"childlessness  \",\"term of exile  \",\"in L’s life  \",\"joins L in Munich  \",\"protects L from followers  \",\"in London with L \",\"cooking inadequacy  \",\"entertains Trotski  \",\"and L’s ill-health  \",\"helps L’s followers  \",\"Swiss holiday with L  \",\"Bolshevik colleagues  \",\"attends Second Party Congress  \",\"with L (1905)  \",\"in Finland  \",\"flees Finland  \",\"Bolsheviks  \",\"joins L in Stockholm  \",\"in Paris  \",\"cycling trips with L  \",\"and L’s relations with Inessa Armand  \",\"moves with L to Kraków \",\"as secretary of Foreign Bureau of Central Committee  \",\"moves to Poronin  \",\"operation for thyroid  \",\"improved relations with Inessa Armand  \",\"outbreak of First World War  \",\"flees to neutral Switzerland  \",\"and mother’s death \",\"stands by L in war  \",\"keeps record of political contacts  \",\"financial difficulties \",\"learns of February 1917 revolution  \",\"1917 return to Russia  \",\"and L’s new style in Petrograd  \",\"secretaryship post  \",\"works in Vyborg industrial district  \",\"L’s whereabouts  \",\"absence from L during refuge in Finland  \",\"visits L in Petrograd \",\"life with L in Petrograd  \",\"appointed Deputy Commissar of Popular Enlightenment \",\"and L’s overwork  \",\"Finnish holiday with L  \",\"Moscow  \",\"convalesces  \",\"and assassination attempt on L  \",\"private walks  \",\"medical treatment in Sokolniki  \",\"on workers’ intransigence \",\"letters from L  \",\"visits Volga region  \",\"and death of Inessa Armand \",\"joins L at Gorki  \",\"nurses L after stroke  \",\"Ilinichna  \",\"given right to open L’s sealed letter to Party Congress  \",\"assists L during illness  \",\"Stalin abuses  \",\"coma and death  \",\"and Trotski’s party split  \",\"and L’s funeral and embalming \",\"memorialises L  \",\"relations with Stalin after L’s death  \",\"Krupskaya  Yelizaveta Vasilevna (Nadezhda’s mother): accompanies daughter in exile\",\"cooks for L  \",\"health suffers in Siberia  \",\"meets L’s sisters  \",\"with daughter  \",\"refuses to re-emigrate to Switzerland  \",\"with L  \",\"death  \",\"Krushvits (tenant farmer)  \",\"Krzhizhanovski  Gleb\",\"Kseshinskaya  Matilda\",\"Kuibyshev  Valeryan\",\": L defines  \",\"L urges suppression of  \",\"Osip Chernov defends  \",\"at 10th Party Conference  \",\"Kun  Béla\",\"Kuokkala (Finland)  \",\"Kuskova  Yekaterina D.\",\"Lafargue  Paul\",\"Lalayants  Isaak\",\"land: restored to peasants  \",\"L abandons call for nationalisation of  \",\"Chernov’s policy on  \",\"L’s 1917 decree on  \",\"abolished  \",\"basic law on socialisation of  \",\"Land and Freedom (party)  \",\"Lapshin (bird-catcher)  \",\"Larin  Yuri\",\"Lashevich  Mikhail M.\",\"Latvia  \",\"Lavrov  Pëtr\",\"Lebedour  Georg\",\"Le Bon  Gustave\",\"Left Communists  \",\"Left Opposition  \",\"Left Socialist-Revolutionaries: refuse to join coalition with Bolsheviks  \",\"Shteinberg leads \",\"confidence in European socialist revolution  \",\"government  \",\"and elections to Constituent Assembly  \",\"Brest-Litovsk Treaty  \",\"withdraw from government  \",\"separate from Bolsheviks \",\"uprising against Bolsheviks  \",\"at 5th Congress of Soviets  \",\"suppresses  \",\"Legcher  Dr\",\"Lengnik  Fridrikh V.\",\"Lenin  Vladimir Ilich (born Ulyanov): names\",\"achievements  \",\"excuses Malinovski  \",\"demands and predicts revolution  \",\"documentation on  \",\"personality  \",\"towards Stalin  \",\"Armand  \",\"attitude to and interest in women \",\"destructive urges  \",\"education  \",\"family background and ancestry  \",\"to brother Alexander’s execution  \",\"Krupskaya  \",\"introduces NEP  \",\"reading  \",\"initial obscurity  \",\"health  \",\"birth  \",\"Jewish blood  \",\"childhood  \",\"dress  \",\"eyesight  \",\"relations with siblings  \",\"marriage  \",\"knowledge of classics  \",\"attitude to artistic interests  \",\"while fishing  \",\"and father’s death  \",\"misbehaviour after father’s death  \",\"social manner  \",\"gives up smoking  \",\"University\",\"atheism  \",\"life at Kokushkino  \",\"revolutionary ideas and activities  \",\"financial resources  \",\"expelled from Kazan University  \",\"playing  \",\"attitude to peasants  \",\"life at Alakaevka  \",\"translating  \",\"repudiates sentiment in politics  \",\"brings action against Arefev  \",\"registers at St Petersburg University  \",\"helped and supported by sisters and mother  \",\"temper  \",\"qualifies and practises as lawyer  \",\"on Volga famine (1891–2)  \",\"revolutionary activities in St Petersburg  \",\"writing  \",\"in discussion  \",\"remoteness from workers  \",\"linguistic talents  \",\"Russianism  \",\"hatred of established order  \",\"cycling  \",\"problems  \",\"love of order and tidiness  \",\"uses pseudonyms and aliases  \",\"with German language  \",\"travels to Switzerland (1895)  \",\"detained  \",\"exile in Siberia  \",\"affection for mother  \",\"nervous tension  \",\"heroes  \",\"hunting and fishing  \",\"leaves Russia (1900)  \",\"relations with Plekhanov  \",\"disillusioned by Plekhanov  \",\"life in Munich  \",\"passion for Wagner  \",\"adopts name Lenin  \",\"proposes clandestine party  \",\"literary style  \",\"attracts followers  \",\"leadership and authority  \",\"London  \",\"learns English  \",\"suffers from erysipelas  \",\"Second Party Congress  \",\"and Bolshevik-Menshevik split  \",\"and Party Council  \",\"self-belief  \",\"in Paris  \",\"Swiss holiday  \",\"hears of 1905 ‘Bloody Sunday’ massacre  \",\"Third Party Congress  \",\"standpoint on European War  \",\"declines to return to Russia  \",\"returns to St Petersburg (1905–6) \",\"oratory and speechmaking  \",\"advocates violent methods and terror \",\"Fourth Party Congress  \",\"in Finland (1906–7)  \",\"attends Fifth Party Congress \",\"leaves Finland for Geneva  \",\"eating habits  \",\"relations with mother-in-law \",\"disputes and breach with Bogdanov  \",\"visits Gorki in Capri  \",\"overwork and strain  \",\"remains childless  \",\"travels in Europe  \",\"on Party Conference (1911)  \",\"intellectual influences on  \",\"sense of mission \",\"serves on Party Central Committee  \",\"socialist parties  \",\"in Kraków  \",\"ends relationship with Inessa Armand \",\"outdoor recreations  \",\"factionalism among Bolsheviks  \",\"spends time in Galicia  \",\"daily affairs  \",\"apprehended and released in Poland  \",\"refuge in neutral Switzerland \",\"discusses matters of love with Inessa  \",\"and mother’s death  \",\"from Russian activities in war  \",\"plans socialist government  \",\"notebooks  \",\"develops political philosophy  \",\"socialist revolution  \",\"pre-Revolution qualities and status  \",\"revolution  \",\"return to Russia (1917)  \",\"idolised by sister Anna  \",\"passions  \",\"presents revolutionary programme in Petrograd (1917)  \",\"workers  \",\"political style and manner  \",\"heart attacks\",\"image and propaganda  \",\"press opposition to  \",\"leaves and returns to Petrograd (June-July 1917)  \",\"pacifies armed demonstrators (1917) \",\"denounced as German spy  \",\"Provisional Government issues arrest warrant for \",\"flight  hiding and refuge in Finland\",\"shaves off beard and moustache \",\"revised policies rejected by Central Committee  \",\"and untruthfulness  \",\"political illiberalism and prejudices  \",\"immediate insurrection  \",\"wears wigs for disguise  \",\"Committee on need for insurrection  \",\"plans and proposes October Revolution  \",\"addresses Petrograd Soviet on October Revolution  \",\"assumes power  \",\"drafts and presents decrees  \",\"of Sovnarkom  \",\"governmental aims and objectives  \",\"government’s durability questioned  \",\"Commission  \",\"class attitudes  \",\"life with Krupskaya in Petrograd \",\"satirised  \",\"working practices and assistants  \",\"proposes separate peace in World War I (Brest-Litovsk Treaty)  \",\"Finnish holiday (December 1917)  \",\"authoritarianism  \",\"demands discipline of workers  \",\"assassination attempts on  \",\"forces closure of Constituent Assembly  \",\"moves with government to Moscow \",\"economic policies  \",\"misidentified  fired at\",\"and arrested  \",\"and assassination of Romanovs  \",\"part in Civil War  \",\"organising and administration  \",\"men  \",\"remoteness from provincial administration  \",\"Comintern  \",\"on national question  \",\"Congress  \",\"and party supremacy  \",\"appears in film  \",\"tolerance of workers’ intransigence  \",\"Revolution policies  \",\"dispute with Trotski over grain requisitioning  \",\"revolver to bodyguard  \",\"fiftieth birthday celebrations  \",\"Poland  \",\"at Second Comintern Congress  \",\"after defeat by Poland  \",\"German Communist Party opposes  \",\"Armand  \",\"justifies war with Poland  \",\"in ‘trade union discussion’  \",\"at 10th Party Congress  \",\"on workers’ control of factories  \",\"10th Party Conference  \",\"declares for ‘peaceful coexistence’  \",\"convalesces at Gorki \",\"work-load reduced on health grounds  \",\"loses will to work  \",\"mental state and ‘obsessions’  \",\"suicide  \",\"operation for removal of bullet  \",\"medical examinations and diagnoses  \",\"suffers strokes  \",\"Political Testament  \",\"foreign trade and constitution  \",\"social manners  \",\"Congress  \",\"considers successors  \",\"during illness  \",\"final coma  death and funeral\",\"and displayed in mausoleum  \",\"posthumous reputation and cult  \",\"Fewer  But Better’\",\"Reorganise Rabkrin’  \",\"Comrade about our Organisational Tasks’  \",\"‘Letter to the Congress’  \",\"‘Marxism and Insurrection’ (letter)  \",\"Economic Trends in Peasant Life’  \",\"‘On Compromises’  \",\"‘On Cooperation’  \",\"‘On the Question of the Nationalities or about “Autonomisation” ’ \",\"‘On Slogans’  \",\"One Step Forward \",\"Provisional Revolutionary Government’  \",\"‘The Tasks of Revolutionary Social-Democracy in the European War’  \",\"‘The Theory of Realisation’  \",\"Peace’  \",\"Lepeshinski  Panteleimon & Olga\",\"Lermontov  Mikhail\",\"Leshchenko  Dmitri\",\"Lewin  Moshe\",\"Liber  Mark\",\"Liberation of Labour Group  \",\"Liebknecht  Karl\",\"Liebknecht  Wilhelm\",\"Liebman  Marcel\",\"Lindhagen  Karl\",\"Liquidators  \",\"List  Friedrich\",\"Lithuania  \",\"London: L moves to  \",\"Third Party Congress in  \",\"Longjumeau (France)  \",\"Lozgachëv  Georgi (‘Gora’)\",\"(Menshevik newspaper)  \",\"Ludendorff  General Erich\",\"Lunacharski  Anatoli\",\"Luxemburg  Rosa\",\"Lvov  Prince Georgi\",\"Lyubimov  A.I.\",\"Machiavelli  Niccolò\",\"Main Political Administration (GPU): established  \",\"Malia  Martin\",\"Malinovski  Roman\",\"Martov  Yuli: activities in St Petersburg\",\"friendship with L  \",\"background  \",\"detained  \",\"exiled to Siberia  \",\"leadership qualities \",\"in London  \",\"to Geneva  \",\"dispute with L at Second Party Congress \",\"forms Menshevik party  \",\"attacks L  \",\"L repudiates  \",\"declines to attend Third Party Congress  \",\"and Bolsheviks in Duma elections  \",\"self-questioning  \",\"approached by Bolshevik Centre  \",\"and First World War  \",\"disbelieves workers’ revolution  \",\"and international socialism  \",\"to Russia after revolution  \",\"criticises L’s interpretation of Marx  \",\"administration  \",\"differences with L  \",\"Marx  Karl: L’s interpretation of\",\"influence on L  \",\"revolutionaries  \",\"Chernyshevski reads  \",\"attitude to peasants  \",\"agrarian Russia  \",\"Plekhanov’s interpretation of  \",\"and Russian economic trends \",\"Bernstein’s revisionism  \",\"Kautsky defends  \",\"L cites  \",\"and revolution \",\"influenced by Enlightenment  \",\"on historical development  \",\"L displays portrait of  \",\"factories  \",\"work ethic  \",\"on socialism in peasant society  \",\"successor to  \",\"Marxism: as prominent ideology in Russian Empire  \",\"Russian revolutionaries embrace \",\"L’s interest in and understanding of  \",\"and class struggle  \",\"study circles  \",\"workers in  \",\"L writes on  \",\"in Russia  \",\"proposal for party  \",\"and Bolshevik-Menshevik split  \",\"Russian leaders repressed \",\"predicts stages of revolution  \",\"and historical development  \",\"levels as prerequisite for socialist state  \",\"Marxism–Leninism  \",\"Marxism–Leninism–Stalinism  \",\"Maslov  Pëtr\",\"Mayakovski  Vladimir\",\"Mdivani  P.G.\",\"Medvedev  Roy\",\"Mehring  Franz\",\"Mendeleev  Dmitri Ivanovich\",\"Mensheviks: formed  \",\"L attacks  \",\"attend Third Party Congress  \",\"on dictatorship of proletariat \",\"L wishes reunification with  \",\"at 4th Party Congress  \",\"doctrines  \",\"defeated at 5th Party Congress  \",\"criticise L for megalomania  \",\"representation at Prague Conference  \",\"legal status  \",\"in Fourth Duma  \",\"Petrograd Soviet  \",\"and February 1917 revolution  \",\"support Provisional Government \",\"meet L on 1917 return to Russia  \",\"party  \",\"as separate party  \",\"Trotski leaves  \",\"demonstration  \",\"decline  \",\"and Bolshevik plans for armed demonstration  \",\"strength in soviets  \",\"and October Revolution  \",\"Soviets  \",\"land policy  \",\"demand broader socialist coalition  \",\"compromise with  \",\"and suppression of Constituent Assembly  \",\"repressed  \",\"support grain-trade monopoly  \",\"and L’s socialism  \",\"advocate NEP \",\"posthumous accounts of L  \",\"Meshcherski  Vladimir P.\",\"Meshcheryakov  Nikolai\",\"Meyer  Alfred\",\"Michels  Robert\",\"Mickiewicz  Sergei\",\"Mikhail Alexandrovich  Grand Duke\",\"Mikhailovski  Nikolai\",\"Military Opposition  \",\"Military-Revolutionary Committee (of Petrograd Soviet)  \",\"Mill  John Stuart\",\"Milyukov  Pavel\",\"Milyutin  Vladimir\",\"Minsk  \",\"Mints  V.M.\",\"Minusinsk district (Siberia)  \",\"Mirbach  Wilhelm\",\"Mitchell  Isaac H.\",\"Modenovo  \",\"Modrácêk  Franz\",\"Molotov  Vyacheslav M.\",\"Morgari  Odino\",\"Morozov  Savva\",\"Mosca  Gaetano\",\"Moscow: Ulyanovs move to  \",\"L in  \",\"December 1905 rising  \",\"Soviet  \",\"government to  \",\"character  \",\"1921 strikes in  \",\"Moscow Province Party Conference (1920)  \",\"Mukden\",\"Munich  \",\"Mussolini  Benito\",\"Myshkin  Ippolit\",\"Nadezhdin  L.\",\"Napoleon I (Bonaparte)  Emperor of France\",\"(agrarian socialists)  \",\"‘national question’  \",\"nationalisation  \",\"Nazaretyan  Amayak\",\"Nazareva  Gertruda\",\"Nechaev  Sergei\",\"Nefedev  Nikolai\",\"Neivola (Finland)  \",\"Nevzorova  Zinaida\",\"New Economic Policy (NEP): L introduces and justifies (1921)  \",\"denounced at 10th Party Conference  \",\"in operation  \",\"terror  \",\"and private foreign trade  \",\"Nicholas II  Emperor of Russia: attacked by revolutionary parties\",\"unpopularity  \",\"killing of petitioners (1905)  \",\"October Manifesto of reforms (1905)  \",\"Duma and calls new elections  \",\"and Basic Law  \",\"L wishes for overthrow  \",\"World War  \",\"and February 1917 revolution  \",\"prorogues Fourth State Duma \",\"and Provisional Government  \",\"secret treaties with Allies  \",\"assassinated  \",\"Nietzsche  Friedrich\",\"Nikolaev  Ivan\",\"Nizhni Novgorod  \",\"Nobel oil company  \",\"North Vietnam  \",\"Northern Congress of Soviets (1917)  \",\"Noske  Gustav\",\"Noskov  Vladimir A.\",\"Nowy Targ (Poland)  \",\"Obukh  Professor Vladimir A.\",\"October revolution (1917): and Leninist ideology  \",\"disputes over  \",\"L plans  \",\"success  \",\"L proclaims achievements of  \",\"and economic policy  \",\"Octobrists  \",\"Okhrana (secret police): apprehends Alexander Ulyanov  \",\"in Chekhov story  \",\"to St Petersburg (1895)  \",\"detains L  \",\"arrests Yakubova and Krupskaya  \",\"surveillance of L abroad  \",\"and L’s nom-de-plume  \",\"L safe from in London  \",\"warns Belgian police  \",\"activities in Russian Empire  \",\"from  \",\"and L in Finland  \",\"uses Bolshevik agents  \",\"and emigrants  \",\"arrests Central Committee members  \",\"arrests Inessa Armand \",\"arrests Bolsheviks in war  \",\"crushes strikes  \",\"and Piłsudski  \",\"Old Believers  \",\"one-party state  \",\"Order of Lenin  \",\"Ordzhonikidze  Sergo: in Russian\",\"Organisational Commission  \",\"admires L  \",\"organises Prague Conference  \",\"reform of Bolshevik leadership  \",\"on armed demonstration (1917)  \",\"leaders  \",\"and L’s political testament  \",\"Orest  Father\",\"Orgburo (Organisational Bureau of Central Committee)  \",\"Orthodox Church: dominance  \",\"repressed  \",\"Osinski  Nikolai\",\"Osipanov  Vasili S.\",\"Osipov  G.I.\",\"Osipov  Professor Viktor\",\"Otzovists (‘Recallists’)  \",\"Pakaln  Pëtr\",\"Pankhurst  Sylvia\",\"Pannekoek  Antonie\",\"Paris: L visits  \",\"L lives in  \",\"Party Central Committee meets in (1911) \",\"Paris Commune (1871)  \",\"Labour Party  \",\"formed  \",\"at 5th Party Congress  \",\"status in Provisional Government \",\"and L’s plans for revolution  \",\"L ignores  \",\"repressed by Bolsheviks \",\"supports grain-trade monopoly  \",\"Party of Socialist-Revolutionaries: formed (1901)  \",\"land and peasant policy  \",\"works to undermine established regime  \",\"and L’s return to Russia  \",\"Provisional Government  \",\"Bolsheviks oppose  \",\"L repudiates  \",\"apprehension over Bolshevik demonstration  \",\"decline  \",\"in soviets  \",\"and October Revolution  \",\"forms separate party  \",\"socialist coalition  \",\"and Constituent Assembly elections  \",\"Constituent Assembly  \",\"repressed by Bolsheviks  \",\"trade monopoly  \",\"and L’s socialism  \",\"forms alternative administration  \",\"War  \",\"treated as counterrevolutionaries  \",\"advocates NEP  \",\"instigating Kronstadt mutiny  \",\"Parviainen  Pekka\",\"peasants: emancipated (1861)  \",\"life-style and conditions  \",\"resist revolutionary ideas  \",\"L’s attitude to  \",\"reform  \",\"behaviour at Alakaevka  \",\"class divisions  \",\"in revolutionary thinking \",\"suffer from famine  \",\"and capitalism  \",\"L writes on  \",\"taxed  \",\"economic theories  \",\"transfer of lands to  \",\"against landlords  \",\"farming methods  \",\"resist land nationalisation  \",\"Chernov’s land policy  \",\"seize land  \",\"in Constituent Assembly elections  \",\"from army  \",\"and state grain-trade monopoly  \",\"of the village poor  \",\"in Ukraine  \",\"L considers rewards for production increases \",\"and tax-in-kind on grain  \",\"uprisings  \",\"advocates hardship under NEP  \",\"allowed private trade in grain  \",\"by Red Army  \",\"L wishes to join co-operatives  \",\"Peel  Sir Robert\",\"Penza  \",\"People’s Freedom (movement)  \",\"People’s Will (organisation)  \",\"Perm: in Civil War  \",\"Persiyanov  Vyacheslav\",\"Peter I (the Great)  Tsar\",\"Piłsudski  Josef\",\"Pipes  Richard\",\"Pisarev  Dmitri\",\"Platten  Fritz\",\"Plekhanov  Georgi Valentinovich: influence on L\",\"revolutionary ideas \",\"attitude to peasants  \",\"Marx and Engels dismiss  \",\"meets in Switzerland  \",\"economic ideas  \",\"and Liberation of Labour Group \",\"L resents dominance  \",\"relations with L \",\"letters from L  \",\"advocates Marxism  \",\"Labour Party  \",\"at Second Party Congress  \",\"Congress  \",\"criticises L’s revolutionary strategy  \",\"supports Russian war effort  \",\"L attacks in Lausanne  \",\"on patriotism of socialists  \",\"Pleve  Vyacheslav K.: assassinated\",\"Podolsk  \",\"Podvoiski  Nikolai\",\"Poland: revolts against Russian Empire  \",\"threat to tsarism  \",\"World War  \",\"in German peace demands  \",\"war with and defeat of USSR (1920) \",\"Soviet peace treaty with (1921)  \",\"Poletaev  Nikolai G.\",\"Politburo (Political Bureau of Central Committee): formed  \",\"authority  \",\"and Civil War \",\"L chairs  \",\"attacked by factions  \",\"approves introduction of NEP \",\"L confides ill-health to  \",\"and international agreements  \",\"and L’s death  \",\"orders embalming of L’s body  \",\"(Swedish newspaper)  \",\"Por  Adolf\",\"Poronin (Poland)  \",\"Postnikov  Vladimir E.\",\"Potapov  N.G.\",\"Potresov  Alexander\",\"Prague: 1912 Party conference in  \",\"(newspaper): Bolshevik Centre offers funding for  \",\"first issue (1912)  \",\"consults with board  \",\"L writes for  \",\"Stalin edits  \",\"encourages to violence  \",\"closed down by Imperial government  \",\"L studies in Finland \",\"revolutionary policy  \",\"Maria Ilinichna works for  \",\"L in 1917  \",\"circulation  \",\"offices raided  \",\"and L’s terror policy  \",\"edits  \",\"publicises L  \",\"article supporting economic reform  \",\"Kronstadt mutiny  \",\"on Lenin and NEP  \",\"carries portrait of L  \",\"Preobrazhenski  Alexander\",\"Preobrazhenski  Yevgeni\",\"press: freedom restricted under L  \",\"Prokopovich  Sergei N.\",\"(newspaper)  \",\"Provisional Government (Russia): L opposes  \",\"programme and policies  \",\"L claims to be imperialist  \",\"challenged by Bolsheviks \",\"and Bolshevik 1917 armed demonstration  \",\"Revolution  \",\"Prushakevich  Vera\",\"Pskov  \",\"Pugachëv  Yemelyan\",\"Pulkovo Heights\",\"Pushkin  Alexander\",\"Pyatakov  Georgi\",\"Rabinowitch  Alexander\",\"(journal)  \",\"Radchenko  Stepan\",\"Radek  Karl: writes on imperialism\",\"L’s discussions with  \",\"on ‘sealed train’ with L  \",\"stays in Stockholm  \",\"improves L’s dress  \",\"opposes L’s plan for separate peace \",\"at 3rd Comintern Congress  \",\"L castigates for promising leniency  \",\"L abuses  \",\"Rahja  Eino\",\"Rapallo\",\"Rappoport  Charles\",\"Ravich  Olga (Safarov’s wife)\",\"Rayment  Henry: teaches English to L\",\"Razin  Stenka\",\"Razliv  \",\"(Kadet newspaper)  \",\"Red Army: formed  \",\"repressions  \",\"in Civil War  \",\"under Trotski’s regime  \",\"occupies territories lost under Brest-Litovsk Treaty  \",\"independence  \",\"Trotski proposes tranferring conscripts to ‘labour armies’  \",\"control of borderlands  \",\"in 1920 war against Poland  \",\"‘revolutionary war’  \",\"Trotski sets up political commissariats  \",\"peasant uprisings  \",\"suppresses Kronstadt naval mutiny  \",\"Reinbot  General and Mrs\",\"religion: in Russian Empire  \",\"Resolution on the Formation of a Workers’ and Peasants’ Government (1917)  \",\"Revolutionary-Military Soviet  \",\"Ricardo  David\",\"Rimski-Korsakov  Nikolai Andreevich\",\"Romania  \",\"Romanov dynasty: status  \",\"L works for overthrow of  \",\"popular hatred of  \",\"family assassinated  \",\"Romberg  Baron Gisbert von\",\"Roosevelt  Franklin D.\",\"Rossolino  Professor Grigori\",\"Rovio  Gustav\",\"Rozanov  Professor Vladimir\",\"Rozhkov  N.A.\",\"Rudzutak  Jan\",\"Rukavishnikov  Vladimir\",\"Russ  Herr (Zurich butcher)\",\"Russell  Bertrand\",\"Russia (pre-revolution Russian Empire): development and change in  \",\"education in  \",\"revolutionary ideas and movements in  \",\"oppressiveness  \",\"capitalism in  \",\"famines \",\"agrarian economy  \",\"popular unrest in  \",\"Manifesto of reforms (1905)  \",\"Bolshevik activities in  \",\"legalises political party newspapers  \",\"(1914)  \",\"L’s separation from in war  \",\"wartime arrests of Bolsheviks  \",\"revolution in  \",\"and outcome of First World War  \",\"Bolshevik revolutionary aims in \",\"1917 offensive in First World War  \",\"Russia (post-revolution): USSR founded  \",\"peace (1917–18)  \",\"terror in  \",\"independent republics in  \",\"state  \",\"isolation  \",\"constitutional structure  \",\"collapses (1991)  \",\"Russian Bureau (of Central Committee)  \",\"Russian Communist Party: L creates  \",\"Russian Organisational Commission  \",\"Russian Social-Democratic Labour Party: L’s proposals for  \",\"draft programme  \",\"Bolshevik-Menshevik split  \",\"organisation  \",\"L’s dominance in \",\"favours revolution  \",\"L recruits activists to  \",\"and 1906 Duma elections  \",\"complicity in bank robberies  \",\"factional disputes  \",\"Conference (1911)  \",\"Prague Conference (1912)  \",\"L’s reputation in  \",\"bureaus \",\"Central Committee: reproaches L  \",\"plenum (1910)  \",\"meets in Paris (1911)  \",\"elections and composition  \",\"concentrates on Russian Empire  \",\"organisation  \",\"supports Provisional Government  \",\"Congresses: 1st (1898)  \",\"2nd (1903)  \",\"3rd (1905)  \",\"4th (1906)  \",\"(1907)  \",\"6th (1917)  \",\"Russian Socialist Federal Soviet Republic (RSFSR): relations with other republics  \",\"(journal)  \",\"Russo-Japanese War (1904–5)  \",\"Russo-Turkish War (1877–8)  \",\"Rykov  Alexei\",\"Sabunaev  M.V.\",\"Safarov  Grigori\",\"St Germain\",\"St Petersburg (Petrograd Leningrad): University  \",\"founded and built  \",\"L in \",\"textile strike in (1895)  \",\"1905 ‘Bloody Sunday’  \",\"L returns to (1905) \",\"Soviet  \",\"(1907)  \",\"connections with Kraków  \",\"1914 strikes  \",\"Bolsheviks arrested in \",\"renamed Petrograd  \",\"February 1917 revolution  \",\"Russia  \",\"cultural vitality  \",\"worker control of factories  \",\"Bolshevik demonstrations (1917 ‘July Days’)  \",\"Finland  \",\"in October Revolution  \",\"L and Krupskaya reunited in  \",\"seat of government from  \",\"L revisits  \",\"Yudenich marches on  \",\"2nd Comintern Congress 1920)  \",\"1921 strikes in  \",\"renamed Leningrad  \",\"Samara  \",\"Samara province  \",\"Samoilov  Fëdor A.\",\"Sapronov  Timofei D.\",\"Sarajevo: 1914 assassinations  \",\"Sarbatova  Varvara\",\"Sasha (housemaid)  \",\"Savelev  Maximilian\",\"Schapiro  Leonard\",\"Scientific Review  The\",\"International  Second (Socialist)\",\"Semashko  Nikolai\",\"Serebryakov  L.P.\",\"Shalyapin  Fëdor\",\"Shevyrëv  Pëtr\",\"Shklovski  G.L.\",\"Shlikhter  Alexander\",\"Shlyapnikov  Alexander\",\"Shmidt  Nikolai P.: legacy\",\"Shotman  Alexander\",\"show trials  \",\"Shteinberg  Isaak\",\"Shukht  Apollon\",\"Shukht  Asya\",\"Shushenskoe (Siberia)  \",\"Siberia: L exiled to  \",\"peasant uprisings (1921)  \",\"Sibiryakov  Konstantin\",\"Ulyanovsk)  \",\"Sismondi  Jean Charles Léonard de\",\"Sklyanski  E.M.\",\"Sklyarenko  Alexei\",\"Skobelev  Mikhail\",\"Skvortsov  Pavel\",\"Skvortsov-Stepanov  Ivan I.\",\"slogans  \",\"(newspaper)  \",\"socialism: L’s practice of  \",\"and international revolution  \",\"Socialist International  Second \",\"International  Second (Socialist)\",\"Sokolniki  \",\"Sokolnikov  Grigori\",\"Sokolov  V.N.\",\"Soloukhin  Valentin\",\"Solzhenitsyn  Alexander\",\"Sorin  Vladimir\",\"soviets: established  \",\"Bolsheviks despise  \",\"L wishes to form basis of power  \",\"Bolsheviks enter  \",\"strength in  \",\"support Sovnarkom  \",\"international usage  \",\"Sovnarkom (Council of People’s Commissars): L sets up  \",\"L chairs  \",\"exercises power  \",\"soviets support  \",\"composition  \",\"at Smolny Institute \",\"proceedings  \",\"breaks up Constituent Assembly  \",\"asserts authority \",\"moves to Moscow  \",\"represses Mensheviks  \",\"and L’s socialist policies  \",\"under authority of Politburo and Orgburo  \",\"administration  \",\"runs one-party state \",\"Spartacus League (Germany)  \",\"Spencer  Herbert\",\"Spengler  Osvald: \",\"Stalin\",\"by Okhrana  \",\"urges L to attempt to persuade Bolshevik deputies  \",\"Government  \",\"opposes land nationalisation  \",\"efficiency  \",\"lodges with Alliluevs  \",\"shaves off L’s beard and moustache  \",\"appointed Commissar for Nationalities Affairs  \",\"refuses compromise with socialist parties  \",\"revolution  \",\"recalls L from holiday for advice  \",\"peace  \",\"in Moscow  \",\"disputes with Trotski  \",\"in Civil War  \",\"in war against Poland  \",\"socialist union  \",\"in ‘trade union discussion’  \",\"approves introduction of NEP  \",\"appendectomy  \",\"and L’s suicidal state  \",\"as party General Secretary  \",\"proposes excluding from Central Committee  \",\"opposes L on foreign trade and constitution \",\"L’s growing hostility to  \",\"deteriorating condition  \",\"and status of Georgia  \",\"secretaries during illness  \",\"abuses Krupskaya  \",\"oversees L’s medical regime \",\"in L’s political testament  \",\"orders burning of L’s ‘Letter to the Congress’  \",\"displeased at L’s health improvement  \",\"L rebukes by letter for abuse of Krupskaya  \",\"attempts to persuade wife to cease being party member  \",\"at 12th Party Congress  \",\"rebuffs Trotski’s Left Opposition  \",\"at L’s death and funeral  \",\"corpse  \",\"relations with Krupskaya after L’s death  \",\"memorialises L  \",\"and regime after L’s death  \",\"and Great Terror  \",\"initiates First Five-Year Plan \",\"Khrushchëv’s revelations on  \",\"prohibits publication of L’s correspondence \",\"Starkov  Vasili V.\",\"Starokonstantinov  \",\"Stasova  Yelena\",\"state  the: disappearance under communism\",\"and terror  \",\"monopolies  \",\"one-party  \",\"‘state capitalism’  \",\"State Planning Commission  \",\"Stockholm: 4th Party Congress in  \",\"L meets mother in  \",\"1917 return to Russia  \",\"Stolypin  Pëtr: reforms\",\"1907 constitutional coup  \",\"Stowe  Harriet Beecher: \",\"Strumpel  Professor A.\",\"Struve  Pëtr: in St Petersburg\",\"on L’s writing  \",\"Democratic-Labour Party  \",\"founds Union of Liberation  \",\"Plekhanov refutes  \",\"Strzhalkovski  V.M.\",\"Stupishin (Nicholas II’s servant)  \",\"Sukhanov  Nikolai\",\"Suliashvili  David\",\"Sulimova  Maria L.\",\"Suny  Ronald\",\"Supreme Council of the National Economy  \",\"Sverdlov  Yakov: arrested\",\"runs L’s Secretariat  \",\"briefs L on return to Petrograd \",\"and Constitutional Assembly elections  \",\"consolidation  \",\"chairs Congress of Soviets Presidium  \",\"promotes Party in provinces \",\"reports on German ultimatum  \",\"in Moscow  \",\"administrative duties  \",\"death  \",\"criticised  \",\"Sviyazhk\",\"Swann  Rev. F.R.\",\"Switzerland: L first visits (1895)  \",\"L revisits (1900)  \",\"L revisits (1903)  \",\"Krupskaya holiday in  \",\"L stays in (1907)  \",\"First World War  \",\"L leaves for Russia after revolution  \",\"Syzran  \",\"Takhtarëv  K.M.\",\"Tambov province  \",\"Tampere (Finland)  \",\"Taratuta  Viktor\",\"Taylor  Frederick Winslow\",\"Chaikovski terror: L on state and  \",\"Trotski advocates  \",\"Theen  Rolf\",\"Thiers  Adolphe\",\"Tikhomirnov  Viktor A.\",\"Tkachëv  Pëtr\",\"Tolstoi  Count Lev\",\"Tomski  Mikhail\",\"‘trade union discussion’  \",\"Trans-Siberian Railway: completed  \",\"Transcaucasian Soviet Federation  \",\"Trepov  Fëdor\",\"Trianon Treaty (1920)  \",\"Trotski  Lev: on political techniques\",\"visits L in London  \",\"Jewishness  \",\"worker government  \",\"in revolutionary St Petersburg (1905)  \",\"speech-making  \",\"organises rival party conference (Vienna)  \",\"international socialists  \",\"influenced by Helphand-Parvus  \",\"joins Bolsheviks  \",\"arrested and imprisoned  \",\"released  \",\"guillotine  \",\"and plans for October Revolution  \",\"in October Revolution  \",\"announces overthrow of Kerenski  \",\"L consults over draft of decrees  \",\"Commissar for External Affairs  \",\"refuses compromise with other socialist parties \",\"concern for general policy  \",\"negotiates at Brest-Litovsk for separate 1918 peace \",\"occupies apartment in Petrograd  \",\"Assembly  \",\"at 7th Party Congress  \",\"in Moscow  \",\"Affairs  \",\"attempts to disarm Czech Legion  \",\"leads Red Army in Civil War  \",\"disputes with Stalin  \",\"and L’s leadership  \",\"terrorist acts  \",\"at First Comintern Congress  \",\"criticised for Red Army organisation \",\"image and acclaim  \",\"disputes with L on economic policy  \",\"proposes militarisation of labour  \",\"in war against Poland  \",\"opposes invading Poland  \",\"advocates NEP  \",\"trade unions  \",\"incurs rancour of party  \",\"suppresses Kronstadt naval mutiny \",\"overwork and strain  \",\"L forbids from travelling to Genoa conference  \",\"proposes excluding from Central Committee  \",\"character and manner  \",\"foreign trade monopoly  \",\"L’s alliance with  \",\"in L’s political testament \",\"L requests to represent Georgian case  \",\"predicts colonial troubles  \",\"12th Party Congress  \",\"criticises party’s weaknesses  \",\"rests at Sukhumi  \",\"L’s death  \",\"memorialises L  \",\"denigrated after L’s death  \",\"writes on L  \",\"Trotskyists: and introduction of NEP  \",\"Tsereteli  Irakli\",\"Tsushima\",\"Tsyurupa  A.D.\",\"Tugan-Baranovski  Mikhail: in St Petersburg\",\"Tukhachevski  General Mikhail\",\"Tula  \",\"Turgenev  Ivan\",\"Turkey (Ottoman Empire): war with Russia (1877–8)  \",\"in First World War  \",\"deal with (1921)  \",\"Turukhansk (Siberia)  \",\"Udelnaya  \",\"Ufa  \",\"Ukhta forced-labour camp  \",\"Ukraine: in Russian Empire  \",\"regional autonomy campaign  \",\"nationalism in  \",\"in German peace terms  \",\"established as Soviet republic  \",\"Piłsudski invades \",\"Stalin wishes to incorporate into RSFSR  \",\"peasant uprisings  \",\"famine  \",\"Ulam  Adam\",\"Ultimatumists  \",\"Ulyanov family  \",\"Ulyanov  Alexander Ilich (L’s elder brother Sasha): hanged\",\"birth  \",\"childhood  \",\"schooling  \",\"battles  \",\"L admires  \",\"studies at St Petersburg University  \",\"death  \",\"criticises L for misbehaviour  \",\"revolutionary activities  \",\"arrested and tried  \",\"moral values  \",\"health problems \",\"diligence in studies  \",\"Ulyanova  Alexandra or Anna (L’s grandmother)\",\"Ulyanova  Anna Ilinichna (L’s elder sister Anyuta): on non-Russian ancestry\",\"birth \",\"visits grandmother  \",\"memoirs and writings on L  \",\"siblings  \",\"marriage  \",\"education and upbringing  \",\"and L’s schooling  \",\"piano-playing  \",\"teacher training  \",\"travels with father  \",\"father’s illness and death  \",\"and brother Alexander’s arrest and execution  \",\"financial position  \",\"and L’s expulsion from university  \",\"marriage to Yelizarov  \",\"helps L  \",\"temper  \",\"helps famine victims  \",\"lives in Moscow  \",\"deference to Struve  \",\"terrorist sympathies  \",\"health problems  \",\"and L’s arrest \",\"and L’s exile in Siberia  \",\"nervous tension  \",\"on L’s rejecting Krupskaya  \",\"on L’s relations with women  \",\"resents and criticises Krupskaya  \",\"wedding  \",\"negotiates for publication of L’s works  \",\"sends books to L in exile  \",\"on family’s Jewish ancestry  \",\"Brittany holiday with L  \",\"political activities  \",\"visits at Sablino (1905)  \",\"on Party factions  \",\"adopts and raises Georgi Lozgachëv  \",\"imprisoned  \",\"on L’s intemperance  \",\"works for Russian Bureau of Central Committee \",\"questions L’s political judgement \",\"L stays with on 1917 return to Petrograd  \",\"devotion to L  \",\"apartment searched  \",\"visits L in Petrograd flat  \",\"husband’s death  \",\"death  \",\"and L’s death amd funeral  \",\"Krupskaya  \",\"and posthumous L cult  \",\"Ulyanova  Antonina (Dmitri’s wife)\",\"Ulyanov  Dmitri Ilich (L’s younger brother Mitya): birth\",\"childhood  \",\"marriage  \",\"and L’s toy soldiers  \",\"and father’s death  \",\"medical practice  \",\"financial position  \",\"education  \",\"in Kazan  \",\"helps L \",\"terrorist sympathies  \",\"teaches L to ride bicycle  \",\"L buys medical book for \",\"on L in prison  \",\"and L’s exile in Siberia  \",\"banished  \",\"gives sporting gun to L  \",\"attends Second Party Congress  \",\"activism  \",\"marriage breakdown  \",\"separation from L  \",\"reunited with L (1919) \",\"on L’s medical condition  \",\"death from stenocardia  \",\"funeral  \",\"Ulyanov  Ilya Nikolaevich (L’s father): and L’s birth\",\"background and career  \",\"personality  ideas and interests\",\"upbringing and education  \",\"educational principles  \",\"home life  \",\"and assassination of Alexander II  \",\"illness and death  \",\"social status  \",\"will  \",\"work ethic  \",\"Ulyanova  Maria Alexandrovna \",\"Blank L’s mother): and L’s birth  \",\"background \",\"courtship and marriage  \",\"family and social life  \",\"character  \",\"and L’s upbringing and education  \",\"beliefs and interests  \",\"Alexander II  \",\"and husband’s death  \",\"widow’s pension and inheritance  \",\"and son Alexander’s arrest and execution  \",\"moves to Kazan  \",\"L’s expulsion from university  \",\"fails to supervise and control L  \",\"estate at Alakaevka  \",\"moves to Samara  \",\"and children’s higher education  \",\"Olga’s death  \",\"and L’s refusal to offer famine relief  \",\"moves to Moscow  \",\"writes to from abroad  \",\"and L’s banishment to Siberia  \",\"affection for  \",\"home in Podolsk  \",\"visits children in exile  \",\"problems  \",\"sells Kokushkino  \",\"visits Krupskaya at Ufa  \",\"holidays with L \",\"hostility to Krupskaya  \",\"accompanies family into exile  \",\"near St Petersburg (1905)  \",\"L meets in Stockholm (1910)  \",\"failing health \",\"death  \",\"L visits grave  \",\"Ulyanova  Maria Ilinichna (L’s younger\",\"sister Manyasha): birth  \",\"writes on L  \",\"relations with siblings  \",\"remains unmarried  \",\"education  \",\"giving up piano  \",\"and brother Alexander’s execution  \",\"financial position  \",\"Kazan  \",\"L teaches  \",\"helps L  \",\"and L’s baldness  \",\"studies  \",\"buys present for  \",\"and L’s exile in Siberia  \",\"nervous tension  \",\"Krupskaya’s joining L in exile  \",\"banished  \",\"devotion to L  \",\"Party Congress  \",\"and L’s poor health  \",\"political activities  \",\"joins L in Paris \",\"cycling trips with L  \",\"reads Bogdanov novel  \",\"ill-health  \",\"teacher of French  \",\"letter from L in Poland  \",\"in Petrograd  \",\"returns to Petrograd with L (1917)  \",\"interrogated about L’s whereabouts  \",\"L’s insurrectionary proposals to Petrograd Soviet  \",\"visits L in Petrograd  \",\"Finnish holiday with L  \",\"accompanies L to Mikhailovski Manège  \",\"Moscow with L and Krupskaya  \",\"warns L of assassination dangers  \",\"attack on L  \",\"attends L after shooting  \",\"accompanies L in Moscow  \",\"joins L at Gorki  \",\"hears L’s admissions of depression  \",\"during illnesses  \",\"death from heart attack  \",\"visits to L at Gorki  \",\"quarrels with Krupskaya  \",\"photographs L at Gorki  \",\"and L’s decline  \",\"and L’s pride in Jewish ancestry  \",\"Stalin quarrels with  \",\"present at L’s coma and death  \",\"improved relations with Krupskaya  \",\"L  \",\"Ulyanov  Nikolai (L’s grandfather)\",\"Ulyanov  Nikolai Ilich (L’s younger brother): birth and death\",\"Ulyanova  Olga Ilinichna (L’s younger sister Olya): birth\",\"childhood  \",\"and brother Alexander’s execution  \",\"education  \",\"financial position  \",\"university studies  \",\"reads Uspenski  \",\"on L in St Petersburg  \",\"helps L \",\"illness  death and burial\",\"L visits grave  \",\"Ulyanov  Vasili Nikolaevich (L’s uncle)\",\"Ulyanov  Viktor (Dmitri’s son)\",\"Ulyanov  Vladimir (Volodya) \",\"Lenin  Vladimir Ilich\",\"Union of Assistance for Political Prisoners  \",\"Union of Liberation  \",\"Union of Struggle for the Emancipation of the Working Class  \",\"United States of America: ends economic blockade of USSR  \",\"Uspenski  Gleb\",\"Vaasa  Kuokkala (Finland)\",\"Vacietis  General I.I.\",\"Valentinov  Nikolai\",\"Velichkina  Vera\",\"Veretennikova  Anna (\",\"Blank L’s aunt)  \",\"Veretennikov  Dmitri\",\"Verkholensk (Siberia)  \",\"Versailles\",\"Vladimir (town)  \",\"Vladimirov  Miron K.\",\"Vodovozova  M.I. (publisher)\",\"Volga region: famines: (1891–2)  \",\"(1921)  \",\"peasant uprisings (1921)  \",\"Volkenshtein  Mikhail\",\"Volkogonov  Dmitri\",\"Volodarski  V.\",\"Volodicheva  Maria\",\"Volunteer Army  \",\"Vorontsov  Vasili P.\",\"Vorovski  Vatslav V.\",\"(‘Forward’ journal)  \",\"Vrangel  General Pëtr N.\",\"Vyborg  \",\"Wagner  Richard\",\"‘War Communism’  \",\"Webb  Sidney and Beatrice: L translates\",\"Weber  Max\",\"Weitling  Wilhelm\",\"Wells  H.G.\",\"White Army  \",\"Witte  Count Sergei\",\"workers: position in Russian Marxist groups  \",\"participation in revolution  \",\"and guiding role of intellectuals  \",\"and formation of socialist government \",\"control factories in Petrograd  \",\"delinquency  \",\"L’s attitude to  \",\"rights reduced  \",\"L calls for greater participation in government  \",\"(newspaper)  \",\"Workers’ Opposition  \",\"Workers’ and Peasants’ Inspectorate  \",\"World War I (1914–18): Russia withdraws from  \",\"and Romanov crisis  \",\"L’s attitude to \",\"outbreak  \",\"socialist attitudes to  \",\"Government continues commitment to  \",\"Russian offensive (1917)  \",\"suspension of  \",\"L demands and agrees separate peace  \",\"(1918)  \",\"L on after-shock of  \",\"Yakubova  Apollonaria Alexandrovna\",\"Yaropolets  \",\"Yaroslavski  Yemelyan\",\"Yelistratov  Dr\",\"Yelizarov  Mark (Anna’s husband): advises on Ulyanov property deals\",\"with Arefev  \",\"marriage to Anna  \",\"lives in Moscow  \",\"and L’s exile  \",\"at Podolsk \",\"visits L in Paris  \",\"adopts Georgi Lozgachëv  \",\"carries L’s mother’s coffin  \",\"L’s 1917 return to St Petersburg  \",\"apartment searched  \",\"death and funeral  \",\"Yeltsin  Boris\",\"Yemelyanov  Nikolai\",\"Yeo  Mrs (London landlady)\",\"Yudenich  General Nikolai\",\"Yudin  Gennadi\",\"Yusupov family  \",\"Zaichnevski  Pëtr G.\",\"Zakopane (Poland)  \",\"Zalezhski  Dr Alexander (L’s cousin)\",\"Zamyatin  Yevgeni\",\"Zasulich  Vera\",\"(organisations)  \",\"(provincial administrative bodies)  \",\"Zetkin  Clara\",\"Zheleznyakov  Anatoli\",\"Zhëltyshev (L’s bodyguard)  \",\"Zhelyabov  Andrei I.\",\"(newspaper)  \",\"Zimmerwald: internationalist socialist conference (1915)  \",\"Zinoviev  Grigori: withdraws support from L\",\"on L’s sense of mission  \",\"Central Committee  \",\"in Kraków  \",\"escapes imprisonment  \",\"cinema  \",\"pardons Malinovski  \",\"stands by L in war  \",\"international socialist conferences  \",\"and L’s return to Russia after revolution  \",\"on L’s discovering Malinovski’s betrayal  \",\"oratory  \",\"arrest warrant for  \",\"in hiding  \",\"opposes L’s plan for October Revolution  \",\"warns of political catastrophe  \",\"disbelieves European socialist revolution  \",\"Party Congress  \",\"in administration of Petrograd  \",\"and L’s leadership  \",\"Comintern Congress  \",\"biography of L  \",\"L criticises for restraining worker actions \",\"and Yudenich’s advance on Petrograd  \",\"favours internal party reform  \",\"in ‘trade union discussion’  \",\"and Kronstadt mutiny (1921)  \",\"incurs rancour of party \",\"supports German Communist Party  \",\"suffers heart attacks  \",\"travelling to Genoa conference  \",\"L proposes demoting  \",\"character and manner \",\"concern over L’s deteriorating condition  \",\"L’s relations with  \",\"successor  \",\"told of Stalin’s abuse of Krupskaya  \",\"Congress  \",\"rebuffs Trotski’s Left Opposition  \",\"visits sick L at Gorki  \",\"death and funeral  \",\"memorialises L  \",\"loses in opposition to Stalin  \",\"Zinoviev  Stepan (GZ’s son)\",\"Zinoviev  Zinaida Lilina\",\"Zola  Émile\",\"Zraggen  Karl\",\"Zubatov  Sergei\",\"Zurich: L in  \",\"Zyuganov  Gennadi\"]"
   ]
  },
  {
   "cell_type": "code",
   "execution_count": 5,
   "id": "4198d693",
   "metadata": {},
   "outputs": [],
   "source": [
    "lenin_final_kw = ['Moscow_Industries', 'Socialist_Movement', 'Russian_Marxists', 'Moscow_Unions', 'Lettish_Marxists', 'Revolutionary_Movement', 'National_Oppression', 'Bourgeois_Intellectualist_Wing', 'Political_Struggle', 'National_War', 'Marxist_Intelligentsia', 'Bourgeois_Views', 'Imperialist_Economism', 'Capitalist_Production', 'Bourgeois_Nationalism', 'National_Movements', 'Russian_Movement', 'Marxists', 'Historische_Leistung_Von_Karl_Marx', 'Political_Agitation', 'Moscow_Comrades', 'Socialist_Revolution', 'Moscow_Uprising', 'Tsar', 'Lenin', 'Selitba_And_Vacha', 'Agricultural', 'Book_Moscow', 'Marxism', 'Economism', 'Tsarism', 'Weaving_Industries', 'Dutch_Programme', 'Russian_Industry', 'Russian', 'Time_Orthodox_Marxist', 'Bolsheviks', 'Comrade_Plekhanov', 'European_Russia', 'Moscow_Gubernia', 'Political', 'Moscow', 'Europeanise_Russia', 'Revolutionary_Character', 'Revolutionary_Raznochintsi', 'Narodnik_Russkoye_Bogatstvo', 'Peasant_Industries', 'Revolution', 'Tsarist_Monarchy', 'War', 'Marxist',]"
   ]
  },
  {
   "cell_type": "code",
   "execution_count": 17,
   "id": "402dadd8",
   "metadata": {},
   "outputs": [],
   "source": [
    "lenin_final_kw = [\" \".join(s1.split('_') ) for s1 in lenin_final_kw]"
   ]
  },
  {
   "cell_type": "code",
   "execution_count": 9,
   "id": "dda2aeb9",
   "metadata": {},
   "outputs": [],
   "source": [
    "import json\n",
    "mp_bert,mp_yake,mp_rakun = {},{},{}\n",
    "with open(\"mp_lenin_bert.json\", \"r\") as outfile:\n",
    "    mp_bert = json.load(outfile)\n",
    "\n",
    "with open(\"mp_lenin_yake.json\", \"r\") as outfile:\n",
    "    mp_yake = json.load(outfile)\n",
    "\n",
    "with open(\"mp_lenin_rakun.json\", \"r\") as outfile:\n",
    "    mp_rakun = json.load(outfile)"
   ]
  },
  {
   "cell_type": "code",
   "execution_count": 57,
   "id": "41aba9dd",
   "metadata": {},
   "outputs": [],
   "source": [
    "lenin_index = [ele.strip().title() for ele in lenin_index]"
   ]
  },
  {
   "cell_type": "code",
   "execution_count": 58,
   "id": "0fdba29b",
   "metadata": {},
   "outputs": [
    {
     "data": {
      "text/plain": [
       "2247"
      ]
     },
     "execution_count": 58,
     "metadata": {},
     "output_type": "execute_result"
    }
   ],
   "source": [
    "len(lenin_index)"
   ]
  },
  {
   "cell_type": "code",
   "execution_count": 16,
   "id": "c4b55e92",
   "metadata": {},
   "outputs": [
    {
     "name": "stdout",
     "output_type": "stream",
     "text": [
      "{'First World War', 'World War', 'Bolsheviks', 'Petersburg', 'Petrograd Soviet'}\n",
      "precision 0.05   and recall 0.0024390243902439024\n",
      "{'Party', 'Stalin', 'German Communist Party', 'War', 'Central Committee', 'Party Congress', 'International Socialist Bureau'}\n",
      "precision 0.07   and recall 0.0034146341463414634\n",
      "{'Revolution', 'Editorial Board', 'Trade Unions', 'Socialist Revolution', 'Socialist Coalition'}\n",
      "precision 0.06172839506172839   and recall 0.0024390243902439024\n"
     ]
    },
    {
     "data": {
      "text/plain": [
       "(0.0024390243902439024, 0.06172839506172839)"
      ]
     },
     "execution_count": 16,
     "metadata": {},
     "output_type": "execute_result"
    }
   ],
   "source": [
    "bert_kws = fetch_kws(mp_bert)\n",
    "eval_keywords(lenin_index,bert_kws)\n",
    "\n",
    "yake_kws = fetch_kws(mp_yake)\n",
    "eval_keywords(lenin_index,yake_kws)\n",
    "\n",
    "rakun_kws = fetch_kws(mp_rakun)\n",
    "eval_keywords(lenin_index,rakun_kws)"
   ]
  },
  {
   "cell_type": "code",
   "execution_count": 19,
   "id": "b6531b88",
   "metadata": {},
   "outputs": [
    {
     "name": "stdout",
     "output_type": "stream",
     "text": [
      "{'Moscow', 'Revolution', 'Socialist Revolution', 'War', 'Bolsheviks'}\n",
      "precision 0.09803921568627451   and recall 0.0024390243902439024\n"
     ]
    },
    {
     "data": {
      "text/plain": [
       "(0.0024390243902439024, 0.09803921568627451)"
      ]
     },
     "execution_count": 19,
     "metadata": {},
     "output_type": "execute_result"
    }
   ],
   "source": [
    "eval_keywords(lenin_index,lenin_final_kw)"
   ]
  },
  {
   "cell_type": "markdown",
   "id": "3f98882b",
   "metadata": {},
   "source": [
    "## Lincoln"
   ]
  },
  {
   "cell_type": "code",
   "execution_count": 41,
   "id": "1bd453fa",
   "metadata": {},
   "outputs": [],
   "source": [
    "lin_kws_final = ['Funeral_Train_1864', 'Army_Corps_1862', 'Sarah_Lincoln_1830', 'State_1852', 'States_1862', 'Military_Service_1863', 'South_Carolina_1861', 'Confederates_1861', 'Lincoln_1860', 'State_1861', 'Inauguration_1861', 'President_Lincoln_1861', 'Rebel_Government_1861', 'Pride_And_Foolishness_1864', 'Army_1862', 'Presidency_1860', 'President_1862', 'States_1863', 'Abe_Lincoln_1837', 'States_1861', 'Election_1852', 'Earnestness_1852', 'Exclude_Slavery_1858', 'Commanders_1862', 'Government_1862', 'Confederate_Government_1861', 'Senator_Douglas_1858', 'Mrs._Lincoln_1830', 'Douglas_1858', 'Republican_Party_1860', 'Generals_1862', 'Emancipation_Policy_1862', 'Confederate_Commissioners_1861', 'Republican_Candidate_1860', 'Term_Judge_Douglas_1858', 'Whig_Party_1846', 'Judge_Douglas_1858', 'Military_Emancipation_1862', 'Constitutionally_Elect_1860', 'Medical_Authorities_1862', 'Abolition_1860', 'Presidential_Election_1865', 'Abraham_Lincoln_1830', 'Sovereignty_1861', 'Eﬀiciency_In_Advocating_1858', 'Presidential_Election_1858', 'Political_Principles_1852', 'Lincoln_1830', 'General_Smith_1865', 'Abraham_Lincoln_1819', 'Greene_1832', 'Military_Necessity_1862', 'Slavery_Question_1863', 'Abraham_Lincoln_1860', 'Presidential_Election_1864', 'White_House_1862', 'Republican_Party_1864', 'Capital_1862', 'General_Sherman_1865', 'Abe_Lincoln_1860', 'Elect_President_1860', 'Thomas_Lincoln_1830', 'Rebellion_1862', 'Lincoln_Cabin_1819', 'Read_Lawyer_1837', 'United_States_1863', 'Dred_Scott_Decision_1858', 'Father_Desire_1809', 'General_Jackson_1832', 'National_Whig_Convention_1846', 'Abraham_Lincoln_1864', 'President_1865', 'Time_Abraham_1819', 'Abraham_1830', 'Presidency_1846', 'Whig_Man_1846', 'Devotion_1852', 'Speeches_1860', 'Preliminary_Proclamation_1862', 'Compromise_Measures_1852', 'General_1862', 'Buchanan_1860', 'Slavery_Question_1852', 'Slavery_Character_1834', 'Rebellion_1861', 'Prohibiting_Slavery_1865', 'Confederacy_1865', 'Captain_Lincoln_1832', 'Destruction_1861', 'Government_1861', 'President_1863', 'Defendant_1837', 'Slavery_Sentiment_1834', 'Douglas_1852', 'Whig_Members_1846', 'Rebels_1864', 'Confederacy_1864', 'Candidates_1832', 'Qualities_1860', 'General_Scott_1861', 'General_Taylor_1846', 'Abraham_1819', 'United_States_1861', 'Polk_And_Johnson_1861', 'Lincoln_Men_1860', 'Thomas_Lincoln_1819', 'Whig_1846', 'Powerful_And_Famous_1852']"
   ]
  },
  {
   "cell_type": "code",
   "execution_count": 42,
   "id": "3e1c9fca",
   "metadata": {},
   "outputs": [],
   "source": [
    "lin_kws_final = [\" \".join(s1[:s1.rindex('_')].split('_') ) for s1 in lin_kws_final]"
   ]
  },
  {
   "cell_type": "code",
   "execution_count": 43,
   "id": "28a05f95",
   "metadata": {},
   "outputs": [
    {
     "data": {
      "text/plain": [
       "['Funeral Train',\n",
       " 'Army Corps',\n",
       " 'Sarah Lincoln',\n",
       " 'State',\n",
       " 'States',\n",
       " 'Military Service',\n",
       " 'South Carolina',\n",
       " 'Confederates',\n",
       " 'Lincoln',\n",
       " 'State',\n",
       " 'Inauguration',\n",
       " 'President Lincoln',\n",
       " 'Rebel Government',\n",
       " 'Pride And Foolishness',\n",
       " 'Army',\n",
       " 'Presidency',\n",
       " 'President',\n",
       " 'States',\n",
       " 'Abe Lincoln',\n",
       " 'States',\n",
       " 'Election',\n",
       " 'Earnestness',\n",
       " 'Exclude Slavery',\n",
       " 'Commanders',\n",
       " 'Government',\n",
       " 'Confederate Government',\n",
       " 'Senator Douglas',\n",
       " 'Mrs. Lincoln',\n",
       " 'Douglas',\n",
       " 'Republican Party',\n",
       " 'Generals',\n",
       " 'Emancipation Policy',\n",
       " 'Confederate Commissioners',\n",
       " 'Republican Candidate',\n",
       " 'Term Judge Douglas',\n",
       " 'Whig Party',\n",
       " 'Judge Douglas',\n",
       " 'Military Emancipation',\n",
       " 'Constitutionally Elect',\n",
       " 'Medical Authorities',\n",
       " 'Abolition',\n",
       " 'Presidential Election',\n",
       " 'Abraham Lincoln',\n",
       " 'Sovereignty',\n",
       " 'Eﬀiciency In Advocating',\n",
       " 'Presidential Election',\n",
       " 'Political Principles',\n",
       " 'Lincoln',\n",
       " 'General Smith',\n",
       " 'Abraham Lincoln',\n",
       " 'Greene',\n",
       " 'Military Necessity',\n",
       " 'Slavery Question',\n",
       " 'Abraham Lincoln',\n",
       " 'Presidential Election',\n",
       " 'White House',\n",
       " 'Republican Party',\n",
       " 'Capital',\n",
       " 'General Sherman',\n",
       " 'Abe Lincoln',\n",
       " 'Elect President',\n",
       " 'Thomas Lincoln',\n",
       " 'Rebellion',\n",
       " 'Lincoln Cabin',\n",
       " 'Read Lawyer',\n",
       " 'United States',\n",
       " 'Dred Scott Decision',\n",
       " 'Father Desire',\n",
       " 'General Jackson',\n",
       " 'National Whig Convention',\n",
       " 'Abraham Lincoln',\n",
       " 'President',\n",
       " 'Time Abraham',\n",
       " 'Abraham',\n",
       " 'Presidency',\n",
       " 'Whig Man',\n",
       " 'Devotion',\n",
       " 'Speeches',\n",
       " 'Preliminary Proclamation',\n",
       " 'Compromise Measures',\n",
       " 'General',\n",
       " 'Buchanan',\n",
       " 'Slavery Question',\n",
       " 'Slavery Character',\n",
       " 'Rebellion',\n",
       " 'Prohibiting Slavery',\n",
       " 'Confederacy',\n",
       " 'Captain Lincoln',\n",
       " 'Destruction',\n",
       " 'Government',\n",
       " 'President',\n",
       " 'Defendant',\n",
       " 'Slavery Sentiment',\n",
       " 'Douglas',\n",
       " 'Whig Members',\n",
       " 'Rebels',\n",
       " 'Confederacy',\n",
       " 'Candidates',\n",
       " 'Qualities',\n",
       " 'General Scott',\n",
       " 'General Taylor',\n",
       " 'Abraham',\n",
       " 'United States',\n",
       " 'Polk And Johnson',\n",
       " 'Lincoln Men',\n",
       " 'Thomas Lincoln',\n",
       " 'Whig',\n",
       " 'Powerful And Famous']"
      ]
     },
     "execution_count": 43,
     "metadata": {},
     "output_type": "execute_result"
    }
   ],
   "source": [
    "lin_kws_final"
   ]
  },
  {
   "cell_type": "code",
   "execution_count": 45,
   "id": "c8aa9f15",
   "metadata": {},
   "outputs": [],
   "source": [
    "garrywill_idx = [\"Careful Preparation\",\"Rhetorical Analysis\",\"Constitutional Doctrine\",\"Connection with Declaration of Independence\",\"Transcendentalist Connections\",\"Impersonality\",\"Comparison with Everett\",\"Comparison with Epitaphioi\",\"Four score\",\"our fathers\",\"brought forth\",\"on this continent\",\"dedicated to the proposition\",\"Now we\",\"testing\",\"any nation\",\"consecrate\",\"gave their lives\",\"ﬁtting and proper\",\"we say here\",\"they did here\",\"task remaining\",\"measure of devotion\",\"these dead\",\"under God\",\"new birth\",\"of the people\",\"by the people\",\"from the earth\",\"Index to Other Major Lincoln Texts\",\"Lyceum Speech\",\"Sub-Treasury Speech\",\"Temperance Speech\",\"“My Childhood Home”\",\"Mexican War Speech\",\"Clay Eulogy\",\"Scott Club Speech\",\"Kansas-Nebraska Speech\",\"Dred Scott Speech\",\"House Divided Speech\",\"Chicago Speech\",\"Debates with Douglas\",\"Ottawa\",\"Charleston\",\"Galesburg\",\"Alton\",\"Speech on Inventions\",\"New Haven Speech\",\"Farewell to Springﬁeld\",\"Trenton Speech\",\"First Inaugural\",\"Fast Proclamation\",\"Letter to Greeley\",\"Emancipation Revocation\",\"Annual Message to Congress\",\"Emancipation Proclamation\",\"Letter to Conkling\",\"Annual Message to Congress\",\"Letter to Hodges\",\"Letter to Robinson\",\"\",\"Reconstruction Speech\",\"Index\",\"Adams  Henry\",\"Aeschylus  51\",\"Anderson  Dwight\",\"Apollo  159\",\"Ariès  Philippe\",\"Bachelder  John B.\",\"Bancroft  George\",\"Banquo (char.)  81\",\"Barton  William\",\"Basler  Roy\",\"Baugher  H. L.\",\"Benton  Thomas Hart\",\"Bernini  Giovanni Lorenzo\",\"Bismark  Otto von\",\"Blair  Hugh\",\"Bliss  Colonel\",\"Boot  John (char.)\",\"Booth  John Wilkes\",\"Bork  Robert\",\"Bradford  M. E.\",\"Brooks  Noah\",\"Brown  John\",\"Bryant  William Cullen\",\"Buchanan  James\",\"Burke  Edmund\",\"Byron  George Gordon\",\"Cairns  Huntington\",\"Calhoun  John C.\",\"Cameron  Simon\",\"Carlyle  Thomas\",\"Carroll  Lewis\",\"Catiline  82\",\"Chapman  John Jay\",\"Chase  Salmon\",\"Chastellux  Marquis de\",\"Cicero  82\",\"Cincinnatus  42\",\"Claudius (char.)  151\",\"Clausewitz  Carl von\",\"Clay  Henry\",\"Cleidemus  49\",\"Columbus  Christopher\",\"Conkling  James C.\",\"Cooper  Lane\",\"Cunliffe  Marcus\",\"Curtin  Andrew\",\"Davis  David\",\"Davis  Jefferson\",\"Demosthenes  60\",\"Dickens  Charles\",\"Dionysos  51\",\"Dombey  Paul (char.)\",\"Douglas  Stephen\",\"66\",\"Dunlap  Lloyd\",\"Emerson  Ralph Waldo\",\"Euclid  162\",\"Everett  Edward\",\"148  151\",\"Falstaff (char.)  152\",\"Fehrenbacher  Don\",\"Fell  Jesse\",\"Finn  Huckleberry (char.)\",\"Fish  Mrs. Hamilton\",\"Fonda  Henry\",\"Forgie  George\",\"Frassanito  William A.\",\"Fredrickson  George\",\"Frémont  John C.\",\"French  B. B.\",\"Garrison  William Lloyd\",\"George III  King of England\",\"Gertrude (char.)  151\",\"Gilbert  Joseph L.\",\"Goethe  Johann Wolfgang von\",\"Gog  115–16\",\"Gorgias  58\",\"Grangerford  Emmeline (char.)\",\"Grant  Ulysses S.\",\"Greeley  Horace\",\"Grote  George\",\"Grow  Galusha\",\"Guildenstern (char.)  151\",\"Hackett  James\",\"Hale  Charles\",\"Halleck  Henry W.\",\"Hamilton  Edith\",\"Hamlet (char.)  74–76\",\"Harrison  Kathleen Georg\",\"Harte  Bret\",\"Haupt  Herman\",\"Hay  John\",\"Hayne  Isaac\",\"Hayne  Robert\",\"Heeren  Arnold H. L.\",\"Heine  Heinrich\",\"Hemingway  Ernest\",\"Henry  Joseph\",\"Henry V  King of England\",\"Herakles  57\",\"Herndon  William\",\"Hitler  Adolf\",\"Hofstadter  Richard\",\"Hölderlin  Friedrich\",\"Holt  Judge\",\"Homer  161\",\"Houghton  Henry O.\",\"Howe  Julia Ward\",\"Howells  William Dean\",\"Hunter  David\",\"Hurt  James\",\"Huston  Walter\",\"Hyperides  60\",\"Jackson  Andrew\",\"Jaffa  Harry\",\"Jefferson  Thomas\",\"Jim (char.)  99\",\"Joan of Arc  72\",\"Johnson  Lyndon\",\"Johnson  Richard M.\",\"Keats  John\",\"Keegan  John\",\"Kendall  Willmoore\",\"Kennedy  John F.\",\"King  William R.\",\"Klement  Frank\",\"Knox  Bernard\",\"Lachaise  Père\",\"Lafayette  Marquis de\",\"Lambert  William Harrison\",\"Lamon  Ward\",\"Landor  Walter Savage\",\"Lee  Robert E.\",\"Lenin  V. L\",\"Lincoln  Mary\",\"Longfellow  Henry Wadsworth\",\"Loraux  Nicole\",\"Lowell  James Russell\",\"Lowell  Robert\",\"Lyman  Theodore\",\"Macaulay  Thomas Babington\",\"McClellan  George\",\"McConaughy  David\",\"McKinley  William\",\"McPherson  James\",\"Marshall  John\",\"Massey  Raymond\",\"Meade  George Gordon\",\"Mearns  David\",\"Méese  Edwin\",\"Miller  J. Hillis\",\"Miller  Perry\",\"Milton  John\",\"Nevins  Allan\",\"Nicolay  John\",\"Noah  115–16\",\"Oakes  James\",\"Ophelia (char.)  76\",\"Orestes  51\",\"Parker  Theodore\",\"Parkman  Francis\",\"Pericles  41–42\",\"Pestalozzi  J. H.\",\"Phelps  General\",\"Phillips  Wendell\",\"Pickett  George\",\"Pierce  Franklin\",\"Pitt  William\",\"Plato  53\",\"Poe  Edgar Allan\",\"Polk  James\",\"Pope  Alexander\",\"Prescott  William\",\"Quantrill  William\",\"Ramsay  Alexander\",\"Randall  J. G.\",\"Reagan  Ronald\",\"Reid  Whitlaw\",\"Revere  Paul\",\"Robert  James A.\",\"Roosevelt  Franklin D.\",\"Roosevelt  Theodore\",\"Rosencrantz (char.)  151\",\"Rousseau  Jean-Jacques\",\"Ruskin  John\",\"Saunders  William\",\"Schleiermacher  Friedrich\",\"Schlesinger  Arthur\",\"Schwartz  Thomas\",\"Scott  Dred\",\"Scott  Walter\",\"Scott  Winﬁeld\",\"Selleck  W. Y.\",\"Seward  William\",\"Seymour  Horatio\",\"Shakespeare  William\",\"Shelley  Percy Bysshe\",\"Sheridan  Richard B.\",\"Slade  William\",\"Sloane  David Charles\",\"Smiley  Charles\",\"Speed  Joshua\",\"Stampp  Kenneth\",\"Stanton  Edwin M.\",\"Stephens  Alexander\",\"Stevens  Thaddeus\",\"Stockton  T. H.\",\"Story  Joseph\",\"Strozier  Charles\",\"Sumner  Charles\",\"Swett  Leonard\",\"Taney  Roger\",\"Theresa  Saint\",\"Thucydides  41\",\"Tilberg  Frederick\",\"Titian  211\",\"Tocqueville  Alexis de\",\"Truman  Harry S.\",\"Twain  Mark\",\"Vidal  Gore\",\"Virgil  45\",\"Warren  Louis A.\",\"Washington  George\",\"Waugh  Evelyn\",\"Webster  Daniel\",\"Weems  Mason\",\"Welles  Orson\",\"Wellington  Arthur Wellesley\",\"Whitman  Walt\",\"Whittier  John Greenleaf\",\"Wills  David\",\"Wilson  Edmund\",\"Wilson  James\",\"Wolf  Friedrich August\",\"Wordsworth  William\",\"Wortley  Lady Emmeline Stuart\",\"Zarefsky  David\",\"Ziolkowski John\"]"
   ]
  },
  {
   "cell_type": "code",
   "execution_count": 47,
   "id": "acf903b2",
   "metadata": {},
   "outputs": [],
   "source": [
    "garrywill_idx = [re.sub(r'\\s+', ' ', ele) for ele in garrywill_idx]\n",
    "garrywill_idx = [ele.strip().title() for ele in garrywill_idx]"
   ]
  },
  {
   "cell_type": "code",
   "execution_count": 54,
   "id": "1cb75fd6",
   "metadata": {},
   "outputs": [
    {
     "data": {
      "text/plain": [
       "301"
      ]
     },
     "execution_count": 54,
     "metadata": {},
     "output_type": "execute_result"
    }
   ],
   "source": [
    "len(garrywill_idx)"
   ]
  },
  {
   "cell_type": "code",
   "execution_count": 20,
   "id": "20ebef1b",
   "metadata": {},
   "outputs": [
    {
     "name": "stdout",
     "output_type": "stream",
     "text": [
      "{'Emancipation Proclamation', 'Charleston'}\n",
      "precision 0.02040816326530612   and recall 0.006666666666666667\n",
      "set()\n",
      "precision 0.0   and recall 0.0\n",
      "{'Emancipation Proclamation'}\n",
      "precision 0.007462686567164179   and recall 0.0033333333333333335\n"
     ]
    },
    {
     "data": {
      "text/plain": [
       "(0.0033333333333333335, 0.007462686567164179)"
      ]
     },
     "execution_count": 20,
     "metadata": {},
     "output_type": "execute_result"
    }
   ],
   "source": [
    "mp_lin_bert,mp_lin_yake,mp_lin_rakun = {},{},{}\n",
    "with open(\"mp_lin_bert.json\", \"r\") as outfile:\n",
    "    mp_lin_bert = json.load(outfile)\n",
    "with open(\"mp_lin_yake.json\", \"r\") as outfile:\n",
    "    mp_lin_yake = json.load(outfile)\n",
    "\n",
    "with open(\"mp_lin_rakun.json\", \"r\") as outfile:\n",
    "    mp_lin_rakun = json.load(outfile)\n",
    "    \n",
    "bert_kws = fetch_kws(mp_lin_bert)\n",
    "eval_keywords(garrywill_idx,bert_kws)\n",
    "\n",
    "yake_kws = fetch_kws(mp_lin_yake)\n",
    "eval_keywords(garrywill_idx,yake_kws)\n",
    "\n",
    "rakun_kws = fetch_kws(mp_lin_rakun)\n",
    "eval_keywords(garrywill_idx,rakun_kws)"
   ]
  },
  {
   "cell_type": "code",
   "execution_count": 49,
   "id": "50925605",
   "metadata": {},
   "outputs": [
    {
     "name": "stdout",
     "output_type": "stream",
     "text": [
      "set()\n",
      "precision 0.0   and recall 0.0\n"
     ]
    },
    {
     "data": {
      "text/plain": [
       "(0.0, 0.0)"
      ]
     },
     "execution_count": 49,
     "metadata": {},
     "output_type": "execute_result"
    }
   ],
   "source": [
    "eval_keywords(garrywill_idx,lin_kws_final)"
   ]
  },
  {
   "cell_type": "code",
   "execution_count": 51,
   "id": "49d25182",
   "metadata": {},
   "outputs": [],
   "source": [
    "ted_idx = [\"abolition  abolitionists\",\"Adams  Charles Francis\",\"Washington  D.C. as viewed by\",\"Adams  Charles Francis\",\"Adams  Henry\",\"on beauty of Southern landscape\",\"end of U.S. democratic experiment foreseen by\",\"on February 12 Washington ball\",\"on plot to seize Capitol\",\"ruins as fascination of\",\"Southern attack on Washington feared by\",\"on unreadiness of old families for coming war\",\"Washington  D.C. as viewed by\",\"Adams  John\",\"on democracy’s short lifespan\",\"Adams  John Quincy\",\"in 1824 election\",\"Adams  Mount (Cincinnati)\",\"Adams family  at Washington’s Birthday dinner\",\"Addams  Jane\",\"and AL’s departure from Springfeld\",\"in AL’s funeral procession\",\"at AL’s inauguration\",\"AL’s James riverbank speech to\",\"in Baltimore\",\"Civil War infux into Washington of\",\"Declaration of Independence and\",\"Independence Hall as viewed by\",\"in Washington  D.C.\",\"railroads and\",\"South and\",\"Alabama  secession of\",\"Albany  N.Y.:\",\"AL’s need for support of\",\"AL’s speech to legislature in\",\"Dudley Observatory in\",\"ice foes in\",\"notoriety of\",\"Old Capitol in\",\"political factions in\",\"receptions for AL in\",\"unruly crowds in\",\"Albany Congress (1754)\",\"Allegheny Arsenal\",\"Allegheny City railroad station\",\"Allegheny Mountains\",\"Allegheny River\",\"1823 fre on\",\"Allen  Lewis F.\",\"Alliance  Ohio\",\"Alton and Sangamon Railroad\",\"American Crisis  The (Paine)\",\"American Express\",\"American Revolution\",\"“American System\",\"Anderson  Robert\",\"Anderson River\",\"Annapolis Junction  Md.\",\"Anthony  Susan B.\",\"Apostate  The (melodrama)\",\"Appomattox Court House  Va.\",\"Appomattox River\",\"Arlington House (Washington  D.C.)\",\"as shrine to George Washington\",\"Washington’s Birthday dinner at\",\"ARPANET\",\"Arthur  Chester Alan\",\"Ashtabula  Ohio\",\"Ashtabula River\",\"assassination plots against Lincoln\",\"AL’s warnings about\",\"Baltimore as center of\",\"Baltimore police implicated in\",\"congressional hearing on\",\"and discovery of grenade aboard Special\",\"Dix’s discovery of\",\"Felton’s countermeasures against\",\"Pinkerton’s infltration of\",\"Scott’s investigation of\",\"Associated Press\",\"Astor House (New York City)\",\"AL’s 1860 stay at\",\"AL’s speech from portico of\",\"as headquarters of AL’s 1860 campaign\",\"reception for AL in\",\"Rotunda in\",\"Atlantic & Great Western Railway (Ryder)\",\"Atlantic Monthly\",\"Atlas Shrugged (Rand)\",\"Atropos (fate)  railroad as\",\"Audubon  John James\",\"automobiles\",\"Bachmann  John\",\"Bagby  Sara Lucy\",\"balloons  balloonists\",\"Ballou’s Pictorial Drawing-Room Companion\",\"Baltimore  Md.\",\"African-Americans in\",\"AL warned to bypass in journey to Washington\",\"angry crowd in\",\"anti-immigrant gangs in\",\"betting on AL’s chances of survival in\",\"Camden Street Station\",\"as center of plot to assassinate AL\",\"383\",\"cosmopolitanism of\",\"lack of connection between rail lines in\",\"pro-Southern militias in\",\"racial tension in\",\"response to AL’s election in\",\"Special’s passage through\",\"Baltimore and Ohio Railroad\",\"bridges of\",\"Washington Depot of\",\"Baltimore Sun\",\"Banneker  Benjamin\",\"Barnum  P. T.\",\"Bates House (Indianapolis)\",\"beards  symbolism of\",\"Beaumont  Gustave de\",\"Bedell  Grace\",\"AL’s meeting with\",\"Bedloe’s (Liberty) Island\",\"Beecher  Henry Ward\",\"Beecher  Lyman\",\"Beeson  John\",\"Bell  John\",\"Bement  Ill.\",\"Benjamin  Judah\",\"Best Friend of Charleston (locomotive)\",\"Billings  Grace Bedell\",\"Bird  Isabella\",\"Black Codes\",\"Bladensburg  Battle of\",\"Bligh  William\",\"Booth  Edwin\",\"Booth  John Wilkes\",\"acting career of\",\"in Albany\",\"assassination of AL by\",\"failed oil venture of\",\"as Southern sympathizer\",\"Booth  Junius\",\"border states\",\"AL’s need to hold onto\",\"Confederate agents in\",\"Boudinot  Elias\",\"boundary stones\",\"Brady  Mathew\",\"Breckenridge  John C.\",\"as ardently pro-slavery\",\"as Confederate secretary of war\",\"in 1860 election\",\"as keeper of 1860 electoral certi cates\",\"Brown  Henry “Box\",\"Brown  John\",\"execution of\",\"Browne  Charles F. (Artemus Ward)\",\"Browning  Orville\",\"inaugural draft edits of\",\"Buchanan  James\",\"failing health of\",\"post-1860 election irrelevance of\",\"recognition of Confederacy considered by\",\"slavery and\",\"collapse of\",\"corruption of\",\"defections to Confederacy from\",\"Southern sympathizers in\",\"buckeye (Aesculus maxima)\",\"Bu alo  N.Y.\",\"AL’s speech in\",\"American Hotel in\",\"assassination of McKinley in\",\"credit revolution and\",\"grain shipments through\",\"immigrants in\",\"impact of Erie Canal on\",\"rapid growth of\",\"Special’s arrival in\",\"Special’s departure from\",\"unruly crowds in\",\"Buﬀalo Commercial Advertiser\",\"Buﬀalo Courier\",\"Buﬀalo Daily Republic\",\"Bu alo River\",\"Bunyan  John\",\"Burnet House (Cincinnati)\",\"Burns  George H.\",\"Burr  Aaron\",\"Burroughs  John\",\"Bush  James S.\",\"Bush  Samuel\",\"Bush family\",\"Cadiz Junction  Ohio\",\"Calhoun  John C.\",\"Cameron  Simon\",\"Cannon  Joseph\",\"Capitol  U.S.\",\"AL laying in state in\",\"AL’s inaugural crowd at\",\"faulty ventilation system of\",\"Keeper of the Tomb at\",\"rumored plots to seize\",\"un nished dome of\",\"Capitoline\",\"Carnegie  Andrew\",\"Carrington Event (1859 solar  are)\",\"Cash  Johnny\",\"Cass  Lewis\",\"Castle Garden (New York City)\",\"“Celestial Railroad  The” (Hawthorne)\",\"census  U.S.\",\"Chambrun  Marquis de\",\"Charleston  Ill.\",\"Charleston  S.C.\",\"railroads in\",\"response to AL’s election in\",\"Washington’s Birthday cannonades in\",\"Charleston Harbor\",\"Charleston Mercury\",\"Charlottesville  Va.\",\"Chase  Salmon P.\",\"Chenery House\",\"Chesapeake Bay\",\"Chesnut  Mary\",\"Chester County Times\",\"Chevalier  Michel\",\"Chicago  Ill.\",\"AL’s November 21 meeting with Hannibal in\",\"1860 Republican Convention in\",\"impact of railroad on\",\"Lincoln Park in\",\"as railroad hub\",\"Chicago Tribune\",\"Chittenden  Lucius\",\"Church  Frederic\",\"Churchill  Jennie Jerome\",\"Churchill  Winston\",\"Cincinnati  Ohio\",\"AL’s procession through\",\"AL’s speeches in\",\"AL’s visits to\",\"bridge over Ohio in\",\"Confederate agents in\",\"as convergence of North  South\",\"feminist pioneers in\",\"German-American community in\",\"huge crowds in\",\"impact of railroads on\",\"intellectual ferment in\",\"Jewish population of\",\"Kentucky compared to\",\"large crowds in\",\"population growth in\",\"pork industry in\",\"slavery issue in\",\"as Underground Railroad depot\",\"Cincinnati Daily Enquirer\",\"City of New York (balloon)\",\"City Point  AL’s visit to\",\"Civil War  U.S.:\",\"AL’s prediction of\",\"casualties of\",\"democracy as deepened during\",\"economic impact of\",\"telegraph and\",\"Clay  Henry\",\"Cleaveland  Moses\",\"Cleveland  Grover\",\"Cleveland  Ohio\",\"AL’s speech in\",\"antislavery rallies in\",\"crowds in\",\"Cuyahoga River  re in\",\"Euclid Avenue in\",\"“Forest City” nickname of\",\"iron and steel industry in\",\"oil re neries in\",\"Pittsburgh’s close ties with\",\"public education in\",\"railroad’s impact on\",\"Rockefeller in\",\"Special’s arrival in\",\"Special’s departure from\",\"writers’ favorable impressions of\",\"Cleveland  Painesville and Ashtabula Railroad\",\"Cleveland Grays\",\"Cleveland Journal\",\"Cleveland Plain Dealer\",\"climate change\",\"Clotilda\",\"Clyde  N.Y.\",\"coal\",\"Cobb  Howell\",\"in defection to Confederacy\",\"Coggeshall  William\",\"Monthly Magazine of the West published by\",\"Cold Spring  N.Y.\",\"Colfax  Schuyler P.\",\"Columbus  Ohio\",\"AL’s 1859 campaign visit to\",\"AL’s speech in\",\"birds-eye view of\",\"German-American community in\",\"huge crowds in\",\"literary scene in\",\"political importance of\",\"as railroad hub\",\"Special’s arrival in\",\"Special’s departure from\",\"Union Station in\",\"Comet  The (locomotive)\",\"Common Sense (Paine)\",\"Confederate States of America\",\"Buchanan Cabinet members in defection to\",\"collapse of\",\"Congress of\",\"Davis as president of\",\"as dependent on U.S. mail delivery\",\" ag of\",\"founding of\",\"Northern support for\",\"Congress  U.S.:\",\"AL’s term in\",\"assassination plot hearing of\",\"calls for recognition of Confederacy in\",\"in counting of electoral votes\",\"stalemate in\",\"see also House of Representatives  U.S.; Senate\",\"Conkling  James C.\",\"Connecticut\",\"Constitution (locomotive)\",\"Constitutional Union Party\",\"Continental Hotel (Philadelphia)  AL’s speech from balcony of\",\"conveyor belts\",\"Cooper Union (New York City)\",\"Corning  Erastus\",\"credit revolution\",\"Crockett  Davy\",\"Crook  William\",\"Curtin  Andrew\",\"Curtis  George William\",\"Custer  George Armstrong\",\"Custis  George Washington Parke\",\"Custom House (Erie  Pa.)\",\"Custom House (New York City)\",\"Cuyahoga River\",\"1969  re on\",\"Danville  Ill.\",\"Davis  Je erson\",\"AL’s outmaneuvering of\",\"AL’s post-election overtures rejected by\",\"combative speeches of\",\"as Confederate president\",\"in departure from Washington\",\"foreign policy of\",\"inauguration of\",\"in journey to Montgomery\",\"and planned coup at AL’s inauguration\",\"Rock Island bridge opposed by\",\"seizure of Fort Pickens ordered by\",\"unlimited term of\",\"Dawes  Henry\",\"Dean Richmond (locomotive)\",\"AL’s meditations on\",\"as frequent theme of AL’s youthful poetry\",\"Debs  Eugene V.\",\"Decatur  Ill.\",\"Declaration of Independence\",\"African-Americans and\",\"AL’s commitment to\",\"signing of\",\"slavery as violation of ideals of\",\"South’s hostility to\",\"Decline and Fall of the Roman Empire  The (Gibbon)\",\"Deer Creek (Cincinnati)\",\"de Fleurville  William “Billy the Barber\",\"Delavan House (Albany)\",\"Delaware  Special’s trip through\",\"Delaware River  Washington’s crossing of\",\"Dellam  Hannah\",\"AL on “great promise” of\",\"AL’s commitment to\",\"AL’s election as validation of\",\"AL’s legacy to\",\"“brutal familiarity” of\",\"Civil War in deepening of\",\"failure of orderly transfer of power as death knoll for\",\"failures of\",\"U.S. as experiment in\",\"Democracy (Adams)\",\"Democracy in America (Tocqueville)\",\"Democrats  Democratic Party:\",\"North-South split in\",\"viciousness of anti-Lincoln oratory by\",\"Dennison  William\",\"DePew  Chauncy M.\",\"deus ex machina  railroad as\",\"Dickens  Charles\",\"on 1860 presidential campaign\",\"on Washington  D.C.\",\"“disenthrall ” AL’s use of term\",\"boundary stones of\",\"Special’s entry into\",\"see also Washington  D.C.\",\"divorce laws\",\"Dix  Dorothea\",\"as pioneer in treatment of mental illness\",\"plans for assassination of AL discovered by\",\"“Dixie’s Land” (Emmett)\",\"Dixon Jeremiah\",\"Dobbs Ferry  N.Y.\",\"Donald  David\",\"Don Quixote (Cervantes)\",\"“Don’t give up the ship!\",\"Douglas  Stephen\",\"in 1860 election\",\"importance of railroads to\",\"political career of\",\"Washington ball hosted by\",\"Douglass  Frederick\",\"in escape from slavery\",\"photographs of\",\"Rochester home of\",\"women’s movement and\",\"Drake  Daniel\",\"Dr. Goodale (locomotive)\",\"Dunkirk  N.Y.\",\"Dunn  George\",\"Dutton  O. H.\",\"Eastman  George\",\"AL’s weak understanding of\",\"impact of Civil War on\",\"Republican platform on\",\"Edison  Thomas\",\"Education of Henry Adams  The (Adams)\",\"Edward VII  king of England\",\"Eﬃe Afton (steamboat)\",\"elections  U.S.:\",\"of 1824\",\"of 1856\",\"elections  U.S.\",\"AL’s low margin of victory in\",\"AL’s victory in\",\"Breckenridge’s certi cation of\",\"fear of mass slave uprisings after\",\"four-candidate  eld in\",\"rumors and untruths in wake of\",\"Southern secession as response to\",\"state certi cates of vote totals in\",\"viciousness of anti-Lincoln tactics and oratory in\",\"elections  U.S.\",\"AL’s frustration with\",\"AL’s journey to Washington in  see Presidential Special\",\"AL’s routine in\",\"breakdown of civility in\",\"new spirit of public engagement in\",\"Southern plans for coup in\",\"Successionists in\",\"timing of AL’s Washington arrival in\",\"Tyler’s peace conference in\",\"vigilantism in\",\"in Washington  D.C.\",\"Elements (Euclid)\",\"AL’s reading of\",\"elevators  invention of\",\"Ellicott  Andrew\",\"Ellis Island\",\"Ellsworth  Elmer\",\"Emerson  Ralph Waldo\",\"Lincoln eulogy by\",\"on railroads and slavery\",\"on view from train windows\",\"Emmett  Dan\",\"Empress of China (sailing ship)\",\"e pluribus unum (Great Seal motto)\",\"“E Pluribus Unum” (Lowell)\",\"Erie  Lake\",\"Special’s route along\",\"in War of 1812\",\"Erie  Pa.:\",\"building collapse in\",\"Custom House in\",\"huge crowds in\",\"Erie Canal\",\"Erie Triangle\",\"Euclid  AL’s reading of\",\"Euclid  Ohio\",\"Everett  Edward\",\"AL’s speeches criticized by\",\"Falkner  W. C.\",\"fancy balls\",\"Fargo  William\",\"Farini  Great\",\"Federalist Papers\",\"Felton  Cornelius\",\"Felton  Samuel\",\"assassination plot countermeasures by\",\"Dix’s meeting with\",\"network of spies stationed along railroad bridges by\",\"Pinkerton enlisted by\",\"Ferrandini  Cypriano\",\"Fido (AL’s dog)\",\"Fillmore  Millard\",\"AL’s meetings with\",\" nanciers   nance industry:\",\"AL’s meeting with\",\"and election of AL\",\"First Six Books of the Elements of Euclid  The\",\"Fisher  Carl\",\"Fishkill  N.Y.\",\"Flagler  Henry M.\",\"Florida  secession of\",\" otation device  AL’s invention of\",\"Floyd  John B.\",\"in defection to Confederacy\",\"U.S. arms surreptitiously shipped to South by\",\"Follett  Foster and Company\",\"Lincoln-Douglas debates printed by\",\"Ford  Henry\",\"Forten  Charlotte L.\",\"Fort McHenry\",\"Fort Pickens  threatened seizure of\",\"Fort Sumter\",\"anticipated attack on\",\"1865 raising of U.S.  ag at\",\"false report of attack on\",\"Washington’s Birthday cannonades at\",\"fossil fuels\",\"Foster  Stephen\",\"founders  contradictory legacy of\",\"Frank Leslie’s Illustrated Newspaper\",\"Franklin  Benjamin\",\"Fredonia  N.Y.\",\"Freedom  Pa.\",\"Freedom (statue)\",\"free love  AL’s reference to\",\"Freeman  B. Pope\",\"Freeport  Ill.\",\"Fremont  John C.\",\"French  Benjamin Brown\",\"French and Indian War\",\"French Revolution\",\"“From Generation to Generation” (Howells)\",\"Fugitive Slave Act (1850)\",\"AL’s support for\",\"Galena  Ill.\",\"Gamble  James\",\"Gardner  Alexander\",\"Gar eld  James A.\",\"on AL’s physical appearance\",\"Garner  Margaret\",\"Garnett  Muscoe\",\"Garrison  William Lloyd\",\"Gayety Theatre (Albany)\",\"Geneva  Ohio\",\"Georgia  secession of\",\"German-Americans\",\"AL’s relations with\",\"“Get O  the Track!” (song)\",\"Gettysburg  Pa.\",\"AL’s train journey to\",\"Gettysburg address\",\"Gibbon  Edward\",\"Girard  Pa.\",\"Goodell  Lavinia\",\"grain elevators\",\"Grant  Ulysses\",\"Great Awakening\",\"Great Circle Earthworks\",\"Great Lakes\",\"Great Secession Winter\",\"Greek Revival architecture\",\"Greeley  Horace\",\"assassination warnings by\",\"Gurley  Phineas D.\",\"Hale  Edward Everett\",\"Hamilton  Alexander\",\"Burr’s murder of\",\"and location of new U.S. capital\",\"Hamilton  James\",\"Hamlet  James\",\"Hamlin  Hannibal\",\"AL’s November 21 meeting with\",\"in New York City reunion with AL\",\"Hanna  Mark\",\"Hanover  Grand Duke of\",\"Harlem River\",\"Harper’s (publisher)\",\"Harpers Ferry  Brown’s raid on\",\"Harper’s Weekly\",\"on AL’s Spring eld farewell\",\"Harrisburg  Pa.:\",\"AL in\",\"Capitol building in\",\"cutting of telegraph wires to\",\"rumors about AL’s departure from\",\"Harrison  Benjamin\",\"crowds seen as threat by\",\"Harrison  William Henry\",\"AL’s campaign for\",\"death of\",\"tomb of\",\"Hassaurek  Friedrich\",\"Haughwout Building (New York City)\",\"Havre de Grace  Md.\",\"Hawthorne  Nathaniel\",\"on AL’s election\",\"on view from train windows\",\"Hay  Clara Stone\",\"Hay  John\",\"442\",\"AL biography by Nicolay and\",\"on AL’s endless handshaking\",\"on AL’s speech to New Jersey assembly\",\"on AL’s Spring eld farewell\",\"on Cincinnati parade\",\"on Civil War as U.S. Iliad\",\"on crowds lining Special’s route\",\"on crowds surrounding AL\",\"McKinley eulogy by\",\"on Special’s departure from Spring eld\",\"on Special’s secret Hartford-to-Washington run\",\"Hayes  Rutherford B.:\",\"aboard Special\",\"on AL’s appearance\",\"Hazzard  George W.\",\"Hemings  James\",\"Hemings  Sally\",\"Henry VI (Shakespeare)\",\"Herndon  William\",\"on AL’s morbidity\",\"Hicks  Thomas\",\"Homer\",\"Homer  Ill.\",\"House of Representatives  U.S.:\",\"as “national bear-garden\",\"Southern dominance of\",\"Howard  Joseph\",\"assassination threats reported by\",\"Howells  William Dean\",\"AL biography by\",\"on AL’s Ohio State House handshaking ordeal\",\"AL’s silent encounter with\",\"appointed consul for Venice\",\"literary career of\",\"as voracious reader\",\"Hudson  N.Y.\",\"Hudson  Ohio\",\"Hudson River\",\"AL’s ferry crossing of\",\"ice  oes and high water levels of\",\"skaters on\",\"spectacular setting of\",\"Hudson River Railroad\",\"Hudson River School\",\"Hugo  Victor\",\"on view from train windows\",\"Hunter  David\",\"Hurd v. Rock Island Bridge Company\",\"Hutchins  Thomas\",\"Hutchinson Family Singers\",\"Hyatt  John Wesley\",\"Hyde Park  N.Y.\",\"Icebergs  The (Church)\",\"Iliad (Homer)\",\"Civil War compared to\",\"Illinois  population growth in\",\"Illinois & Mississippi Telegraph Company\",\"Illinois Central Railroad\",\"Illinois State Journal\",\"AL’s views on\",\"U.S. in ux of\",\"In an Old-Time State Capital (Howells)\",\"inaugural address   rst (Lincoln)\",\"near-loss of printed draft of\",\"secrecy surrounding\",\"inaugural address  second (Lincoln)\",\"Independence Hall (Philadelphia)\",\"African-Americans’ view of\",\"AL’s 1848 visit to\",\"AL’s invocation of spirit of\",\"AL’s raising of  ag at\",\"AL’s speeches at\",\"jail for captured slaves in\",\"Peale’s museum in\",\"symbolism of\",\"Indiana  AL’s memories of\",\"Indianapolis  Ind.:\",\"AL’s speeches in\",\"crowds in\",\"Union Station in\",\"information economy  New York City as center of\",\"internal combustion engine\",\"Irving  Henrietta\",\"Irving  Washington\",\"Iverson  Alfred\",\"Ivory soap\",\"Jackson  Andrew\",\"Jackson  Miss.\",\"Jackson  Stonewall\",\"Jackson (escaped slave)\",\"James  Henry\",\"James  William\",\"James River\",\"AL’s speech to African-Americans on bank of\",\"Je erson  Thomas\",\"and location of new U.S. capital\",\"Je erson Davis Highway\",\"Jenkins  Jamieson\",\"Jerome  Leonard\",\"Jersey City  N.J.\",\"Jews  in Cincinnati\",\"John P. Jackson (steamboat)\",\"Johnson  William H.\",\"death and burial of\",\"Jones  Thomas D.\",\"on AL’s speechwriting technique\",\"on Special’s departure from Spring eld\",\"Jones House (Harrisburg)\",\"“Journey to the Slaughterhouse” (Harper’s Weekly)\",\"Judd  Adeline\",\"Judd  Norman\",\"in Philadelphia meeting with Pinkerton and AL\",\"Pinkerton’s reports to\",\"and Special’s secret Hartford-to-Washington run\",\"Warne’s report to\",\"Kangaroo (steamship)\",\"Kansas Territory  slavery question in\",\"Keckley  Elizabeth\",\"Kennedy  John\",\"AL’s bond with\",\"AL’s draft speech to people of\",\"Cincinnati compared to\",\"unbuilt bridge between Ohio and\",\"Key  Francis Scott\",\"Kinderhook  N.Y.\",\"King  William R.\",\"Kingsbury Run\",\"Knights of the Golden Circle\",\"Knob Creek\",\"Know-Nothings\",\"Knox  William\",\"Kollner  Augustus\",\"Kossuth  Lajos\",\"Lafayette  Ind.\",\"AL’s speech at\",\"Lafayette  Marquis de\",\"Lamon  Ward Hill\",\"on AL’s Spring eld farewell\",\"on near-loss of inaugural address copy\",\"in Special party\",\"on Special’s departure from Spring eld\",\"and Special’s secret Hartford-to-Washington run\",\"Lancaster  Pa.\",\"Lane Theological Seminary\",\"Last Men of the Revolution  The\",\"Latrobe  Benjamin\",\"Lawrenceburg  Ind.\",\"Leadbelly\",\"Leavenworth  Kans.\",\"Leaves of Grass (Whitman)\",\"Lee  Mary Anna Custis\",\"Lee  Richard Henry\",\"Lee  Robert E.\",\"in return from Texas\",\"surrender of\",\"in U.S. army\",\"Lee  William “Roony\",\"Leutze  Emanuel\",\"Liberty Enlightening the World (statue)\",\"Liberty (Bedloe’s) Island\",\"Library of Congress  Southern congressmen’s looting of\",\"Life of Abraham Lincoln (Howells)\",\"Lightning  see telegraph\",\"Lincoln  Abraham:\",\"apotheosis of\",\"appearance and manner of\",\"assassination of\",\"assassination plots against  see assassination plots against Lincoln\",\"as autodidact\",\"beard of\",\"campaign autobiographies of\",\"cartoons and caricatures of\",\"as constant traveler\",\"constellations contemplated by\",\"Cooper Union speech of\",\"death-obsessed poetry of\",\"and death of mother\",\"death threats against\",\"dreams of\",\"in 1828 trip to New Orleans\",\"1859 Kansas speaking tour of\",\"“electrical communion” between people and\",\"endless handshaking by\",\"fatalism of\",\"February 11 birthday of\",\" rst inaugural address of  see inaugural address\",\" otation device designed by\",\"formal education lacked by\",\"funeral of\",\"Gettysburg address of\",\"hate mail received by\",\"human interaction as natural mode of\",\"human nature seen as unchanging by\",\"Hurd case and\",\"in Illinois legislature\",\"inauguration of\",\"inauguration train journey of  see Presidential Special\",\"joke telling by\",\"in Kentucky\",\"legacy of\",\"legal practice of\",\"as leveler\",\"melancholy and morbidity of\",\"modesty of\",\"in move to Indiana\",\"national mourning for\",\"news of electoral vote victory received by\",\"“Old Abe” nickname of\",\"oratorical style of\",\"photographs of\",\"presidential trips of\",\"public’s closer acquaintance with president as goal of\",\"as “Rail Candidate\",\"Republican nomination of\",\"schooling of\",\"second inaugural address of\",\"speeches of\",\"speechwriting technique of\",\"as “Sphinx of Spring eld\",\"storytelling by\",\"stubbornness of\",\"transportation improvements supported by\",\"undistinguished early political career of\",\"as voracious reader\",\"walking by\",\"Western speech patterns of\",\"writing techniques of\",\"Lincoln  Abraham\",\"crowds along route of\",\"Special’s route nearly duplicated by\",\"Spring eld arrival of\",\"Willie Lincoln’s casket in\",\"Lincoln  Mary Todd\",\"on AL’s visit to Richmond\",\"AL’s wardrobe upgraded by\",\"as distressed by danger to AL\",\"mourning clothes ordered by\",\"as object of New Yorkers’ snobbery\",\"shopping sprees of\",\"in Special journey\",\"Spring eld tantrum of\",\"W. Wood’s gifts to\",\"Lincoln  Robert Todd\",\"in cab of Special\",\"as keeper of inaugural address typeset draft\",\"mischieviousness of\",\"as Pullman Car Company president\",\"Lincoln  Sarah Bush:\",\"and AL’s childhood\",\"AL’s pre-inauguration visit to\",\"Lincoln  Tad\",\"AL’s games of leapfrog with\",\"Lincoln  Thomas\",\"Lincoln  William\",\"AL’s games of leapfrog with\",\"death of\",\"Lincoln-Douglas debates\",\"published book of\",\"Lincoln Highway\",\"Lincoln Memorial\",\"Lincoln Stomach Bitters\",\"Little Falls  N.Y.\",\"Little Miami River\",\"Little Rock  Ark.\",\"Livermore  Mary\",\"L. M. Wiley (locomotive)\",\"lobbyists  lobbying\",\"locomotives  as objects of beauty\",\"Longworth  Nicholas\",\"Louisiana  secession of\",\"Lowell  James Russell\",\"Macbeth (Shakespeare)\",\"McClure  Alexander\",\"McCormick  Cyrus\",\"McCormick v. Manny\",\"McCulloch  Benjamin\",\"McKinley  William\",\"assassination in\",\"Hay’s eulogy for\",\"Madison  James\",\"and location of new U.S. capital\",\"on republican government\",\"Malvern  USS\",\"Mandela  Nelson\",\"Manhattan  N.Y.\",\"see also New York  N.Y.\",\"marshals  U.S.\",\"AL’s poor 1860 showing in\",\"as center of AL assassination plots\",\"Southern sympathies in\",\"Special’s crossing into\",\"see also Baltimore  Md.\",\"Masked Ball  A (Un ballo in Maschera; Verdi)\",\"Mason  Charles\",\"Mason-Dixon Line\",\"Melville  Herman\",\"Meteor  The (locomotive)\",\"meteor shower of July\",\"“midway world ” AL’s visions of\",\"Military Telegraph Corps  U.S.\",\"Milligan  J.\",\"Mills  Clark\",\"Mills  Robert\",\"Mississippi  secession of\",\"Mississippi River  Rock Island bridge over\",\"Mobile  Ala.\",\"Moby-Dick (Melville)\",\"Mohawk River\",\"Monongahela House (Pittsburgh)\",\"Monongahela River\",\"Montgomery  Ala.\",\"as capital of Confederacy\",\"Davis’s inauguration in\",\"Monthly Magazine of the West\",\"moon  landing on\",\"Moon (Rutherford)\",\"Morgan  Edwin\",\"Morse  Samuel F. B.\",\"“Mortality” (Knox)\",\"Morton  Oliver P.\",\"Mound City  Ill.\",\"mounds  prehistoric\",\"Mount Olivet Cemetery\",\"Murphy  Tim\",\"Napoléon III  emperor of France\",\"Nast  Thomas\",\"National Era\",\"National Security Agency\",\"land claims of\",\"mistreatment of\",\"Nebraska City  Nebr.\",\"Newark  N.J.\",\"Newburgh  N.Y.\",\"New Harmony\",\"New Haven  Conn.\",\"New Jersey\",\"as Democratic stronghold\",\"early history of\",\" at landscape of\",\"as “Garden State\",\"geology of\",\"persistence of slavery in\",\"railroad’s impact on\",\"in Revolutionary War\",\"Southern sympathizers in\",\"Washington in\",\"women granted right to vote in\",\"New Jersey (locomotive)\",\"New Jersey State House (Trenton)\",\"AL’s speeches in\",\"unruly legislatures in\",\"New Orleans  La.\",\"AL’s  atboat trip to\",\"Mardi Gras mockery of AL in\",\"Washington’s Birthday parade in\",\"New Orleans Bee\",\"news  disunity fostered by\",\"New Salem  Ill.\",\"newspapers  see press\",\"New York  N.Y.:\",\"AL’s funeral procession in\",\"AL’s parade in\",\"AL’s speeches in\",\"Broadway in\",\"as center of information economy\",\"City Hall in\",\"corruption and poverty in\",\"cotton trade and\",\"crowds in\",\"Custom House in\",\"disreputable West Side of\",\"fancy ball in\",\"as  nance center\",\"history of\",\"Hudson River Railroad Station in\",\"immigrants in\",\"population growth of\",\"printing industry in\",\"prostitutes in\",\"skyscrapers in\",\"Southern sympathizers in\",\"Special’s arrival in\",\"Special’s departure from\",\"telegraph brie y rejected by\",\"Washington’s inauguration in\",\"New York and Environs (Bachmann)\",\"New York Central Railroad\",\"New York harbor\",\"New York Herald\",\"secret secession plan revealed by\",\"New York Illustrated News\",\"New York Metropolitan Police\",\"AL’s need for support of\",\"AL’s victory in\",\"Special’s entry into\",\"Union’s dependence of\",\"New York Sun\",\"New York Times\",\"260\",\"New-York Tribune\",\"New-York World\",\"Niagara Falls\",\"Nicolay  John\",\"AL biography by Hay and\",\"on AL’s commitment to Declaration of Independence\",\"on AL’s “electrical communion” with people\",\"on AL’s need for contact with common people\",\"on AL’s Ohio State House handshaking ordeal\",\"AL’s Trenton speeches seen as turning point by\",\"on danger of crowds\",\"on near-loss of inaugural address copy\",\"on New York City crowds\",\"Special journey described by\",\"on Special journey’s toll on AL\",\"on Special’s arrival in Pittsburgh\",\"on unruly Bu alo crowd\",\"“None Shall Weep a Tear for Me” (Foster)\",\"anti-slavery movement in\",\"expansion of railroads in\",\"hunger for information in\",\"railroads in power shift from South to\",\"North Bend  Ohio\",\"Northwest Territory\",\"Odyssey  The (Homer)\",\"Oglesby  Richard J.\",\"population growth of\",\"slavery issue in\",\"unbuilt bridge between Kentucky and\",\"Ohio Railroad Guide  The\",\"Ohio River\",\"as border between North and South\",\"as major transportation corridor\",\"sources of\",\"Ohio State House (Columbus)\",\"AL’s handshaking ordeal in\",\"fossils on limestone blocks of\",\"reception for AL in\",\"Ohio State Journal\",\"Ohio Supreme Court\",\"oil  see petroleum\",\"Oil Creek\",\"Oil Well at Night  Near Rouseville\",\"On the Great Plains  in Kansas\",\"Otis  Elisha\",\"Otis Elevator Works\",\"Owen  Robert Dale\",\"Paine  Thomas\",\"Palace of Fortune\",\"Parson Weems’ Fable (Wood)\",\"Patapsco River\",\"patronage  Republican victory as threat to South’s control of\",\"Peale  Charles Willson\",\"Peekskill  N.Y.\",\"Pennsylvania\",\"Al’s 1860 victory in\",\"emancipation of slaves in\",\"fossil fuel resources of\",\"political divisions in\",\"Pennsylvania Capitol (Harrisburg)\",\"Pennsylvania Railroad\",\"Perry  Oliver Hazard\",\"Petersburg  Va.\",\"discovery of\",\"Pennsylvania boom in\",\"re ning and shipping of\",\"Pettit  John\",\"Philadelphia  Pa.\",\"AL’s parade through\",\"AL’s speeches in\",\"crowds in\",\" reworks display in\",\"Special’s secret return to\",\"us Underground Railroad station\",\"Philadelphia  Wilmington and Baltimore Railroad\",\"Philadelphia  Wilmington and Baltimore Railroad Guide\",\"Pierce  Franklin\",\"Pilgrim’s Progress  The (Bunyan)\",\"Pinkerton  Allan\",\"assassination plot in ltrated by\",\"in Philadelphia meeting with AL and Judd\",\"and Special’s secret Hartford-to-Washington run\",\"427–28\",\"Warne as spy for\",\"Pittsburgh  Pa.\",\"AL’s need to hold onto\",\"AL’s speeches in\",\"armaments industry in\",\"bridges of\",\"Cleveland’s close ties to\",\"crowds in\",\"fossil fuel resources of\",\"geography\",\"iron and steel industry in\",\"oil boom and\",\"population growth of\",\"railroad’s impact on\",\"soot- lled air of\",\"Special’s arrival in\",\"strategic location of\",\"Pittsburgh Dispatch\",\"Pius IX  Pope\",\"plastic  invention of\",\"Plea for the Indians  A (Beeson)\",\"Poe  Edgar Allan\",\"Point of Beginning\",\"Poland  Ohio\",\"Pompey  N.Y.\",\"Pope  John\",\"byproducts of\",\"Cincinnati as center of\",\"Porter  David D.\",\"Potomac River\",\"as poor location for new capital city\",\"Poughkeepsie  N.Y.\",\"“Power” (Emerson)\",\"Powers  Hiram\",\"prairie  Villard’s encounter with AL on\",\"presidency  U.S.:\",\"election process for\",\"Southern dominance of\",\"Presidential Special (inauguration train)  viii\",\"AL’s deepening moral stature in\",\"and AL’s desire to arrive in Washington after o cial electoral vote count\",\"AL’s determination to travel publicly in\",\"AL’s family aboard\",\"and AL’s growing hoarseness\",\"AL’s speeches during course of\",\"cannon accidentally  red at\",\"crowds along route of\",\"300\",\"in delay outside of Pittsburgh\",\"and di culty of coordinating with Washington\",\"February 11; Spring eld to Indianapolis\",\"February 12; Indianapolis to Cincinnati\",\"February 13; Cincinnati to Columbus\",\"February 13 discovery of grenade aboard\",\"February 14; Columbus to Pittsburgh\",\"February 15; Pittsburgh to Cleveland\",\"February 16–17; Cleveland to Bu alo\",\"February 18; Bu alo to Albany\",\"February 19–20; Albany to New York City\",\"February 21; New York to Philadelphia\",\"February 22; Philadelphia to Harrisburg\",\"February 22–23; Harrisburg to Washington\",\"Hudson River crossing of\",\"as means of uniting country\",\"as mobile communications hub\",\"paying passengers aboard\",\"physical toll on AL of\",\"politicians aboard\",\"preparation for\",\"press aboard\",\"route of\",\"sabotage attempts on\",\"in secret return to Philadelphia\",\"security measures for\",\"as symbol of democracy’s survival\",\"telegraph and\",\"time cards for\",\"Virginia bypassed by\",\"Wood as overseer of\",\"aboard Special\",\"AL minutiae reported by\",\"AL ridiculed by\",\"AL’s fashion sense ridiculed by\",\"AL’s manner criticized by\",\"AL’s “nothing going wrong” remark castigated by\",\"AL’s Pittsburgh speech mocked by\",\"on AL’s unkempt appearance\",\"telegraph’s impact on\",\"press  Southern:\",\"AL and Republicans as portrayed in\",\"predictions of post-election violence by\",\"Price  John\",\"Princeton University\",\"North-South division in\",\"Procter  William\",\"Psalm 137\",\"Pullman  George\",\"Pullman Car Company  Robert Lincoln as president of\",\"Quito  Ecuador\",\"racial amalgamation  fear of\",\"“Rail Candidate  The\",\"agriculture and\",\"AL’s familiarity with\",\"American’s love a air with\",\"as central to AL’s political trajectory\",\"Chicago as hub of\",\"connection between North and West fostered by\",\"as deux ex machina\",\"disparate track gauges of\",\"expansion of\",\"as fate\",\"as great levelers\",\"and growing disparity between North and South\",\"growth of cities enabled by\",\"impact on Cincinnati of\",\"impact on Columbus of\",\"as information networks\",\"lack of connection between Northern and Southern systems of\",\"nature of time altered by\",\"political impact of\",\"primitive braking system of\",\"sense of freedom fostered by\",\"and shift of power from South to North\",\"slave escapes aided by\",\"Southern fear of\",\"through trains of\",\"view from windows of\",\"railroads  Southern:\",\"disparate track gauges of\",\"early lead lost by\",\"lack of industrial technology as hindrance to\",\"state pride as obstacle to\",\"as unconnected to Northern systems\",\"use of slave labor by\",\"Rand  Ayn\",\"Randolph  John\",\"“Raven  The” (Poe)\",\"Ravenna  Ohio\",\"Raymond  Henry J.\",\"Reconstruction\",\"Republican Convention of 1860\",\"AL nominated by\",\"New Jersey’s role in\",\"Republicans  Republican Party\",\"birth of\",\"“black\",\"economic platform of\",\"extension of slavery opposed by\",\"formation of\",\"Southern newspapers portrayal of\",\"revolutions of 1848\",\"Rhinebeck  N.Y.\",\"Richards  Frederick DeBourg\",\"Richardson  Albert\",\"Richard the Second (Shakespeare)\",\"Richmond  Va.\",\"AL’s visit to\",\"fall of\",\"railroads in\",\"Richmond Enquirer\",\"Riddle  Albert Gallatin\",\"River Queen (steamboat)\",\"Robinson Crusoe (Defoe)\",\"Rochester  Ill.\",\"Rochester  N.Y.:\",\"AL’s speech in\",\"as bastion of women’s movement\",\"crowds in\",\"Douglass in\",\"Special’s arrival in\",\"as Underground Railroad stop\",\"Rochester  Pa.\",\"Rockefeller  John D.\",\"modern corporate system invented by\",\"monopolistic business practices of\",\"oil re nery started by\",\"transportation as obsession of\",\"Rockefeller  Laura Spelman\",\"Rock Island  Ill.\",\"“Rock Island Line” (song)\",\"Roebling  John\",\"Roman Empire  moral collapse of\",\"Romulus Saunders (locomotive)\",\"Roosevelt  Eleanor\",\"Roosevelt  Elliott\",\"Roosevelt  Franklin D.\",\"funeral train of\",\"Roosevelt  James\",\"Roosevelt  Theodore\",\"Ross  Betsy\",\"Ross  Thomas\",\"Ru n  Edmund\",\"Rutherfurd  Lewis M.\",\"Ryder  James F.\",\"Saint-Gaudens  Augustus\",\"Samuel Wiggins (locomotive)\",\"Sanford  Edward\",\"Sangamon River\",\"Savannah  Ga.\",\"Schenectady  N.Y.\",\"Schenectady Locomotive Works\",\"Schurz  Carl\",\"Scientiﬁc American\",\"Scioto River\",\"Scott  Dred\",\"Scott  Thomas A.\",\"Scott  William\",\"details of assassination plot revealed to AL by\",\"Scott  Win eld\",\"assassination plot countermeasures of\",\"dissolution of U.S. feared by\",\"invective directed at\",\"restoration of order in Washington overseen by\",\"and security of electoral vote count\",\"as staunch Unionist\",\"Semi-Colon Club\",\"Senate  U.S.\",\"Seneca Falls  N.Y.\",\"Seven Ranges\",\"Seward  Frederick\",\"Seward  William Henry\",\"Shakespeare  William\",\"Shenandoah  CSS\",\"Shepard  George C.\",\"Sherman  William Tecumseh\",\"Sing Sing Prison\",\"slave catchers\",\"Slave Power\",\"slaves  slavery:\",\"AL’s early encounters with\",\"AL’s speeches against\",\"Buchanan and\",\"Cincinnati as  ash point for\",\"Dred Scott decision and\",\"expansion of\",\"fear of mass uprisings by\",\"founders’ reluctance to address issue of\",\"in Kansas\",\"railroads in escape of\",\"Republican opposition to extension of\",\"runaway\",\"Southern railroads’ use of\",\"as violation of Declaration of Independence ideals\",\"in Washington  D.C.\",\"West and\",\"see also abolition  abolitionists\",\"slave trade  illicit continuation of\",\"“Sleepers  The” (Whitman)\",\"Sligo Iron Works  Pittsburgh\",\"Smith  B. F.\",\"Smith  Caleb\",\"Smith  “Daddy\",\"Smithsonian\",\"Sourbeck House (Alliance  Ohio)\",\"South  Southerners:\",\"agricultural basis of\",\"AL presidency as inconceivable in\",\"AL’s post-election overtures rejected by\",\"in assassination plot against AL  see assassination plots against Lincoln\",\"Confederacy founding celebrations in\",\"fear of mass slave uprisings in\",\"news of AL’s election in\",\"patronage controlled by\",\"in planned coup at AL’s inauguration\",\"political power of\",\"railroads feared by\",\"railroads in  see railroads\",\"railroads in power shift to North from\",\"secession in\",\"Senate resignations of\",\"spread of modern life disliked in\",\"stagnant population growth in\",\"viciousness of anti-Lincoln tactics in\",\"westward expansion as threat to power of\",\"“most favored” trading bene ts sought by\",\"as “Palmetto Republic\",\"rabid secessionists in\",\"secession of\",\"slow population growth of\",\"Speed  Joshua\",\"Spring eld  Ill.\",\"AL’s farewell speech to\",\"AL’s  nal week in\",\"AL’s post-election routine in\",\"arrival of railroad in\",\"celebration of AL’s victory in\",\"Great Western depot in\",\"Lincoln funeral train arrival in\",\"Old State Capitol in\",\"Special’s departure from\",\"Springﬁeld Register\",\"Springﬁeld Republican\",\"Spuyten Duyvil Creek\",\"Standard Oil Company\",\"Stanton  Edwin\",\"AL’s 1855 encounter with\",\"Stanton  Elizabeth Cady\",\"Stanwix Hall (Albany)\",\"“Star-Spangled Banner  The” (Key)\",\"State Line  Ind.\",\"states’ rights\",\"steamboats\",\"steam power  expansion of\",\"Stephens  Alexander\",\"Steubenville  Ohio\",\"Stimmel  Smith\",\"Stone  Amasa\",\"Stone  Charles P.\",\"Stowe  Calvin\",\"Stowe  Harriet Beecher\",\"Strong  George Templeton\",\"Stuyvesant  N.Y.\",\"Styx  Ohio River compared to\",\"Sumner  Edwin\",\"Supreme Court  U.S.\",\"Dred Scott decision of\",\"Southern dominance of\",\"Susquehanna River\",\"Syracuse  N.Y.\",\"Syracuse Journal\",\"Taft  Alphonso\",\"Taft  William Howard\",\"Talisman (steamboat)\",\"Taney  Roger\",\"Tappan Zee\",\"Tarbell  Franklin\",\"Tarbell  Ida\",\"tari s  AL’s Pittsburgh speech on\",\"Tarrytown  N.Y.\",\"Taylor  Zachary\",\"AL’s campaigning for\",\"telegraph\",\"AL’s speeches reported by\",\"Civil War and\",\"1860 election results reported by\",\"electoral vote reported by\",\"fears about\",\"impact on Washington  D.C.\",\"as information network\",\"newspapers revolutionized by\",\"rapid expansion of\",\"Special and\",\"untruths and innuendo spread by\",\"“terrorist ” Whitman’s use of term\",\"Texas\",\"secession of\",\"surrender of U.S. forts and arsenals in\",\"Thermopylae\",\"Thomas Viaduct\",\"Thompson  Jacob\",\"Thoreau  Henry David\",\"on railroads\",\"Tiber Creek\",\"time  nature of\",\"railroads’ altering of\",\"Times (London)  collapse of American democracy predicted by\",\"Tioga (locomotive)\",\"Titusville  Pa.\",\"Tocqueville  Alexis de\",\"growing disparity between North and South foreseen by\",\"on U.S. presidential elections\",\"Tolono  Ill.\",\"Trenton  Battle of\",\"Trenton  N.J.\",\"as bridge-building center\",\"crowds in\",\"Washington’s inaugural journey through\",\"Trollope  Anthony\",\"Trollope  Frances\",\"on “brutal familiarity” of democracy\",\"on Cincinnati’s pork industry\",\"on hypocrisy of slavery\",\"Troy  Ind.\",\"Troy  Kans.\",\"AL’s anti-slavery speech in\",\"Troy  N.Y.\",\"Twain  Mark\",\"Twenty-one Prominent Candidates for the Presidency in 1860\",\"Twiggs  David E.\",\"Tyler  John\",\"peace conference convened by\",\"as slaveholder\",\"in Willard Hotel meeting with AL\",\"Tyndall  John\",\"Uncle Tom’s Cabin (Stowe)\",\"Underground Railroad\",\"Union (locomotive)\",\"Union Station (Columbus)\",\"Union Station (Indianapolis)\",\"changing demographics of\",\"as democratic experiment\",\"doubts about growing size of\",\"geopolitical vastness of\",\"in ux of immigrants in\",\"Westward expansion of\",\"United States (presidential train car)\",\"U.S. Car No. 1 (FDR’s private train car)\",\"Utica  N.Y.\",\"Vail  Alfred\",\"Valentine’s Day cards\",\"Van Buren  Martin\",\"Vanity Fair\",\"Van Wyck  Charles\",\"Verdi  Giuseppe\",\"View Near Fort Harker  Kansas\",\"Villard  Henry\",\"435\",\"on Albany reception for AL\",\"AL’s draft of Spring eld farewell obtained by\",\"on AL’s last day in Spring eld\",\"AL’s Pittsburgh speech criticized by\",\"on Cincinnati’s welcome for AL\",\"on crowds along Special route\",\"in encounter with AL on Kansas prairie\",\"on Special journey’s toll on AL\",\"on Special pastimes\",\"on Special’s arrival in Cleveland\",\"on Special’s departure from Spring eld\",\"on unruly Albany crowd\",\"on unruly Bu alo crowd\",\"Virgil\",\"Ohio River as border of\",\"secession convention in\",\"Special’s bypassing of\",\"Wabash River\",\"Walden Pond\",\"Waldo  Daniel\",\"Wallace  William S.\",\"Wall Street  see  nanciers\",\"Ward  Artemus (Charles F. Browne)\",\"Ward  Durbin\",\"War Department  U.S.\",\"Warne  Kate\",\"AL  rst glimpsed by\",\"AL given details of assassination plot by\",\"as Pinkerton spy\",\"and Special’s secret Hartford-to-Washington run\",\"War of 1812\",\"British capture of Washington in\",\"Washburne  Elihu\",\"AL met at Washington Depot by\",\"and AL’s 1849 departure from Washington\",\"AL warned of coup conspiracy by\",\"Washington  Booker T.\",\"Washington  D.C.:\",\"African-Americans in\",\"AL’s funeral in\",\"Baltimore and Ohio depot in\",\"British burning of\",\"as citadel of slavery\",\"Civil War in ux of African-Americans into\",\"collapse of civility in\",\"corruption and immorality in\",\"deeply rutted streets of\",\"Dickens on\",\"di culty of traveling to\",\"Ellicott’s surveying of\",\"extravagant promises about\",\"February 12 ball in\",\"Great Secession Winter in\",\"Henry Adams’s description of\",\"impact of telegraph on\",\"lobbyists in\",\"location of  as result of secret deal\",\"ordinary citizens in defense of\",\"Pennsylvania Avenue in\",\"population growth of\",\"pro-Southern sentiments in\",\"rampant rumor mongering in\",\"raw sewage in\",\"rumors surrounding AL’s arrival in\",\"Scott’s restoration of order in\",\"sense of dread in\",\"slave pens in\",\"slavery in\",\"as Southern city\",\"Southern coup d’etat feared in\",\"timing of AL’s arrival in\",\"Washington’s Birthday parade canceled in\",\"Washington  George\",\"Capitol cornerstone laid by\",\"in crossing of Delaware\",\"farewell address of\",\" rst inaugural address of\",\"farewell address of\",\"images of\",\"inaugural journey of\",\"inauguration of\",\"in inauguration walk from Mount Vernon to New York\",\"in loss of Manhattan\",\"Mt. Vernon tomb of\",\"in New Jersey\",\"Weems’s biography of\",\"Washington Crossing the Delaware (Leutze)\",\"Washington Monument\",\"as un nished\",\"Washington’s Birthday\",\"Arlington House dinner in honor of\",\"celebrations of\",\"Waverley Hotel (Rochester)\",\"Weddell House (Cleveland)\",\"Weed  Thurlow\",\"Weekly Illinois State Journal\",\"Weems  Mason\",\"Welles  Gideon\",\"Wells  Henry\",\"Wells Fargo\",\"Wellsville  Ohio\",\"expansion of railroads in\",\"slavery issue in\",\"Western Reserve\",\"New England character of\",\"runaway slaves in\",\"Special’s journey through\",\"Western Reserve Chronicle\",\"Western Telegraph\",\"West eld  N.Y.\",\"Westinghouse  George\",\"Westinghouse  George\",\"West Point  U.S. Military Academy at\",\"Northerners and Southerners at\",\"West Point Foundry\",\"“What to the Slave Is the Fourth of July?” (Douglass)\",\"“When Lilacs Last in the Dooryard Bloom’d” (Whitman)\",\"Whigs\",\"Whiskey Rebellion (1794)\",\"White House\",\"security measures at\",\"Whitman  Walt\",\"AL  rst glimpsed by\",\"AL in dreams of\",\"and AL’s assassination\",\"on AL’s second inaugural\",\"on beards\",\"on dangerous undercurrent of New York crowd\",\"government immorality denounced by\",\"ideal president as envisioned by\",\"poetry of\",\"Wide Awakes (Lincoln supporters)\",\"Wigfall  Louis\",\"Willard Hotel (Washington  D.C.)\",\"William III  king of Prussia\",\"Williams  Henry\",\"Wilson  J. J. S.\",\"Wilson  John Sylvester\",\"Wilson  Woodrow\",\"Wisconsin\",\"Wise  Henry\",\"Wise  Isaac Mayer\",\"Wise  John\",\"Douglass and\",\"Rochester as bastion of\",\"Wood  Fernando:\",\"AL’s meeting with\",\"Southern sympathies of\",\"Wood  Grant\",\"Wood  John Seymour\",\"Wood  William S.:\",\"gifts to Mary Todd Lincoln by\",\"as overseer of Special\",\"Woodhull  Victoria\",\"World Trade Center\",\"World War I\",\"World War II\",\"Wright  Ann G.\",\"Wright  Frances\",\"Xenia  Ohio\",\"name of\",\"unmanageable crowd in\",\"Yonkers  N.Y.\",\"Young America (locomotive)\",\"Young Girl with Portrait of George Washington (Southworth and Hawes)\",\"Zouaves (militia unit)\",\"Zumbook  Louis\",\" Crossing the Delaware (Leutze)  352\",\"Washington Monument\",\"as un nished\",\"Washington’s Birthday  221\",\"Arlington House dinner in honor of\",\"celebrations of\",\"Waverley Hotel (Rochester)\",\"Weddell House (Cleveland)  240\",\"Weed  Thurlow\",\"Weekly Illinois State Journal\",\"Weems  Mason\",\"Welles  Gideon\",\"Wells  Henry\",\"Wells Fargo\",\"Wellsville  Ohio\",\"expansion of railroads in\",\"slavery issue in  9\",\"Western Reserve  232\",\"New England character of\",\"runaway slaves in\",\"Special’s journey through  233–34\",\"Western Reserve Chronicle\",\"Western Telegraph\",\"West eld  N.Y.\",\"Westinghouse  George\",\"Westinghouse  George\",\"West Point  U.S. Military Academy at\",\"Northerners and Southerners at\",\"West Point Foundry\",\"“What to the Slave Is the Fourth of July?” (Douglass)  289\",\"“When Lilacs Last in the Dooryard Bloom’d” (Whitman)  458\",\"Whigs\",\"Whiskey Rebellion (1794)\",\"White House\",\"security measures at\",\"Whitman  Walt\",\"AL  rst glimpsed by  333\",\"AL in dreams of\",\"and AL’s assassination\",\"on AL’s second inaugural\",\"on beards\",\"on dangerous undercurrent of New York crowd\",\"government immorality denounced by\",\"ideal president as envisioned by\",\"poetry of  333–34\",\"Wide Awakes (Lincoln supporters)  106\",\"Wigfall  Louis\",\"Willard Hotel (Washington  D.C.)\",\"William III  king of Prussia\",\"Williams  Henry\",\"Wilson  J. J. S.\",\"Wilson  John Sylvester\",\"Wilson  Woodrow\",\"Wisconsin\",\"Wise  Henry\",\"Wise  Isaac Mayer\",\"Wise  John\",\"Douglass and\",\"Rochester as bastion of\",\"Wood\",\"AL’s meeting with\",\"Southern sympathies of  324–25\",\"Wood  Grant\",\"Wood  John Seymour\",\"Wood\",\"gifts to Mary Todd Lincoln by  116\",\"as overseer of Special  73\",\"Woodhull  Victoria\",\"World Trade Center\",\"World War I\",\"World War II\",\"Wright  Ann G.\",\"Wright  Frances\",\"Xenia  Ohio\",\"name of\",\"unmanageable crowd in\",\"Yonkers  N.Y.\",\"Young America (locomotive)\",\"Young Girl with Portrait of George Washington (Southworth and Hawes)\",\"Zouaves (militia unit)  126\",\"Zumbook  Louis\"]"
   ]
  },
  {
   "cell_type": "code",
   "execution_count": 52,
   "id": "cc184602",
   "metadata": {},
   "outputs": [],
   "source": [
    "ted_idx = [re.sub(r'\\s+', ' ', ele) for ele in ted_idx]\n",
    "ted_idx = [ele.strip().title() for ele in ted_idx]"
   ]
  },
  {
   "cell_type": "code",
   "execution_count": 55,
   "id": "24645872",
   "metadata": {},
   "outputs": [
    {
     "data": {
      "text/plain": [
       "1750"
      ]
     },
     "execution_count": 55,
     "metadata": {},
     "output_type": "execute_result"
    }
   ],
   "source": [
    "len(ted_idx)"
   ]
  },
  {
   "cell_type": "code",
   "execution_count": 24,
   "id": "c4f93837",
   "metadata": {},
   "outputs": [
    {
     "name": "stdout",
     "output_type": "stream",
     "text": [
      "{'White House'}\n",
      "precision 0.01020408163265306   and recall 0.000630119722747322\n",
      "set()\n",
      "precision 0.0   and recall 0.0\n",
      "set()\n",
      "precision 0.0   and recall 0.0\n"
     ]
    },
    {
     "data": {
      "text/plain": [
       "(0.0, 0.0)"
      ]
     },
     "execution_count": 24,
     "metadata": {},
     "output_type": "execute_result"
    }
   ],
   "source": [
    "bert_kws = fetch_kws(mp_lin_bert)\n",
    "eval_keywords(ted_idx,bert_kws)\n",
    "\n",
    "yake_kws = fetch_kws(mp_lin_yake)\n",
    "eval_keywords(ted_idx,yake_kws)\n",
    "\n",
    "rakun_kws = fetch_kws(mp_lin_rakun)\n",
    "eval_keywords(ted_idx,rakun_kws)"
   ]
  },
  {
   "cell_type": "code",
   "execution_count": 53,
   "id": "62111274",
   "metadata": {},
   "outputs": [
    {
     "name": "stdout",
     "output_type": "stream",
     "text": [
      "{'White House'}\n",
      "precision 0.011627906976744186   and recall 0.000630119722747322\n"
     ]
    },
    {
     "data": {
      "text/plain": [
       "(0.000630119722747322, 0.011627906976744186)"
      ]
     },
     "execution_count": 53,
     "metadata": {},
     "output_type": "execute_result"
    }
   ],
   "source": [
    "eval_keywords(ted_idx,lin_kws_final)"
   ]
  },
  {
   "cell_type": "markdown",
   "id": "7ff00661",
   "metadata": {},
   "source": [
    "## Nehru"
   ]
  },
  {
   "cell_type": "code",
   "execution_count": 27,
   "id": "26a3a9fe",
   "metadata": {},
   "outputs": [],
   "source": [
    "nehru_kws_final = ['Agrarian_Crisis', 'Hastening_To_Wardha', 'India_Affairs', 'Jawaharlaj', 'Kisan_Sabha_Movement', 'Deathof_Kamaia_Nehru', 'Kamala_Nehru', 'Example_Gandhi', 'Anti_Imperialist', 'India', 'Jawaharlal', 'Caste_And_Wealth', 'Gandhi_Smarak_Sangrahalaya', 'Jawaharlats_Interviews', 'Satyagraha', 'Continue', 'Gandhian', 'Return_Jawaharlal', 'Tljb_Cabinet_Mission_Jji', 'Gandhi', 'Chiang', 'Political_Agitation', 'Presidential_Address', 'Kamala', 'Boundary_Commissions', 'Colonial_Countries', 'Nehru', 'Motilal', 'Time,Was_The_Conductof', 'Congress', 'Pandit_Jawaharlal', 'Village_Kisan_Sabhas', 'Mao', 'Indian_History_Congress', 'Egregiously_To_Minister', 'Viceroyand_Churchill', 'Satyagraha_Vow', 'Nationalist_Movements', 'Tomadame_Chiang_Kai', 'Motilal_Nehru_Papers', 'Indian_Government', 'Decide', 'Jawaharlat_Nehru', 'Individual_Civil', 'Viceroyalty', 'Asfor_Pandit_Jawaharlal', 'Muslim_League', 'Bombay_Jawaharlal', 'Viceroy', 'Imperialism', 'Exploitation', 'Motilal_Nehru', 'Civil_Disobedience', 'Bombay_Govt', 'Rao_Maharajsingh', 'Operation_Movement', 'Jawaharlal_Nehru', 'Public_School', 'Facts_Aboutkamels_Nehru', 'League', 'Leader_Mahatma_Gandhi', 'Successor_Authorities', 'Zamindars_And_Talukdars', 'Defence_Responsibilities', 'India_Act', 'Position_Gandhi', 'Gandhiji', 'Pandit_Motilal_Nehru', 'Autobiography_Jawaharlal', 'Jawaharlal_Independence', 'Chiang_Kai', 'Pandit_Nehru', 'Mahatma', 'Indian_Congress', 'Jawaharial_Nehru', 'Mr_Gandhi', 'Village_Panchayats']"
   ]
  },
  {
   "cell_type": "code",
   "execution_count": 28,
   "id": "fefa248f",
   "metadata": {},
   "outputs": [],
   "source": [
    "nehru_kws_final = [\" \".join(s1.split('_') ) for s1 in nehru_kws_final]"
   ]
  },
  {
   "cell_type": "code",
   "execution_count": 59,
   "id": "ee106eef",
   "metadata": {},
   "outputs": [],
   "source": [
    "discovery_idx = [\"Abbasiya Khalifas\",\"Abdul  Hamid   Sultan\",\"Abdul  Rahim  Khankhana\",\"Abend   Hallet\",\"Abdur-Razzak\",\"Abhidharmakosa\",\"Abu Nasr Farabi\",\"Abyssinia\",\"Adams   Brooke\",\"Adil  Sha   Ibrahim\",\"Advaita  Ashrama\",\"Advaita  Vedanta\",\"Afghan(istan)\",\"Afghan(istan)\",\"Afghan(istan)\",\"Afghan  Period\",\"Afghan  Period\",\"Africa\",\"Africa   future  of\",\"Aga Khan\",\"Agra\",\"Agra   battle  of\",\"Agriculture   ancient\",\"National  Congress   and\",\"Ahimsa\",\"Ahmad   Dr.  Nazir\",\"Ahmadnagar  Fort\",\"Ahmadnagar  Fort\",\"Ahmad  Nizam  Shah\",\"Ahmad  Shah  Durrani\",\"Ahmedabad\",\"Ahrars\",\"Aibak   Qutb-ud-Din\",\"Ailerya  Brahmana\",\"Aiyar   Sir C. P. Ramaswami\",\"Ajanta  frescoes\",\"Ajanta  frescoes\",\"Akhand  Hindustan\",\"Akkad\",\"A1 Ahzar  University   Cairo\",\"Alaric   the  Goth\",\"Al-Balagh\",\"Alberuni\",\"Albuquerque\",\"Alcestis\",\"Alcibiades   quoted\",\"Alexander  the  Great\",\"Alexandria\",\"Al-Hilal\",\"Alice  in Wonderland\",\"Aligarh  College\",\"Ali  Maulana  Mohammad\",\"Ali  Munshi  Karamat\",\"Ali  Shaukat\",\"Ali  Syed  Chirag\",\"Al-Khwarismi\",\"Allahabad\",\"Al-Mansur   Khalif\",\"Almora  Jail\",\"Amarji   Ranchodji\",\"Amarnath  Cave\",\"Ambala\",\"Americans  in India   see  U.S.A. \",\"Amery   Leopold\",\"Amaravati  University\",\"Amritsar  massacre\",\"Ananda\",\"Ananga\",\"Ancient  Indian  Colonies\",\"Andhra(s)\",\"Angkor\",\"Annam\",\"Ansari   Dr.  M.A.\",\"Antigonus\",\"Antiochus\",\"Anuradhapura\",\"Anushirwan   Khusrau\",\"Apastamba\",\"Appollonius\",\"Arabian  Nights\",\"Arabic\",\"Arabs\",\"Arabs\",\"Archimedes\",\"Architecture\",\"Arcos  raid\",\"Argentine\",\"Aristotle\",\"Aijuna\",\"Army   Indian\",\"National\",\"Army   Maratha\",\"Arnold   Edwin\",\"Aronson   Alex\",\"Arrian   quoted\",\"Art\",\"Arthashastra\",\"Arthur  King\",\"Aryabhata\",\"Aryadesha\",\"Arya  dharma\",\"'Aryan  Path'\",\"Arya  Samaj\",\"Aryans\",\"Aryans\",\"Vedas\",\"Aryavarta\",\"Asanas\",\"Ashoka   Emperor\",\"Ashoka   Emperor\",\"Ashvaghosa\",\"Asia\",\"Chengiz  Khan  and\",\"Indian  colonies  in\",\"Indian  freedom\",\"ence  on\",\"ence  on\",\"of\",\"Assam\",\"Astrakhan\",\"Astronomy\",\"Atal   Dr.  M.\",\"Ataturk\",\"Ataturk\",\"Atlantic  Charter\",\"Atman\",\"Attila\",\"Aurungzeb\",\"Australia(ns)\",\"Automobile  Industry\",\"Autonomy   provincial\",\"village\",\"Average  Income\",\"Averroes\",\"Avesta\",\"Avicenna\",\"Azad   Maulana  Abul  Kalam\",\"Azad   Maulana  Abul  Kalam\",\"Azad  Muslim  Conference\",\"Babar\",\"Babylon\",\"Bacon   Francis\",\"Bactrians\",\"Badami\",\"Badrinath\",\"Bagchi   Dr.  P. C.\",\"Baghdad\",\"Bahadur  Shah\",\"Bahmani  Kingdom\",\"Bai  Princess  Ahalya\",\"Bai   Lakshmi\",\"Bain   F. W.\",\"Baji Rao  I  Peshwa\",\"Baladitya\",\"Bali\",\"Balkan  Wars\",\"Balkh\",\"Baluchistan\",\"Banking  System\",\"Barmak  Family  (Barmecides)\",\"Baroda\",\"Batuta   Ibn\",\"Baudhayana\",\"Beard   Charles  and  Mary\",\"Benares\",\"Bengal  (is)\",\"Bengal  (is)\",\"Bengal  (is)\",\"Bengal  (is)\",\"Bengal  (is)\",\"mittee\",\"Bengal  Asiastic  Society\",\"Bentinck   Lord\",\"Bergson   Henry\",\"Besanagar\",\"Besant   Mrs.  Annie\",\"Bhagalpur\",\"Bhagavad  Gita\",\"Bhairu\",\"Bharata\",\"Bharat  Mala\",\"Bharatvarsha\",\"Bhasa\",\"Bhaskara\",\"Bhavabhuti\",\"Bhoja   Mihira\",\"Bhopal\",\"Bibi   Chand\",\"Bihar\",\"Bihar\",\"Bijapur\",\"Bikanir\",\"Bindusara\",\"Binyon   Lawrence\",\"Birbal\",\"Birdwood   Sir  George\",\"Birth  rate\",\"'Bloody  Assizes'\",\"Bloomfield   quoted\",\"Bodhisattva(s)\",\"Bohras\",\"Bokhara\",\"Bombay\",\"Bombay\",\"Borneo\",\"Borobudur\",\"Bose   Subhas  Chandra\",\"Brahmagupta\",\"Brahmaputra  River\",\"Brahminism\",\"and Buddhism\",\"of\",\"Brahmins\",\"Brahmins\",\"Brahmi  script\",\"Branson   Clive\",\"Brindaban\",\"Britain  (British)  conquest  of India  \",\"Britain  (British)  conquest  of India  \",\"future  of\",\"British  Indian  Association\",\"British  Museum\",\"'British  paramountcy'\",\"Broach\",\"Browne   Sir  Thomas\",\"Buckingham   James  Silk\",\"Buck   Pearl\",\"Buddha  (ism)\",\"Buddha  (ism)\",\"Buddha  (ism)\",\"Buddha  (ism)\",\"of\",\"spread  of\",\"Buddhabhadra\",\"Buddha  Charila\",\"Buddha  Gaya\",\"Buddhist  Art  in Siam\",\"Burma\",\"Burma\",\"India\",\"Butler  Committee\",\"Cairo\",\"Calcutta\",\"Madrasa\",\"Calicut\",\"Cambodia\",\"Cambridge  History  of India\",\"Canada(ians)\",\"Canarese\",\"Cape  Comorin\",\"Capitalism\",\"Cartwright\",\"Caste  System\",\"Caste  System\",\"Cawnpore\",\"Celebes\",\"Censorship\",\"Ceylon\",\"Ceylon\",\"Chaitanya\",\"Chalukyan  Empire\",\"Chamberlain   Neville\",\"Champa\",\"ChSnakya\",\"Chandragupta\",\"Chandragupta  II\",\"Charak\",\"Charles  II\",\"Chatterjee   B. R.\",\"Chauhan   Prithvi  Raj\",\"Chengiz  Khan\",\"Childe   Gordon\",\"Civilizations  of the East\",\"Clay  Cart\",\"Clemenceau  Georges\",\"Clive   Robert\",\"Cochin\",\"Colonies   Indian\",\"Communal  Problem\",\"Communist  Party\",\"Comrade   The\",\"Conception  of Buddhist  Nirvana   The\",\"Confucius\",\"Constantinople\",\"Constantinople\",\"Conti   Nicolo\",\"Cordoba\",\"Corporation  of the  Fifteen  Hundred  \",\"Cotton\",\"Craft  Guilds\",\"Craft  Villages\",\"Creative  Evolution\",\"Criminal  Investigation  Department  \",\"Cripps   Sir  Stafford\",\"Crompton\",\"Cromwell\",\"Crusades\",\"Cutth\",\"Cyrene\",\"Cyrus  the  Great\",\"Czechoslovakia\",\"Dacca\",\"Damascus\",\"Darius\",\"Darrow   Karl  K.\",\"Darshanas\",\"Darwin   Charles\",\"Davids   Mrs.  C. A. F. Rhys\",\"quoted\",\"Davids   Prof.  Rhys\",\"Dayananda\",\"Deccan\",\"Defence  of  India  Act\",\"Defence  of  India  Act\",\"Dehra  Dun  Jail\",\"Delhi\",\"Delhi\",\"massacres\",\"Sultanate\",\"Demetrius\",\"De Montmorency   Sir  Geoffrey \",\"Determinism\",\"Dhanwantari\",\"Dharma\",\"Dharmaraksha\",\"'Digit  of the  Moon'   The\",\"Dilli\",\"Din   Saif-ud\",\"Disarmament  Conference\",\"Diwan-i-Am\",\"Diwan-i-Khas\",\"Dodds   E. R.\",\"Dodwell   quoted\",\"Dravidian  (s)\",\"Dundee\",\"Dunkirk\",\"Dutch  East  Indies\",\"Dutch  Empire\",\"Dvaita\",\"Dvarka\",\"East India  Co.\",\"East India  Co.\",\"East India  Co.\",\"Economist\",\"Egypt\",\"Eightfold  Path\",\"Einstein   Albert\",\"Eire\",\"Election  Manifesto\",\"Elections\",\"Elephanta  Caves\",\"Eliot   Sir  Charles\",\"Ellora  Caves\",\"Emerson   quoted\",\"Epics   The\",\"Epirus\",\"Epstein\",\"Escape  with  Me\",\"Euclid\",\"Europe\",\"attitude  to\",\"Postwar  Market\",\"barriers  in\",\"Fa-Hien  (Fa-hsien)\",\"Family  System   Joint\",\"Famine\",\"Famine  Inquiry  Commission\",\"Farabi   Abu  Nasr\",\"Far East   India  and\",\"Farnavis   Nana\",\"Fascism\",\"Fatehpur-Sikri\",\"Fazl   Abul\",\"Fazl   Fyzee\",\"ships\",\"Fedorovitch   Tsar  Michael\",\"Ferdinand  (Spain)\",\"Ferghana\",\"Feroze  Shah\",\"Fick   Richard\",\"Fin-Shien\",\"Firdausi\",\"Ford   Henry\",\"Formosa\",\"Foucher   M.\",\"Four  Freedoms\",\"France  (French)\",\"France  (French)\",\"France  (French)\",\"Franco   General\",\"Gaekwar~of  Baroda\",\"Gama   Vasco  da\",\"Gandhara  (Afghanistan)\",\"Gandhara  (Afghanistan)\",\"Gandhari\",\"Gandhi  (ji)\",\"Gandhi  (ji)\",\"Gandhi  (ji)\",\"Gandhi  (ji)\",\"Gandhi  (ji)\",\"Ganesha\",\"Ganges\",\"mission)\",\"Gangetic  Valley\",\"Garbe   Richard\",\"Garret   G.T.\",\"Gaya\",\"General  Elections\",\"Geography   effects  of\",\"Geopolitics\",\"George  III\",\"German(y)\",\"German(y)\",\"Ghalib\",\"Ghazni\",\"Ghias-ud-Din   Sultan\",\"Ghosal   U.N.\",\"Ghose   Aurobindo\",\"Ghuri   Shahab-ud-Din\",\"Giornale  d'ltalia\",\"Gladstone   W.E.\",\"Glimpses  of World  History\",\"Gnosticism\",\"Goa\",\"Gobi  Desert\",\"Goethe\",\"Gokhale   Gopal  Krishna\",\"Gokhale   Gopal  Krishna\",\"Gokhale   Gopal  Krishna\",\"Grady  Committee\",\"Greater  India\",\"Greece  (Greeks)\",\"Greece  (Greeks)\",\"Greece  (Greeks)\",\"Greeks   Indo-\",\"Grousset   Rene\",\"Gujrat(is)\",\"Gulbarga\",\"Gupta  Period\",\"Guptas\",\"Gupta  Script\",\"Gurkhas\",\"Gwalior\",\"Haider  Ali\",\"Haldane   Prof.\",\"Hali\",\"Halifax   Lord\",\"Halsted   G. B.\",\"Harappa\",\"Hardwar\",\"Hargreaves\",\"Harsha  (vardhana)\",\"Harsha  (vardhana)\",\"Hartals\",\"Harun-al-Rashid\",\"Hastinapur\",\"Hastings   Lord\",\"Hastings   Warren\",\"Havell   E.B.\",\"Hegel\",\"Heliodorus  Column\",\"Herat\",\"Herodotus   quoted\",\"Herrenvolk  theory\",\"Himalayas\",\"Himalayas\",\"HinaySna  Buddhism\",\"Hindi  language\",\"Hindi  language\",\"Hindi-Urdu\",\"'Hindu'   meaning  of\",\"Hindu  College\",\"Hinduism\",\"analysed\",\"174-80   effect  of Afghan  conquest \",\"on\",\"reforms  in\",\"Hindu  Mahasabha\",\"Hindu  Scriptures\",\"Hindusthani  language\",\"Hitler   Adolf\",\"Hitler   Adolf\",\"Hogben   Prof.\",\"Holi\",\"Holland\",\"Holkar\",\"Hooghli  River\",\"Hopkins   Prof.  E. Washburn\",\"HsuanTsang\",\"Hulagu\",\"Humayun\",\"Humboldt   William  Von\",\"Husain   Khoja\",\"Hu-Shien\",\"Hu Shih   Prof.\",\"Hyderabad\",\"Ideals  of Indian  Art   The\",\"Idrisi \",\"Ilbert  Bill\",\"Iltutmish\",\"Imperial  Chemical  Industries\",\"Indian  Civil  Service\",\"Indian  Civil  Service\",\"Indian  Council  of  World  Affairs  \",\"Indian  Institute  of Science\",\"Indian  States\",\"of\",\"Indo-China\",\"Indo-China\",\"Indo-Greeks\",\"Indonesia\",\"Indore\",\"Indravarman\",\"Indus  River\",\"Indus  River\",\"Industrial  Co-operative  (Indusco)  \",\"Industrial  revolution\",\"Industry\",\"conditions  of\",\"conditions  of\",\"Intermarriage\",\"Internal  Security  Trips\",\"International  Labour  Office\",\"IqJjal   Sir  Mohamad\",\"Iran(ians)\",\"Iran(ians)\",\"Iran(ians)\",\"Iraq\",\"Isabella  (Spain)\",\"Islam\",\"culture\",\"Hinduism\",\"influence  in India\",\"Italy\",\"I-Tsing\",\"Jabala\",\"Jacquemont   quoted\",\"Jaichandra\",\"Jain(ism)\",\"Jain(ism)\",\"Jaipur\",\"Jaisi   Malik  Mohammad\",\"Jamait-ul-Ulema\",\"Jame  Masjid\",\"James  II\",\"Jamshedpur\",\"Japan(ese)\",\"Japan(ese)\",\"Jatakas\",\"Jat(s)\",\"Jaunpur\",\"Java\",\"Java\",\"Jayavarman\",\"Jehangir\",\"Jehan   Shah\",\"Jhansi   Rani  of\",\"Jharia\",\"Jinagupta\",\"Jinnah   M.A.\",\"Jinnah   M.A.\",\"Joan  of Arc\",\"Jodhpur\",\"Johnstone   E. H.\",\"Jones   Sir  William\",\"Joshi   N.M.\",\"Jumna  River\",\"Kabir\",\"Kabul\",\"Kailasa  temple\",\"Kalhana\",\"Kalidasa\",\"Kalinga\",\"Kama\",\"Kamboja\",\"Kamrupa\",\"Kanauj\",\"Kandahar\",\"Kanishka\",\"Kant\",\"Kanya  Kumari\",\"Kapila\",\"Karewa\",\"Karma\",\"Karnatak\",\"Kashmir(is)\",\"Kashmir(is)\",\"Kashmiri\",\"Kathiawar\",\"Katyayana\",\"Kaveripattinam\",\"Kaveri  River\",\"Kayal\",\"Kedernath\",\"Keith   A.  Berriedale\",\"Keith   A.  Berriedale\",\"Kemal  Pasha\",\"Kerr   Seton\",\"Keynes   Lord\",\"Khan   Abdul  Gaffar  (Badshah)\",\"Khan   Sir  Syed  Ahmed\",\"Kharoshti  script\",\"Khayyam   Omar\",\"Khilafat  Committee\",\"Khilafat  Committee\",\"Khilji   Alauddin\",\"Khiva\",\"Khojas\",\"Khorasan\",\"Khotan\",\"Khusrau   Amir\",\"Khyber  Pass\",\"Kidwai   Rafi  Ahmed\",\"Kiev\",\"King  Emmanuel\",\"Korea\",\"Krishak  Sabha\",\"Krishna  legends\",\"Krishnadat  Pakkiwak   Shri\",\"Krita  age\",\"Krutch   Joseph  Wood\",\"Kshatriyas\",\"Kublai  Khan\",\"Kucha\",\"Kulischer   E. M.\",\"Kulu\",\"Kumarajiva\",\"Kumbh  Mela\",\"Kuomintang\",\"Kiishans   clan\",\"Kiishans   clan\",\"Kwangtung   China\",\"Labour  Party\",\"Lahore\",\"Lamaism\",\"Landlordism\",\"Land  Tax\",\"Languages\",\"Laotze\",\"La Place   quoted\",\"Lausanne   Switzerland\",\"Law\",\"Lawrence  Henry\",\"League  of Nations\",\"Le May   Reginald\",\"Lenin\",\"Le Thiatre  Indien\",\"Levi   Sylvain\",\"Levi   Sylvain\",\"Liddell  Hart\",\"Lilavati\",\"Linlithgow   Lord\",\"Lippman   Walter\",\"Literature   Indian\",\"Literature   Indian\",\"Lloyd  George   David\",\"Locarno  Pact\",\"Lo River\",\"Lo Yang\",\"Lucknow\",\"Lysicrates\",\"Macdonell   Prof.\",\"Macedonia\",\"Macnicol   Dr.\",\"Madhyadesha\",\"Madhyamika  philosophy\",\"Madras\",\"Madras\",\"Madura\",\"Magadha\",\"Mahabharata\",\"Mahabharata   (War)\",\"Mahabhashya\",\"Mahadaji  Scindhia\",\"Maharashtra   see  Maratha \",\"Mahavira\",\"MahSySna  Buddhism\",\"MahSySna  Buddhism\",\"Mahavyutpatti\",\"Mahendra  (Maurya)\",\"Mahmud  of Ghazni\",\"Maine   Sir  Henry\",\"Majapahit\",\"Majumdar   R.G.\",\"Making  of the Indian  Princes   The\",\"Making  of the Indian  Princes   The\",\"Malabar\",\"Malacca\",\"Malaya\",\"Malaya\",\"Maldive  Islands\",\"Malraux   Andri\",\"Mamallapuram\",\"Manak\",\"Manchukuo\",\"Manchuria\",\"Manu   Laws  of\",\"Marathas\",\"Marathi\",\"Marco  Polo\",\"Marshall   Sir  John\",\"Marshall   Sir  John\",\"Martand\",\"Martel   Charles\",\"Martin   Montgomery\",\"Marwaris\",\"Marx(ism)\",\"Matanga   Kashyapa\",\"Mathai   Dr.  John\",\"Mathematics\",\"Maurya  Empire\",\"Maxwell   Sir  Reginald\",\"Maya\",\"Mecca\",\"Medicine   Arab\",\"Indian\",\"Medina\",\"Meerut   Mutiny  at\",\"Megasthenes\",\"Megaw   Sir  John\",\"Meghaduta\",\"Mehta   Ratilal\",\"Mein  Kampf\",\"Mekong  River\",\"Melas\",\"Melenky  Semean\",\"Memons\",\"Menander\",\"Mencius   quoted\",\"Mesopotamia\",\"Metaphysics\",\"Metcalfe   Charles\",\"Michelet\",\"Middle  Class\",\"Middle  Path  (way)\",\"Mihiragula\",\"'Milinda'\",\"Milinda   King\",\"Mill   John  Stuart\",\"Milton\",\"Mimamsa   system\",\"Ming  Dynasty\",\"Ming  Ti\",\"Mining\",\"Minorities   problem  of\",\"Mitakshara   Laws  of\",\"Mitchell   Kate\",\"Mohammed\",\"Mohenjo-daro\",\"Mohsin-ul-Mulk   Nawab\",\"Momins\",\"Mongolia(ns)\",\"Monier-Williams\",\"Monism\",\"Montagu-Chelmsford  Report\",\"Montreaux\",\"Morley   Lord\",\"Moslem(s)\",\"Moslem(s)\",\"ligentsia\",\"nationalism\",\"gress  and\",\"Moslem  League\",\"Moslem  League\",\"Mosul\",\"Mudra-Rakshasa\",\"Mughal  Empire\",\"break  up\",\"Muller   Max\",\"Munich  crisis\",\"Munro   Sir  Thomas\",\"Murari\",\"Murray   Gilbert\",\"Murshidabad   Bengal\",\"Mussolini\",\"Mussolini\",\"Mussolini\",\"Muttra\",\"Mysore\",\"Mysticism\",\"Mythology\",\"Nadir  Shah\",\"NSgarjuna  (philosopher)\",\"Nalanda  University\",\"Nalanda  University\",\"Nanak   Guru\",\"Naoroji   Dadabhai\",\"Napoleon(ic)\",\"Narayana\",\"Narbada  River\",\"Nataka\",\"National  Congress\",\"National  Congress\",\"agrarian  question\",\"governments\",\"governments\",\"governments\",\"governments\",\"governments\",\"National  Planning  Committee\",\"ffatya  Shastra\",\"Jfaubahar\",\"Nava-vihara\",\"Nazism   Nehru's  attitude  to\",\"Nazism   Nehru's  attitude  to\",\"Nehru   Jawaharlal\",\"Nehru   Jawaharlal\",\"National  Planning  committee  \",\"Chairman\",\"Japanese  invasion\",\"Japanese  invasion\",\"Japanese  invasion\",\"Yoga  system\",\"Nehru   Kamala\",\"Neill   General\",\"Nepal\",\"New  Delhi\",\"Nicobar  Islands\",\"Nietzsche   quoted\",\"Nirvana\",\"Jfitisara\",\"Nizam-ul-Mulk   Bhairi\",\"Noble   Margaret\",\"Nomani   Maulana  Shibli\",\"Non-violence\",\"Non-violence\",\"North-West  Frontier  Province\",\"North-West  Frontier  Province\",\"Nyaya  system\",\"Ommeya  Khalifas\",\"Oriental  Conference\",\"Orissa\",\"Oriya(s)\",\"Oudh\",\"Oxux  River\",\"Pacific  Aeea\",\"Padmeaat\",\"Pahlavi\",\"Pakistan  (partition)\",\"Palembang\",\"Palestine   Moslems  and\",\"Pali language\",\"Panchayat\",\"Pandurangam\",\"Pandya  Kingdom\",\"Panini\",\"Panipat   battle  of\",\"Pant   Govind  Ballabh\",\"Paramartha\",\"Paris\",\"Parliament  of Religions\",\"Parsees\",\"Parthians\",\"Pashto\",\"Pataliputra  (Patna)\",\"Pataliputra  (Patna)\",\"Patanjali\",\"Pathan(s)\",\"Patiala\",\"Payar\",\"Peacock  Throne\",\"Pearl  Harbour\",\"Pearl  Mosque\",\"Peasantry\",\"Peasantry\",\"Penang\",\"Persepolis\",\"Persia\",\"Persia\",\"Persian  language\",\"Persian  language\",\"Pertinax   quoted\",\"Peshawar\",\"Peshwa   of Poona\",\"Peter  the  Great\",\"Philadelphus   Ptolemy\",\"Philippine  Islands\",\"Planned  Society\",\"Plassey   Battle  of\",\"Plato\",\"Plotinus\",\"Poland\",\"Polytheism\",\"Poona\",\"Population\",\"Portugal  (ese)\",\"Poverty\",\"Prajnadeva  Sthavira\",\"Prakrit\",\"Prakriti\",\"Prasad   Rajendra\",\"Prayaga\",\"Pre-Buddhist  India\",\"Presidency  College\",\"Press   Indian\",\"Press   Indian\",\"Priestcraft\",\"Prison\",\"effect  on  Character\",\"Prithvi  Raj  (Chauhan)\",\"Proletariat   growth  of\",\"Provincial  autonomy\",\"Provincial  Governments\",\"Provincial  Governments\",\"Ptolemy\",\"Punjab(is)\",\"Punjab(is)\",\"Punjab(is)\",\"Purdah\",\"Puri\",\"Purusha\",\"Pythagoras\",\"Quakers\",\"Queen  Elizabeth\",\"Quietism\",\"Quisling\",\"Quit  India  Resolution\",\"Qutb-ud-Din   Aibak\",\"Racial  Assimilation\",\"Racial  Stocks  of India\",\"Racial  Stocks  of India\",\"Radhakrishnanan   Sir S.\",\"Radhakrishnanan   Sir S.\",\"Railways\",\"Rajagopalachari   C.\",\"Rajashekhara\",\"Rajas  thani\",\"Rajendra\",\"Rajendra  Prasad   Dr.\",\"Rajputana\",\"Rajputs\",\"Rajputs\",\"Rqjtarangini\",\"Ramakrishna  Paramhansa   Shri\",\"Ramakrishna  Paramhansa   Shri\",\"Ramanand\",\"Ramanujam  Srinivasa\",\"Ramayana\",\"Rameshwaram\",\"Ramgarh  Hills\",\"Rana  Pratap\",\"Ranchodji  Amarji\",\"Rangoon\",\"Rao   B. Shiva\",\"Rapson   E.J.\",\"Rashtrakutas\",\"Rati\",\"Ratilal  Mehta\",\"Rawlinson   H. G.\",\"Ray   Sir  P. C.\",\"Razia   Sultana\",\"Religion   Nehru's  opinion  of\",\"Religion   Nehru's  opinion  of\",\"effect  of\",\"Hinduism\",\"Renaissance\",\"Republic\",\"Resolution  of Remembrance\",\"Rig Veda\",\"Roe   Sir  Thomas\",\"Rolland   Romain\",\"Rolland   Romain\",\"Rome\",\"Roosevelt   F. D.\",\"Rowlands   Sir  Archibald\",\"Roy   Raja  Ram  Mohan\",\"Roy   Raja  Ram  Mohan\",\"Royal  Asiatic  Society\",\"Royal  Society\",\"Rumi  Khan\",\"Rushd  Ibn\",\"Russell   Bertrand\",\"Russell\",\"Safavis\",\"Sahib   Dr.  Khan\",\"Said  of Toledo\",\"Saif-ud-Din\",\"Saliendra\",\"Sakas\",\"Samarkand\",\"Samkhya  philosophy\",\"Samudragupta\",\"Sanatoria  Dharma\",\"Sanchi\",\"Sanghamitra  (Maurya)\",\"Sanskrit  Drama   The\",\"Santiniketan  University\",\"Sanyasi(ns)\",\"Saraswati   Swami  Dayananda\",\"Sarnath\",\"Sassanids\",\"Satnamis\",\"Satyagraha\",\"Satyakama   story  of\",\"Savarkar\",\"Scholarship\",\"Schopenhauer\",\"Scindhia  of Gwalior\",\"Scythians\",\"Sebokht   Severus\",\"Seistan\",\"Seleucus  Nikator\",\"Seljuk  Turks\",\"Sen   Keshub-  Chandra\",\"Serampore\",\"Serindia\",\"Shahab-ud-Din  Ghuri\",\"Shah  Namah\",\"Shaka(s)\",\"Shakespeare\",\"Shakuntala\",\"Shamaism\",\"Shankara  (charya)\",\"Shaw   Bernard\",\"Shelley\",\"Sher  Shah\",\"Shia  Moslems\",\"Shikarpur\",\"Shilabhdra\",\"Shiva\",\"Shivaji\",\"Shon  Wen\",\"Shore   Sir  John\",\"Shribhoga\",\"Shudraka\",\"Shudras\",\"Shuja-ud-Dowla\",\"Shuja-ud-Dowla\",\"Shunya\",\"Shunyata\",\"Siam  (Thailand)\",\"Siam  (Thailand)\",\"Si-an-fu   China\",\"Siberia\",\"Siddhartha\",\"Sikandar\",\"Sikhism\",\"Sikhs\",\"Sikh  wars\",\"Silva   Xavier  da\",\"Simla  Conference\",\"Sina   Ibn\",\"Sind(his)\",\"Sind(his)\",\"Sindhu  River\",\"Singapore\",\"Singh   A.N.\",\"Singh   Maharaja  Ranjit\",\"Singh   Maharaja  Ranjit\",\"Singh   Raja  Man\",\"Singh   Sawai  Jai\",\"Singhalese\",\"Singhasari\",\"Sinkiang\",\"Si-yu-ki\",\"Skeen  Committee\",\"•Smith   Adam\",\"Smith   Vincent\",\"Smritis\",\"Socialism\",\"Socrates\",\"Somnath\",\"Sone  River\",\"Sophocles\",\"South  Africa\",\"Soviet  Union  (Russia)\",\"Soviet  Union  (Russia)\",\"Soviet  Union  (Russia)\",\"Soviet  Union  (Russia)\",\"Yeaf  Plan\",\"Spain\",\"Special  Armed  Constabulary\",\"Spinoza   quoted\",\"Spooner   Dr.\",\"Spykman   N.J.\",\"Sribhoga\",\"Sringeri\",\"Srinivasa  Ramnaujam\",\"Srivijaya\",\"St. Augustine\",\"Stalin  Joseph\",\"Stcherbatsky   Prof.\",\"Stcherbatsky   Prof.\",\"Sthavira  Prajanadeva\",\"Strabo\",\"Sudetenland  Crisis\",\"Sufism\",\"Suhita   Queen\",\"Sumatra\",\"Sumerian  Civilization\",\"Sunga  Dynesty\",\"Sung-pao  collection\",\"Sung  Yun\",\"Sunni  Moslems\",\"Supra-national  state\",\"Surat\",\"Suryavansh\",\"Suryavarman\",\"Sushruta\",\"Suttee\",\"Svarnabhumi\",\"Svarnadvipa\",\"Swaraj\",\"Swaraj\",\"Tagore  Family\",\"Tagore   Rabindranath\",\"Tagore   Rabindranath\",\"Tai   Chi-tao\",\"Taj Mahal\",\"Takakusu   J.\",\"Takkola\",\"Takshashila  University   see  Taxila \",\"Tamil(s)\",\"tion\",\"Tamluk\",\"Tamralipti\",\"T'ang  dynesty\",\"Tao\",\"Tarn   Prof.\",\"Taskhand\",\"Tata   Jamshedji\",\"Tata   J.R.D.\",\"Tata  Steel  and  Iron  Works\",\"Tata  Steel  and  Iron  Works\",\"Taxila  University\",\"Taxila  University\",\"Telugu\",\"Textile  Industry\",\"Thebes\",\"Thomas   Dr.\",\"Thomas   Prof.  F.W.\",\"Thompson  Edward\",\"Thompson  Edward\",\"Thirty  Years  War\",\"Thucydides\",\"Tibet\",\"Tilak   Bal  Gangadhar\",\"Tilak   General\",\"Timur\",\"Timurid  renaissance\",\"Tipu  Sultan\",\"Todar  Mall   Raja\",\"Topi   Tantia\",\"Trade  Unions\",\"Trade  Union  Congress\",\"Travancore\",\"Trincomalee\",\"Tripoli  War\",\"Trivandrum\",\"Tughlaq   Ghias-un-Din\",\"Tughlaq   Mohammad\",\"Turanians\",\"Turfan\",\"Turkestan\",\"Turkey\",\"Twashtri\",\"Udaipur   Maharana\",\"Ujjaini  (Ujjain)\",\"observatory\",\"Unemployment\",\"Unemployment\",\"United  Provinces\",\"United  Provinces\",\"United  States  of America\",\"United  States  of America\",\"United  States  of America\",\"United  States  of America\",\"British  propaganda  in\",\"future  of\",\"vital  energy  of\",\"on\",\"Universities\",\"Universities\",\"strikes  in\",\"Untouchables\",\"Upanishads\",\"Upanishads\",\"Ghhandogya\",\"Urdu\",\"Urwick\",\"Vaishesika  system\",\"Vaishnavaism\",\"Vaishyas\",\"Vallabhi  University\",\"Vasanta\",\"Vasubandhu\",\"Vedanta   system\",\"Vedanta   system\",\"Vedas\",\"Vedic  dharma\",\"Vedic  religion\",\"Viceroy's  Council\",\"Vijayanagar\",\"Vikram  Samvant  calendar\",\"Vikramshila  University\",\"Village  autonomy\",\"Village  industries\",\"of\",\"Vindhya  Mountains\",\"Virgil\",\"Vishaka-datta\",\"Vishnu\",\"Vivekananda   Swami\",\"Vivekananda   Swami\",\"Wales   Dr.  H.G.  Quaritch\",\"Waley   Arthur\",\"Watt\",\"Wells   H.  G.\",\"Western  Culture\",\"White  Huns\",\"White  India\",\"White  Road\",\"Willkie   Wendell\",\"Wilson   Woodrow\",\"Winternitz\",\"Women\",\"Women\",\"underground\",\"Woodhead   Sir  John\",\"Working  Committee\",\"Working  Committee\",\"World  War  I\",\"World  War  I\",\"World  War  II\",\"World  War  II\",\"Writings   Hindu\",\"Yajnavalkya\",\"Yarkand\",\"Yashovarman\",\"Yaswant  Rao   Holkar\",\"Yavanas\",\"Yemen\",\"Yi-Tsing  (I-Tsing)\",\"Toga  system\",\"Young  Turk  Movement\",\"Yuan-Chwang  (see  Huan  Tsang)  \",\"Yuan-Chwang  (see  Huan  Tsang)  \",\"Yueh  Chih\",\"Zainulabdin\",\"Zakaullah   Munshi\",\"Zamindari  system\",\"Zetland   Marquis  of\",\"Zoroastrianism\"]"
   ]
  },
  {
   "cell_type": "code",
   "execution_count": 60,
   "id": "f64c26bd",
   "metadata": {},
   "outputs": [],
   "source": [
    "discovery_idx = [re.sub(r'\\s+', ' ', ele) for ele in discovery_idx]\n",
    "discovery_idx = [ele.strip().title() for ele in discovery_idx]"
   ]
  },
  {
   "cell_type": "code",
   "execution_count": 61,
   "id": "33805c55",
   "metadata": {},
   "outputs": [
    {
     "data": {
      "text/plain": [
       "1243"
      ]
     },
     "execution_count": 61,
     "metadata": {},
     "output_type": "execute_result"
    }
   ],
   "source": [
    "len(discovery_idx)"
   ]
  },
  {
   "cell_type": "code",
   "execution_count": 32,
   "id": "ea52d1ac",
   "metadata": {},
   "outputs": [
    {
     "name": "stdout",
     "output_type": "stream",
     "text": [
      "{'Satyagraha'}\n",
      "precision 0.012345679012345678   and recall 0.0009025270758122744\n",
      "{'India'}\n",
      "precision 0.011111111111111112   and recall 0.0009025270758122744\n",
      "{'Elections', 'Middle Class'}\n",
      "precision 0.020618556701030927   and recall 0.0018050541516245488\n"
     ]
    },
    {
     "data": {
      "text/plain": [
       "(0.0018050541516245488, 0.020618556701030927)"
      ]
     },
     "execution_count": 32,
     "metadata": {},
     "output_type": "execute_result"
    }
   ],
   "source": [
    "import json\n",
    "mp_bert,mp_yake,mp_rakun = {},{},{}\n",
    "\n",
    "with open(\"mp_Jawaharlal_Nehru_a_Biography_bert.json\", \"r\") as outfile:\n",
    "    mp_bert = json.load(outfile)\n",
    "\n",
    "with open(\"mp_Jawaharlal_Nehru_a_Biography_yake.json\", \"r\") as outfile:\n",
    "    mp_yake = json.load(outfile)\n",
    "\n",
    "with open(\"mp_Jawaharlal_Nehru_a_Biography_rakun.json\", \"r\") as outfile:\n",
    "    mp_rakun = json.load(outfile)\n",
    "    \n",
    "bert_kws = fetch_kws(mp_bert)\n",
    "eval_keywords(discovery_idx,bert_kws)\n",
    "\n",
    "yake_kws = fetch_kws(mp_yake)\n",
    "eval_keywords(discovery_idx,yake_kws)\n",
    "\n",
    "rakun_kws = fetch_kws(mp_rakun)\n",
    "eval_keywords(discovery_idx,rakun_kws)"
   ]
  },
  {
   "cell_type": "code",
   "execution_count": 31,
   "id": "5d66155a",
   "metadata": {},
   "outputs": [
    {
     "name": "stdout",
     "output_type": "stream",
     "text": [
      "{'India', 'Satyagraha'}\n",
      "precision 0.025974025974025976   and recall 0.0018050541516245488\n"
     ]
    },
    {
     "data": {
      "text/plain": [
       "(0.0018050541516245488, 0.025974025974025976)"
      ]
     },
     "execution_count": 31,
     "metadata": {},
     "output_type": "execute_result"
    }
   ],
   "source": [
    "eval_keywords(discovery_idx,nehru_kws_final)"
   ]
  },
  {
   "cell_type": "code",
   "execution_count": null,
   "id": "adfb981b",
   "metadata": {},
   "outputs": [],
   "source": []
  }
 ],
 "metadata": {
  "kernelspec": {
   "display_name": "Python 3 (ipykernel)",
   "language": "python",
   "name": "python3"
  },
  "language_info": {
   "codemirror_mode": {
    "name": "ipython",
    "version": 3
   },
   "file_extension": ".py",
   "mimetype": "text/x-python",
   "name": "python",
   "nbconvert_exporter": "python",
   "pygments_lexer": "ipython3",
   "version": "3.9.12"
  }
 },
 "nbformat": 4,
 "nbformat_minor": 5
}
