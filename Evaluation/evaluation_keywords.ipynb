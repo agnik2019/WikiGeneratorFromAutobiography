{
 "cells": [
  {
   "cell_type": "markdown",
   "id": "444301ee",
   "metadata": {},
   "source": [
    "## Mahatma Gandhi"
   ]
  },
  {
   "cell_type": "code",
   "execution_count": 19,
   "id": "1a440c36",
   "metadata": {},
   "outputs": [],
   "source": [
    "mg_index = [\"Advaita\",\n",
    "\"Agiari\",\n",
    "\"Ahimsa\",\n",
    "\"Allah\",\n",
    "\"Aparigraha\",\n",
    "\"Amanitvam\",\n",
    "\"Ardhangini\",\n",
    "\"Ashram\",\n",
    "\"Asoka\",\n",
    "\"Atishudra\",\n",
    "\"Atman\",\n",
    "\"Avatar\",\n",
    "\"Bansi\",\n",
    "\"Bardoli\",\n",
    "\"Bhagwadgita\",\n",
    "\"Bhakti\",\n",
    "\"Bhangi \",\n",
    "\"Bharat Mata\",\n",
    "\"Bibhishan \",\n",
    "\"Bhogabhumi\",\n",
    "\"Brahm\",\n",
    "\"Brahmachar\",\n",
    "\"Brahmacharya\",\n",
    "\"Brahman\",\n",
    "\"Chaitanya\",\n",
    "\"Chakki\",\n",
    "\"Chapati\",\n",
    "\"Charkh\",\n",
    "\"Dandi March\",\n",
    "\"Damayanti\",\n",
    "\"Daridranarayana\",\n",
    "\"Dasharatha\",\n",
    "\"Dharma\",\n",
    "\"Dharmaja\",\n",
    "\"Dharmayuddha\",\n",
    "\"Dheds\",\n",
    "\"Dhurna\",\n",
    "\"Dnyandev\",\n",
    "\"Draupadi\",\n",
    "\"Dublas\",\n",
    "\"Duryodhana\",\n",
    "\"Dyer\",\n",
    "\"Ganga\",\n",
    "\"Ganja\",\n",
    "\"Ghani\",\n",
    "\"Git\",\n",
    "\"Gokhal\",\n",
    "\"Goonda\",\n",
    "\"Goondaism\",\n",
    "\"Gopal\",\n",
    "\"Gur\",\n",
    "\"Guru\",\n",
    "\"Goseva\",\n",
    "\"Gram\",\n",
    "\"Gramsev\",\n",
    "\"Gram\",\n",
    "\"Hakim\",\n",
    "\"Hanuma\",\n",
    "\"Hartal\",\n",
    "\"Hooghl\",\n",
    "\"Ishopanishad\",\n",
    "\"Jainism\",\n",
    "\"Jain\",\n",
    "\"Jana\",\n",
    "\"Kabi\",\n",
    "\"Kamaja\",\n",
    "\"Karmabhum\",\n",
    "\"Karmayogi\",\n",
    "\"Khadda\",\n",
    "\"Kisan \",\n",
    "\"Kora\",\n",
    "\"Krishna\",\n",
    "\"Kshatriy\",\n",
    "\"Lil\",\n",
    "\"Lok Sevak Sang\",\n",
    "\"Mahabhara\",\n",
    "\"Mhatma\",\n",
    "\"Mahavi\",\n",
    "\"mantr\",\n",
    "\"Mantra\",\n",
    "\"Manushy\",\n",
    "\"May\",\n",
    "\"Moksha\",\n",
    "\"Muni\",\n",
    "\"Nai Talim\",\n",
    "\"Namaz\",\n",
    "\"Nana\",\n",
    "\"Nirvana\",\n",
    "\"Panch\",\n",
    "\"Panchaya\",\n",
    "\"Pandavas\",\n",
    "\"Pinjrapoles\",\n",
    "\"Prahlad\",\n",
    "\"Pritam\",\n",
    "\"Rajachandr\",\n",
    "\"Raychandbh\",\n",
    "\"Ram,\",\n",
    "\"Ramakrishna\",\n",
    "\"Ramanuja\",\n",
    "\"Ramji Mandir\",\n",
    "\"Ravana\",\n",
    "\"Sadavrat\",\n",
    "\"Sahadharmin\",\n",
    "\"Samagr\",\n",
    "\"Samskaras\",\n",
    "\"Sanatanist\",\n",
    "\"Sannyas\",\n",
    "\"Sannyasi\",\n",
    "\"Sarvodaya\",\n",
    "\"Satvika\",\n",
    "\"Satya\",\n",
    "\"Satyagraha\",\n",
    "\"Satygrahi\",\n",
    "\"Savitri\",\n",
    "\"Shankara\",\n",
    "\"Shastras\",\n",
    "\"Shloka\",\n",
    "\"Shudr\",\n",
    "\"Sita\",\n",
    "\"Smritis\",\n",
    "\"Sthitaprajn\",\n",
    "\"Sudam\",\n",
    "\"Surda\",\n",
    "\"Swadesh\",\n",
    "\"Swargarohan Par\",\n",
    "\"Tadgud\",\n",
    "\"Tapaschary\",\n",
    "\"Tilaks\",\n",
    "\"Tukaram\",\n",
    "\"Tulsidas\",\n",
    "\"Upanishad\",\n",
    "\"Vaidas\",\n",
    "\"Vaishyas\",\n",
    "\"Valmiki\",\n",
    "\"RAMAYA\",\n",
    "\"Varna\",\n",
    "\"Varnashrama\",\n",
    "\"Vedanta\",\n",
    "\"Vedas\",\n",
    "\"Vidur\",\n",
    "\"Yoga\",\n",
    "\"Yogi\",\n",
    "\"Yudhishthira\",\n",
    "\"Zamindar\",\n",
    "\"Zend\",\n",
    "\"Zoroaste\"]"
   ]
  },
  {
   "cell_type": "code",
   "execution_count": 24,
   "id": "4acba905",
   "metadata": {},
   "outputs": [],
   "source": [
    "final_keywords_mg = ['Champaran_Tenant', 'Pandit_Motilal_Nehru', 'Religions', 'Satyagraha', 'Ota_Gandhi', 'Voyage', 'Tolstoy', 'Unwariness', 'Returned_To_Rajkot', 'Opinion', 'Special_Session', 'Vegetarianism', 'Kheda_Satyagraha_Struggle', 'Plantations', 'Kheda_Campaign_Satyagraha', 'Maulana_Abdul_Bari', 'Disobedience', 'Punjab', 'Rajkot', 'Indian', 'Peace_Celebrations', 'Manganlal_Gandhi', 'Gokhale', 'Strike', 'Study_Of_Indian', 'Viceroy', 'Jalianwala_Bagh_Massacre', 'Barristers', 'Jalianwala_Bagh_Tragedy', 'India_Agitation', 'Vegetarianism_Strengthened', 'Training_On_Tolstoy', 'Muslim_Demand', 'Jalianwala_Bagh_Memorial', 'Hindus', 'South_African_Experiences', 'Kheda_Satyagraha', 'Pandit', 'Swami_Vivekananda', 'Advocate', 'Indian_Opinion', 'Maharajas_For_Donations', 'Indians', 'Diet', 'Satyagrahi_Volunteers', 'Vegetarian_Restaurants', 'Christian_Indians', 'Alias_Ota_Gandhi', 'Vegetarian_Diet', 'Punjab_Situation', 'Satyagrahi', 'Chhaganlal_Gandhi', 'Englishmen_And_Boers', 'Punjab_Government', 'Hindu_Wife', 'Duty', 'Karamchand_Gandhi', 'Hindu_Husband', 'Congress', 'Uttamchand_Gandhi', 'Bania_Caste', 'Gandhi_Settlement', 'Understood', 'Indian_Ocean', 'Grandfather', 'Moslem_Audiences', 'Shankarlal_Parikh', 'Shraddhanandji', 'Mahatma_Munshiramji', 'Hindu', 'Passive_Resistance', 'Mohanlal_Pandya', 'African_Experiences', 'Sheth', 'Indentured_Labourer', 'Johannesburg', 'Natal_Zulus', 'Farm', 'Maganlal_Gandhi', 'Hinduism', 'Brahmacharya', 'Soldiers', 'Vegetarian_Society', 'Khilafat_Agitation', 'Satyagraha_Sabha', 'Swami_Shraddhanandji', 'Rajkumar_Shukla', 'Gujarati_Hindu_Children', 'Abdulla_Sheth', 'Kaba_Gandhi', 'Christian_Indian', 'Tamil', 'Ahmedabad_Young_India', 'Indigo_Plantations', 'Rajkot_To_Resume', 'Kheda', 'Average_Christian_Indian', 'South_African', 'Gandhi', 'Mahatma', 'Tolstoy_Farm', 'Indigo', 'Vegetarian', 'Gujarat_Sabha', 'Sister_Religions', 'Meet_Mahatma_Munshiramji', 'Indian_Home_Rule', 'Christian_Indians_Living', 'English_Youths', 'Hindu_Brethren', 'Virchand_Gandhi', 'Indian_Law', 'Muslim', 'Ahimsa']\n"
   ]
  },
  {
   "cell_type": "code",
   "execution_count": 5,
   "id": "f07ee331",
   "metadata": {},
   "outputs": [],
   "source": [
    "# for i,val in enumerate(mg_index):\n",
    "#     mg_index[i] = val.replace(\" \",\"_\")\n",
    "    "
   ]
  },
  {
   "cell_type": "code",
   "execution_count": 9,
   "id": "dbf6fdc2",
   "metadata": {},
   "outputs": [],
   "source": []
  },
  {
   "cell_type": "code",
   "execution_count": 9,
   "id": "7d9e63cb",
   "metadata": {},
   "outputs": [],
   "source": [
    "def eval_keywords(mg_index,final_keywords_mg):\n",
    "    mg_index = set(mg_index)\n",
    "    final_keywords_mg = set(final_keywords_mg)\n",
    "    common_words = mg_index & final_keywords_mg\n",
    "    print(common_words)\n",
    "    recall = len(common_words) / len(mg_index)\n",
    "    precision = len(common_words) / len(final_keywords_mg)\n",
    "    print(f\"precision {precision}   and recall {recall}\")\n",
    "    return recall,precision"
   ]
  },
  {
   "cell_type": "code",
   "execution_count": 11,
   "id": "f2db01e4",
   "metadata": {},
   "outputs": [],
   "source": [
    "import json\n",
    "mp_bert,mp_yake,mp_rakun = {},{},{}\n",
    "with open(\"mp_SOMEWT_bert.json\", \"r\") as outfile:\n",
    "    mp_bert = json.load(outfile)\n",
    "\n",
    "with open(\"mp_SOMEWT_yake.json\", \"r\") as outfile:\n",
    "    mp_yake = json.load(outfile)\n",
    "\n",
    "with open(\"mp_SOMEWT_rakun.json\", \"r\") as outfile:\n",
    "    mp_rakun = json.load(outfile)"
   ]
  },
  {
   "cell_type": "code",
   "execution_count": 7,
   "id": "d11d00ef",
   "metadata": {},
   "outputs": [],
   "source": [
    "def fetch_kws(mp):\n",
    "    kws = []\n",
    "    for v in mp.values():\n",
    "        for ele in v:\n",
    "            kws.append(ele[0].title())\n",
    "    return kws"
   ]
  },
  {
   "cell_type": "code",
   "execution_count": 22,
   "id": "dbe20802",
   "metadata": {},
   "outputs": [
    {
     "name": "stdout",
     "output_type": "stream",
     "text": [
      "{'Satyagraha', 'Hartal', 'Brahmacharya', 'Ashram'}\n",
      "precision 0.006482982171799027   and recall 0.027586206896551724\n",
      "{'Satyagraha', 'Brahmacharya', 'Ashram', 'Ahimsa'}\n",
      "precision 0.006006006006006006   and recall 0.027586206896551724\n",
      "set()\n",
      "precision 0.0   and recall 0.0\n"
     ]
    },
    {
     "data": {
      "text/plain": [
       "(0.0, 0.0)"
      ]
     },
     "execution_count": 22,
     "metadata": {},
     "output_type": "execute_result"
    }
   ],
   "source": [
    "bert_kws = fetch_kws(mp_bert)\n",
    "eval_keywords(mg_index,bert_kws)\n",
    "\n",
    "yake_kws = fetch_kws(mp_yake)\n",
    "eval_keywords(mg_index,yake_kws)\n",
    "\n",
    "rakun_kws = fetch_kws(mp_rakun)\n",
    "eval_keywords(mg_index,rakun_kws)"
   ]
  },
  {
   "cell_type": "code",
   "execution_count": 25,
   "id": "1c7221fa",
   "metadata": {},
   "outputs": [
    {
     "name": "stdout",
     "output_type": "stream",
     "text": [
      "{'Satyagraha', 'Brahmacharya', 'Ahimsa'}\n",
      "precision 0.02631578947368421   and recall 0.020689655172413793\n"
     ]
    },
    {
     "data": {
      "text/plain": [
       "(0.020689655172413793, 0.02631578947368421)"
      ]
     },
     "execution_count": 25,
     "metadata": {},
     "output_type": "execute_result"
    }
   ],
   "source": [
    "eval_keywords(mg_index,final_keywords_mg)"
   ]
  },
  {
   "cell_type": "markdown",
   "id": "b9c7402e",
   "metadata": {},
   "source": [
    "## Nelson Mandela"
   ]
  },
  {
   "cell_type": "code",
   "execution_count": 1,
   "id": "518e2b16",
   "metadata": {},
   "outputs": [],
   "source": [
    "nelson_index =[\"Abdurahman\",\"  Abdullah\",\" abeSotho\",\" abeThembu. See Thembuland/ThembupeopleAdams\",\"  Farid\",\" Addis Ababa\",\" African Mine Workers Union (AMWU)\",\" African National Congress (ANC)\",\" Action\",\" Committee\",\" annual conferences\",\" armed protest\",\"  violence policy\",\" arrest and imprisonmentof members\",\" bail issue\",\" ban against\",\"  branches\",\" civil disobedience activities\",\" Congress of the People\",\" External Mission\",\"  government ofSouth Africa and\",\" international activities\",\"  leadership\",\" membership\",\" mobilization/mass action National\",\" Executive Committee\",\" negotiations with government of South Africa\",\" NM as deputy president\",\" NM as president\",\" NM’s early activities\",\" nonviolence policy\",\" release of imprisoned members\",\" release of NM and\",\" removal schemes andRobben Island activities\",\" terrorismagainst\",\" voting campaign\",\"  white influenceon\",\"  See also ANC and;communism/Communist Party; FreedomCharter; MK; Women’s League; YouthLeagueAfrican People’s Party (APO)\",\" Afrikaner Rebellion\",\" Afrikaner Volksfront\",\" Afrikaner Weerstandsbeweging (AWB)\",\" Alexander\",\"  Neville\",\" Alexandra Township\",\" Algeria\",\" All-African Convention\",\" All-in Conference\",\" amaBaca\",\" amaBomyana\",\" amaGcaleka\",\" amaMfengu\",\" amaMpemvu\",\" amaMpodomis\",\" amaMpondo\",\" amaNgutyana\",\" Amnesty International\",\" Angola\",\" anti-ANC alliance\",\" apartheid\",\" education and\",\"  grand\",\" legislation\",\" regulations\",\"  struggle against\",\" treason trial and\",\"  treatment ofprisoners\",\" April\",\"  Jimmy\",\" Aronsohn\",\"  William\",\" Asiatic Land Tenure Act\",\" assassinations\",\" Astor\",\"  David\",\" Atlantic Charter\",\" Aucamp\",\"  Brigadier\",\" Aucamp\",\"  Colonel\",\" Autshumao\",\" Ayob\",\"  Ismail\",\" Azanian People’s Organization\",\" Baard\",\"  FrancesBadenhorst\",\"  Piet\",\" Bam\",\"  Fikile\",\" bans/banning orders\",\"  againstANC\",\"  against NM\",\" against Winnie Mandela\",\" Bantu areas\",\" Bantu Authorities/Bantu Authorities Act\",\" Bantu Education Act\",\" Bantu Self Government Act\",\" bantustan system\",\" Barnard\",\"  Niel\",\" Barnard (secretary to prime minister)\",\" Basner\",\"  H. M.\",\"  law firm\",\" Basner\",\"  Hymie M.\",\" Basothos people\",\" Bechuanaland People’s Party\",\" Befikadu\",\"  Wondoni\",\" Behndy\",\"  Isaac\",\" Bekker\",\"  Justice\",\" Ben Bella\",\"  Ahmed\",\" Benson\",\"  Mary\",\" Bernstein\",\"  Lionel (Rusty)\",\" Berrangé\",\"  Vernon\",\" Bethell\",\"  Nicholas\",\" Beyleveld\",\"  Piet\",\" Bhoola\",\"  Ahmed\",\" Bhoolia\",\"  Ramlal\",\" Bisho massacre\",\" Bizos\",\"  George\",\" Black Consciousness Movement (BCM)\",\" Black Parents Association\",\" Black People’s Convention\",\" Black Sash group\",\" Blayi\",\"  Banabakhe\",\" Bloemfontein conference\",\" Boesak\",\"  Allan\",\" Boipatong massacre\",\" Boksburg\",\" Bokwe\",\"  Roseberry\",\" Bopape\",\"  David\",\" Bophuthatswana\",\" Bosch\",\"  Prosecutor\",\" Boshielo\",\"  Flag\",\" Botha\",\"  Pik\",\" Botha\",\"  P. W.\",\" attack on ANC\",\" negotiations with ANC\",\" Botswana\",\" Bourguiba\",\"  Habib\",\" Brand\",\"  Warrant Officer\",\" Bregman\",\"  Nat\",\" Brezhnev\",\"  Leonid\",\" Britain\",\" Broederbond organization\",\" Brutus\",\"  Dennis\",\" Bunga (legislature)\",\" Bureau of State Security (BOSS)\",\" Bush\",\"  George\",\" Buthelezi\",\"  Mangosuthu\",\" Cachalia\",\"  Maulvi\",\" Cachalia\",\"  Yusuf\",\" arrest and trialCalata\",\"  James\",\" Campaign for the Defiance of Unjust\",\" Laws\",\" Cape Town\",\" Carlson\",\"  Joel\",\" Carneson\",\"  Fred\",\" Carolus\",\"  Cheryl\",\" Carrington\",\"  Lord\",\" Cetywayo\",\"  King\",\" Chamber of Mines\",\" Chaskalson\",\"  Arthur\",\" Chiba\",\"  Laloo\",\" Chissano\",\"  Joaquim\",\" Christianity\",\" Churchill\",\"  Winston\",\" CIA\",\" circumcision ceremony\",\" citizenship issue\",\" civil disobedience campaign\",\" Clarkebury Boarding Institute\",\" Clinton\",\"  Bill\",\" CODESA (Convention for a Democratic\",\" South Africa)\",\"  Seealso CODESACODESACoetsee\",\"  Kobie\",\" negotiations with ANC\",\" Color Bar Act\",\" Coloured People’s Congress\",\" ColouredsSee alsoSouth African Coloured People’sOrganizationcommunism/Communist Party (SACP)\",\" ANC and\",\" ban against\",\" mineworkers strike and\",\"  MKand\",\"  NM and Youth Leagueopposition to\",\" religion and\",\"  South Africanopposition to\",\" underground activities\",\"  whites in\",\" See also Suppression of Communism ActConco\",\"  Wilson\",\" Congress Alliance\",\" Congress of Democrats (COD)\",\" Congress of South African Trade Unions\",\" (COSATU)\",\" Congress of the People\",\" Conservative Party\",\" constitution. See Freedom CharterConvention for a Democratic South Africa.See CODESACook\",\"  A. J.\",\" Cooper\",\"  Saths\",\" Corbett\",\"  Michael\",\" Criminal Laws Amendment Act\",\" Crown Mines\",\" Dadoo\",\"  Yusuf\",\"  arrestand trial\",\" Daligqili\",\" Dalindyebo\",\"  Jongilizwe\",\" Dalindyebo\",\"  Jongintaba\",\" Dalindyebo\",\"  Justice\",\" Dalindyebo\",\"  Nomafu\",\" Dalindyebo\",\"  Nxeko\",\" Dalindyebo\",\"  Sabata\",\" Daliwonga. See Matanzima\",\"  K. D.Daniels\",\"  Eddie\",\" Dash\",\"  Samuel\",\" Davidoff\",\"  Hymie\",\" Davis\",\"  Don\",\" Day of Protest\",\" Day of the Volunteers\",\" Defiance Campaign\",\" arrest of members\",\" de Klerk\",\"  F. W.\",\" ANC negotiations\",\" apartheid and\",\" calls for all-whitereferendum\",\"  1994 electionand\",\"  NobelPeace Prize\",\"  violence in South Africaand\",\" democracy\",\" Department of Development Aid\",\" Derby-Lewis\",\"  Clive\",\" de Villiers\",\"  Dawie\",\" De Wet\",\"  Christiaan\",\" de Wet\",\"  Quartus\",\" Diallo\",\"  Abdoulaye\",\" Dinath\",\"  Moosa\",\" Dingake\",\"  Mike\",\" Dingane’s Day\",\" Dlamini\",\"  Father\",\" Doctors’ Pact\",\" Donaldson Orlando Community Center\",\" Dos Santos\",\"  José Eduardo\",\" Douglas-Home\",\"  Alex\",\" Dube\",\"  John\",\" Du Bois\",\"  W. E. B.\",\" Duncan\",\"  Patrick\",\" Dutch Reform Church\",\" education\",\"  African\",\" eGoli. See JohannesburgEgypt\",\" elections\",\" emergency\",\"  state of. See State ofEmergency/Emergency RegulationsEmigrant Thembuland\",\" Ethiopia\",\" Ethiopian Riot Battalion\",\" European Community\",\" Extension of University Education Act\",\" fascism\",\" Fazzie\",\"  Henry\",\" Ferris\",\"  Hennie\",\" Festile (boss at Crown Mines)\",\" First\",\"  Ruth\",\" First Transvaal and Orange Free StatePeoples Assembly for Votes for All\",\" Fischer\",\"  Bram\",\" Fischer\",\"  Molly\",\" FLN (Algerian resistance)\",\" Fort Beaufort\",\" Fort Hare (University College)\",\" Fourie\",\"  Warder\",\" Franks\",\"  Maurice\",\" Fraser\",\"  Malcolm\",\" Freedom Charter\",\" treason trialand\",\" Freedom Day strike\",\" Freedom Front\",\" Free Mandela campaign\",\" Gaetsewe\",\"  John\",\" Gaitskell\",\"  Hugh\",\" Gandhi\",\"  Mahatma\",\" Gandhi\",\"  Manilal\",\" gangs\",\"  criminal\",\" Garvey\",\"  Marcus\",\" General Law Amendment Act\",\" Gericke\",\"  Captain\",\" Germany\",\" Ghana\",\" Ghetto Act\",\" Goldberg\",\"  Dennis\",\" Goldreich\",\"  Arthur\",\" Goldreich\",\"  Hazel\",\" Goldreich\",\"  Nicholas\",\" Goniwe\",\"  Matthew\",\" Gordhan\",\"  Ketso\",\" Gqabi\",\"  Joe\",\" Gqozo\",\"  Oupo\",\" Gregory\",\"  James\",\" Grimond\",\"  Jo\",\" Group Areas Act\",\" group rights issue\",\" guerilla warfare\",\" Guinea\",\" Gumede\",\"  Archie\",\" Gumede\",\"  Josiah\",\" Gwala\",\"  Harry\",\" Gwentshe\",\"  Alcott\",\" Hahlo\",\"  Professor\",\" Haile Selassie\",\" Hani\",\"  Chris\",\" Hanson\",\"  Harold\",\" Harare Declaration\",\" Harmel\",\"  Michael\",\" Harmel\",\"  Ray\",\" Harris\",\"  C.\",\" Healdtown\",\" Healey\",\"  Dennis\",\" Helberg\",\"  Sergeant\",\" Helman and Michel law firm\",\" Hepple\",\"  Alex\",\" Hepple\",\"  Bob\",\" Hertzog\",\"  J. B.\",\" High Organ. See African National Congress;Robben Island activities history\",\"  African\",\" Hodgson\",\"  Jack\",\" Holomisa\",\"  Bantu\",\" homeland issues\",\" Huddleston\",\"  Trevor\",\" Hughes\",\"  Father\",\" Hynning\",\"  Mr. (American attorney)\",\" iMfecane\",\" Immorality Act\",\" Indian community\",\" partnership with Africans\",\" vote. See also South African IndianCongress; Traansvaal IndianCongress; Traansvaal Indian Youth CongressIndustrial and Commercial Workers Union (ICU)\",\" Inkatha Freedom Party\",\" Internal Security Act\",\" International Red Cross\",\" Jabavu\",\"  D. D. T.\",\" Jacobs\",\"  ColonelJassat\",\"  Abdulhay\",\" Jawaharlal Nehru Human Rights Award\",\" Jehovah’s Witnesses\",\" Jelliman\",\"  Mr.\",\" Jews\",\" Joffe\",\"  Joel\",\" Johannesburg: NM’s escape to andemployment in\",\"  NM’sunderground activities in\",\" protests in\",\" Johannesburg Fort prison\",\" Jones\",\"  Reverend\",\" Jongintaba\",\"  Chief\",\" Joseph\",\"  Helen\",\" Joyi\",\"  Zwelibhangile\",\" Kadalie\",\"  Clements\",\" Kantor\",\"  Jimmy\",\" Kapwepwe\",\"  Simon\",\" Kathrada\",\"  Ahmed (Kathy)\",\" MK and\",\"  in RobbenIsland prison\",\" inPollsmoor prison\",\"  negotiationswith government\",\" release from prison\",\" Kaunda\",\"  Kenneth\",\" Keitsing\",\"  Fish\",\" Kellerman\",\"  Major\",\" Kemp\",\"  General\",\" Kennedy\",\"  Justice\",\" Kentridge\",\"  Sydney\",\" Kerr\",\"  Alexander\",\" Kgoloko\",\"  Kolane\",\" Kgosana\",\"  Philip\",\" Khongisa\",\"  Nyathi\",\" King\",\"  Coretta Scott\",\" King\",\"  Martin Luther\",\"  Jr.\",\" Kissinger\",\"  Henry\",\" Kleynhans brothers\",\" Koch\",\"  Miss\",\" Kodesh\",\"  Wolfie\",\" Kotane\",\"  Moses\",\" Kruger\",\"  Jimmy\",\" Kruger\",\"  Sergeant\",\" Kunene\",\"  Andrew\",\" KwaZulu\",\" Lagos Conference of Independent States\",\" Land Act\",\" League of Nations\",\" Leballo\",\"  Potlako\",\" Lebentlele\",\"  Frank\",\" legal system\",\"  South African\",\" legislation\",\"  discriminatory\",\" protest against\",\" Leibbrandt\",\"  Robey\",\" Lekota\",\"  Patrick “Terror\",\" ”Lembede\",\"  Anton\",\" Letele\",\"  Arthur\",\" Letlaka\",\"  Tsepo\",\" Levson\",\"  Freda\",\" Levy\",\"  Leon\",\" Liberal Party\",\" Liberia\",\" Liliesleaf Farm\",\"  Rivonia\",\" little Rivonia Trial\",\" Lollan\",\"  Stanley\",\" Louw\",\"  Mike\",\" Ludorf\",\"  Justice\",\" Lutheran mission\",\" Luthuli\",\"  Albert\",\" antiremoval campaign\",\" and\",\"  as president of theANC\",\" Congress of the Peopleand\",\"  arrest and trial\",\" in NM’s treason trial\",\" armed violence policy and\",\" Nobel Peace Prize\",\" NM underground and\",\" Mabhida\",\"  Moses\",\" Mabutho\",\"  J.\",\" Mabutho\",\"  Mrs. Gogo\",\" Macmillan\",\"  Harold\",\" Madi\",\"  Levi\",\" Madikizela\",\"  Columbus\",\" Mahabane\",\"  Paul\",\" Mahabane\",\"  Zaccheus\",\" Maharaj\",\"  Mac\",\" Mahlasela\",\"  Ben\",\" Maisels\",\"  Israel\",\" Majombozi\",\"  Lionel\",\" majority rule issue\",\" Makanna\",\" Make\",\"  Vusumuzi\",\" Makgatho\",\"  Sefako Mapogo\",\" Makhanda\",\" Makue\",\"  Joshua\",\" Makwetu\",\"  Clarence\",\" Malan\",\"  Daniel\",\" Malan\",\"  Magnus\",\" Mandela\",\"  Baliwe\",\" Mandela\",\"  Daligqili\",\" Mandela\",\"Evelyn\",\" birth of children\",\" break-up of marriage to NM\",\" Mandela\",\"  Leabie\",\" Mandela\",\"  Mabel\",\" Mandela\",\"  Madiba Thembekile\",\" Mandela\",\"  Makaziwe (NM’s first daughter)\",\" Mandela\",\"  Makaziwe (NM’s seconddaughter)\",\" Mandela\",\"  Makgatho Lewanika\",\" Mandela\",\"  Makhutswana\",\" Mandela\",\"  Mlahlwa\",\" Mandela\",\"  Nelson Rolihlahla: family history\",\" childhood\",\"  and education\",\" early life in Johannesburg\",\" ; laweducation and practice\",\" ANCconnection and politics\",\" marriage to Evelyn\",\" Mase family life andbirth of children\",\" arrest and trial (1952)\",\" bans against\",\" visits home\",\" ; TreasonTrial (1956)\",\" meets andmarries Winnie Madikizela\",\" arrest and imprisonmentunder State of Emergency\",\" goes underground\",\" founds and heads MK\",\" international campaigns\",\" military training; arrestand imprisonment (1962)\",\" Rivonia Trial (1962)\",\" begins prison sentence at RobbenIsland\",\" ; writes memoirstransfer to Pollsmoor Prison\",\" armed resistance/violence policy\",\"  refusesconditional release\",\" ; negotiationswith government\",\" health\",\" ; transfer to VictorVerster prison\",\" meetings with Botha\",\" ; meetingswith de Klerk\",\" ;releasefrom prison\",\"  post-prisonactivities\",\" ; European and American tour\",\" ; separation fromWinnie\",\" ; Nobel Peace PrizeMandela\",\"  Notancu\",\" Mandela\",\"  Winnie (née Nomzamo\",\" Winifred Madikizela)\",\" ; meets andmarries NM\",\" ; politicsbirth of children\",\" visits to NM in prisons\",\" at NM’s trial\",\" ; banagainst\",\" arrest and imprisonment\",\" ;erosion of marriage to NM\",\" internal exile\",\" NM’srelease from prison and\",\" Mandela\",\"  Zenani\",\" Mandela\",\"  Zindziswa\",\" Mandela and Tambo law firm\",\" Mandela-Plan (M-Plan)\",\" Mangope\",\"  Lucas\",\" Manuel\",\"  Trevor\",\" Maoto\",\"  Kangaroo\",\" Mao Tse-tung\",\" Maqubela\",\"  Patrick\",\" Marais\",\"  Major\",\" Marcus\",\"  Nathan\",\" Maree\",\"  Willie\",\" Margai\",\"  Milto\",\" Marks\",\"  J. B.\",\" arrest and trial\",\" \",\" Marupeng\",\"  Seperepere\",\" Marx\",\"  Gawie\",\" Marxism\",\" Mase\",\"  Sam\",\" Maseko\",\"  MacDonald\",\" Maseko\",\"  Phyllis\",\" Masemola\",\"  Jeff\",\" Mashaba\",\"  Bertha\",\" Mashifane\",\"  Thomas\",\" Masire\",\"  Quett\",\" MaSisulu (mother of Walter Sisulu)\",\" Masondo\",\"  Andrew\",\" mass action/protests\",\" Mass Democratic Movement (MDM)\",\" Matanzima\",\"  George\",\" Matanzima\",\"  K. (Kalzer) D. (Daliwonga)\",\" Matlou\",\"  Jonas\",\" Matomela\",\"  Florence\",\" Matthews\",\"  Joe\",\" Matthews\",\"  Z. K.\",\" Matyolo family\",\" Mbekela\",\"  Ben\",\" Mbekela\",\"  George\",\" Mbekeni\",\"  Constance\",\" \",\" Mbekeni\",\"  Garlick\",\" \",\" Mbeki\",\"  Govan\",\" Mbeki\",\"  Thabo\",\" Mbobo\",\"  Victor\",\" Mda\",\"  A. P. (Peter)\",\" Mda\",\"  Rose\",\" Mdingi\",\"  Chief\",\" Meadowlands\",\" Meer\",\"  Fatima\",\" Meer\",\"  Ismail\",\" Meligqili\",\"  Chief\",\" Menye\",\"  Nqabeni\",\" Methodist Church of South Africa\",\" Methodist faith/Church\",\" Mfengu people\",\" Mgudlwa\",\"  Msunguli\",\" Mgxaji\",\"  Nkosana\",\" Mhlaba\",\"  Raymond\",\" negotiations with government and\",\" release from prison\",\" Michel\",\"  Rodney\",\" Mini\",\"  Vuyisile\",\" Minnaar\",\"  Colonel\",\" Mitterrand\",\"  François\",\" Mji\",\"  Diliza\",\" Mkentane\",\"  Lincoln\",\" MK (Umkhonto we Sizwe–the Spear of the Nation)\",\" ; ANCand\",\" armed resistance/violence policy\",\"  arrestand imprisonment of members\",\" founding\",\" ;international support for\",\" legislation against\",\" Mkwayi\",\"  Wilton\",\" Mlangeni\",\"  Andrew\",\" Mlonyeni\",\"  Max\",\" Modise\",\"  Joe\",\" Mofokeng\",\"  Mackeed\",\" Mofutsanyana\",\"  Edwin\",\" Moilwa\",\"  Abram\",\" Mokitimi\",\"  S. S.\",\" Mokone\",\"  Elijah\",\" Molaoa\",\"  Patrick\",\" Molefe\",\"  Popo\",\" Molefi\",\"  Joe\",\" Molete\",\"  Aaron\",\" Molete\",\"  Z. B.\",\" Molete\",\"  Zachariah\",\" Molife\",\"  Petrus\",\" Mollson\",\"  Jeremiah\",\" Moloi\",\"  Jerry\",\" Molotsi\",\"  Johannes (Skipper\",\"  Adonis)\",\" Molotsi\",\"  Peter\",\" Mompati\",\"  Ruth\",\" Moodley\",\"  Strini\",\" Moola\",\"  Mosie\",\" Moosa\",\"  Valli\",\" Morocco\",\" Moroka\",\"  J. S.\",\" Moshweshwe\",\"  Mantsebo\",\" Motala\",\"  Dr. Chota\",\" Mothopeng\",\"  Zephania\",\" Motlana\",\"  Nthato\",\" Motsete\",\"  K. T.\",\" Motsoaledi\",\"  Caroline\",\" Motsoaledi\",\"  Elias\",\" Mozambique\",\" Mpetha\",\"  Oscar\",\" Mphakanyiswa\",\"  Gadla\",\" Mpondombini\",\"  Chief\",\" Mpondo people\",\" Mqhayi\",\"  Krune\",\" Mqhayi\",\"  Samuel\",\" Mqhekezweni\",\"  Thembuland\",\" Mthimkhulu\",\"  Ida\",\" Mtolo\",\"  Bruno\",\" Mubarak\",\"  Hosni\",\" Mugabe\",\"  Robert\",\" Muller\",\"  Hans\",\" Mulroney\",\"  Brian\",\" Munro\",\"  Brigadier\",\" Murray\",\"  Andrew\",\" Museveni\",\"  Yoweri\",\" Mustafa\",\"  Dr.\",\" Mvezo\",\" Mxenge\",\"  Griffiths\",\" Naicker\",\"  G. M. (Monty)\",\" Naidoo\",\"  G. R.\",\" Naidoo\",\"  M. D.\",\" Nair\",\"  Billy\",\" Namibia\",\" Nasser\",\"  Gamal Abdel\",\" Natal\",\" Natal Indian Congress (NIC)\",\" National Action Committee\",\" National Action Council\",\" nationalism: African\",\" Afrikaner\",\" National Minded Bloc\",\" National Party\",\" apartheid policy education\",\" policy\",\"  in electionsnegotiations with ANC\",\" PAC and\",\"  Treason Trial and\",\" National Peace Accord\",\" National Security Management System\",\" National Volunteer Board\",\" Native Administration Act\",\" Native Affairs Department\",\" Native Representative Council\",\" Naude\",\"  Beyers\",\" Ndzamela\",\"  Locke\",\" Nel\",\"  De Wet\",\" New Age\",\" news media\",\" Ngangelizwe\",\"  King\",\" Ngendane\",\"  Selby\",\" Ngidi\",\"  Freddie\",\" Ngotyana\",\"  Greenwood\",\" Ngoyi\",\"  Lilian\",\" Ngubane\",\"  Jordan\",\" Ngubase\",\"  Solomon\",\" Ngubengcuka\",\"  King\",\" Nguni people\",\" Ngwevela\",\"  Johnson\",\" Nhlapo\",\"  Enoch\",\" Nicholas\",\"  G.\",\" Nigeria\",\" Ninety-Day Detention Law\",\" Njongwe\",\"  James\",\" Nkabinde\",\"  Ellen\",\" Nkampeni\",\"  J.\",\" Nkobi\",\"  Thomas Titus\",\" Nkomo\",\"  Joshua\",\" Nkomo\",\"  William\",\" Nkrumah\",\"  Kwame\",\" No-England (NM’s foster mother)\",\" Nokwe\",\"  Duma\",\" Treason Trial and\",\" Non-European Unity Movement\",\" nonviolence. See African National Congress:nonviolence policy;pacifism; passive resistanceNosekeni\",\"  Fanny\",\" Nthite\",\"  Peter\",\" Ntlabathi\",\"  Gertrude\",\" Ntsele\",\"  Eric\",\" Nxu\",\"  Sidney\",\" Nyerere\",\"  Julius\",\" Nzo\",\"  Alfred\",\" Obasanjo\",\"  Olusegun\",\" O’Dowd\",\"  Tony\",\" Omar\",\"  Dullah\",\" Operation Mayibuye\",\" Operation Vula\",\" Orange Free State\",\" Organization of African Unity\",\" Orlando section of Soweto\",\" pacifism\",\" Pahad\",\"  Amina\",\" Pan African Freedom Movement for East\",\" Central\",\"  and Southern Africa(PAFMECSA)\",\" Pan Africanist Congress (PAC)\",\" ANC and\",\" ;anti-Communist policy\",\" ;bans against\",\" ; foundingand influence\",\" ;imprisonment of members\",\" ;Robben Island activities\",\" Panza\",\"  Justice\",\" passive resistance\",\" pass system\",\" Patel\",\"  Cassim\",\" Patel\",\"  Zubeida\",\" Pather\",\"  Masla\",\" Paton\",\"  Alan\",\" Patriotic Front\",\" Peake\",\"  George\",\" People’s Forums\",\" People’s Republic of China\",\" Peteni\",\"  Randall\",\" Pieterson\",\"  Hector\",\" Piliso (manager at Crown Mines)\",\" Pillay\",\"  Mrs. Thayanagee\",\" Pirow\",\"  Oswald\",\" Pitje\",\"  Godfrey\",\" Pogrund\",\"  Benjamin\",\" Pokela\",\"  John\",\" police brutality\",\" Pollak\",\"  Walter\",\" Pollsmoor Prison\",\" Pondoland/Pondo people\",\" Population Registration Act\",\" Port Elizabeth\",\" Pretoria\",\" economic sanctions against\",\" NM’s imprisonment in\",\" Rivona Trial\",\" Pretoria Minute\",\" Pretorius\",\"  Lieutenant\",\" Prins\",\"  Lieutenant\",\" Prinsloo\",\"  Colonel\",\" Program of Action\",\" Progresive Federal Party\",\" Prohibition of Mixed Marriages Act\",\" Promotion of Bantu Self GovernmentAct\",\" property rights\",\" Public Safety Act\",\" quasi-independent homelands\",\" Qunu (village)\",\" Raboroko\",\"  Peter\",\" racist policies\",\" Radebe\",\"  Gaur\",\" radio broadcasts. See news media;South African Broadcasting CorporationRamaila (spy)\",\" Ramaphosa\",\"  Cyril\",\" Ramohanoe\",\"  C. S.\",\" Ratepayers Association\",\" Reconstruction and Development Program\",\" Record of Understanding\",\" Reeves\",\"  Ambrose\",\" religion\",\" removal schemes\",\" . Seealso Sophiatown removalRepresentation of Natives Act\",\" Reservation of Separate Amenities Act\",\" Resha\",\"  Robert\",\" Rhodes\",\"  Cecil\",\" Rhodesia\",\" riots\",\" Rivonia Trial\",\" Robben Island prison\",\" ANC activity in\",\" classification of prisoners\",\" communication among prisoners\",\" criminal gangs\",\" daily routine\",\" hunger strikes\",\" isolation of prisoners\",\" mail and visitor regulations\",\" manual labor ends\",\" news broadcasts\",\" NM’s first term\",\" NM’s second term begins\",\" study privileges\",\" Rolihlahla (NM’s tribal name)\",\" Roman Catholicism\",\" Roosevelt\",\"  Franklin Delano\",\" Rosenberg\",\"  Norman\",\" Rumpff\",\"  F. L.\",\" Sabata. See Dalindyebo\",\"  Sabatasabotage\",\"  charge of\",\" Sabotage Act\",\" Sakwe\",\"  C. K.\",\" sanctions\",\"  international\",\" Sandile\",\"  King\",\" Scheffler\",\"  Andre\",\" school boycott\",\" Scott\",\"  Michael\",\" Sekgapane\",\"  Norman\",\" Sekhukhune\",\"  Godfrey\",\" Sekhukhune\",\"  Moroamotsho\",\" Sekhukhuneland\",\" Seme\",\"  Pixley ka\",\" Senegal\",\" Senghor\",\"  Leopold\",\" Senn\",\"  Mr. (representative of the Red \",\" Cross)separate development policy\",\" Separate Representation of Voters Bill/Act\",\" September\",\"  Reggie\",\" Seventh-Day Adventism\",\" Sexwale\",\"  Tokyo\",\" Shaka\",\" Sharpeville massacre\",\" Shultz\",\"  George\",\" Sibande\",\"  Gert\",\" Sidelsky\",\"  Lazar\",\" Singh\",\"  Debi\",\" Singh\",\"  J. N.\",\" Sisulu\",\"  Albertina\",\" Sisulu\",\"  Max\",\" Sisulu\",\"  Walter\",\" NM and\",\" politics\",\" ANC and\",\" arrest and trial\",\" ban against\",\" Congress of the People and\",\" MK and\",\" imprisonment\",\" trial\",\" negotiations with government\",\" release from prison\",\" Sita\",\"  Nana\",\" Siwundla\",\"  Smallie\",\" Slovo\",\"  Joe\",\" MK and\",\" NM and\",\" Smith\",\"  Ian\",\" Smith\",\"  William\",\" Smuts\",\"  Jan\",\" Sobhuza\",\"  King\",\" Sobukwe\",\"  Robert\",\" imprisonment\",\" Sophiatown removal\",\" Sotho people\",\" South African Broadcasting Corporation \",\" (SABC)South African Coloured People’s Organization (SACPO)\",\" South African Congress of Trade Unions (SACTU)\",\" South African Defense Force\",\" South African Indian Congress (SAIC)\",\" ANC andvoting rights\",\" South African Students’ Organization\",\" South African Women’s Federation\",\" South-West African People’s Organization (SWAPO)\",\" Soviet Union\",\" Soweto (South-Western Townships)\",\" student uprising\",\" Sparks\",\"  Allister\",\" Spengler\",\"  Colonel\",\" spying\",\"  espionage\",\" State Department\",\"  U.S.\",\" State of Emergency/Emergency regulation\",\" effect on Treason Trial\",\" lifted\",\" Stevenson\",\"  Adlai\",\" Steyn\",\"  Colonel/General\",\" Strauss\",\"  J. G. N.\",\" strikes\",\" election (1958)\",\" Freedom Day\",\" go-slow\",\"  on Robben Island\",\" hunger\",\"  on Robben Island\",\" mineworkers\",\" post-Treason Trial\",\" stay-away\",\" Students Christian Association\",\" Suppression of Communism Act\",\" NM and\",\" Suzman\",\"  Helen\",\" Swanepoel\",\"  Lieutenant\",\" Swart\",\"  Warrant Officer\",\" Swaziland\",\" Tadesse\",\"  Colonel\",\" Tambo\",\"  Adelaide\",\" Tambo\",\"  Oliver\",\" ANC activities\",\" friendship/partnership with NM\",\" antiremoval campaign and\",\" Congress of the People and\",\" arrest and trial\",\" in 1958 election strike\",\" international activities for the ANC\",\" MK and\",\" negotiations with government\",\" return to South Africa\",\" death\",\" Tanganyika\",\" Tantsi\",\"  N. B.\",\" Tanzania\",\" Tatane\",\"  Rex\",\" Tefu\",\"  Stephen\",\" Teka\",\"  Walter\",\" Terblanche\",\"  Lieutenant\",\" Terblanche & Briggish law firm\",\" terrorism\",\" Terrorism Act\",\" Thatcher\",\"  Margaret\",\" Thema\",\"  Selope\",\" Thembuland/Thembu people\",\" Theron\",\"  Captain\",\" Theron\",\"  M. E.\",\" Thumbumuzi\",\"  Prince\",\" Thumbumuzi\",\"  Zaziwe (NM’s grand\",\" daughter)Tighy\",\"  Sarel\",\" Tloome\",\"  Dan\",\" Toivo ja Toivo\",\"  Andimba\",\" Tomlinson Commission for the SocioEconomic Development of the BantuAreas\",\" Transkei\",\" Transvaal Executive Committee\",\" Transvaal Indian Congress (TIC)\",\" Transvaal Indian Youth Congress\",\" Transvaal Law Society\",\" travel documents\",\" . See also pass systemTreason Trial\",\" Treason Trial Defense Fund\",\" Trengove\",\"  Advocate\",\" tribal solidarity\",\" Truter\",\"  Warrant Officer\",\" Tshabalala\",\"  Simon\",\" Tshwete\",\"  Steve\",\" Tubman\",\"  William\",\" Tuli\",\"  Jake\",\" Tutu\",\"  Desmond\",\" Tyamzashe\",\"  Victor\",\" Tyesi\",\"  Barrett\",\" Tyhalarha\",\" Umkhonto we Sizwe. See MKunions\",\" . See also Congress of SouthAfrican Trade Unions; strikesUnited Democratic Front (UDF)\",\" United Jewish Reformed Congregation\",\" United National Independence Party(UNIP)\",\" United Nations\",\" . See also sanctions\",\" internationalUnited Party\",\" United States\",\" Unity Movement\",\" University of South Africa (UNISA)\",\" University of the Witwatersrand\",\" Urban Areas Act\",\" Vabaza\",\"  Gamaliel\",\" Van Aarde\",\"  Colonel\",\" van der Merwe\",\"  Fanie\",\" Van Heerden\",\"  Magistrate\",\" Van Niekerk\",\"  Prosecutor\",\" Van Rensburg\",\"  Warder\",\" Van Riebeeck\",\"  Jan\",\" Van Sittert\",\"  Fritz\",\" Versailles peace conference (1918)\",\" Verwoerd\",\"  Hendrik F.\",\" ; 1961strike and\",\" ; assassination\",\" Victor Verster prison\",\" Viljoen\",\"  Constand\",\" Viljoen\",\"  Gerrit\",\" Vlok\",\"  Adriaan\",\" Vorster\",\"  B. J.\",\" Vorster\",\"  John\",\" Vorster\",\"  Sargeant\",\" Votes for All\",\" voting rights\",\" Washington\",\"  Booker T.\",\" Wellbeloved\",\"  Mr.\",\" Wellington\",\"  Arthur\",\" Welsh\",\"  Rex\",\" Wesleyan Church\",\" Wessel\",\"  F. C.\",\" Wessels\",\"  Colonel\",\" Western Areas townships\",\" Western Native Township\",\" whites\",\" Willemse\",\"  W. H.\",\" Williams\",\"  Cecil\",\" Witkin\",\"  Sidelsky and Eidelman law firm\",\" Witwatersrand Native Labor Assocation (WNLA)\",\" Wolpe\",\"  Harold\",\" Women’s League\",\" World Festival of Youth and Students forPeace and Friendship\",\" Xhoma\",\"  Didid\",\" Xhoma family\",\" Xhosa people\",\" Xuma\",\"  A. B.\",\" Yefu\",\"  Mr. (foreign minister of Ethiopia)\",\" Yengwa\",\"  Masabalala\",\" Youth League\",\" Programof Action\",\" Yutar\",\"  Percy\",\" Zambia\",\" Zeerust\",\" Zilindlovu\",\"  Chief\",\" Zimbabwe\",\" Zimbabwe African People’s Union(ZAPU)\",\" Zululand/Zulu people\",\" Zwelithini\",\"  Goodwill\"]"
   ]
  },
  {
   "cell_type": "code",
   "execution_count": 4,
   "id": "d1bd85a7",
   "metadata": {},
   "outputs": [],
   "source": [
    "nelson_index = [ele.strip().title() for ele in nelson_index]"
   ]
  },
  {
   "cell_type": "code",
   "execution_count": 12,
   "id": "5110ddc0",
   "metadata": {},
   "outputs": [
    {
     "data": {
      "text/plain": [
       "1453"
      ]
     },
     "execution_count": 12,
     "metadata": {},
     "output_type": "execute_result"
    }
   ],
   "source": [
    "len(nelson_index)"
   ]
  },
  {
   "cell_type": "code",
   "execution_count": 11,
   "id": "e33b82a1",
   "metadata": {},
   "outputs": [
    {
     "name": "stdout",
     "output_type": "stream",
     "text": [
      "{'Transkei', 'Makgatho', 'Law Firm', 'Evelyn', 'Fort Beaufort', 'Afrikaner', 'Zimbabwe', 'Port Elizabeth', 'Antiremoval Campaign', 'Addis Ababa', 'Warder', 'International Red Cross', 'Willemse', 'Zambia', 'Liliesleaf Farm', 'Afrikaner Volksfront', 'Ghana', 'Ethiopia', 'Orange Free State', 'Aucamp', 'Cape Town', 'Elections', 'Mandela', 'Circumcision Ceremony', 'Kruger', 'African', 'Clarkebury Boarding Institute', 'Trial', 'Pretoria', 'Apartheid', 'Oliver', 'Wolfie', 'Operation Vula', 'Rivonia Trial', 'General', 'Prosecutor', 'Sanctions', 'Riots', 'Mqhekezweni', 'Committee', 'Justice', 'South African Defense Force', 'Alexandra Township', 'Crown Mines', 'National Party', 'Bantu Self Government Act', 'South African', 'Namibia', 'Freedom Charter', 'Imprisonment', 'De Klerk', 'Father', 'Hunger Strikes', 'Mineworkers'}\n",
      "precision 0.12356979405034325   and recall 0.04292527821939587\n",
      "{'Transkei', 'Botha', 'Ludorf', 'Don', 'Sobukwe', 'Van Der Merwe', 'Ninety-Day Detention Law', 'Luthuli', 'Evelyn', 'Fort Beaufort', 'Helen', 'Port Elizabeth', 'Wellington', 'Harris', 'Group Areas Act', 'Healdtown', 'Hynning', 'Jimmy', 'Warder', 'International Red Cross', 'Youth League', 'Willemse', 'Chris', 'Orange Free State', 'Cape Town', 'Rumpff', 'Mandela', 'Education', 'Murray', 'Kruger', 'African', 'Mac', 'Matanzima', 'Bantu', 'Pretoria', 'Swart', 'Oliver', 'Death', 'Berrangé', 'Rivonia Trial', 'Rivonia', 'General', 'Sanctions', 'Van Riebeeck', 'Yutar', 'Emergency', 'Justice', 'Defiance Campaign', 'Walter', 'Sabata', 'Crown Mines', 'National Party', 'South African', 'Reverend', 'Tefu', 'Black Parents Association', 'Van Rensburg', 'Freedom Charter', 'Father', 'Inkatha Freedom Party', 'Bram'}\n",
      "precision 0.13406593406593406   and recall 0.04848966613672496\n",
      "{'Study Privileges', 'Childhood', 'Warrant Officer', 'Hunger', 'Executive Committee', 'Education', 'School Boycott', 'Passive Resistance', 'Membership', 'Trial', 'Father', 'Democracy'}\n",
      "precision 0.025806451612903226   and recall 0.009538950715421303\n"
     ]
    },
    {
     "data": {
      "text/plain": [
       "(0.009538950715421303, 0.025806451612903226)"
      ]
     },
     "execution_count": 11,
     "metadata": {},
     "output_type": "execute_result"
    }
   ],
   "source": [
    "import json\n",
    "mp_nelson_bert,mp_nelson_yake,mp_nelson_rakun = {},{},{}\n",
    "with open(\"mp_nelson_bert.json\", \"r\") as outfile:\n",
    "    mp_nelson_bert = json.load(outfile)\n",
    "\n",
    "with open(\"mp_nelson_yake.json\", \"r\") as outfile:\n",
    "    mp_nelson_yake = json.load(outfile)\n",
    "\n",
    "with open(\"mp_nelson_rakun.json\", \"r\") as outfile:\n",
    "    mp_nelson_rakun = json.load(outfile)\n",
    "    \n",
    "bert_kws = fetch_kws(mp_nelson_bert)\n",
    "eval_keywords(nelson_index,bert_kws)\n",
    "\n",
    "yake_kws = fetch_kws(mp_nelson_yake)\n",
    "eval_keywords(nelson_index,yake_kws)\n",
    "\n",
    "rakun_kws = fetch_kws(mp_nelson_rakun)\n",
    "eval_keywords(nelson_index,rakun_kws)"
   ]
  },
  {
   "cell_type": "code",
   "execution_count": 14,
   "id": "35c10041",
   "metadata": {},
   "outputs": [],
   "source": [
    "final_nelson_keywords = ['secret working group', 'junior officers', 'negotiations', 'vote', 'Hare', 'expressly forbidden', 'conference', 'BIRTHDAY CELEBRATIONS', 'grave', 'state', 'areas', 'proclamation', 'africanism', 'bucolic northern suburb', 'prosecution concluded', 'corridor', 'day', 'afrikaner', 'African boxers', 'clarkebury', 'difficult', 'great', 'prevent rupture', 'aftermath', 'night warder', 'Edward VII Hospital', 'governmentsponsored institutions', 'planning to send', 'interrupted by interjections', 'argumentative overbearing', 'Willemse', 'meeting with Bram', 'Free State', 'clothing characteristic', 'chief mangosuthu buthelezi', 'childhood', 'matter', 'zithulele', 'curtain wire', 'longing', 'station commander', 'WINNIE VISITED', 'anticommunism', 'bit of evidence', 'chief magistrate', 'Inkatha Freedom Party', 'south african congress', 'authorities considered', 'crimes', 'desserts and pillows', 'separation', 'south africa', 'located in Braamfontein', 'arrived', 'metal buckets', 'mining houses', 'journalist', 'announcement', 'udf activists', 'family matters', 'Piliso', 'politicians routinely', 'Fort Beaufort', 'testimony', 'ghana', 'zimbabwe', 'mills of God', 'rolihlahla', 'violence continued', 'anc', 'afrikaners', 'longtime antiapartheid', 'struggle', 'supported the guidelines', 'annual conference', 'hospital', 'Treason Trial', 'Colonel Willemse', 'pressure undoubtedly', 'concrete walls', 'stick fighter', 'ignorant and lazy', 'authoritative manner', 'wives and children', 'organization', 'white South Africa', 'father', 'winnie', 'GRAPH of improvement', 'end of August', 'lusaka', 'passive resistance', 'eventually disintegrated', 'Crown Mines', 'village wore', 'hare', 'constructed bookcase', 'colonel willemse', 'oliver tambo', 'entire organization', 'revolution', 'wing protests', 'newspapers', 'cultural organization', 'karl von clausewitz', 'opponent hit', 'natal province', 'separation of powers', 'champion stick', 'form of thousands', 'black man', 'twentieth century', 'Matanzima', 'press conference', 'grounds of suspicion', 'mandela family affairs', 'criminals masquerading', 'organization informed', 'anc defendants', 'Transitional Executive Council', 'labor requirement', 'overwhelming victory', 'constitutional framework', 'strain to hear', 'secretly in September', 'genealogy', 'conference in Bloemfontein', 'rocky outcrop overlooking', 'village', 'port elizabeth', 'Coetsee', 'bantu holomisa', 'anc leaders', 'washing', 'untrained and undisciplined', 'mothers and fathers', 'zulu monarchy', 'PRISON', 'law exams', 'Winnie', 'unacceptable insubordination', 'hospital recuperating', 'Thembu', 'prime minister', 'security police', 'Lieutenant Colonel Gawie', 'coral', 'Walter and Oliver', 'JUNE', 'successful liberation', 'Red Cross', 'Badenhorst', 'Emergency', 'father response', 'Nassau in October', 'Jimmy Kruger', 'national party', 'reconciliation implying', 'boy', 'revolutionary governments', 'qualification exam', 'transvaal indian congress', 'trial', 'Durban', 'monday hearing', 'justice', 'alexandra', 'Jan Van', 'attend Fort Hare', 'noncooperation', 'fugitive', 'reconciliation enunciated', 'free state', 'guerrilla force', 'provisionally register', 'liliesleaf farm', 'study', 'Sobukwe', 'Healdtown', 'Colonel Piet Badenhorst', 'behavior unacceptable', 'window ledge', 'visit', 'international mediation', 'squatter camp', 'chief luthuli', 'hunger strike', 'subject', 'international red cross', 'prisons policy', 'Coloureds received', 'National High Command', 'punch and gifts', 'smallholding', 'island administrative', 'prosecutor', 'South Africans', 'South-West African', 'danced and called', 'Court', 'world war ii', 'Helen', 'agricultural demonstrator', 'extremely talented', 'responsibility', 'dozens of representatives', 'ballies', 'study privileges', 'philosophy africanism', 'memorandum', 'Tefu', 'strained to reach', 'State of Emergency', 'government introduced', 'cottage', 'sang and danced', 'increasing repressiveness', 'armed struggle', 'man', 'death', 'prisons department', 'boxers', 'white supremacy', 'aucamp', 'armed guards', 'white prisoners', 'africanists', 'questions', 'South African Coloured', 'time show', 'impossible to alert', 'unfailingly courteous', 'suit', 'overthrow', 'politically motivated', 'Mrs. Thatcher', 'frontier wars', 'farmhouse', 'government staged', 'looked', 'stoop to walk', 'Table Mountain looming', 'addis ababa', 'family on Market', 'requested meeting', 'opportunity to reply', 'wanted to speak', 'PLANNING the direction', 'waiting', 'cross examined', 'politically cognizant', 'Committee met secretly', 'fought injustice', 'serving sentence', 'patient determination', 'justice rumpff', 'national liberation', 'needles and thread', 'indispensable pillar', 'klerk', 'international community', 'Hell ’s Angels', 'considerable jockeying', 'Group prisoner', 'extraordinary circumstances', 'contemptible activities', 'Island', 'chiefs collaborating', 'lieutenant colonel gawie marx', 'release unconditionally', 'philosophy', 'Wolfie Kodesh', 'straitened circumstances', 'increasingly politicized', 'hiding', 'prisoners received', 'conditions', 'crowd of hundreds', 'anc people', 'issy maisels', 'snorting and eating', 'privileges', 'Walter', 'reporters', 'election date', 'photo album', 'Defiance Campaign', 'poqo', 'continue to lead', 'townships', 'Freedom Party', 'operation vula', 'wooden floor', 'hunger strikes', 'orange free state', 'aggressive and discourteous', 'organization secretary', 'fascistic and racist', 'gold mine', 'bantu self government act', 'free mandela committee', 'early January', 'living historian', 'johannesburg prison', 'death penalty', 'anc labor activists', 'majority rule', 'transvaal conference', 'sixtieth birthday', 'God grind', 'regional legislatures', 'primitive and insecure', 'refused to listen', 'Chief Mangosuthu Buthelezi', 'accompanying impediment', 'white', 'Left Hand House', 'white South Africans', 'broadcasts', 'johannesburg', 'preached', 'foreign ideologies', 'refuse to return', 'recriminations embrace', 'conditions deteriorate', 'Yutar', 'Issy Maisels called', 'anglophile', 'blacks', 'result of lack', 'newspapers subsequently', 'abyssinia', 'general obasanjo', 'young men', 'imperialism', 'white voters', 'newborn baby', 'treason', 'Berrangé', 'Brother September', 'police holidays', 'regarded', 'suffocating atmosphere', 'proportional representation', 'tailor', 'Parents Association', 'real estate', 'law', 'political awakening', 'feudalism to capitalism', 'Prison', 'parliamentary representation', 'CONTACT with Kobie', 'sentencing', 'committee', 'century frontier fort', 'Executive Council began', 'time', 'watchtower', 'cabinet minister', 'pollsmoor', 'grand apartheid', 'Warrant Officer Swart', 'Reverend Harris', 'circumcision', 'newlands police station', 'white Communist Party', 'departure', 'son', 'ANC was due', 'law firm', 'defense case', 'Chief Joyi', 'sabata dalindyebo', 'south african', 'police station', 'consulting', 'Transkei', 'mineworkers', 'Black Consciousness', 'cape town prison', 'lime', 'long and slimy', 'short distance north', 'death sentence', 'armed Inkatha members', 'Nthato Motlana', 'daughter', 'ANC annual conference', 'illegal organizations', 'authorities respected', 'Inkatha', 'circulated and posted', 'fort hare', 'passed the Promotion', 'state security council', 'colonel badenhorst', 'fanfare', 'Joe Slovo', 'councilors of high', 'Orlando', 'disputes', 'zulu chief', 'Port Elizabeth', 'tourist', 'meeting', 'King Edward VII', 'prison system', 'visitor', 'red cross representative', 'hearings in January', 'understand', 'Kathy', 'Groutville to confer', 'lime quarry', 'inflexible disciplines', 'irreconcilable differences', 'government africanist', 'search warrant', 'fired a gun', 'racial oppression', 'socialism', 'prison conditions', 'Oliver', 'POLLSMOOR', 'labors', 'exuberant grandmother', 'government', 'democratic South Africa', 'September to discuss', 'began in February', 'secretary', 'conference in Johannesburg', 'High Organ', 'birthday honoree', 'CELEBRATIONS were bare-bones', 'tremendously encouraged', 'main house', 'cape times', 'badenhorst', 'oppressed', 'doctrine of separation', 'mandela', 'cells', 'sophisticated microphones', 'administrative court', 'liberation struggle', 'unconditionally released', 'principle', 'counselor', 'prisoner', 'civil disobedience', 'mollusks', 'sophiatown', 'Nomzamo Winnie Mandela', 'nonviolence', 'unconventional guerrilla', 'south african women', 'toilet paper', 'Ludorf', 'FRIDAY', 'durban command', 'durban', 'town', 'professional solidarity', 'National Party', 'bantu authorities structures', 'prison clothes', 'university degree', 'emerge stronger', 'mandela family chieftainship', 'multiparty forum', 'incarceration', 'young', 'interim constitution', 'general willemse', 'Chief Buthelezi', 'fellow students', 'short trousers', 'demanded', 'enlarged prostate gland', 'independence in Namibia', 'independent electoral commission', 'Sabata', 'return to Natal', 'ballroom dancing', 'Harris', 'hunger', 'professors', 'national unity', 'children and mothers', 'guerrilla warfare', 'constituent assembly', 'African judicial system', 'countryside', 'children', 'Trade Centre', 'demolition and mortar-firing', 'quarry', 'KLERK', 'victor verster house', 'slumping in despair', 'constitutional guarantees', 'indefinite boycott', 'african mine workers union', 'victor verster', 'law firms', 'separate development', 'dentist office', 'foreign politicians', 'received communication', 'ethiopians', 'Synagogue opened', 'MAJOR EVENT', 'negotiations process', 'meetings', 'independent homelands', 'conscience', 'normal circumstances', 'Education', 'first formal meeting', 'industrialization democratized', 'coincidence occurred', 'Zindzi', 'Luthuli', 'government humiliating', 'apartheid regime', 'distinguished internationally', 'pretoria', 'months breakfast', 'sisters', 'Braamfontein in northcentral', 'bantu authorities', 'tenants', 'Grand Parade', 'lumbering uncomfortable', 'agree', 'kruger', 'river', 'university chancellor', 'logistical difficulties', 'prosecutors thousands', 'anc history', 'Rivonia Trial', 'birthday celebrations', 'begun to unravel', 'head constable rousseau', 'pieces of ticker', 'weight lifting', 'rock quarry', 'dozens of heavily', 'security', 'negotiations renouncing', 'defense team', 'family', 'President', 'streamlined to adapt', 'dreams', 'Justice', 'International Red', 'national executive committee', 'consultation', 'property', 'vast majority', 'white man', 'political struggle', 'counterrevolutionary activities', 'dream life', 'traditional warriors', 'uncharacteristically silent', 'jehovah', 'persistent enthusiastic', 'mother', 'Swart', 'antiremoval campaign', 'huts', 'General', 'prison staff', 'transkei government', 'treason trial record', 'militancy', 'lung disease', 'judges ludorf', 'Reverend', 'evening post', 'ethiopia', 'warders', 'warfare', 'education', 'windowsill and slept', 'antipass campaign', 'boer war', 'anc demonstrators', 'disorganized overzealousness', 'Comrade Nomzamo Winnie', 'attempt to influence', 'national constitutional', 'opportunity', 'general', 'Xhosa', 'African National Congress', 'slimy and brownishgreen', 'dormitory', 'nostalgic state', 'xhosa tradition', 'year evelyn', 'rivonia trial', 'street steward', 'fruits and edible', 'transvaal', 'Chris Hani', 'precincts of Pollsmoor', 'holding conferences', 'expert witnesses', 'violent revolution', 'painted and fumigated', 'maneuvering imaginable', 'Sunday', 'apartheid targets', 'physician', 'bantu self', 'working group', 'scheduled', 'prison grounds', 'prison board', 'rebelliousness stubborn', 'seaweed', 'freedom charter', 'National Executive Committee', 'permitted', 'security forces', 'royal house', 'Klerk', 'freedom fighter', 'chief albert luthuli', 'Jan Van Riebeeck', 'treason trial', 'colleagues', 'guerrilla war', 'circumcision master', 'Ohlange High School', 'Rivonia', 'attorney', 'territorial divisions', 'warder agreed', 'relationships', 'toilets', 'collect seaweed', 'wolfie', 'campaign', 'rousseau matter', 'foot six inch', 'societies to feudalism', 'Black Parents', 'swapo', 'evening', 'Judge Rumpff', 'govan mbeki', 'fort beaufort', 'resisted reincorporation', 'scholarships and money', 'mass action', 'police', 'minutes', 'Ethiopia to train', 'economic pressure', 'Market Street', 'Murray', 'Professor Murray', 'freedom', 'believed', 'qunu', 'systematically dispossessed', 'succeed Colonel Badenhorst', 'pages of testimony', 'journalists', 'Communist Party', 'government unprecedented', 'student body', 'Crown Mine offices', 'hat to fall', 'spite of criticism', 'underground organization', 'Evelyn', 'unfriendly knocks', 'adjournment', 'independent relationship', 'completed the draft', 'armed invasion', 'yelled and sang', 'constitutional development', 'court', 'attended church', 'tremendous psychological', 'separately', 'Africa', 'general olusegun obasanjo', 'Cape and Natal', 'life imprisonment', 'clarkebury students', 'chief warder', 'prison doctor', 'Black Consciousness Movement', 'cape town', 'bannings', 'social worker', 'international sanctions', 'senior officials', 'Botha', 'island', 'isolated whitewashed', 'student revolt', 'Youth League', 'deputy presidents', 'Sophiatown', 'negotiating table', 'security policemen', 'attempt to rescue', 'men', 'regent', 'preparatory examination', 'José Eduardo Dos', 'unmistakable signature', 'cabinets and closets', 'red cross', 'isolation', 'cross examination', 'officials', 'political prisoners', 'lectures', 'personal feelings', 'improved and equalized', 'resistance campaign', 'million Africans', 'initiated conversations', 'zulu king cetywayo', 'anc women', 'blue overalls', 'humiliating experience', 'minister', 'crown evidence', 'Stockholm to visit', 'grind exceedingly slowly', 'professional boxers', 'received', 'Reverend Mokitimi', 'posh officers’ club', 'leaving', 'authorities allowed', 'apartheid laws', 'remaining disciplined', 'city life', 'learned', 'Free State scenery', 'branch meetings', 'democratic procedures', 'prison service regulations', 'national assembly', 'Bram Fischer', 'government offer', 'landscape gladdens', 'sanctions', 'magistrate decided', 'Cape Town day', 'harassment', 'clausewitz', 'honoring of contracts', 'Fort Hare', 'uncharacteristic silence', 'Colonel Gawie Marx', 'judge rumpff', 'fort hare constitution', 'God grind exceedingly', 'exasperation started', 'anc officials', 'treason trial transcripts', 'south africans', 'responded magnificently', 'chief minister', 'antiremoval', 'parliamentary democracy', 'lawyers', 'tobacco', 'xhosa traditionalists', 'prison uniforms', 'damp and musty', 'memoir', 'brown rice', 'return', 'traditional leaders', 'philosopher classifies', 'manuscript', 'African Communist Party', 'mk officer', 'traditional leadership', 'Robben Island', 'intermittent harassment', 'rousseau', 'refused', 'africa', 'ocean', 'deputy president', 'radio news service', 'chief buthelezi', 'discrepancies', 'Jimmy', 'countrywide raids', 'commanding officer', 'prison', 'member eminent persons group', 'began to engage', 'quarry face', 'oliver', 'severely streamlined', 'evelyn', 'continent', 'Transvaal Indian Congress', 'democratic south africa', 'understanding', 'national elections', 'Orlando women', 'zulu king', 'indictment altogether', 'Kruger', 'farms', 'imprisonment', 'communism act', 'prison issues', 'people including', 'violence', 'Indian', 'riots', 'kobie coetsee', 'solitary confinement', 'birthday', 'mining profitable', 'uprising', 'democracy', 'willemse', 'Pretoria', 'medicine', 'nontraditional thinking', 'South African films', 'Fort', 'appointments', 'institutionalizing apartheid', 'Chris', 'South-West African People', 'constance mbekeni', 'transkei', 'death the stinking', 'black South Africans', 'namibia', 'Victor Verster house', 'military training', 'seclusion lodges', 'equal terms', 'whispered conversations', 'apartheid structures', 'sanctions policy', 'regular conversations', 'membership', 'Head Constable Rousseau', 'anc leadership', 'embarrassment', 'anti apartheid', 'confess I imagined', 'High', 'crown mine offices', 'attorneys', 'antipass demonstrations', 'Free', 'african communist party', 'African areas', 'leaders', 'prison hospital', 'afrikaner volksfront', 'grandpa', 'circumcision ceremony', 'Government', 'bout in Havana', 'Fort Hare smarter', 'nelson mandela outlaw', 'white settlers', 'johannesburg district', 'printed and circulated', 'one-room groundfloor bachelor', 'Group Areas Act', 'ways prisoners', 'nightmare', 'committee meetings', 'Bantu', 'news digest', 'waived the premium', 'banishment in Brandfort', 'surgery', 'voting station', 'occasion', 'authorities', 'prison visit', 'preaching reconciliation', 'Thomas Titus Nkobi', 'rudimentary instructions', 'overwhelming majority', 'absolutely riveting', 'appeal', 'Comrade Nomzamo', 'government counteroffensive', 'robben island comrades', 'SCHEDULED to hold', 'strike', 'nationalists', 'TIME', 'retaliatory violence', 'AWAKENED at 5:30', 'Ninety-Day Detention Law', 'precisely', 'HIGH TREASON', 'rudimentary communications', 'justice kennedy', 'arrest', 'free mandela', 'written statement', 'candy and beer', 'African law firms', 'acres of vineyards', 'occasionally', 'estate agent', 'return to court', 'prison authorities', 'freedom struggle', 'prisoners incarcerated', 'accused', 'free state scenery', 'permitted to write', 'marching in unison', 'traveling documents', 'voting', 'protest', 'Orange Free', 'reception committee', 'soweto student uprising', 'Clarkebury', 'water', 'anc government', 'invite imprisonment', 'comfortably furnished', 'discriminatory legislation', 'Hand House', 'months', 'Mandela', 'amnesty', 'headed to Ethiopia', 'South African Communist', 'imprisonment banning', 'foolish as attempting', 'Rumpff', 'African political stage', 'member national assembly', 'bantu authorities act', 'drawers and cabinets', 'kind of existence', 'Rensburg', 'warrant officer', 'Table Mountain', 'upheaval inside', 'marriage', 'judge ludorf', 'robben island', 'nationalization insisting', 'Law Society', 'garden', 'delicious sensations', 'London to attend', 'darkness', 'Van Rensburg', 'defendants', 'RESUMED CONTACT', 'pockets', 'codesa', 'traditional configuration', 'Don', 'general section', 'preferring to listen', 'weapon africans', 'Reverend Scheffler', 'remained as unkempt', 'oppressed people', 'interim government', 'distance running', 'presidential address', 'warder', 'parties including', 'informed', 'workers', 'prepared', 'pointing out lapses', 'circumstances', 'people', 'vital issues', 'birth', 'country', 'jail sentence', 'cigarettes and candy', 'south', 'fingerprints', 'honey and fruits', 'South Africa', 'fatigue marches', 'africanist organization', 'prison officials', 'assistance and scholarships', 'african unity', 'female prisoners', 'chest', 'South African history', 'wheezing and snorting', 'university', 'pollsmoor maximum security prison', 'blankets', 'Soweto uprising', 'news', 'live ammunition', 'Wet', 'Sisulu or Kathrada', 'african', 'articled clerk', 'prison service warders', 'clarkebury boarding institute', 'prisoners', 'courtroom etiquette', 'prison uniform', 'defend', 'provincial administration', 'transkei matters', 'miners', 'grassy valley crisscrossed', 'international pressure', 'anc youth', 'corruption', 'de klerk', 'Helen Joseph', 'letter', 'mqhekezweni', 'Bloemfontein in December', 'labor', 'prosecution', 'brickworks', 'level prisoners', 'Ahmed Kathrada', 'stone quarry', 'africans', 'zambia', 'freedom fighters', 'dozens of accounts', 'stubborn creatures', 'law prisoners', 'DAWNED bright', 'extraordinary wealth', 'makgatho', 'enthusiastically applaud', 'journeys as unpleasant', 'policeman', 'IMPORTANT PERSON', 'action campaign', 'President Botha', 'Orange Free State', 'laborers', 'Bram and Joel', 'alien subjects', 'crown mines', 'inauguration', 'assassination attempts', 'judge panel', 'apartheid institutions', 'youthful approximation', 'International Red Cross', 'Inkatha members', 'government security officials', 'leader', 'comrade nomzamo winnie mandela', 'president de klerk', 'apartheid', 'teacher training', 'life comrade nomzamo', 'white students', 'pan africanist congress', 'elections', 'cell', 'detention', 'acknowledged custodian', 'located in Rivonia', 'school boycott', 'awakened by sharp', 'speech', 'Berrangé read Murray', 'house', 'Eminent Persons Group', 'prison regulations', 'antigovernment', 'lives as wretched', 'authorities acknowledged', 'fledged attorney', 'South African Indian', 'ANC', 'umkhonto', 'Kobie Coetsee', 'Bantu Authorities', 'car bomb attack', 'witnesses', 'appeared as grand', 'instituted', 'comrade nomzamo', 'World Trade Centre', 'ancestors', 'South African', 'Great Place', 'intelligence officials', 'South African government', 'white magistrates', 'jimmy kruger', 'failing to report', 'lions', 'Van Riebeeck', 'judicial irregularity', 'country house', 'south african defense force', 'colonel marx', 'Free Mandela Committee', 'summer cape town day', 'Dar es Salaam', 'hospital convalescence', 'congress', 'sang and pounded', 'interracial cooperation', 'told', 'stay', 'thousands of pages', 'Xhosas or Ndebeles', 'musty and received', 'verdict', 'continue to function', 'dignitaries', 'trial prisoner', 'bantu administration', 'neighboring villages', 'Paul ’s Cathedral', 'lack of communication', 'western areas antiremoval campaign', 'appeared', 'organizations sentences', 'Cape Town surgeon', 'renounce violence', 'secondary schools', 'manual labor', 'State', 'xhosa tribes', 'african national congress', 'General Steyn', 'psychological inferiority', 'advocating negotiations', 'Judge Ludorf', 'Wellington', 'unparalleled situation', 'transitional executive', 'Joel Joffe', 'situation', 'graves', 'government security forces', 'MAJOR EVENT facing', 'Cape', 'political beliefs', 'contemporary ethiopia', 'rebellion', 'political intervention', 'ballie', 'album', 'revolutionaries overtly', 'irreplaceable photographs', 'jailer', 'press conferences', 'talking', 'psychological claustrophobia', 'organized demonstration', 'courtyard', 'prison service', 'passes', 'illusion', 'Botha was planning', 'proceeded to move', 'moral standards', 'Officer Swart', 'Farm', 'dialectical materialism', 'representative parliament', 'decided', 'concerned controversial', 'cigarettes', 'EARLY DECEMBER', 'serving', 'defense', 'intellectual brilliance', 'Bram', 'morning of March', 'thirteen million Africans', 'chief of staff', 'days Rivonia consisted', 'courtroom manner', 'time underground', 'Black Parents Association', 'Government Act', 'shifting uncomfortably', 'demonstrators', 'dark city', 'conversation', 'legal representation', 'Freedom Charter', 'van der Merwe', 'arrests', 'organize underground', 'judge', 'women', 'Ndebeles or Tswanas', 'commissioner', 'downtown johannesburg', 'executive committee', 'inferiority complex', 'center', 'routine medical examination', 'Hynning', 'groundfloor bachelor', 'constitutional convention', 'explicitly nationalistic', 'nelson mandela', 'anniversary', 'relax sanctions', 'African', 'prominent member', 'leave to attend', 'Cape Town', 'PAC', 'nonviolent struggle', 'terrorist organization', 'wheezing cough', 'premier black hospital', 'response from Kobie', 'courtroom', 'security prisoners', 'enthusiastic indefatigable', 'Chief Albert Luthuli', 'liberation movement', 'involvement penalized', 'election', 'Orlando Communal Hall', 'suburb of Johannesburg', 'Hell', 'dining hall', 'unconditionally rejected', 'eventually surrendered', 'Parliament passed', 'guerrilla armies', 'black', 'South African Defense', 'dream', 'classification', 'Mac', 'alexandra township', 'subordinate structures', 'zulu', 'mundane activities', 'South African head', 'address', 'circumcision school', 'military parade', 'kwazulu government', 'High Command', 'national convention', 'apartheid system', 'financial difficulties', 'tea', 'extraordinary application', 'journey', 'sea', 'explanation', 'photographs', 'anc youth leaguers', 'colonel aucamp']\n",
    "final_nelson_keywords = [ele.strip().title() for ele in final_nelson_keywords]"
   ]
  },
  {
   "cell_type": "code",
   "execution_count": 15,
   "id": "60b634d6",
   "metadata": {},
   "outputs": [
    {
     "name": "stdout",
     "output_type": "stream",
     "text": [
      "{'Transkei', 'Botha', 'Law Firm', 'Afrikaner', 'Healdtown', 'Passive Resistance', 'Warder', 'Youth League', 'Aucamp', 'Education', 'Swart', 'Death', 'Prosecutor', 'Committee', 'Walter', 'South African Defense Force', 'Sabata', 'Bantu Self Government Act', 'Hunger', 'Namibia', 'Black Parents Association', 'De Klerk', 'Makgatho', 'Fort Beaufort', 'Port Elizabeth', 'Antiremoval Campaign', 'International Red Cross', 'Zambia', 'Ghana', 'Orange Free State', 'Kruger', 'Mac', 'Matanzima', 'Study Privileges', 'Berrangé', 'Operation Vula', 'Rivonia', 'Van Riebeeck', 'Alexandra Township', 'Defiance Campaign', 'Tefu', 'Freedom Charter', 'School Boycott', 'Imprisonment', 'Hunger Strikes', 'Childhood', 'Ludorf', 'Don', 'Luthuli', 'Evelyn', 'Helen', 'Harris', 'Group Areas Act', 'Afrikaner Volksfront', 'Executive Committee', 'Ethiopia', 'Murray', 'Bantu', 'Pretoria', 'Warrant Officer', 'Apartheid', 'Wolfie', 'Sanctions', 'Riots', 'Justice', 'Crown Mines', 'South African', 'Elections', 'Inkatha Freedom Party', 'Mineworkers', 'Democracy', 'Sobukwe', 'Van Der Merwe', 'Ninety-Day Detention Law', 'Wellington', 'Hynning', 'Zimbabwe', 'Membership', 'Addis Ababa', 'Jimmy', 'Willemse', 'Liliesleaf Farm', 'Chris', 'Cape Town', 'Rumpff', 'Mandela', 'Circumcision Ceremony', 'African', 'Clarkebury Boarding Institute', 'Trial', 'Oliver', 'Rivonia Trial', 'General', 'Mqhekezweni', 'Yutar', 'Emergency', 'National Party', 'Reverend', 'Van Rensburg', 'Father', 'Bram'}\n",
      "precision 0.08278688524590164   and recall 0.08028616852146264\n"
     ]
    },
    {
     "data": {
      "text/plain": [
       "(0.08028616852146264, 0.08278688524590164)"
      ]
     },
     "execution_count": 15,
     "metadata": {},
     "output_type": "execute_result"
    }
   ],
   "source": [
    "eval_keywords(nelson_index,final_nelson_keywords)"
   ]
  },
  {
   "cell_type": "code",
   "execution_count": null,
   "id": "f42ccaff",
   "metadata": {},
   "outputs": [],
   "source": []
  }
 ],
 "metadata": {
  "kernelspec": {
   "display_name": "Python 3 (ipykernel)",
   "language": "python",
   "name": "python3"
  },
  "language_info": {
   "codemirror_mode": {
    "name": "ipython",
    "version": 3
   },
   "file_extension": ".py",
   "mimetype": "text/x-python",
   "name": "python",
   "nbconvert_exporter": "python",
   "pygments_lexer": "ipython3",
   "version": "3.9.12"
  }
 },
 "nbformat": 4,
 "nbformat_minor": 5
}
