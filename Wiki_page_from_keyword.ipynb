{
 "cells": [
  {
   "cell_type": "code",
   "execution_count": 1,
   "id": "78946a52",
   "metadata": {},
   "outputs": [],
   "source": [
    "# !pip install umap-learn -i https://mirrors.ustc.edu.cn/pypi/web/simple --user\n",
    "# conda install -c conda-forge hdbscan"
   ]
  },
  {
   "cell_type": "code",
   "execution_count": 2,
   "id": "8ef3ef6e",
   "metadata": {},
   "outputs": [],
   "source": [
    "import re\n",
    "import hdbscan\n",
    "import umap\n",
    "from sentence_transformers import SentenceTransformer\n",
    "\n",
    "# for LDA topic modelling\n",
    "import numpy as np\n",
    "import pandas as  pd\n",
    "from pprint import pprint# Gensim\n",
    "import gensim\n",
    "import gensim.corpora as corpora\n",
    "from gensim.utils import simple_preprocess\n",
    "from gensim.models import CoherenceModel# spaCy for preprocessing\n",
    "import spacy# Plotting tools"
   ]
  },
  {
   "cell_type": "code",
   "execution_count": 3,
   "id": "50d01179",
   "metadata": {},
   "outputs": [],
   "source": [
    "key_yr_chap_mp = {'Karamchand_Gandhi_1869': ['1\\\\chapter1'],\n",
    "             'Alias_Kaba_Gandhi_1869': ['1\\\\chapter1'],\n",
    "             'Uttamchand_Gandhi_1869': ['1\\\\chapter1'],\n",
    "             'Faithfulness_1869': ['1\\\\chapter4'],\n",
    "             'Smoking_Stumps_1887': ['1\\\\chapter7'],\n",
    "             'Cigarettes_1887': ['1\\\\chapter7'],\n",
    "             'Cigarette_1887': ['1\\\\chapter7'],\n",
    "             'Vaishnava_Faith_1887': ['1\\\\chapter9'],\n",
    "             'Ahmedabad_1887': ['1\\\\chapter10'],\n",
    "             'Ahmedabad_1915': ['5\\\\chapter9', '5\\\\chapter20'],\n",
    "             'Matriculation_Examination_1887': ['1\\\\chapter10'],\n",
    "             'Kathiawad_Students_1887': ['1\\\\chapter10'],\n",
    "             'Ringworm_1887': ['1\\\\chapter13'],\n",
    "             'Vegetarianism_1887': ['1\\\\chapter14'],\n",
    "             'Vegetarianism_1890': ['1\\\\chapter16'],\n",
    "             'Vegetarianism_1903': ['4\\\\chapter6'],\n",
    "             'Dietary_1887': ['1\\\\chapter14'],\n",
    "             'Diet_1887': ['1\\\\chapter14'],\n",
    "             'Vegetarian_1890': ['1\\\\chapter16'],\n",
    "             'Narayan_Hemchandra_1890': ['1\\\\chapter21'],\n",
    "             'Time_Narayan_Hemchandra_1890': ['1\\\\chapter21'],\n",
    "             'Narayan_1890': ['1\\\\chapter21'],\n",
    "             'Eiffel_Tower_1890': ['1\\\\chapter22'],\n",
    "             'Legal_Maxims_1857': ['1\\\\chapter24'],\n",
    "             'Briefless_Barristers_1893': ['2\\\\chapter3'],\n",
    "             'Barrister_1893': ['2\\\\chapter3', '2\\\\chapter4'],\n",
    "             'Barrister_1885': ['2\\\\chapter14'],\n",
    "             'Barrister_1890': ['4\\\\chapter46'],\n",
    "             'Barristers_1893': ['2\\\\chapter3'],\n",
    "             'Bombay_Commissions_1893': ['2\\\\chapter4'],\n",
    "             'Port_Natal_1893': ['2\\\\chapter7'],\n",
    "             'Christian_Indians_1924': ['2\\\\chapter8'],\n",
    "             'Prayers_1893': ['2\\\\chapter11'],\n",
    "             'Prayer_1893': ['2\\\\chapter11'],\n",
    "             'Prayer_1885': ['2\\\\chapter15'],\n",
    "             'Transvaal_1885': ['2\\\\chapter13'],\n",
    "             'Transvaal_1920': ['3\\\\chapter4'],\n",
    "             'Transvaal_1903': ['4\\\\chapter2'],\n",
    "             'Transvaal_1890': ['4\\\\chapter46'],\n",
    "             'Litigation_1885': ['2\\\\chapter14'],\n",
    "             'Natal_Legislative_Assembly_1893': ['2\\\\chapter16'],\n",
    "             'Durban_1893': ['2\\\\chapter16'],\n",
    "             'Sheth_Haji_Muhammad_1893': ['2\\\\chapter17'],\n",
    "             'Sheth_Haji_Muhammad_Haji_Dada_1893': ['2\\\\chapter17'],\n",
    "             'Financially_Sheth_Abdulla_Haji_1893': ['2\\\\chapter17'],\n",
    "             'Bombay_High_Court_1893': ['2\\\\chapter18'],\n",
    "             'Court_1893': ['2\\\\chapter18'],\n",
    "             'Natal_Indian_Congress_1894': ['2\\\\chapter19', '2\\\\chapter20'],\n",
    "             'Natal_Indians_1860': ['2\\\\chapter21'],\n",
    "             'Natal_Zulus_1860': ['2\\\\chapter21'],\n",
    "             'Taxation_1860': ['2\\\\chapter21'],\n",
    "             'Servant_1896': ['2\\\\chapter23'],\n",
    "             'Household_1896': ['2\\\\chapter23'],\n",
    "             'Loyalty_1896': ['2\\\\chapter26'],\n",
    "             'Sir_Pherozeshah_1896': ['2\\\\chapter28'],\n",
    "             'Calcutta_1896': ['2\\\\chapter29'],\n",
    "             'Raja_Sir_Pyarimohan_Mukarji_1896': ['2\\\\chapter29'],\n",
    "             'Bengal_Club_1896': ['2\\\\chapter29'],\n",
    "             'Hindu_Wife_1920': ['3\\\\chapter1'],\n",
    "             'Hindu_Husband_1920': ['3\\\\chapter1'],\n",
    "             'Quarantine_1920': ['3\\\\chapter2'],\n",
    "             'Quarantine_Officer_1920': ['3\\\\chapter2'],\n",
    "             'Plague_1920': ['3\\\\chapter2'],\n",
    "             'Brahmacharya_Vow_1906': ['3\\\\chapter7', '3\\\\chapter8'],\n",
    "             'Brahmacharya_1906': ['3\\\\chapter7'],\n",
    "             'Brahmacharya_1912': ['4\\\\chapter30'],\n",
    "             'Vow_1906': ['3\\\\chapter8'],\n",
    "             'Washing_Outfit_1906': ['3\\\\chapter9'],\n",
    "             'Laundry_1906': ['3\\\\chapter9'],\n",
    "             'Washing_1906': ['3\\\\chapter9'],\n",
    "             'Boer_War_1899': ['3\\\\chapter10'],\n",
    "             'Boer_War_1914': ['4\\\\chapter39'],\n",
    "             'Sir_Pherozeshah_Mehta_1901': ['3\\\\chapter13'],\n",
    "             'Babu_Bhupendranath_Basu_1901': ['3\\\\chapter14'],\n",
    "             'India_Club_1901': ['3\\\\chapter16'],\n",
    "             'Professor_Ray_1896': ['3\\\\chapter17'],\n",
    "             'Gokhlae_1896': ['3\\\\chapter18'],\n",
    "             'Christian_Indian_1896': ['3\\\\chapter18'],\n",
    "             'Babu_Kalicharan_Banerji_1896': ['3\\\\chapter18'],\n",
    "             'Brahmo_Samaj_1896': ['3\\\\chapter19'],\n",
    "             'Adi_Brahmo_Samaj_1896': ['3\\\\chapter19'],\n",
    "             'Maharshi_Devendranath_1896': ['3\\\\chapter19'],\n",
    "             'Indian_Evidence_Act_1919': ['3\\\\chapter21'],\n",
    "             'Insult_1903': ['4\\\\chapter3'],\n",
    "             'Hindu_Influence_1903': ['4\\\\chapter5'],\n",
    "             'Hinduism_1903': ['4\\\\chapter5'],\n",
    "             'Hindu_1903': ['4\\\\chapter5'],\n",
    "             'Laxative_Medicines_1903': ['4\\\\chapter7'],\n",
    "             'Laxatives_1903': ['4\\\\chapter7'],\n",
    "             'Indian_Opinion_1900': ['4\\\\chapter8'],\n",
    "             'Indian_Opinion_1904': ['4\\\\chapter19'],\n",
    "             'Hindus_1904': ['4\\\\chapter14'],\n",
    "             'Zulus_1900': ['4\\\\chapter25'],\n",
    "             'Zulu_1900': ['4\\\\chapter25'],\n",
    "             'Satyagraha_1900': ['4\\\\chapter26'],\n",
    "             'Satyagraha_1919': ['5\\\\chapter24'],\n",
    "             'Word_Sadagraha_1900': ['4\\\\chapter26'],\n",
    "             'Result_Maganlal_Gandhi_1900': ['4\\\\chapter26'],\n",
    "             'Curry_Powder_1914': ['4\\\\chapter29'],\n",
    "             'Fasting_1912': ['4\\\\chapter31'],\n",
    "             'Tolstoy_Farm_1911': ['4\\\\chapter35'],\n",
    "             'Commanding_Officer_1890': ['4\\\\chapter40'],\n",
    "             'Commanding_1890': ['4\\\\chapter40'],\n",
    "             'Parsi_Rustomji_1890': ['4\\\\chapter47'],\n",
    "             'Bombay_Gokhale_1915': ['5\\\\chapter2'],\n",
    "             'Kakasaheb_1915': ['5\\\\chapter4'],\n",
    "             'Kalelkar_1915': ['5\\\\chapter4'],\n",
    "             'Teachers_Family_Names_1915': ['5\\\\chapter4'],\n",
    "             'Acharya_Ramadevji_1915': ['5\\\\chapter8'],\n",
    "             'Gurukul_1915': ['5\\\\chapter8'],\n",
    "             'Gujarat_1915': ['5\\\\chapter9'],\n",
    "             'Satyagraha_Ashram_1915': ['5\\\\chapter9'],\n",
    "             'Amritlal_Thakkar_1915': ['5\\\\chapter10'],\n",
    "             'Ashram_1915': ['5\\\\chapter10', '5\\\\chapter21'],\n",
    "             'Abolition_1894': ['5\\\\chapter11'],\n",
    "             'Indigo_1917': ['5\\\\chapter12'],\n",
    "             'Professor_Kripalani_1915': ['5\\\\chapter13'],\n",
    "             'Maulana_Mazharul_Haq_1915': ['5\\\\chapter13'],\n",
    "             'Champaran_Inquiry_1915': ['5\\\\chapter16'],\n",
    "             'Champaran_Satyagraha_1915': ['5\\\\chapter16'],\n",
    "             'Rajendrababu_1915': ['5\\\\chapter17'],\n",
    "             'Janakdharibabu_1915': ['5\\\\chapter17'],\n",
    "             'Gangadharrao_Deshpande_1915': ['5\\\\chapter17'],\n",
    "             'Sanitation_Work_1915': ['5\\\\chapter18'],\n",
    "             'Sanitation_1915': ['5\\\\chapter18'],\n",
    "             'Treatment_1915': ['5\\\\chapter18'],\n",
    "             'Bihar_Government_1915': ['5\\\\chapter19'],\n",
    "             'Ashram_Walls_1915': ['5\\\\chapter21'],\n",
    "             'Ashram_Children_1915': ['5\\\\chapter21'],\n",
    "             'Kheda_Satyagraha_1919': ['5\\\\chapter23'],\n",
    "             'Mohanlal_Pandya_1919': ['5\\\\chapter23'],\n",
    "             'Shankarlal_Parikh_1919': ['5\\\\chapter23'],\n",
    "             'Satyagrahi_Volunteers_1919': ['5\\\\chapter24'],\n",
    "             'Satyagrahi_1919': ['5\\\\chapter24'],\n",
    "             'Mamlatdar_1919': ['5\\\\chapter25'],\n",
    "             'Hartal_1919': ['5\\\\chapter31'],\n",
    "             'Swami_Shraddhanandji_1919': ['5\\\\chapter31'],\n",
    "             'Meanwhile_Delhi_1919': ['5\\\\chapter31'],\n",
    "             'Kheda_Satyagraha_Struggle_1919': ['5\\\\chapter33'],\n",
    "             'Jalianwala_Bagh_Tragedy_1919': ['5\\\\chapter34'],\n",
    "             'Punjab_Situation_1919': ['5\\\\chapter34'],\n",
    "             'Punjab_Government_1917': ['5\\\\chapter35', '5\\\\chapter37'],\n",
    "             'Jalianwala_Bagh_Massacre_1917': ['5\\\\chapter35', '5\\\\chapter38'],\n",
    "             'Punjab_Leaders_1917': ['5\\\\chapter35'],\n",
    "             'Pandit_Motilal_Nehru_1917': ['5\\\\chapter37'],\n",
    "             'Pandit_1917': ['5\\\\chapter37'],\n",
    "             'Slivers_1917': ['5\\\\chapter40'],\n",
    "             'Swadeshi_Agitation_1920': ['5\\\\chapter41'],\n",
    "             'Swadeshi_Movement_1920': ['5\\\\chapter41'],\n",
    "             'Khilafat_Agitation_1920': ['5\\\\chapter42']}"
   ]
  },
  {
   "cell_type": "code",
   "execution_count": 4,
   "id": "ff3db91a",
   "metadata": {},
   "outputs": [],
   "source": [
    "filtered_keywords = [\"Vegetarianism_1890\",\"Satyagraha_1900\",\"Jalianwala_Bagh_Massacre_1917\",\"Barrister_1893\",\"Sir_Pherozeshah_Mehta_1901\"]"
   ]
  },
  {
   "cell_type": "code",
   "execution_count": 5,
   "id": "5201c573",
   "metadata": {},
   "outputs": [],
   "source": [
    "from sentence_transformers import SentenceTransformer, util\n",
    "import torch\n",
    "\n",
    "embedder = SentenceTransformer('all-MiniLM-L6-v2')\n",
    "\n",
    "def create_representative_doc(corpus,query):\n",
    "    paragraph = []\n",
    "    corpus_embeddings = embedder.encode(corpus, convert_to_tensor=True)\n",
    "    query_embedding = embedder.encode(query, convert_to_tensor=True)\n",
    "    print(f\"length of the texts {len(corpus)}\")\n",
    "    cos_scores = util.cos_sim(query_embedding, corpus_embeddings)[0]\n",
    "#     paragraph = \"\"\n",
    "    for i,score in enumerate(cos_scores):\n",
    "        if score >0.25:\n",
    "            paragraph.append((i,corpus[i]))\n",
    "    for i in range(len(paragraph)-1):\n",
    "        idx,para = paragraph[i][0],paragraph[i][1]\n",
    "        if paragraph[i+1][0] - idx ==2:\n",
    "            paragraph.append((idx+1,corpus[idx+1]))\n",
    "#         elif paragraph[i+1][0] - idx >4:\n",
    "#             paragraph.append((idx+0.5,\" \\n \"))\n",
    "        \n",
    "    paragraph = sorted(paragraph, key = lambda x: x[0])\n",
    "    res = []\n",
    "    for idx,para in paragraph:\n",
    "        res.append(para)\n",
    "#         res += (para+'. ')     \n",
    "    return res\n"
   ]
  },
  {
   "cell_type": "code",
   "execution_count": 6,
   "id": "c69dd999",
   "metadata": {},
   "outputs": [
    {
     "name": "stdout",
     "output_type": "stream",
     "text": [
      "Vegetarianism_1890  -> ['1\\\\chapter16']\n",
      "length of the texts 76\n",
      "Satyagraha_1900  -> ['4\\\\chapter26']\n",
      "length of the texts 19\n",
      "Jalianwala_Bagh_Massacre_1917  -> ['5\\\\chapter35', '5\\\\chapter38']\n",
      "length of the texts 61\n",
      "length of the texts 50\n",
      "Barrister_1893  -> ['2\\\\chapter3', '2\\\\chapter4']\n",
      "length of the texts 94\n",
      "length of the texts 80\n",
      "Sir_Pherozeshah_Mehta_1901  -> ['3\\\\chapter13']\n",
      "length of the texts 84\n"
     ]
    }
   ],
   "source": [
    "def split_sentence_from_text(key):\n",
    "    file_loc = r\"C:\\Users\\hp\\OneDrive\\Documents\\topic_coherence\\historical_books\\SOMEWT\\part%s.txt\"%key\n",
    "    text = \"\"\n",
    "    with open(file_loc) as f:\n",
    "        text = f.read()\n",
    "        text = re.sub(r\"I \", \"Mahatma Gandhi \",text)\n",
    "        text = re.sub(r\" me \", \" Mahatma Gandhi \",text)\n",
    "        text = re.sub(r\" my \", \" Mahatma Gandhi's \",text)\n",
    "        text = re.sub(r\" My \", \" Mahatma Gandhi's \",text)\n",
    "        text = re.sub(r\" myself \", \" Mahatma Gandhi \",text)\n",
    "        text = re.sub(r\" me,\", \"  Mahatma Gandhi,\",text)\n",
    "        text = re.sub(r\"we \",\"they \" ,text)\n",
    "        text = re.sub(r\"We \",\"They \" ,text)\n",
    "        #\n",
    "\n",
    "    res = re.findall(r\"[^.!?]+\", text)\n",
    "    \n",
    "    return res\n",
    "\n",
    "# key_yr_chap_mp\n",
    "\n",
    "mp_key_doc_2 = {}\n",
    "for key in filtered_keywords:\n",
    "#         mp_key_doc_2[key] = \"\"\n",
    "        print(f\"{key}  -> {key_yr_chap_mp[key]}\")\n",
    "        for chap in key_yr_chap_mp[key]:\n",
    "            corpus = split_sentence_from_text(chap)\n",
    "            mp_key_doc_2[key] = create_representative_doc(corpus,key)\n",
    "\n",
    "# print(mp_key_doc_2)"
   ]
  },
  {
   "cell_type": "code",
   "execution_count": 7,
   "id": "cff69cb3",
   "metadata": {},
   "outputs": [],
   "source": [
    "corpus = mp_key_doc_2['Vegetarianism_1890']"
   ]
  },
  {
   "cell_type": "markdown",
   "id": "e9bb4ac8",
   "metadata": {},
   "source": [
    "### Wikipedia section title generation"
   ]
  },
  {
   "cell_type": "code",
   "execution_count": 8,
   "id": "c1354b52",
   "metadata": {},
   "outputs": [
    {
     "name": "stderr",
     "output_type": "stream",
     "text": [
      "[nltk_data] Downloading package punkt to\n",
      "[nltk_data]     C:\\Users\\hp\\AppData\\Roaming\\nltk_data...\n",
      "[nltk_data]   Package punkt is already up-to-date!\n"
     ]
    }
   ],
   "source": [
    "from transformers import AutoTokenizer, AutoModelForSeq2SeqLM\n",
    "import nltk\n",
    "nltk.download('punkt')\n",
    "\n",
    "tokenizer = AutoTokenizer.from_pretrained(\"fabiochiu/t5-small-medium-title-generation\")\n",
    "model = AutoModelForSeq2SeqLM.from_pretrained(\"fabiochiu/t5-small-medium-title-generation\")\n",
    "\n",
    "\n",
    "def get_title(text):\n",
    "    inputs = [\"summarize: \" + text]\n",
    "    inputs = tokenizer(inputs, max_length=768, truncation=True, return_tensors=\"pt\")\n",
    "    output = model.generate(**inputs, num_beams=8, do_sample=True, min_length=10, max_length=64)\n",
    "    decoded_output = tokenizer.batch_decode(output, skip_special_tokens=True)[0]\n",
    "    predicted_title = nltk.sent_tokenize(decoded_output.strip())[0]\n",
    "    return predicted_title"
   ]
  },
  {
   "cell_type": "markdown",
   "id": "d3ee41ee",
   "metadata": {},
   "source": [
    "### KMeans Clustering"
   ]
  },
  {
   "cell_type": "code",
   "execution_count": 18,
   "id": "6b004e83",
   "metadata": {},
   "outputs": [
    {
     "name": "stdout",
     "output_type": "stream",
     "text": [
      "Cluster  2\n",
      "[' Mahatma Gandhi saw that the writers on vegetarianism had examined the  question very minutely, attacking it in its religious, scientific,  practical and medical aspects', \" Ethically they had arrived at the  conclusion that man's supremacy over the lower animals meant not that  the former should prey upon the latter, but that the higher should  protect the lower, and that there should be mutual aid between the two  as between man and man\", '  According to the practical and economic argument they had demonstrated  that a vegetarian diet was the least expensive', ' There was a Vegetarian Society in England  with a weekly journal of its own', ' Oldfield who was Editor of  the The Vegetarian became President']\n",
      "\n",
      "Cluster  4\n",
      "[' They had also brought out the truth that man  eats not for enjoyment but to live', ' And some of them accordingly  suggested and effected in their lives abstention not only from  flesh-meat but from eggs and milk', \" Scientifically some had concluded  that man's physical structure showed that he was not meant to be a  cooking but a frugivorous animal, that he could take only his mother's  milk and, as soon as he had teeth, should begin to take solid foods\", '  Medically they had suggested the rejection of all spices and condiments', ' There were many minor experiments going on along with the main one; as for example,  giving up starchy foods at one time, living on bread and fruit alone at  another, and once living on cheese, milk and eggs', ' The reformer who  advocated starchless food had spoken highly of eggs and held that eggs  were not meat', ' Vegetarians who accepted  that definition abjured the flesh of birds and beasts, but ate fish, not  to mention eggs', ' So fish was here out of the question, but eggs  were allowed', ' This was a hardship  inasmuch as inquiry showed that even in vegetarian restaurants many  courses used to contain eggs']\n",
      "\n",
      "Cluster  5\n",
      "[' All these considerations  had their effect on  Mahatma Gandhi, and Mahatma Gandhi came across vegetarians of all these types  in vegetarian restaurants', ' Mahatma Gandhi subscribed to the weekly, joined the  society and very shortly found Mahatma Gandhi on the Executive Committee', \" Here Mahatma Gandhi  came in contact with those who were regarded as pillars of  vegetarianism, and began Mahatma Gandhi's own experiments in dietetics\", ' The mind having  taken a different turn, the fondness for condiments wore away, and Mahatma Gandhi now  relished the boiled spinach which in Richmond tasted insipid, cooked  without condiments', \" Mahatma Gandhi's mother's interpretation of meat  was, according to the golden rule, the only true one for  Mahatma Gandhi, and not the  one Mahatma Gandhi's wider experience or Mahatma Gandhi's pride of better knowledge might have  taught me\", \" Mahatma Gandhi's experiments in England were conducted from the point of view of economy  and hygiene\", ' Vegetarianism was then a new cult in England,  and likewise for  Mahatma Gandhi, because, as they have seen, Mahatma Gandhi had gone there a  convinced meat-eater, and was intellectually converted to vegetarianism  later', \" Full of the neophyte's zeal for vegetarianism, Mahatma Gandhi decided to start  a vegetarian club in Mahatma Gandhi's locality, Bayswater\"]\n",
      "\n",
      "Cluster  3\n",
      "[' Mahatma Gandhi stopped taking the sweets and condiments Mahatma Gandhi had got from home', ' And as Mahatma Gandhi was convinced that one should eat only articles  that sustained the body, Mahatma Gandhi gave up tea and coffee as a rule, and  substituted cocoa']\n",
      "\n",
      "Cluster  1\n",
      "[' Mahatma Gandhi knew that her definition of  meat included eggs', ' Mahatma Gandhi came across  three definitions of meat in England', ' According to the first, meat  denoted only the flesh of birds and beasts', ' According to the second definition, meat meant flesh of  all living creatures', ' The third definition included under meat the flesh of  living beings, as well as all their products, thus covering eggs and  milk alike']\n",
      "\n"
     ]
    }
   ],
   "source": [
    "from sentence_transformers import SentenceTransformer\n",
    "from sklearn.cluster import KMeans\n",
    "\n",
    "embedder = SentenceTransformer('paraphrase-MiniLM-L6-v2')\n",
    "\n",
    "corpus_embeddings = embedder.encode(corpus)\n",
    "\n",
    "# Perform kmean clustering\n",
    "num_clusters = 5\n",
    "clustering_model = KMeans(n_clusters=num_clusters)\n",
    "clustering_model.fit(corpus_embeddings)\n",
    "cluster_assignment = clustering_model.labels_\n",
    "\n",
    "clustered_sentences = {}\n",
    "for sentence_id, cluster_id in enumerate(cluster_assignment):\n",
    "    if cluster_id not in clustered_sentences:\n",
    "        clustered_sentences[cluster_id] = []\n",
    "\n",
    "    clustered_sentences[cluster_id].append(corpus[sentence_id])\n",
    "\n",
    "for i, cluster in clustered_sentences.items():\n",
    "    print(\"Cluster \", i+1)\n",
    "    print(cluster)\n",
    "    print(\"\")"
   ]
  },
  {
   "cell_type": "code",
   "execution_count": 19,
   "id": "57ce3e6b",
   "metadata": {},
   "outputs": [
    {
     "name": "stdout",
     "output_type": "stream",
     "text": [
      "The Vegetarian Society in England: The Vegetarian Society  ->    Mahatma Gandhi saw that the writers on vegetarianism had examined the  question very minutely, attacking it in its religious, scientific,  practical and medical aspects. Ethically they had arrived at the  conclusion that man's supremacy over the lower animals meant not that  the former should prey upon the latter, but that the higher should  protect the lower, and that there should be mutual aid between the two  as between man and man.  According to the practical and economic argument they had demonstrated  that a vegetarian diet was the least expensive. There was a Vegetarian Society in England  with a weekly journal of its own. Oldfield who was Editor of  the The Vegetarian became President.\n",
      "\n",
      "\n",
      "Man eats not for enjoyment but to live.  ->    They had also brought out the truth that man  eats not for enjoyment but to live. And some of them accordingly  suggested and effected in their lives abstention not only from  flesh-meat but from eggs and milk. Scientifically some had concluded  that man's physical structure showed that he was not meant to be a  cooking but a frugivorous animal, that he could take only his mother's  milk and, as soon as he had teeth, should begin to take solid foods.  Medically they had suggested the rejection of all spices and condiments. There were many minor experiments going on along with the main one; as for example,  giving up starchy foods at one time, living on bread and fruit alone at  another, and once living on cheese, milk and eggs. The reformer who  advocated starchless food had spoken highly of eggs and held that eggs  were not meat. Vegetarians who accepted  that definition abjured the flesh of birds and beasts, but ate fish, not  to mention eggs. So fish was here out of the question, but eggs  were allowed. This was a hardship  inasmuch as inquiry showed that even in vegetarian restaurants many  courses used to contain eggs.\n",
      "\n",
      "\n",
      "Mahatma Gandhi's Experiments in Vegetarianism  ->    All these considerations  had their effect on  Mahatma Gandhi, and Mahatma Gandhi came across vegetarians of all these types  in vegetarian restaurants. Mahatma Gandhi subscribed to the weekly, joined the  society and very shortly found Mahatma Gandhi on the Executive Committee. Here Mahatma Gandhi  came in contact with those who were regarded as pillars of  vegetarianism, and began Mahatma Gandhi's own experiments in dietetics. The mind having  taken a different turn, the fondness for condiments wore away, and Mahatma Gandhi now  relished the boiled spinach which in Richmond tasted insipid, cooked  without condiments. Mahatma Gandhi's mother's interpretation of meat  was, according to the golden rule, the only true one for  Mahatma Gandhi, and not the  one Mahatma Gandhi's wider experience or Mahatma Gandhi's pride of better knowledge might have  taught me. Mahatma Gandhi's experiments in England were conducted from the point of view of economy  and hygiene. Vegetarianism was then a new cult in England,  and likewise for  Mahatma Gandhi, because, as they have seen, Mahatma Gandhi had gone there a  convinced meat-eater, and was intellectually converted to vegetarianism  later. Full of the neophyte's zeal for vegetarianism, Mahatma Gandhi decided to start  a vegetarian club in Mahatma Gandhi's locality, Bayswater.\n",
      "\n",
      "\n",
      "Mahatma Gandhi stopped taking the sweets and condiments Mahatma Gandhi had got from home.  ->    Mahatma Gandhi stopped taking the sweets and condiments Mahatma Gandhi had got from home. And as Mahatma Gandhi was convinced that one should eat only articles  that sustained the body, Mahatma Gandhi gave up tea and coffee as a rule, and  substituted cocoa.\n",
      "\n",
      "\n",
      "3 definitions of meat in England: eggs, milk, eggs, milk, eggs, milk, eggs, milk, milk, eggs, milk, milk, milk, eggs, milk, milk, milk, milk, eggs, milk, milk, milk, milk, eggs, milk, milk, milk, milk  ->    Mahatma Gandhi knew that her definition of  meat included eggs. Mahatma Gandhi came across  three definitions of meat in England. According to the first, meat  denoted only the flesh of birds and beasts. According to the second definition, meat meant flesh of  all living creatures. The third definition included under meat the flesh of  living beings, as well as all their products, thus covering eggs and  milk alike.\n",
      "\n",
      "\n"
     ]
    }
   ],
   "source": [
    "mp = {}\n",
    "for k,v in clustered_sentences.items():\n",
    "    mp[k] = '.'.join(v)\n",
    "    mp[k]+='.'\n",
    "    \n",
    "mp2 = {}\n",
    "for k,v in mp.items():\n",
    "    mp2[k] = get_title(v)\n",
    "    \n",
    "sec_to_para = {}\n",
    "for k,v in mp2.items():\n",
    "    sec_to_para[v] = mp[k]\n",
    "for k,v in sec_to_para.items():\n",
    "    print(f\"{k}  ->   {v}\")\n",
    "    print()\n",
    "    print()"
   ]
  },
  {
   "cell_type": "markdown",
   "id": "643f3c29",
   "metadata": {},
   "source": [
    "### Aglomerative clustering"
   ]
  },
  {
   "cell_type": "code",
   "execution_count": 16,
   "id": "a834c7e8",
   "metadata": {},
   "outputs": [
    {
     "name": "stdout",
     "output_type": "stream",
     "text": [
      "Cluster  4\n",
      "[' Mahatma Gandhi saw that the writers on vegetarianism had examined the  question very minutely, attacking it in its religious, scientific,  practical and medical aspects', '  According to the practical and economic argument they had demonstrated  that a vegetarian diet was the least expensive', ' There was a Vegetarian Society in England  with a weekly journal of its own', ' Oldfield who was Editor of  the The Vegetarian became President']\n",
      "\n",
      "Cluster  1\n",
      "[\" Ethically they had arrived at the  conclusion that man's supremacy over the lower animals meant not that  the former should prey upon the latter, but that the higher should  protect the lower, and that there should be mutual aid between the two  as between man and man\", ' They had also brought out the truth that man  eats not for enjoyment but to live', ' And some of them accordingly  suggested and effected in their lives abstention not only from  flesh-meat but from eggs and milk', \" Scientifically some had concluded  that man's physical structure showed that he was not meant to be a  cooking but a frugivorous animal, that he could take only his mother's  milk and, as soon as he had teeth, should begin to take solid foods\", ' There were many minor experiments going on along with the main one; as for example,  giving up starchy foods at one time, living on bread and fruit alone at  another, and once living on cheese, milk and eggs', ' The reformer who  advocated starchless food had spoken highly of eggs and held that eggs  were not meat', ' According to the first, meat  denoted only the flesh of birds and beasts', ' Vegetarians who accepted  that definition abjured the flesh of birds and beasts, but ate fish, not  to mention eggs', ' According to the second definition, meat meant flesh of  all living creatures', ' So fish was here out of the question, but eggs  were allowed', ' The third definition included under meat the flesh of  living beings, as well as all their products, thus covering eggs and  milk alike', ' This was a hardship  inasmuch as inquiry showed that even in vegetarian restaurants many  courses used to contain eggs']\n",
      "\n",
      "Cluster  3\n",
      "['  Medically they had suggested the rejection of all spices and condiments', ' Mahatma Gandhi stopped taking the sweets and condiments Mahatma Gandhi had got from home', ' The mind having  taken a different turn, the fondness for condiments wore away, and Mahatma Gandhi now  relished the boiled spinach which in Richmond tasted insipid, cooked  without condiments', ' And as Mahatma Gandhi was convinced that one should eat only articles  that sustained the body, Mahatma Gandhi gave up tea and coffee as a rule, and  substituted cocoa']\n",
      "\n",
      "Cluster  2\n",
      "[' All these considerations  had their effect on  Mahatma Gandhi, and Mahatma Gandhi came across vegetarians of all these types  in vegetarian restaurants', ' Mahatma Gandhi subscribed to the weekly, joined the  society and very shortly found Mahatma Gandhi on the Executive Committee', \" Here Mahatma Gandhi  came in contact with those who were regarded as pillars of  vegetarianism, and began Mahatma Gandhi's own experiments in dietetics\", ' Mahatma Gandhi knew that her definition of  meat included eggs', ' Mahatma Gandhi came across  three definitions of meat in England', \" Mahatma Gandhi's mother's interpretation of meat  was, according to the golden rule, the only true one for  Mahatma Gandhi, and not the  one Mahatma Gandhi's wider experience or Mahatma Gandhi's pride of better knowledge might have  taught me\", \" Mahatma Gandhi's experiments in England were conducted from the point of view of economy  and hygiene\", ' Vegetarianism was then a new cult in England,  and likewise for  Mahatma Gandhi, because, as they have seen, Mahatma Gandhi had gone there a  convinced meat-eater, and was intellectually converted to vegetarianism  later', \" Full of the neophyte's zeal for vegetarianism, Mahatma Gandhi decided to start  a vegetarian club in Mahatma Gandhi's locality, Bayswater\"]\n",
      "\n"
     ]
    }
   ],
   "source": [
    "import numpy as np\n",
    "from sklearn.cluster import AgglomerativeClustering\n",
    "\n",
    "corpus_embeddings = embedder.encode(corpus)\n",
    "\n",
    "# Normalize the embeddings to unit length\n",
    "corpus_embeddings = corpus_embeddings /  np.linalg.norm(corpus_embeddings, axis=1, keepdims=True)\n",
    "\n",
    "# Perform kmean clustering\n",
    "clustering_model = AgglomerativeClustering(n_clusters=None, distance_threshold=1.5) #, affinity='cosine', linkage='average', distance_threshold=0.4)\n",
    "clustering_model.fit(corpus_embeddings)\n",
    "cluster_assignment = clustering_model.labels_\n",
    "\n",
    "clustered_sentences = {}\n",
    "for sentence_id, cluster_id in enumerate(cluster_assignment):\n",
    "    if cluster_id not in clustered_sentences:\n",
    "        clustered_sentences[cluster_id] = []\n",
    "\n",
    "    clustered_sentences[cluster_id].append(corpus[sentence_id])\n",
    "\n",
    "for i, cluster in clustered_sentences.items():\n",
    "    print(\"Cluster \", i+1)\n",
    "    print(cluster)\n",
    "    print(\"\")"
   ]
  },
  {
   "cell_type": "code",
   "execution_count": 17,
   "id": "3eb48f65",
   "metadata": {},
   "outputs": [
    {
     "name": "stdout",
     "output_type": "stream",
     "text": [
      "Mahatma Gandhi saw that the writers on vegetarianism had examined the question very minutely, attacking it in its religious, scientific, practical and medical aspects  ->    Mahatma Gandhi saw that the writers on vegetarianism had examined the  question very minutely, attacking it in its religious, scientific,  practical and medical aspects.  According to the practical and economic argument they had demonstrated  that a vegetarian diet was the least expensive. There was a Vegetarian Society in England  with a weekly journal of its own. Oldfield who was Editor of  the The Vegetarian became President.\n",
      "\n",
      "\n",
      "Man's Supremeacy over the lower animals meant not that the latter should prey upon the latter, but that there should be mutual aid between the two as between man and man  ->    Ethically they had arrived at the  conclusion that man's supremacy over the lower animals meant not that  the former should prey upon the latter, but that the higher should  protect the lower, and that there should be mutual aid between the two  as between man and man. They had also brought out the truth that man  eats not for enjoyment but to live. And some of them accordingly  suggested and effected in their lives abstention not only from  flesh-meat but from eggs and milk. Scientifically some had concluded  that man's physical structure showed that he was not meant to be a  cooking but a frugivorous animal, that he could take only his mother's  milk and, as soon as he had teeth, should begin to take solid foods. There were many minor experiments going on along with the main one; as for example,  giving up starchy foods at one time, living on bread and fruit alone at  another, and once living on cheese, milk and eggs. The reformer who  advocated starchless food had spoken highly of eggs and held that eggs  were not meat. According to the first, meat  denoted only the flesh of birds and beasts. Vegetarians who accepted  that definition abjured the flesh of birds and beasts, but ate fish, not  to mention eggs. According to the second definition, meat meant flesh of  all living creatures. So fish was here out of the question, but eggs  were allowed. The third definition included under meat the flesh of  living beings, as well as all their products, thus covering eggs and  milk alike. This was a hardship  inasmuch as inquiry showed that even in vegetarian restaurants many  courses used to contain eggs.\n",
      "\n",
      "\n",
      "Mahatma Gandhi stopped taking the sweets and condiments that Mahatma Gandhi had got from home  ->     Medically they had suggested the rejection of all spices and condiments. Mahatma Gandhi stopped taking the sweets and condiments Mahatma Gandhi had got from home. The mind having  taken a different turn, the fondness for condiments wore away, and Mahatma Gandhi now  relished the boiled spinach which in Richmond tasted insipid, cooked  without condiments. And as Mahatma Gandhi was convinced that one should eat only articles  that sustained the body, Mahatma Gandhi gave up tea and coffee as a rule, and  substituted cocoa.\n",
      "\n",
      "\n",
      "Mahatma Gandhi started a vegetarian club in Mahatma Gandhi's locality  ->    All these considerations  had their effect on  Mahatma Gandhi, and Mahatma Gandhi came across vegetarians of all these types  in vegetarian restaurants. Mahatma Gandhi subscribed to the weekly, joined the  society and very shortly found Mahatma Gandhi on the Executive Committee. Here Mahatma Gandhi  came in contact with those who were regarded as pillars of  vegetarianism, and began Mahatma Gandhi's own experiments in dietetics. Mahatma Gandhi knew that her definition of  meat included eggs. Mahatma Gandhi came across  three definitions of meat in England. Mahatma Gandhi's mother's interpretation of meat  was, according to the golden rule, the only true one for  Mahatma Gandhi, and not the  one Mahatma Gandhi's wider experience or Mahatma Gandhi's pride of better knowledge might have  taught me. Mahatma Gandhi's experiments in England were conducted from the point of view of economy  and hygiene. Vegetarianism was then a new cult in England,  and likewise for  Mahatma Gandhi, because, as they have seen, Mahatma Gandhi had gone there a  convinced meat-eater, and was intellectually converted to vegetarianism  later. Full of the neophyte's zeal for vegetarianism, Mahatma Gandhi decided to start  a vegetarian club in Mahatma Gandhi's locality, Bayswater.\n",
      "\n",
      "\n"
     ]
    }
   ],
   "source": [
    "mp = {}\n",
    "for k,v in clustered_sentences.items():\n",
    "    mp[k] = '.'.join(v)\n",
    "    mp[k]+='.'\n",
    "    \n",
    "mp2 = {}\n",
    "for k,v in mp.items():\n",
    "    mp2[k] = get_title(v)\n",
    "    \n",
    "sec_to_para = {}\n",
    "for k,v in mp2.items():\n",
    "    sec_to_para[v] = mp[k]\n",
    "for k,v in sec_to_para.items():\n",
    "    print(f\"{k}  ->   {v}\")\n",
    "    print()\n",
    "    print()"
   ]
  },
  {
   "cell_type": "markdown",
   "id": "c5cb101c",
   "metadata": {},
   "source": [
    "### Inspired by Bertopic"
   ]
  },
  {
   "cell_type": "code",
   "execution_count": 20,
   "id": "33d5ab06",
   "metadata": {},
   "outputs": [
    {
     "name": "stdout",
     "output_type": "stream",
     "text": [
      "Cluster  2\n",
      "[' Mahatma Gandhi saw that the writers on vegetarianism had examined the  question very minutely, attacking it in its religious, scientific,  practical and medical aspects', ' All these considerations  had their effect on  Mahatma Gandhi, and Mahatma Gandhi came across vegetarians of all these types  in vegetarian restaurants', ' Mahatma Gandhi subscribed to the weekly, joined the  society and very shortly found Mahatma Gandhi on the Executive Committee', \" Here Mahatma Gandhi  came in contact with those who were regarded as pillars of  vegetarianism, and began Mahatma Gandhi's own experiments in dietetics\", ' Vegetarianism was then a new cult in England,  and likewise for  Mahatma Gandhi, because, as they have seen, Mahatma Gandhi had gone there a  convinced meat-eater, and was intellectually converted to vegetarianism  later', \" Full of the neophyte's zeal for vegetarianism, Mahatma Gandhi decided to start  a vegetarian club in Mahatma Gandhi's locality, Bayswater\"]\n",
      "\n",
      "Cluster  0\n",
      "[\" Ethically they had arrived at the  conclusion that man's supremacy over the lower animals meant not that  the former should prey upon the latter, but that the higher should  protect the lower, and that there should be mutual aid between the two  as between man and man\", ' They had also brought out the truth that man  eats not for enjoyment but to live', ' And some of them accordingly  suggested and effected in their lives abstention not only from  flesh-meat but from eggs and milk', \" Scientifically some had concluded  that man's physical structure showed that he was not meant to be a  cooking but a frugivorous animal, that he could take only his mother's  milk and, as soon as he had teeth, should begin to take solid foods\", '  Medically they had suggested the rejection of all spices and condiments', '  According to the practical and economic argument they had demonstrated  that a vegetarian diet was the least expensive', ' There was a Vegetarian Society in England  with a weekly journal of its own', ' The mind having  taken a different turn, the fondness for condiments wore away, and Mahatma Gandhi now  relished the boiled spinach which in Richmond tasted insipid, cooked  without condiments', ' There were many minor experiments going on along with the main one; as for example,  giving up starchy foods at one time, living on bread and fruit alone at  another, and once living on cheese, milk and eggs', ' The reformer who  advocated starchless food had spoken highly of eggs and held that eggs  were not meat', ' Vegetarians who accepted  that definition abjured the flesh of birds and beasts, but ate fish, not  to mention eggs', ' So fish was here out of the question, but eggs  were allowed', ' This was a hardship  inasmuch as inquiry showed that even in vegetarian restaurants many  courses used to contain eggs', \" Mahatma Gandhi's mother's interpretation of meat  was, according to the golden rule, the only true one for  Mahatma Gandhi, and not the  one Mahatma Gandhi's wider experience or Mahatma Gandhi's pride of better knowledge might have  taught me\", \" Mahatma Gandhi's experiments in England were conducted from the point of view of economy  and hygiene\", ' Oldfield who was Editor of  the The Vegetarian became President']\n",
      "\n",
      "Cluster  4\n",
      "[' Mahatma Gandhi stopped taking the sweets and condiments Mahatma Gandhi had got from home', ' And as Mahatma Gandhi was convinced that one should eat only articles  that sustained the body, Mahatma Gandhi gave up tea and coffee as a rule, and  substituted cocoa']\n",
      "\n",
      "Cluster  3\n",
      "[' Mahatma Gandhi knew that her definition of  meat included eggs', ' Mahatma Gandhi came across  three definitions of meat in England']\n",
      "\n",
      "Cluster  1\n",
      "[' According to the first, meat  denoted only the flesh of birds and beasts', ' According to the second definition, meat meant flesh of  all living creatures', ' The third definition included under meat the flesh of  living beings, as well as all their products, thus covering eggs and  milk alike']\n",
      "\n"
     ]
    }
   ],
   "source": [
    "# Load sentence transformer model\n",
    "sentence_model = SentenceTransformer(\"paraphrase-distilroberta-base-v1\")\n",
    "\n",
    "# Create documents embeddings\n",
    "embeddings = sentence_model.encode(corpus, show_progress_bar=False)\n",
    "\n",
    "# Define UMAP model to reduce embeddings dimension\n",
    "umap_model = umap.UMAP(n_neighbors=15,\n",
    "                       n_components=2,\n",
    "                       min_dist=0.0,\n",
    "                       metric='cosine',\n",
    "                       low_memory=False)\n",
    "\n",
    "# Define HDBSCAN model to perform documents clustering\n",
    "hdbscan_model = hdbscan.HDBSCAN(min_cluster_size=2,\n",
    "                                min_samples=1,\n",
    "                                metric='euclidean',\n",
    "                                cluster_selection_method='eom',\n",
    "                                prediction_data=True)\n",
    "\n",
    "hdbscan_model.fit(embeddings)\n",
    "cluster_assignment = hdbscan_model.labels_\n",
    "\n",
    "clustered_sentences = {}\n",
    "for sentence_id, cluster_id in enumerate(cluster_assignment):\n",
    "    if cluster_id not in clustered_sentences:\n",
    "        clustered_sentences[cluster_id] = []\n",
    "\n",
    "    clustered_sentences[cluster_id].append(corpus[sentence_id])\n",
    "\n",
    "for i, cluster in clustered_sentences.items():\n",
    "    print(\"Cluster \", i+1)\n",
    "    print(cluster)\n",
    "    print(\"\")"
   ]
  },
  {
   "cell_type": "code",
   "execution_count": 21,
   "id": "80fe0151",
   "metadata": {},
   "outputs": [
    {
     "name": "stdout",
     "output_type": "stream",
     "text": [
      "Mahatma Gandhi started a vegetarian club in Bayswater, Mahatma Gandhi's locality  ->    Mahatma Gandhi saw that the writers on vegetarianism had examined the  question very minutely, attacking it in its religious, scientific,  practical and medical aspects. All these considerations  had their effect on  Mahatma Gandhi, and Mahatma Gandhi came across vegetarians of all these types  in vegetarian restaurants. Mahatma Gandhi subscribed to the weekly, joined the  society and very shortly found Mahatma Gandhi on the Executive Committee. Here Mahatma Gandhi  came in contact with those who were regarded as pillars of  vegetarianism, and began Mahatma Gandhi's own experiments in dietetics. Vegetarianism was then a new cult in England,  and likewise for  Mahatma Gandhi, because, as they have seen, Mahatma Gandhi had gone there a  convinced meat-eater, and was intellectually converted to vegetarianism  later. Full of the neophyte's zeal for vegetarianism, Mahatma Gandhi decided to start  a vegetarian club in Mahatma Gandhi's locality, Bayswater.\n",
      "\n",
      "\n",
      "Man's Supremeacy over the lower animals meant not that the latter should prey upon the latter, but that there should be mutual aid between the two as between man and man  ->    Ethically they had arrived at the  conclusion that man's supremacy over the lower animals meant not that  the former should prey upon the latter, but that the higher should  protect the lower, and that there should be mutual aid between the two  as between man and man. They had also brought out the truth that man  eats not for enjoyment but to live. And some of them accordingly  suggested and effected in their lives abstention not only from  flesh-meat but from eggs and milk. Scientifically some had concluded  that man's physical structure showed that he was not meant to be a  cooking but a frugivorous animal, that he could take only his mother's  milk and, as soon as he had teeth, should begin to take solid foods.  Medically they had suggested the rejection of all spices and condiments.  According to the practical and economic argument they had demonstrated  that a vegetarian diet was the least expensive. There was a Vegetarian Society in England  with a weekly journal of its own. The mind having  taken a different turn, the fondness for condiments wore away, and Mahatma Gandhi now  relished the boiled spinach which in Richmond tasted insipid, cooked  without condiments. There were many minor experiments going on along with the main one; as for example,  giving up starchy foods at one time, living on bread and fruit alone at  another, and once living on cheese, milk and eggs. The reformer who  advocated starchless food had spoken highly of eggs and held that eggs  were not meat. Vegetarians who accepted  that definition abjured the flesh of birds and beasts, but ate fish, not  to mention eggs. So fish was here out of the question, but eggs  were allowed. This was a hardship  inasmuch as inquiry showed that even in vegetarian restaurants many  courses used to contain eggs. Mahatma Gandhi's mother's interpretation of meat  was, according to the golden rule, the only true one for  Mahatma Gandhi, and not the  one Mahatma Gandhi's wider experience or Mahatma Gandhi's pride of better knowledge might have  taught me. Mahatma Gandhi's experiments in England were conducted from the point of view of economy  and hygiene. Oldfield who was Editor of  the The Vegetarian became President.\n",
      "\n",
      "\n",
      "Mahatma Gandhi stopped taking the sweets and condiments Mahatma Gandhi had got from home.  ->    Mahatma Gandhi stopped taking the sweets and condiments Mahatma Gandhi had got from home. And as Mahatma Gandhi was convinced that one should eat only articles  that sustained the body, Mahatma Gandhi gave up tea and coffee as a rule, and  substituted cocoa.\n",
      "\n",
      "\n",
      "Three definitions of meat in England: eggs, eggs, eggs, eggs, eggs, eggs, eggs, eggs, eggs, eggs, eggs, eggs, eggs, eggs, eggs, eggs, eggs, eggs, eggs, eggs, eggs, eggs, eggs, eggs, eggs, eggs, eggs, eggs  ->    Mahatma Gandhi knew that her definition of  meat included eggs. Mahatma Gandhi came across  three definitions of meat in England.\n",
      "\n",
      "\n",
      "According to the first, meat denoted only the flesh of birds and beasts.  ->    According to the first, meat  denoted only the flesh of birds and beasts. According to the second definition, meat meant flesh of  all living creatures. The third definition included under meat the flesh of  living beings, as well as all their products, thus covering eggs and  milk alike.\n",
      "\n",
      "\n"
     ]
    }
   ],
   "source": [
    "mp = {}\n",
    "for k,v in clustered_sentences.items():\n",
    "    mp[k] = '.'.join(v)\n",
    "    mp[k]+='.'\n",
    "    \n",
    "mp2 = {}\n",
    "for k,v in mp.items():\n",
    "    mp2[k] = get_title(v)\n",
    "    \n",
    "sec_to_para = {}\n",
    "for k,v in mp2.items():\n",
    "    sec_to_para[v] = mp[k]\n",
    "for k,v in sec_to_para.items():\n",
    "    print(f\"{k}  ->   {v}\")\n",
    "    print()\n",
    "    print()"
   ]
  },
  {
   "cell_type": "markdown",
   "id": "4bba857d",
   "metadata": {},
   "source": [
    "## LDA Topic Modelling using gensim"
   ]
  },
  {
   "cell_type": "code",
   "execution_count": 24,
   "id": "e63c24d3",
   "metadata": {},
   "outputs": [],
   "source": [
    "data = [' All these considerations  had their effect on  Mahatma Gandhi, and Mahatma Gandhi came across vegetarians of all these types  in vegetarian restaurants', ' Mahatma Gandhi subscribed to the weekly, joined the  society and very shortly found Mahatma Gandhi on the Executive Committee', \" Here Mahatma Gandhi  came in contact with those who were regarded as pillars of  vegetarianism, and began Mahatma Gandhi's own experiments in dietetics\", ' Mahatma Gandhi knew that her definition of  meat included eggs', ' Mahatma Gandhi came across  three definitions of meat in England', \" Mahatma Gandhi's mother's interpretation of meat  was, according to the golden rule, the only true one for  Mahatma Gandhi, and not the  one Mahatma Gandhi's wider experience or Mahatma Gandhi's pride of better knowledge might have  taught me\", \" Mahatma Gandhi's experiments in England were conducted from the point of view of economy  and hygiene\", ' Vegetarianism was then a new cult in England,  and likewise for  Mahatma Gandhi, because, as they have seen, Mahatma Gandhi had gone there a  convinced meat-eater, and was intellectually converted to vegetarianism  later', \" Full of the neophyte's zeal for vegetarianism, Mahatma Gandhi decided to start  a vegetarian club in Mahatma Gandhi's locality, Bayswater\"]\n"
   ]
  },
  {
   "cell_type": "code",
   "execution_count": 25,
   "id": "1debe2ee",
   "metadata": {},
   "outputs": [],
   "source": [
    "# NLTK Stop words\n",
    "from nltk.corpus import stopwords\n",
    "stop_words = stopwords.words('english')\n",
    "stop_words.extend(['from', 'subject', 're', 'edu', 'use'])"
   ]
  },
  {
   "cell_type": "code",
   "execution_count": 26,
   "id": "0950e30a",
   "metadata": {},
   "outputs": [
    {
     "name": "stdout",
     "output_type": "stream",
     "text": [
      "[['all', 'these', 'considerations', 'had', 'their', 'effect', 'on', 'mahatma', 'gandhi', 'and', 'mahatma', 'gandhi', 'came', 'across', 'vegetarians', 'of', 'all', 'these', 'types', 'in', 'vegetarian', 'restaurants']]\n"
     ]
    }
   ],
   "source": [
    "def sent_to_words(sentences):\n",
    "    for sentence in sentences:\n",
    "        yield(gensim.utils.simple_preprocess(str(sentence), deacc=True))            #deacc=True removes punctuations\n",
    "data_words = list(sent_to_words(data))\n",
    "print(data_words[:1])"
   ]
  },
  {
   "cell_type": "code",
   "execution_count": 27,
   "id": "563263f2",
   "metadata": {},
   "outputs": [
    {
     "name": "stdout",
     "output_type": "stream",
     "text": [
      "['all', 'these', 'considerations', 'had', 'their', 'effect', 'on', 'mahatma', 'gandhi', 'and', 'mahatma', 'gandhi', 'came', 'across', 'vegetarians', 'of', 'all', 'these', 'types', 'in', 'vegetarian', 'restaurants']\n"
     ]
    }
   ],
   "source": [
    "# Build the bigram and trigram models\n",
    "bigram = gensim.models.Phrases(data_words, min_count=5, threshold=100) # higher threshold fewer phrases.\n",
    "trigram = gensim.models.Phrases(bigram[data_words], threshold=100)\n",
    "# Faster way to get a sentence clubbed as a trigram/bigram\n",
    "bigram_mod = gensim.models.phrases.Phraser(bigram)\n",
    "trigram_mod = gensim.models.phrases.Phraser(trigram)\n",
    "# See trigram example\n",
    "print(trigram_mod[bigram_mod[data_words[0]]])"
   ]
  },
  {
   "cell_type": "code",
   "execution_count": 28,
   "id": "822543e5",
   "metadata": {},
   "outputs": [],
   "source": [
    "# Define function for stopwords, bigrams, trigrams and lemmatization\n",
    "def remove_stopwords(texts):\n",
    "    return [[word for word in simple_preprocess(str(doc)) if word not in stop_words] for doc in texts]\n",
    "\n",
    "def make_bigrams(texts):\n",
    "    return [bigram_mod[doc] for doc in texts]\n",
    "\n",
    "def make_trigrams(texts):\n",
    "    return [trigram_mod[bigram_mod[doc]] for doc in texts]\n",
    "\n",
    "def lemmatization(texts, allowed_postags=['NOUN', 'ADJ', 'VERB', 'ADV']):\n",
    "    \"\"\"https://spacy.io/api/annotation\"\"\"\n",
    "    texts_out = []\n",
    "    for sent in texts:\n",
    "        doc = nlp(\" \".join(sent)) \n",
    "        texts_out.append([token.lemma_ for token in doc if token.pos_ in allowed_postags])\n",
    "    return texts_out"
   ]
  },
  {
   "cell_type": "code",
   "execution_count": 30,
   "id": "e4ce7b0f",
   "metadata": {},
   "outputs": [
    {
     "name": "stdout",
     "output_type": "stream",
     "text": [
      "[['consideration', 'effect', 'come', 'type', 'vegetarian', 'restaurant']]\n"
     ]
    }
   ],
   "source": [
    "# Remove Stop Words\n",
    "data_words_nostops = remove_stopwords(data_words)\n",
    "\n",
    "# Form Bigrams\n",
    "data_words_bigrams = make_bigrams(data_words_nostops)\n",
    "\n",
    "# Initialize spacy 'en' model, keeping only tagger component (for efficiency)\n",
    "# python3 -m spacy download en\n",
    "nlp = spacy.load(\"en_core_web_sm\", disable=['parser', 'ner'])\n",
    "\n",
    "# nlp = spacy.load('en', disable=['parser', 'ner'])\n",
    "\n",
    "# Do lemmatization keeping only noun, adj, vb, adv\n",
    "data_lemmatized = lemmatization(data_words_bigrams, allowed_postags=['NOUN', 'ADJ', 'VERB', 'ADV'])\n",
    "\n",
    "print(data_lemmatized[:1])"
   ]
  },
  {
   "cell_type": "code",
   "execution_count": 31,
   "id": "32249d26",
   "metadata": {},
   "outputs": [
    {
     "name": "stdout",
     "output_type": "stream",
     "text": [
      "[[(0, 1), (1, 1), (2, 1), (3, 1), (4, 1), (5, 1)]]\n"
     ]
    }
   ],
   "source": [
    "# Create Dictionary \n",
    "id2word = corpora.Dictionary(data_lemmatized)  \n",
    "# Create Corpus \n",
    "texts = data_lemmatized  \n",
    "# Term Document Frequency \n",
    "corpus = [id2word.doc2bow(text) for text in texts]  \n",
    "# View \n",
    "print(corpus[:1])"
   ]
  },
  {
   "cell_type": "code",
   "execution_count": 32,
   "id": "7315dbaa",
   "metadata": {},
   "outputs": [],
   "source": [
    "lda_model = gensim.models.ldamodel.LdaModel(corpus=corpus,\n",
    "                                           id2word=id2word,\n",
    "                                           num_topics=1, \n",
    "                                           random_state=100,\n",
    "                                           chunksize=100,\n",
    "                                           passes=10,\n",
    "                                           alpha='auto')"
   ]
  },
  {
   "cell_type": "code",
   "execution_count": 33,
   "id": "9318b732",
   "metadata": {},
   "outputs": [
    {
     "name": "stdout",
     "output_type": "stream",
     "text": [
      "[(0,\n",
      "  '0.043*\"meat\" + 0.034*\"come\" + 0.034*\"vegetarianism\" + 0.026*\"definition\" + '\n",
      "  '0.017*\"economy\" + 0.017*\"point\" + 0.017*\"hygiene\" + 0.017*\"view\" + '\n",
      "  '0.017*\"taught\" + 0.017*\"well\"')]\n"
     ]
    }
   ],
   "source": [
    "# Print the keyword of topics\n",
    "pprint(lda_model.print_topics())\n",
    "doc_lda = lda_model[corpus]"
   ]
  },
  {
   "cell_type": "code",
   "execution_count": null,
   "id": "bdde86ba",
   "metadata": {},
   "outputs": [],
   "source": []
  }
 ],
 "metadata": {
  "kernelspec": {
   "display_name": "Python 3 (ipykernel)",
   "language": "python",
   "name": "python3"
  },
  "language_info": {
   "codemirror_mode": {
    "name": "ipython",
    "version": 3
   },
   "file_extension": ".py",
   "mimetype": "text/x-python",
   "name": "python",
   "nbconvert_exporter": "python",
   "pygments_lexer": "ipython3",
   "version": "3.9.12"
  }
 },
 "nbformat": 4,
 "nbformat_minor": 5
}
